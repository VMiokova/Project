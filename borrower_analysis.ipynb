{
  "cells": [
    {
      "cell_type": "markdown",
      "metadata": {
        "id": "view-in-github",
        "colab_type": "text"
      },
      "source": [
        "<a href=\"https://colab.research.google.com/github/VMiokova/Project/blob/main/borrower_analysis.ipynb\" target=\"_parent\"><img src=\"https://colab.research.google.com/assets/colab-badge.svg\" alt=\"Open In Colab\"/></a>"
      ]
    },
    {
      "cell_type": "markdown",
      "id": "386f2ae7",
      "metadata": {
        "deletable": false,
        "editable": false,
        "id": "386f2ae7"
      },
      "source": [
        "# Исследование надежности заемщиков\n"
      ]
    },
    {
      "cell_type": "markdown",
      "id": "26613308",
      "metadata": {
        "deletable": false,
        "editable": false,
        "id": "26613308"
      },
      "source": [
        "## Изучение общей информации о данных"
      ]
    },
    {
      "cell_type": "code",
      "execution_count": null,
      "id": "77a68a90",
      "metadata": {
        "deletable": false,
        "id": "77a68a90"
      },
      "outputs": [],
      "source": [
        "import pandas as pd\n",
        "from google.colab import drive"
      ]
    },
    {
      "cell_type": "code",
      "execution_count": null,
      "id": "b0451a9a",
      "metadata": {
        "deletable": false,
        "id": "b0451a9a",
        "scrolled": true,
        "colab": {
          "base_uri": "https://localhost:8080/",
          "height": 1000
        },
        "outputId": "b9339f80-6adf-4567-8511-1905c4497303"
      },
      "outputs": [
        {
          "output_type": "stream",
          "name": "stdout",
          "text": [
            "Mounted at /gdrive\n"
          ]
        },
        {
          "output_type": "stream",
          "name": "stderr",
          "text": [
            "<ipython-input-2-64d5049d84d9>:5: FutureWarning: The error_bad_lines argument has been deprecated and will be removed in a future version. Use on_bad_lines in the future.\n",
            "\n",
            "\n",
            "  data = pd.read_csv(link, error_bad_lines=False)\n"
          ]
        },
        {
          "output_type": "execute_result",
          "data": {
            "text/plain": [
              "    children  days_employed  dob_years            education  education_id  \\\n",
              "0          1   -8437.673028         42               высшее             0   \n",
              "1          1   -4024.803754         36              среднее             1   \n",
              "2          0   -5623.422610         33              Среднее             1   \n",
              "3          3   -4124.747207         32              среднее             1   \n",
              "4          0  340266.072047         53              среднее             1   \n",
              "5          0    -926.185831         27               высшее             0   \n",
              "6          0   -2879.202052         43               высшее             0   \n",
              "7          0    -152.779569         50              СРЕДНЕЕ             1   \n",
              "8          2   -6929.865299         35               ВЫСШЕЕ             0   \n",
              "9          0   -2188.756445         41              среднее             1   \n",
              "10         2   -4171.483647         36               высшее             0   \n",
              "11         0    -792.701887         40              среднее             1   \n",
              "12         0            NaN         65              среднее             1   \n",
              "13         0   -1846.641941         54  неоконченное высшее             2   \n",
              "14         0   -1844.956182         56               высшее             0   \n",
              "15         1    -972.364419         26              среднее             1   \n",
              "16         0   -1719.934226         35              среднее             1   \n",
              "17         0   -2369.999720         33               высшее             0   \n",
              "18         0  400281.136913         53              среднее             1   \n",
              "19         0  -10038.818549         48              СРЕДНЕЕ             1   \n",
              "\n",
              "       family_status  family_status_id gender income_type  debt  \\\n",
              "0    женат / замужем                 0      F   сотрудник     0   \n",
              "1    женат / замужем                 0      F   сотрудник     0   \n",
              "2    женат / замужем                 0      M   сотрудник     0   \n",
              "3    женат / замужем                 0      M   сотрудник     0   \n",
              "4   гражданский брак                 1      F   пенсионер     0   \n",
              "5   гражданский брак                 1      M   компаньон     0   \n",
              "6    женат / замужем                 0      F   компаньон     0   \n",
              "7    женат / замужем                 0      M   сотрудник     0   \n",
              "8   гражданский брак                 1      F   сотрудник     0   \n",
              "9    женат / замужем                 0      M   сотрудник     0   \n",
              "10   женат / замужем                 0      M   компаньон     0   \n",
              "11   женат / замужем                 0      F   сотрудник     0   \n",
              "12  гражданский брак                 1      M   пенсионер     0   \n",
              "13   женат / замужем                 0      F   сотрудник     0   \n",
              "14  гражданский брак                 1      F   компаньон     1   \n",
              "15   женат / замужем                 0      F   сотрудник     0   \n",
              "16   женат / замужем                 0      F   сотрудник     0   \n",
              "17  гражданский брак                 1      M   сотрудник     0   \n",
              "18    вдовец / вдова                 2      F   пенсионер     0   \n",
              "19         в разводе                 3      F   сотрудник     0   \n",
              "\n",
              "     total_income                                 purpose  \n",
              "0   253875.639453                           покупка жилья  \n",
              "1   112080.014102                 приобретение автомобиля  \n",
              "2   145885.952297                           покупка жилья  \n",
              "3   267628.550329              дополнительное образование  \n",
              "4   158616.077870                         сыграть свадьбу  \n",
              "5   255763.565419                           покупка жилья  \n",
              "6   240525.971920                       операции с жильем  \n",
              "7   135823.934197                             образование  \n",
              "8    95856.832424                   на проведение свадьбы  \n",
              "9   144425.938277                 покупка жилья для семьи  \n",
              "10  113943.491460                    покупка недвижимости  \n",
              "11   77069.234271       покупка коммерческой недвижимости  \n",
              "12            NaN                         сыграть свадьбу  \n",
              "13  130458.228857                 приобретение автомобиля  \n",
              "14  165127.911772              покупка жилой недвижимости  \n",
              "15  116820.904450  строительство собственной недвижимости  \n",
              "16  289202.704229                            недвижимость  \n",
              "17   90410.586745              строительство недвижимости  \n",
              "18   56823.777243      на покупку подержанного автомобиля  \n",
              "19  242831.107982            на покупку своего автомобиля  "
            ],
            "text/html": [
              "\n",
              "  <div id=\"df-76a5886a-456d-437e-b527-008a3348ed9c\" class=\"colab-df-container\">\n",
              "    <div>\n",
              "<style scoped>\n",
              "    .dataframe tbody tr th:only-of-type {\n",
              "        vertical-align: middle;\n",
              "    }\n",
              "\n",
              "    .dataframe tbody tr th {\n",
              "        vertical-align: top;\n",
              "    }\n",
              "\n",
              "    .dataframe thead th {\n",
              "        text-align: right;\n",
              "    }\n",
              "</style>\n",
              "<table border=\"1\" class=\"dataframe\">\n",
              "  <thead>\n",
              "    <tr style=\"text-align: right;\">\n",
              "      <th></th>\n",
              "      <th>children</th>\n",
              "      <th>days_employed</th>\n",
              "      <th>dob_years</th>\n",
              "      <th>education</th>\n",
              "      <th>education_id</th>\n",
              "      <th>family_status</th>\n",
              "      <th>family_status_id</th>\n",
              "      <th>gender</th>\n",
              "      <th>income_type</th>\n",
              "      <th>debt</th>\n",
              "      <th>total_income</th>\n",
              "      <th>purpose</th>\n",
              "    </tr>\n",
              "  </thead>\n",
              "  <tbody>\n",
              "    <tr>\n",
              "      <th>0</th>\n",
              "      <td>1</td>\n",
              "      <td>-8437.673028</td>\n",
              "      <td>42</td>\n",
              "      <td>высшее</td>\n",
              "      <td>0</td>\n",
              "      <td>женат / замужем</td>\n",
              "      <td>0</td>\n",
              "      <td>F</td>\n",
              "      <td>сотрудник</td>\n",
              "      <td>0</td>\n",
              "      <td>253875.639453</td>\n",
              "      <td>покупка жилья</td>\n",
              "    </tr>\n",
              "    <tr>\n",
              "      <th>1</th>\n",
              "      <td>1</td>\n",
              "      <td>-4024.803754</td>\n",
              "      <td>36</td>\n",
              "      <td>среднее</td>\n",
              "      <td>1</td>\n",
              "      <td>женат / замужем</td>\n",
              "      <td>0</td>\n",
              "      <td>F</td>\n",
              "      <td>сотрудник</td>\n",
              "      <td>0</td>\n",
              "      <td>112080.014102</td>\n",
              "      <td>приобретение автомобиля</td>\n",
              "    </tr>\n",
              "    <tr>\n",
              "      <th>2</th>\n",
              "      <td>0</td>\n",
              "      <td>-5623.422610</td>\n",
              "      <td>33</td>\n",
              "      <td>Среднее</td>\n",
              "      <td>1</td>\n",
              "      <td>женат / замужем</td>\n",
              "      <td>0</td>\n",
              "      <td>M</td>\n",
              "      <td>сотрудник</td>\n",
              "      <td>0</td>\n",
              "      <td>145885.952297</td>\n",
              "      <td>покупка жилья</td>\n",
              "    </tr>\n",
              "    <tr>\n",
              "      <th>3</th>\n",
              "      <td>3</td>\n",
              "      <td>-4124.747207</td>\n",
              "      <td>32</td>\n",
              "      <td>среднее</td>\n",
              "      <td>1</td>\n",
              "      <td>женат / замужем</td>\n",
              "      <td>0</td>\n",
              "      <td>M</td>\n",
              "      <td>сотрудник</td>\n",
              "      <td>0</td>\n",
              "      <td>267628.550329</td>\n",
              "      <td>дополнительное образование</td>\n",
              "    </tr>\n",
              "    <tr>\n",
              "      <th>4</th>\n",
              "      <td>0</td>\n",
              "      <td>340266.072047</td>\n",
              "      <td>53</td>\n",
              "      <td>среднее</td>\n",
              "      <td>1</td>\n",
              "      <td>гражданский брак</td>\n",
              "      <td>1</td>\n",
              "      <td>F</td>\n",
              "      <td>пенсионер</td>\n",
              "      <td>0</td>\n",
              "      <td>158616.077870</td>\n",
              "      <td>сыграть свадьбу</td>\n",
              "    </tr>\n",
              "    <tr>\n",
              "      <th>5</th>\n",
              "      <td>0</td>\n",
              "      <td>-926.185831</td>\n",
              "      <td>27</td>\n",
              "      <td>высшее</td>\n",
              "      <td>0</td>\n",
              "      <td>гражданский брак</td>\n",
              "      <td>1</td>\n",
              "      <td>M</td>\n",
              "      <td>компаньон</td>\n",
              "      <td>0</td>\n",
              "      <td>255763.565419</td>\n",
              "      <td>покупка жилья</td>\n",
              "    </tr>\n",
              "    <tr>\n",
              "      <th>6</th>\n",
              "      <td>0</td>\n",
              "      <td>-2879.202052</td>\n",
              "      <td>43</td>\n",
              "      <td>высшее</td>\n",
              "      <td>0</td>\n",
              "      <td>женат / замужем</td>\n",
              "      <td>0</td>\n",
              "      <td>F</td>\n",
              "      <td>компаньон</td>\n",
              "      <td>0</td>\n",
              "      <td>240525.971920</td>\n",
              "      <td>операции с жильем</td>\n",
              "    </tr>\n",
              "    <tr>\n",
              "      <th>7</th>\n",
              "      <td>0</td>\n",
              "      <td>-152.779569</td>\n",
              "      <td>50</td>\n",
              "      <td>СРЕДНЕЕ</td>\n",
              "      <td>1</td>\n",
              "      <td>женат / замужем</td>\n",
              "      <td>0</td>\n",
              "      <td>M</td>\n",
              "      <td>сотрудник</td>\n",
              "      <td>0</td>\n",
              "      <td>135823.934197</td>\n",
              "      <td>образование</td>\n",
              "    </tr>\n",
              "    <tr>\n",
              "      <th>8</th>\n",
              "      <td>2</td>\n",
              "      <td>-6929.865299</td>\n",
              "      <td>35</td>\n",
              "      <td>ВЫСШЕЕ</td>\n",
              "      <td>0</td>\n",
              "      <td>гражданский брак</td>\n",
              "      <td>1</td>\n",
              "      <td>F</td>\n",
              "      <td>сотрудник</td>\n",
              "      <td>0</td>\n",
              "      <td>95856.832424</td>\n",
              "      <td>на проведение свадьбы</td>\n",
              "    </tr>\n",
              "    <tr>\n",
              "      <th>9</th>\n",
              "      <td>0</td>\n",
              "      <td>-2188.756445</td>\n",
              "      <td>41</td>\n",
              "      <td>среднее</td>\n",
              "      <td>1</td>\n",
              "      <td>женат / замужем</td>\n",
              "      <td>0</td>\n",
              "      <td>M</td>\n",
              "      <td>сотрудник</td>\n",
              "      <td>0</td>\n",
              "      <td>144425.938277</td>\n",
              "      <td>покупка жилья для семьи</td>\n",
              "    </tr>\n",
              "    <tr>\n",
              "      <th>10</th>\n",
              "      <td>2</td>\n",
              "      <td>-4171.483647</td>\n",
              "      <td>36</td>\n",
              "      <td>высшее</td>\n",
              "      <td>0</td>\n",
              "      <td>женат / замужем</td>\n",
              "      <td>0</td>\n",
              "      <td>M</td>\n",
              "      <td>компаньон</td>\n",
              "      <td>0</td>\n",
              "      <td>113943.491460</td>\n",
              "      <td>покупка недвижимости</td>\n",
              "    </tr>\n",
              "    <tr>\n",
              "      <th>11</th>\n",
              "      <td>0</td>\n",
              "      <td>-792.701887</td>\n",
              "      <td>40</td>\n",
              "      <td>среднее</td>\n",
              "      <td>1</td>\n",
              "      <td>женат / замужем</td>\n",
              "      <td>0</td>\n",
              "      <td>F</td>\n",
              "      <td>сотрудник</td>\n",
              "      <td>0</td>\n",
              "      <td>77069.234271</td>\n",
              "      <td>покупка коммерческой недвижимости</td>\n",
              "    </tr>\n",
              "    <tr>\n",
              "      <th>12</th>\n",
              "      <td>0</td>\n",
              "      <td>NaN</td>\n",
              "      <td>65</td>\n",
              "      <td>среднее</td>\n",
              "      <td>1</td>\n",
              "      <td>гражданский брак</td>\n",
              "      <td>1</td>\n",
              "      <td>M</td>\n",
              "      <td>пенсионер</td>\n",
              "      <td>0</td>\n",
              "      <td>NaN</td>\n",
              "      <td>сыграть свадьбу</td>\n",
              "    </tr>\n",
              "    <tr>\n",
              "      <th>13</th>\n",
              "      <td>0</td>\n",
              "      <td>-1846.641941</td>\n",
              "      <td>54</td>\n",
              "      <td>неоконченное высшее</td>\n",
              "      <td>2</td>\n",
              "      <td>женат / замужем</td>\n",
              "      <td>0</td>\n",
              "      <td>F</td>\n",
              "      <td>сотрудник</td>\n",
              "      <td>0</td>\n",
              "      <td>130458.228857</td>\n",
              "      <td>приобретение автомобиля</td>\n",
              "    </tr>\n",
              "    <tr>\n",
              "      <th>14</th>\n",
              "      <td>0</td>\n",
              "      <td>-1844.956182</td>\n",
              "      <td>56</td>\n",
              "      <td>высшее</td>\n",
              "      <td>0</td>\n",
              "      <td>гражданский брак</td>\n",
              "      <td>1</td>\n",
              "      <td>F</td>\n",
              "      <td>компаньон</td>\n",
              "      <td>1</td>\n",
              "      <td>165127.911772</td>\n",
              "      <td>покупка жилой недвижимости</td>\n",
              "    </tr>\n",
              "    <tr>\n",
              "      <th>15</th>\n",
              "      <td>1</td>\n",
              "      <td>-972.364419</td>\n",
              "      <td>26</td>\n",
              "      <td>среднее</td>\n",
              "      <td>1</td>\n",
              "      <td>женат / замужем</td>\n",
              "      <td>0</td>\n",
              "      <td>F</td>\n",
              "      <td>сотрудник</td>\n",
              "      <td>0</td>\n",
              "      <td>116820.904450</td>\n",
              "      <td>строительство собственной недвижимости</td>\n",
              "    </tr>\n",
              "    <tr>\n",
              "      <th>16</th>\n",
              "      <td>0</td>\n",
              "      <td>-1719.934226</td>\n",
              "      <td>35</td>\n",
              "      <td>среднее</td>\n",
              "      <td>1</td>\n",
              "      <td>женат / замужем</td>\n",
              "      <td>0</td>\n",
              "      <td>F</td>\n",
              "      <td>сотрудник</td>\n",
              "      <td>0</td>\n",
              "      <td>289202.704229</td>\n",
              "      <td>недвижимость</td>\n",
              "    </tr>\n",
              "    <tr>\n",
              "      <th>17</th>\n",
              "      <td>0</td>\n",
              "      <td>-2369.999720</td>\n",
              "      <td>33</td>\n",
              "      <td>высшее</td>\n",
              "      <td>0</td>\n",
              "      <td>гражданский брак</td>\n",
              "      <td>1</td>\n",
              "      <td>M</td>\n",
              "      <td>сотрудник</td>\n",
              "      <td>0</td>\n",
              "      <td>90410.586745</td>\n",
              "      <td>строительство недвижимости</td>\n",
              "    </tr>\n",
              "    <tr>\n",
              "      <th>18</th>\n",
              "      <td>0</td>\n",
              "      <td>400281.136913</td>\n",
              "      <td>53</td>\n",
              "      <td>среднее</td>\n",
              "      <td>1</td>\n",
              "      <td>вдовец / вдова</td>\n",
              "      <td>2</td>\n",
              "      <td>F</td>\n",
              "      <td>пенсионер</td>\n",
              "      <td>0</td>\n",
              "      <td>56823.777243</td>\n",
              "      <td>на покупку подержанного автомобиля</td>\n",
              "    </tr>\n",
              "    <tr>\n",
              "      <th>19</th>\n",
              "      <td>0</td>\n",
              "      <td>-10038.818549</td>\n",
              "      <td>48</td>\n",
              "      <td>СРЕДНЕЕ</td>\n",
              "      <td>1</td>\n",
              "      <td>в разводе</td>\n",
              "      <td>3</td>\n",
              "      <td>F</td>\n",
              "      <td>сотрудник</td>\n",
              "      <td>0</td>\n",
              "      <td>242831.107982</td>\n",
              "      <td>на покупку своего автомобиля</td>\n",
              "    </tr>\n",
              "  </tbody>\n",
              "</table>\n",
              "</div>\n",
              "    <div class=\"colab-df-buttons\">\n",
              "\n",
              "  <div class=\"colab-df-container\">\n",
              "    <button class=\"colab-df-convert\" onclick=\"convertToInteractive('df-76a5886a-456d-437e-b527-008a3348ed9c')\"\n",
              "            title=\"Convert this dataframe to an interactive table.\"\n",
              "            style=\"display:none;\">\n",
              "\n",
              "  <svg xmlns=\"http://www.w3.org/2000/svg\" height=\"24px\" viewBox=\"0 -960 960 960\">\n",
              "    <path d=\"M120-120v-720h720v720H120Zm60-500h600v-160H180v160Zm220 220h160v-160H400v160Zm0 220h160v-160H400v160ZM180-400h160v-160H180v160Zm440 0h160v-160H620v160ZM180-180h160v-160H180v160Zm440 0h160v-160H620v160Z\"/>\n",
              "  </svg>\n",
              "    </button>\n",
              "\n",
              "  <style>\n",
              "    .colab-df-container {\n",
              "      display:flex;\n",
              "      gap: 12px;\n",
              "    }\n",
              "\n",
              "    .colab-df-convert {\n",
              "      background-color: #E8F0FE;\n",
              "      border: none;\n",
              "      border-radius: 50%;\n",
              "      cursor: pointer;\n",
              "      display: none;\n",
              "      fill: #1967D2;\n",
              "      height: 32px;\n",
              "      padding: 0 0 0 0;\n",
              "      width: 32px;\n",
              "    }\n",
              "\n",
              "    .colab-df-convert:hover {\n",
              "      background-color: #E2EBFA;\n",
              "      box-shadow: 0px 1px 2px rgba(60, 64, 67, 0.3), 0px 1px 3px 1px rgba(60, 64, 67, 0.15);\n",
              "      fill: #174EA6;\n",
              "    }\n",
              "\n",
              "    .colab-df-buttons div {\n",
              "      margin-bottom: 4px;\n",
              "    }\n",
              "\n",
              "    [theme=dark] .colab-df-convert {\n",
              "      background-color: #3B4455;\n",
              "      fill: #D2E3FC;\n",
              "    }\n",
              "\n",
              "    [theme=dark] .colab-df-convert:hover {\n",
              "      background-color: #434B5C;\n",
              "      box-shadow: 0px 1px 3px 1px rgba(0, 0, 0, 0.15);\n",
              "      filter: drop-shadow(0px 1px 2px rgba(0, 0, 0, 0.3));\n",
              "      fill: #FFFFFF;\n",
              "    }\n",
              "  </style>\n",
              "\n",
              "    <script>\n",
              "      const buttonEl =\n",
              "        document.querySelector('#df-76a5886a-456d-437e-b527-008a3348ed9c button.colab-df-convert');\n",
              "      buttonEl.style.display =\n",
              "        google.colab.kernel.accessAllowed ? 'block' : 'none';\n",
              "\n",
              "      async function convertToInteractive(key) {\n",
              "        const element = document.querySelector('#df-76a5886a-456d-437e-b527-008a3348ed9c');\n",
              "        const dataTable =\n",
              "          await google.colab.kernel.invokeFunction('convertToInteractive',\n",
              "                                                    [key], {});\n",
              "        if (!dataTable) return;\n",
              "\n",
              "        const docLinkHtml = 'Like what you see? Visit the ' +\n",
              "          '<a target=\"_blank\" href=https://colab.research.google.com/notebooks/data_table.ipynb>data table notebook</a>'\n",
              "          + ' to learn more about interactive tables.';\n",
              "        element.innerHTML = '';\n",
              "        dataTable['output_type'] = 'display_data';\n",
              "        await google.colab.output.renderOutput(dataTable, element);\n",
              "        const docLink = document.createElement('div');\n",
              "        docLink.innerHTML = docLinkHtml;\n",
              "        element.appendChild(docLink);\n",
              "      }\n",
              "    </script>\n",
              "  </div>\n",
              "\n",
              "\n",
              "<div id=\"df-84f923ea-113f-4eb6-b185-17578550bc5f\">\n",
              "  <button class=\"colab-df-quickchart\" onclick=\"quickchart('df-84f923ea-113f-4eb6-b185-17578550bc5f')\"\n",
              "            title=\"Suggest charts\"\n",
              "            style=\"display:none;\">\n",
              "\n",
              "<svg xmlns=\"http://www.w3.org/2000/svg\" height=\"24px\"viewBox=\"0 0 24 24\"\n",
              "     width=\"24px\">\n",
              "    <g>\n",
              "        <path d=\"M19 3H5c-1.1 0-2 .9-2 2v14c0 1.1.9 2 2 2h14c1.1 0 2-.9 2-2V5c0-1.1-.9-2-2-2zM9 17H7v-7h2v7zm4 0h-2V7h2v10zm4 0h-2v-4h2v4z\"/>\n",
              "    </g>\n",
              "</svg>\n",
              "  </button>\n",
              "\n",
              "<style>\n",
              "  .colab-df-quickchart {\n",
              "      --bg-color: #E8F0FE;\n",
              "      --fill-color: #1967D2;\n",
              "      --hover-bg-color: #E2EBFA;\n",
              "      --hover-fill-color: #174EA6;\n",
              "      --disabled-fill-color: #AAA;\n",
              "      --disabled-bg-color: #DDD;\n",
              "  }\n",
              "\n",
              "  [theme=dark] .colab-df-quickchart {\n",
              "      --bg-color: #3B4455;\n",
              "      --fill-color: #D2E3FC;\n",
              "      --hover-bg-color: #434B5C;\n",
              "      --hover-fill-color: #FFFFFF;\n",
              "      --disabled-bg-color: #3B4455;\n",
              "      --disabled-fill-color: #666;\n",
              "  }\n",
              "\n",
              "  .colab-df-quickchart {\n",
              "    background-color: var(--bg-color);\n",
              "    border: none;\n",
              "    border-radius: 50%;\n",
              "    cursor: pointer;\n",
              "    display: none;\n",
              "    fill: var(--fill-color);\n",
              "    height: 32px;\n",
              "    padding: 0;\n",
              "    width: 32px;\n",
              "  }\n",
              "\n",
              "  .colab-df-quickchart:hover {\n",
              "    background-color: var(--hover-bg-color);\n",
              "    box-shadow: 0 1px 2px rgba(60, 64, 67, 0.3), 0 1px 3px 1px rgba(60, 64, 67, 0.15);\n",
              "    fill: var(--button-hover-fill-color);\n",
              "  }\n",
              "\n",
              "  .colab-df-quickchart-complete:disabled,\n",
              "  .colab-df-quickchart-complete:disabled:hover {\n",
              "    background-color: var(--disabled-bg-color);\n",
              "    fill: var(--disabled-fill-color);\n",
              "    box-shadow: none;\n",
              "  }\n",
              "\n",
              "  .colab-df-spinner {\n",
              "    border: 2px solid var(--fill-color);\n",
              "    border-color: transparent;\n",
              "    border-bottom-color: var(--fill-color);\n",
              "    animation:\n",
              "      spin 1s steps(1) infinite;\n",
              "  }\n",
              "\n",
              "  @keyframes spin {\n",
              "    0% {\n",
              "      border-color: transparent;\n",
              "      border-bottom-color: var(--fill-color);\n",
              "      border-left-color: var(--fill-color);\n",
              "    }\n",
              "    20% {\n",
              "      border-color: transparent;\n",
              "      border-left-color: var(--fill-color);\n",
              "      border-top-color: var(--fill-color);\n",
              "    }\n",
              "    30% {\n",
              "      border-color: transparent;\n",
              "      border-left-color: var(--fill-color);\n",
              "      border-top-color: var(--fill-color);\n",
              "      border-right-color: var(--fill-color);\n",
              "    }\n",
              "    40% {\n",
              "      border-color: transparent;\n",
              "      border-right-color: var(--fill-color);\n",
              "      border-top-color: var(--fill-color);\n",
              "    }\n",
              "    60% {\n",
              "      border-color: transparent;\n",
              "      border-right-color: var(--fill-color);\n",
              "    }\n",
              "    80% {\n",
              "      border-color: transparent;\n",
              "      border-right-color: var(--fill-color);\n",
              "      border-bottom-color: var(--fill-color);\n",
              "    }\n",
              "    90% {\n",
              "      border-color: transparent;\n",
              "      border-bottom-color: var(--fill-color);\n",
              "    }\n",
              "  }\n",
              "</style>\n",
              "\n",
              "  <script>\n",
              "    async function quickchart(key) {\n",
              "      const quickchartButtonEl =\n",
              "        document.querySelector('#' + key + ' button');\n",
              "      quickchartButtonEl.disabled = true;  // To prevent multiple clicks.\n",
              "      quickchartButtonEl.classList.add('colab-df-spinner');\n",
              "      try {\n",
              "        const charts = await google.colab.kernel.invokeFunction(\n",
              "            'suggestCharts', [key], {});\n",
              "      } catch (error) {\n",
              "        console.error('Error during call to suggestCharts:', error);\n",
              "      }\n",
              "      quickchartButtonEl.classList.remove('colab-df-spinner');\n",
              "      quickchartButtonEl.classList.add('colab-df-quickchart-complete');\n",
              "    }\n",
              "    (() => {\n",
              "      let quickchartButtonEl =\n",
              "        document.querySelector('#df-84f923ea-113f-4eb6-b185-17578550bc5f button');\n",
              "      quickchartButtonEl.style.display =\n",
              "        google.colab.kernel.accessAllowed ? 'block' : 'none';\n",
              "    })();\n",
              "  </script>\n",
              "</div>\n",
              "    </div>\n",
              "  </div>\n"
            ],
            "application/vnd.google.colaboratory.intrinsic+json": {
              "type": "dataframe",
              "variable_name": "data",
              "summary": "{\n  \"name\": \"data\",\n  \"rows\": 21525,\n  \"fields\": [\n    {\n      \"column\": \"children\",\n      \"properties\": {\n        \"dtype\": \"number\",\n        \"std\": 1,\n        \"min\": -1,\n        \"max\": 20,\n        \"num_unique_values\": 8,\n        \"samples\": [\n          0,\n          4,\n          1\n        ],\n        \"semantic_type\": \"\",\n        \"description\": \"\"\n      }\n    },\n    {\n      \"column\": \"days_employed\",\n      \"properties\": {\n        \"dtype\": \"number\",\n        \"std\": 140827.3119743168,\n        \"min\": -18388.949900568383,\n        \"max\": 401755.40047533,\n        \"num_unique_values\": 19351,\n        \"samples\": [\n          -4144.711271868319,\n          -1963.4835351775944,\n          -106.69195506879056\n        ],\n        \"semantic_type\": \"\",\n        \"description\": \"\"\n      }\n    },\n    {\n      \"column\": \"dob_years\",\n      \"properties\": {\n        \"dtype\": \"number\",\n        \"std\": 12,\n        \"min\": 0,\n        \"max\": 75,\n        \"num_unique_values\": 58,\n        \"samples\": [\n          42,\n          27,\n          64\n        ],\n        \"semantic_type\": \"\",\n        \"description\": \"\"\n      }\n    },\n    {\n      \"column\": \"education\",\n      \"properties\": {\n        \"dtype\": \"category\",\n        \"num_unique_values\": 15,\n        \"samples\": [\n          \"\\u041d\\u0435\\u043e\\u043a\\u043e\\u043d\\u0447\\u0435\\u043d\\u043d\\u043e\\u0435 \\u0432\\u044b\\u0441\\u0448\\u0435\\u0435\",\n          \"\\u041d\\u0430\\u0447\\u0430\\u043b\\u044c\\u043d\\u043e\\u0435\",\n          \"\\u0432\\u044b\\u0441\\u0448\\u0435\\u0435\"\n        ],\n        \"semantic_type\": \"\",\n        \"description\": \"\"\n      }\n    },\n    {\n      \"column\": \"education_id\",\n      \"properties\": {\n        \"dtype\": \"number\",\n        \"std\": 0,\n        \"min\": 0,\n        \"max\": 4,\n        \"num_unique_values\": 5,\n        \"samples\": [\n          1,\n          4,\n          2\n        ],\n        \"semantic_type\": \"\",\n        \"description\": \"\"\n      }\n    },\n    {\n      \"column\": \"family_status\",\n      \"properties\": {\n        \"dtype\": \"category\",\n        \"num_unique_values\": 5,\n        \"samples\": [\n          \"\\u0433\\u0440\\u0430\\u0436\\u0434\\u0430\\u043d\\u0441\\u043a\\u0438\\u0439 \\u0431\\u0440\\u0430\\u043a\",\n          \"\\u041d\\u0435 \\u0436\\u0435\\u043d\\u0430\\u0442 / \\u043d\\u0435 \\u0437\\u0430\\u043c\\u0443\\u0436\\u0435\\u043c\",\n          \"\\u0432\\u0434\\u043e\\u0432\\u0435\\u0446 / \\u0432\\u0434\\u043e\\u0432\\u0430\"\n        ],\n        \"semantic_type\": \"\",\n        \"description\": \"\"\n      }\n    },\n    {\n      \"column\": \"family_status_id\",\n      \"properties\": {\n        \"dtype\": \"number\",\n        \"std\": 1,\n        \"min\": 0,\n        \"max\": 4,\n        \"num_unique_values\": 5,\n        \"samples\": [\n          1,\n          4,\n          2\n        ],\n        \"semantic_type\": \"\",\n        \"description\": \"\"\n      }\n    },\n    {\n      \"column\": \"gender\",\n      \"properties\": {\n        \"dtype\": \"category\",\n        \"num_unique_values\": 3,\n        \"samples\": [\n          \"F\",\n          \"M\",\n          \"XNA\"\n        ],\n        \"semantic_type\": \"\",\n        \"description\": \"\"\n      }\n    },\n    {\n      \"column\": \"income_type\",\n      \"properties\": {\n        \"dtype\": \"category\",\n        \"num_unique_values\": 8,\n        \"samples\": [\n          \"\\u043f\\u0435\\u043d\\u0441\\u0438\\u043e\\u043d\\u0435\\u0440\",\n          \"\\u043f\\u0440\\u0435\\u0434\\u043f\\u0440\\u0438\\u043d\\u0438\\u043c\\u0430\\u0442\\u0435\\u043b\\u044c\",\n          \"\\u0441\\u043e\\u0442\\u0440\\u0443\\u0434\\u043d\\u0438\\u043a\"\n        ],\n        \"semantic_type\": \"\",\n        \"description\": \"\"\n      }\n    },\n    {\n      \"column\": \"debt\",\n      \"properties\": {\n        \"dtype\": \"number\",\n        \"std\": 0,\n        \"min\": 0,\n        \"max\": 1,\n        \"num_unique_values\": 2,\n        \"samples\": [\n          1,\n          0\n        ],\n        \"semantic_type\": \"\",\n        \"description\": \"\"\n      }\n    },\n    {\n      \"column\": \"total_income\",\n      \"properties\": {\n        \"dtype\": \"number\",\n        \"std\": 102971.56644797762,\n        \"min\": 20667.26379327158,\n        \"max\": 2265604.028722744,\n        \"num_unique_values\": 19351,\n        \"samples\": [\n          264985.90849759005,\n          145521.97728763806\n        ],\n        \"semantic_type\": \"\",\n        \"description\": \"\"\n      }\n    },\n    {\n      \"column\": \"purpose\",\n      \"properties\": {\n        \"dtype\": \"category\",\n        \"num_unique_values\": 38,\n        \"samples\": [\n          \"\\u0432\\u044b\\u0441\\u0448\\u0435\\u0435 \\u043e\\u0431\\u0440\\u0430\\u0437\\u043e\\u0432\\u0430\\u043d\\u0438\\u0435\",\n          \"\\u0440\\u0435\\u043c\\u043e\\u043d\\u0442 \\u0436\\u0438\\u043b\\u044c\\u044e\"\n        ],\n        \"semantic_type\": \"\",\n        \"description\": \"\"\n      }\n    }\n  ]\n}"
            }
          },
          "metadata": {},
          "execution_count": 2
        }
      ],
      "source": [
        "drive.mount('/gdrive')\n",
        "file_id = '1vFtJ5HnPO8A8p5GsvGjvdLBaH2KQVYZY'\n",
        "link = 'https://drive.google.com/uc?id=' + file_id\n",
        "\n",
        "data = pd.read_csv(link, error_bad_lines=False)\n",
        "data.head(20)"
      ]
    },
    {
      "cell_type": "code",
      "execution_count": null,
      "id": "ab3f863b",
      "metadata": {
        "deletable": false,
        "id": "ab3f863b",
        "colab": {
          "base_uri": "https://localhost:8080/"
        },
        "outputId": "2ab18ea8-2888-420a-e578-c2b78b26ac2f"
      },
      "outputs": [
        {
          "output_type": "stream",
          "name": "stdout",
          "text": [
            "<class 'pandas.core.frame.DataFrame'>\n",
            "RangeIndex: 21525 entries, 0 to 21524\n",
            "Data columns (total 12 columns):\n",
            " #   Column            Non-Null Count  Dtype  \n",
            "---  ------            --------------  -----  \n",
            " 0   children          21525 non-null  int64  \n",
            " 1   days_employed     19351 non-null  float64\n",
            " 2   dob_years         21525 non-null  int64  \n",
            " 3   education         21525 non-null  object \n",
            " 4   education_id      21525 non-null  int64  \n",
            " 5   family_status     21525 non-null  object \n",
            " 6   family_status_id  21525 non-null  int64  \n",
            " 7   gender            21525 non-null  object \n",
            " 8   income_type       21525 non-null  object \n",
            " 9   debt              21525 non-null  int64  \n",
            " 10  total_income      19351 non-null  float64\n",
            " 11  purpose           21525 non-null  object \n",
            "dtypes: float64(2), int64(5), object(5)\n",
            "memory usage: 2.0+ MB\n"
          ]
        }
      ],
      "source": [
        "data.info()"
      ]
    },
    {
      "cell_type": "markdown",
      "id": "60e3e22d",
      "metadata": {
        "deletable": false,
        "editable": false,
        "id": "60e3e22d"
      },
      "source": [
        "## Предобработка данных"
      ]
    },
    {
      "cell_type": "markdown",
      "id": "03dc170c",
      "metadata": {
        "deletable": false,
        "editable": false,
        "id": "03dc170c"
      },
      "source": [
        "### Удаление пропусков"
      ]
    },
    {
      "cell_type": "code",
      "execution_count": null,
      "id": "2dc372b2",
      "metadata": {
        "deletable": false,
        "id": "2dc372b2",
        "colab": {
          "base_uri": "https://localhost:8080/"
        },
        "outputId": "212a9a6f-f3ea-4f33-c560-bb129dc87208"
      },
      "outputs": [
        {
          "output_type": "execute_result",
          "data": {
            "text/plain": [
              "children               0\n",
              "days_employed       2174\n",
              "dob_years              0\n",
              "education              0\n",
              "education_id           0\n",
              "family_status          0\n",
              "family_status_id       0\n",
              "gender                 0\n",
              "income_type            0\n",
              "debt                   0\n",
              "total_income        2174\n",
              "purpose                0\n",
              "dtype: int64"
            ]
          },
          "metadata": {},
          "execution_count": 4
        }
      ],
      "source": [
        "data.isna().sum()"
      ]
    },
    {
      "cell_type": "code",
      "execution_count": null,
      "id": "bdabfb6e",
      "metadata": {
        "deletable": false,
        "id": "bdabfb6e"
      },
      "outputs": [],
      "source": [
        "for t in data['income_type'].unique():\n",
        "    data.loc[(data['income_type'] == t) & (data['total_income'].isna()), 'total_income'] = \\\n",
        "    data.loc[(data['income_type'] == t), 'total_income'].median()"
      ]
    },
    {
      "cell_type": "markdown",
      "id": "5be34059",
      "metadata": {
        "deletable": false,
        "editable": false,
        "id": "5be34059"
      },
      "source": [
        "### Обработка аномальных значений"
      ]
    },
    {
      "cell_type": "code",
      "execution_count": null,
      "id": "020c46cc",
      "metadata": {
        "deletable": false,
        "id": "020c46cc"
      },
      "outputs": [],
      "source": [
        "data['days_employed'] = data['days_employed'].abs()"
      ]
    },
    {
      "cell_type": "code",
      "execution_count": null,
      "id": "cd3e6328",
      "metadata": {
        "deletable": false,
        "id": "cd3e6328",
        "colab": {
          "base_uri": "https://localhost:8080/"
        },
        "outputId": "c05513f0-907b-483f-df00-5c7eaf567f06"
      },
      "outputs": [
        {
          "output_type": "execute_result",
          "data": {
            "text/plain": [
              "income_type\n",
              "безработный        366413.652744\n",
              "в декрете            3296.759962\n",
              "госслужащий          2689.368353\n",
              "компаньон            1547.382223\n",
              "пенсионер          365213.306266\n",
              "предприниматель       520.848083\n",
              "сотрудник            1574.202821\n",
              "студент               578.751554\n",
              "Name: days_employed, dtype: float64"
            ]
          },
          "metadata": {},
          "execution_count": 7
        }
      ],
      "source": [
        "data.groupby('income_type')['days_employed'].agg('median')"
      ]
    },
    {
      "cell_type": "markdown",
      "id": "90c5f058",
      "metadata": {
        "deletable": false,
        "editable": false,
        "id": "90c5f058"
      },
      "source": [
        "У двух типов (безработные и пенсионеры) получатся аномально большие значения. Исправить такие значения сложно, поэтому оставим их как есть."
      ]
    },
    {
      "cell_type": "code",
      "execution_count": null,
      "id": "dbb37b8e",
      "metadata": {
        "deletable": false,
        "id": "dbb37b8e",
        "colab": {
          "base_uri": "https://localhost:8080/"
        },
        "outputId": "177c7ad9-4917-4705-e825-a35fa9c776a4"
      },
      "outputs": [
        {
          "output_type": "execute_result",
          "data": {
            "text/plain": [
              "array([ 1,  0,  3,  2, -1,  4, 20,  5])"
            ]
          },
          "metadata": {},
          "execution_count": 8
        }
      ],
      "source": [
        "data['children'].unique()"
      ]
    },
    {
      "cell_type": "code",
      "execution_count": null,
      "id": "20009df8",
      "metadata": {
        "deletable": false,
        "id": "20009df8"
      },
      "outputs": [],
      "source": [
        "data = data[(data['children'] != -1) & (data['children'] != 20)]"
      ]
    },
    {
      "cell_type": "code",
      "execution_count": null,
      "id": "07337b81",
      "metadata": {
        "deletable": false,
        "id": "07337b81",
        "colab": {
          "base_uri": "https://localhost:8080/"
        },
        "outputId": "79af1c6b-ee25-4eaa-be2d-2330640adc08"
      },
      "outputs": [
        {
          "output_type": "execute_result",
          "data": {
            "text/plain": [
              "array([1, 0, 3, 2, 4, 5])"
            ]
          },
          "metadata": {},
          "execution_count": 10
        }
      ],
      "source": [
        "data['children'].unique()"
      ]
    },
    {
      "cell_type": "code",
      "execution_count": null,
      "id": "61946b83",
      "metadata": {
        "deletable": false,
        "id": "61946b83"
      },
      "outputs": [],
      "source": [
        "for t in data['income_type'].unique():\n",
        "    data.loc[(data['income_type'] == t) & (data['days_employed'].isna()), 'days_employed'] = \\\n",
        "    data.loc[(data['income_type'] == t), 'days_employed'].median()"
      ]
    },
    {
      "cell_type": "code",
      "execution_count": null,
      "id": "937c7014",
      "metadata": {
        "deletable": false,
        "id": "937c7014",
        "colab": {
          "base_uri": "https://localhost:8080/"
        },
        "outputId": "f048f44b-76fd-4d7f-cadd-92331b357f5a"
      },
      "outputs": [
        {
          "output_type": "execute_result",
          "data": {
            "text/plain": [
              "children            0\n",
              "days_employed       0\n",
              "dob_years           0\n",
              "education           0\n",
              "education_id        0\n",
              "family_status       0\n",
              "family_status_id    0\n",
              "gender              0\n",
              "income_type         0\n",
              "debt                0\n",
              "total_income        0\n",
              "purpose             0\n",
              "dtype: int64"
            ]
          },
          "metadata": {},
          "execution_count": 12
        }
      ],
      "source": [
        "data.isna().sum()"
      ]
    },
    {
      "cell_type": "markdown",
      "id": "d522e295",
      "metadata": {
        "deletable": false,
        "editable": false,
        "id": "d522e295"
      },
      "source": [
        "### Изменение типов данных"
      ]
    },
    {
      "cell_type": "code",
      "execution_count": null,
      "id": "31036462",
      "metadata": {
        "deletable": false,
        "id": "31036462",
        "colab": {
          "base_uri": "https://localhost:8080/"
        },
        "outputId": "f47db1dc-0343-4c80-859b-99a786587145"
      },
      "outputs": [
        {
          "output_type": "stream",
          "name": "stderr",
          "text": [
            "<ipython-input-13-990472087ee4>:1: SettingWithCopyWarning: \n",
            "A value is trying to be set on a copy of a slice from a DataFrame.\n",
            "Try using .loc[row_indexer,col_indexer] = value instead\n",
            "\n",
            "See the caveats in the documentation: https://pandas.pydata.org/pandas-docs/stable/user_guide/indexing.html#returning-a-view-versus-a-copy\n",
            "  data['total_income'] = data['total_income'].astype(int)\n"
          ]
        }
      ],
      "source": [
        "data['total_income'] = data['total_income'].astype(int)"
      ]
    },
    {
      "cell_type": "markdown",
      "id": "b8e3d1d9",
      "metadata": {
        "deletable": false,
        "editable": false,
        "id": "b8e3d1d9"
      },
      "source": [
        "### Обработка дубликатов"
      ]
    },
    {
      "cell_type": "code",
      "execution_count": null,
      "id": "d89e73e1",
      "metadata": {
        "deletable": false,
        "id": "d89e73e1",
        "colab": {
          "base_uri": "https://localhost:8080/"
        },
        "outputId": "2602ea6a-0f54-45ce-9a97-698d1830e443"
      },
      "outputs": [
        {
          "output_type": "stream",
          "name": "stderr",
          "text": [
            "<ipython-input-14-d4b849f854d7>:1: SettingWithCopyWarning: \n",
            "A value is trying to be set on a copy of a slice from a DataFrame.\n",
            "Try using .loc[row_indexer,col_indexer] = value instead\n",
            "\n",
            "See the caveats in the documentation: https://pandas.pydata.org/pandas-docs/stable/user_guide/indexing.html#returning-a-view-versus-a-copy\n",
            "  data['education'] = data['education'].str.lower()\n"
          ]
        }
      ],
      "source": [
        "data['education'] = data['education'].str.lower()"
      ]
    },
    {
      "cell_type": "code",
      "execution_count": null,
      "id": "e10efb23",
      "metadata": {
        "deletable": false,
        "id": "e10efb23",
        "colab": {
          "base_uri": "https://localhost:8080/"
        },
        "outputId": "f7bde2b6-fa26-4056-e0e9-898afb40d4ba"
      },
      "outputs": [
        {
          "output_type": "execute_result",
          "data": {
            "text/plain": [
              "71"
            ]
          },
          "metadata": {},
          "execution_count": 15
        }
      ],
      "source": [
        "data.duplicated().sum()"
      ]
    },
    {
      "cell_type": "code",
      "execution_count": null,
      "id": "df853f20",
      "metadata": {
        "deletable": false,
        "id": "df853f20"
      },
      "outputs": [],
      "source": [
        "data = data.drop_duplicates()"
      ]
    },
    {
      "cell_type": "markdown",
      "id": "627be38f",
      "metadata": {
        "deletable": false,
        "editable": false,
        "id": "627be38f"
      },
      "source": [
        "### Категоризация данных"
      ]
    },
    {
      "cell_type": "code",
      "execution_count": null,
      "id": "78965238",
      "metadata": {
        "deletable": false,
        "id": "78965238"
      },
      "outputs": [],
      "source": [
        "def categorize_income(income):\n",
        "    try:\n",
        "        if 0 <= income <= 30000:\n",
        "            return 'E'\n",
        "        elif 30001 <= income <= 50000:\n",
        "            return 'D'\n",
        "        elif 50001 <= income <= 200000:\n",
        "            return 'C'\n",
        "        elif 200001 <= income <= 1000000:\n",
        "            return 'B'\n",
        "        elif income >= 1000001:\n",
        "            return 'A'\n",
        "    except:\n",
        "        pass"
      ]
    },
    {
      "cell_type": "code",
      "execution_count": null,
      "id": "0980ada1",
      "metadata": {
        "deletable": false,
        "id": "0980ada1",
        "colab": {
          "base_uri": "https://localhost:8080/"
        },
        "outputId": "db83c8b0-d491-49e9-d561-a728b20e9c35"
      },
      "outputs": [
        {
          "output_type": "stream",
          "name": "stderr",
          "text": [
            "<ipython-input-18-0bc713f3049f>:1: SettingWithCopyWarning: \n",
            "A value is trying to be set on a copy of a slice from a DataFrame.\n",
            "Try using .loc[row_indexer,col_indexer] = value instead\n",
            "\n",
            "See the caveats in the documentation: https://pandas.pydata.org/pandas-docs/stable/user_guide/indexing.html#returning-a-view-versus-a-copy\n",
            "  data['total_income_category'] = data['total_income'].apply(categorize_income)\n"
          ]
        }
      ],
      "source": [
        "data['total_income_category'] = data['total_income'].apply(categorize_income)"
      ]
    },
    {
      "cell_type": "code",
      "execution_count": null,
      "id": "ee07b65e",
      "metadata": {
        "deletable": false,
        "id": "ee07b65e",
        "colab": {
          "base_uri": "https://localhost:8080/"
        },
        "outputId": "5a0ed4d9-d633-4f72-fbaf-3c5f6430d1ab"
      },
      "outputs": [
        {
          "output_type": "execute_result",
          "data": {
            "text/plain": [
              "array(['покупка жилья', 'приобретение автомобиля',\n",
              "       'дополнительное образование', 'сыграть свадьбу',\n",
              "       'операции с жильем', 'образование', 'на проведение свадьбы',\n",
              "       'покупка жилья для семьи', 'покупка недвижимости',\n",
              "       'покупка коммерческой недвижимости', 'покупка жилой недвижимости',\n",
              "       'строительство собственной недвижимости', 'недвижимость',\n",
              "       'строительство недвижимости', 'на покупку подержанного автомобиля',\n",
              "       'на покупку своего автомобиля',\n",
              "       'операции с коммерческой недвижимостью',\n",
              "       'строительство жилой недвижимости', 'жилье',\n",
              "       'операции со своей недвижимостью', 'автомобили',\n",
              "       'заняться образованием', 'сделка с подержанным автомобилем',\n",
              "       'получение образования', 'автомобиль', 'свадьба',\n",
              "       'получение дополнительного образования', 'покупка своего жилья',\n",
              "       'операции с недвижимостью', 'получение высшего образования',\n",
              "       'свой автомобиль', 'сделка с автомобилем',\n",
              "       'профильное образование', 'высшее образование',\n",
              "       'покупка жилья для сдачи', 'на покупку автомобиля', 'ремонт жилью',\n",
              "       'заняться высшим образованием'], dtype=object)"
            ]
          },
          "metadata": {},
          "execution_count": 19
        }
      ],
      "source": [
        "data['purpose'].unique()"
      ]
    },
    {
      "cell_type": "code",
      "execution_count": null,
      "id": "be41da5d",
      "metadata": {
        "deletable": false,
        "id": "be41da5d"
      },
      "outputs": [],
      "source": [
        "def categorize_purpose(row):\n",
        "    try:\n",
        "        if 'автом' in row:\n",
        "            return 'операции с автомобилем'\n",
        "        elif 'жил' in row or 'недвиж' in row:\n",
        "            return 'операции с недвижимостью'\n",
        "        elif 'свад' in row:\n",
        "            return 'проведение свадьбы'\n",
        "        elif 'образов' in row:\n",
        "            return 'получение образования'\n",
        "    except:\n",
        "        return 'нет категории'"
      ]
    },
    {
      "cell_type": "code",
      "execution_count": null,
      "id": "94c4a19a",
      "metadata": {
        "deletable": false,
        "id": "94c4a19a",
        "colab": {
          "base_uri": "https://localhost:8080/"
        },
        "outputId": "7214dd70-f215-4863-ff35-e497242d484a"
      },
      "outputs": [
        {
          "output_type": "stream",
          "name": "stderr",
          "text": [
            "<ipython-input-21-ecf9d79505dd>:1: SettingWithCopyWarning: \n",
            "A value is trying to be set on a copy of a slice from a DataFrame.\n",
            "Try using .loc[row_indexer,col_indexer] = value instead\n",
            "\n",
            "See the caveats in the documentation: https://pandas.pydata.org/pandas-docs/stable/user_guide/indexing.html#returning-a-view-versus-a-copy\n",
            "  data['purpose_category'] = data['purpose'].apply(categorize_purpose)\n"
          ]
        }
      ],
      "source": [
        "data['purpose_category'] = data['purpose'].apply(categorize_purpose)"
      ]
    },
    {
      "cell_type": "markdown",
      "id": "648db036",
      "metadata": {
        "deletable": false,
        "editable": false,
        "id": "648db036"
      },
      "source": [
        "#### Зависимость между количеством детей и возвратом кредита в срок"
      ]
    },
    {
      "cell_type": "code",
      "execution_count": null,
      "id": "7fcff25e",
      "metadata": {
        "deletable": false,
        "id": "7fcff25e",
        "colab": {
          "base_uri": "https://localhost:8080/"
        },
        "outputId": "404c2234-9faa-4df1-a026-0f4fc53b8ca3"
      },
      "outputs": [
        {
          "output_type": "stream",
          "name": "stdout",
          "text": [
            "   number_of_children  number_of_debtors  total_people  default_rate\n",
            "0                   0               1063         14091      0.075438\n",
            "1                   1                444          4808      0.092346\n",
            "2                   2                194          2052      0.094542\n",
            "3                   3                 27           330      0.081818\n",
            "4                   4                  4            41      0.097561\n",
            "5                   5                  0             9      0.000000\n"
          ]
        }
      ],
      "source": [
        "grouped_data = data.groupby('children').agg({'debt': ['sum', 'count']})\n",
        "grouped_data.columns = ['number_of_debtors', 'total_people']\n",
        "\n",
        "grouped_data['default_rate'] = grouped_data['number_of_debtors'] / grouped_data['total_people']\n",
        "\n",
        "grouped_data = grouped_data.reset_index()\n",
        "grouped_data.columns = ['number_of_children', 'number_of_debtors', 'total_people', 'default_rate']\n",
        "\n",
        "print(grouped_data)"
      ]
    },
    {
      "cell_type": "markdown",
      "id": "2eb9088e",
      "metadata": {
        "deletable": false,
        "id": "2eb9088e"
      },
      "source": [
        "**Вывод:** количество детей не влияет на погашение кредита. Однако стоит учитывать, что данных по семьям с 3, 4, 5 детьми очень мало, и их не стоит брать в расчет. Среди семей с 0-2 детьми люди, имеющие одного ребенка, чаще других берут кредиты."
      ]
    },
    {
      "cell_type": "markdown",
      "id": "74c9b3a7",
      "metadata": {
        "deletable": false,
        "editable": false,
        "id": "74c9b3a7"
      },
      "source": [
        "#### Зависимость между семейным положением и возвратом кредита в срок"
      ]
    },
    {
      "cell_type": "code",
      "execution_count": null,
      "id": "8098ab3b",
      "metadata": {
        "deletable": false,
        "id": "8098ab3b"
      },
      "outputs": [],
      "source": [
        "grouped_data = data.groupby('family_status')['debt'].mean().reset_index()\n",
        "grouped_data.columns = ['family_status', 'default_rate']"
      ]
    },
    {
      "cell_type": "markdown",
      "id": "c389ca63",
      "metadata": {
        "deletable": false,
        "id": "c389ca63"
      },
      "source": [
        "**Вывод:** обе категории демонстрируют высокий процент заемщиков, своевременно погасивших свои кредиты. Однако размер выборки для одиноких, разведенных или овдовевших заемщиков относительно невелик."
      ]
    },
    {
      "cell_type": "markdown",
      "id": "9529de68",
      "metadata": {
        "deletable": false,
        "editable": false,
        "id": "9529de68"
      },
      "source": [
        "#### 3ависимость между уровнем дохода и возвратом кредита в срок"
      ]
    },
    {
      "cell_type": "code",
      "execution_count": null,
      "id": "8787f44a",
      "metadata": {
        "deletable": false,
        "id": "8787f44a",
        "colab": {
          "base_uri": "https://localhost:8080/"
        },
        "outputId": "4a7bdc59-410d-4359-9fee-c17dfe85fb07"
      },
      "outputs": [
        {
          "output_type": "stream",
          "name": "stdout",
          "text": [
            "  income_level  default_rate\n",
            "1       medium      0.086259\n",
            "0          low      0.079658\n",
            "2         high      0.070649\n"
          ]
        },
        {
          "output_type": "stream",
          "name": "stderr",
          "text": [
            "<ipython-input-24-f562da238a1c>:4: SettingWithCopyWarning: \n",
            "A value is trying to be set on a copy of a slice from a DataFrame.\n",
            "Try using .loc[row_indexer,col_indexer] = value instead\n",
            "\n",
            "See the caveats in the documentation: https://pandas.pydata.org/pandas-docs/stable/user_guide/indexing.html#returning-a-view-versus-a-copy\n",
            "  data['income_level'] = pd.cut(data['total_income'], bins=income_bins, labels=income_labels)\n"
          ]
        }
      ],
      "source": [
        "income_bins = [0, 100000, 200000, float('inf')]\n",
        "income_labels = ['low', 'medium', 'high']\n",
        "\n",
        "data['income_level'] = pd.cut(data['total_income'], bins=income_bins, labels=income_labels)\n",
        "\n",
        "grouped_data = data.groupby('income_level')['debt'].mean().reset_index()\n",
        "grouped_data.columns = ['income_level', 'default_rate']\n",
        "\n",
        "grouped_data = grouped_data.sort_values(by='default_rate', ascending=False)\n",
        "\n",
        "print(grouped_data)"
      ]
    },
    {
      "cell_type": "markdown",
      "id": "6dd14b57",
      "metadata": {
        "deletable": false,
        "id": "6dd14b57"
      },
      "source": [
        "**Вывод:** заемщики с разным уровнем дохода показали высокий процент своевременного погашения кредитов. Однако размер выборки для заемщиков с уровнем дохода более 200 000 невелик, чтобы сделать какие-либо окончательные выводы, потребуется дальнейший анализ с большим объемом выборки."
      ]
    },
    {
      "cell_type": "markdown",
      "id": "1dcc9b12",
      "metadata": {
        "deletable": false,
        "editable": false,
        "id": "1dcc9b12"
      },
      "source": [
        "#### Влияние разных целей кредита на его возврат в срок"
      ]
    },
    {
      "cell_type": "code",
      "execution_count": null,
      "id": "c602bc8b",
      "metadata": {
        "deletable": false,
        "id": "c602bc8b",
        "colab": {
          "base_uri": "https://localhost:8080/"
        },
        "outputId": "58626bc8-7285-4fa0-aa90-83b976181a5a"
      },
      "outputs": [
        {
          "output_type": "stream",
          "name": "stdout",
          "text": [
            "           purpose_category      debt\n",
            "0    операции с автомобилем  0.093480\n",
            "2     получение образования  0.092528\n",
            "3        проведение свадьбы  0.079118\n",
            "1  операции с недвижимостью  0.072551\n"
          ]
        }
      ],
      "source": [
        "def categorize_purpose(row):\n",
        "    purpose = row['purpose']\n",
        "    if 'автом' in purpose:\n",
        "        return 'операции с автомобилем'\n",
        "    elif 'жил' in purpose or 'недвиж' in purpose:\n",
        "        return 'операции с недвижимостью'\n",
        "    elif 'свад' in purpose:\n",
        "        return 'проведение свадьбы'\n",
        "    elif 'образов' in purpose:\n",
        "        return 'получение образования'\n",
        "    else:\n",
        "        return 'другое'\n",
        "\n",
        "data['purpose_category'] = data.apply(categorize_purpose, axis=1)\n",
        "\n",
        "def purpose_category(data):\n",
        "\n",
        "    purpose_debt_mean = data.groupby('purpose_category')['debt'].mean().reset_index()\n",
        "\n",
        "    purpose_debt_mean_sorted = purpose_debt_mean.sort_values('debt', ascending=False)\n",
        "\n",
        "    return purpose_debt_mean_sorted\n",
        "\n",
        "result = purpose_category(data)\n",
        "\n",
        "print(result)"
      ]
    },
    {
      "cell_type": "code",
      "execution_count": null,
      "id": "60194c26",
      "metadata": {
        "id": "60194c26",
        "colab": {
          "base_uri": "https://localhost:8080/",
          "height": 426
        },
        "outputId": "fc6271f4-1bb3-49f8-92a3-b34e76858f19"
      },
      "outputs": [
        {
          "output_type": "display_data",
          "data": {
            "text/plain": [
              "                          count  sum      mean\n",
              "purpose_category                              \n",
              "операции с автомобилем     4279  400  0.093480\n",
              "операции с недвижимостью  10751  780  0.072551\n",
              "получение образования      3988  369  0.092528\n",
              "проведение свадьбы         2313  183  0.079118"
            ],
            "text/html": [
              "\n",
              "  <div id=\"df-1948954b-d484-4fda-8632-5d208d385234\" class=\"colab-df-container\">\n",
              "    <div>\n",
              "<style scoped>\n",
              "    .dataframe tbody tr th:only-of-type {\n",
              "        vertical-align: middle;\n",
              "    }\n",
              "\n",
              "    .dataframe tbody tr th {\n",
              "        vertical-align: top;\n",
              "    }\n",
              "\n",
              "    .dataframe thead th {\n",
              "        text-align: right;\n",
              "    }\n",
              "</style>\n",
              "<table border=\"1\" class=\"dataframe\">\n",
              "  <thead>\n",
              "    <tr style=\"text-align: right;\">\n",
              "      <th></th>\n",
              "      <th>count</th>\n",
              "      <th>sum</th>\n",
              "      <th>mean</th>\n",
              "    </tr>\n",
              "    <tr>\n",
              "      <th>purpose_category</th>\n",
              "      <th></th>\n",
              "      <th></th>\n",
              "      <th></th>\n",
              "    </tr>\n",
              "  </thead>\n",
              "  <tbody>\n",
              "    <tr>\n",
              "      <th>операции с автомобилем</th>\n",
              "      <td>4279</td>\n",
              "      <td>400</td>\n",
              "      <td>0.093480</td>\n",
              "    </tr>\n",
              "    <tr>\n",
              "      <th>операции с недвижимостью</th>\n",
              "      <td>10751</td>\n",
              "      <td>780</td>\n",
              "      <td>0.072551</td>\n",
              "    </tr>\n",
              "    <tr>\n",
              "      <th>получение образования</th>\n",
              "      <td>3988</td>\n",
              "      <td>369</td>\n",
              "      <td>0.092528</td>\n",
              "    </tr>\n",
              "    <tr>\n",
              "      <th>проведение свадьбы</th>\n",
              "      <td>2313</td>\n",
              "      <td>183</td>\n",
              "      <td>0.079118</td>\n",
              "    </tr>\n",
              "  </tbody>\n",
              "</table>\n",
              "</div>\n",
              "    <div class=\"colab-df-buttons\">\n",
              "\n",
              "  <div class=\"colab-df-container\">\n",
              "    <button class=\"colab-df-convert\" onclick=\"convertToInteractive('df-1948954b-d484-4fda-8632-5d208d385234')\"\n",
              "            title=\"Convert this dataframe to an interactive table.\"\n",
              "            style=\"display:none;\">\n",
              "\n",
              "  <svg xmlns=\"http://www.w3.org/2000/svg\" height=\"24px\" viewBox=\"0 -960 960 960\">\n",
              "    <path d=\"M120-120v-720h720v720H120Zm60-500h600v-160H180v160Zm220 220h160v-160H400v160Zm0 220h160v-160H400v160ZM180-400h160v-160H180v160Zm440 0h160v-160H620v160ZM180-180h160v-160H180v160Zm440 0h160v-160H620v160Z\"/>\n",
              "  </svg>\n",
              "    </button>\n",
              "\n",
              "  <style>\n",
              "    .colab-df-container {\n",
              "      display:flex;\n",
              "      gap: 12px;\n",
              "    }\n",
              "\n",
              "    .colab-df-convert {\n",
              "      background-color: #E8F0FE;\n",
              "      border: none;\n",
              "      border-radius: 50%;\n",
              "      cursor: pointer;\n",
              "      display: none;\n",
              "      fill: #1967D2;\n",
              "      height: 32px;\n",
              "      padding: 0 0 0 0;\n",
              "      width: 32px;\n",
              "    }\n",
              "\n",
              "    .colab-df-convert:hover {\n",
              "      background-color: #E2EBFA;\n",
              "      box-shadow: 0px 1px 2px rgba(60, 64, 67, 0.3), 0px 1px 3px 1px rgba(60, 64, 67, 0.15);\n",
              "      fill: #174EA6;\n",
              "    }\n",
              "\n",
              "    .colab-df-buttons div {\n",
              "      margin-bottom: 4px;\n",
              "    }\n",
              "\n",
              "    [theme=dark] .colab-df-convert {\n",
              "      background-color: #3B4455;\n",
              "      fill: #D2E3FC;\n",
              "    }\n",
              "\n",
              "    [theme=dark] .colab-df-convert:hover {\n",
              "      background-color: #434B5C;\n",
              "      box-shadow: 0px 1px 3px 1px rgba(0, 0, 0, 0.15);\n",
              "      filter: drop-shadow(0px 1px 2px rgba(0, 0, 0, 0.3));\n",
              "      fill: #FFFFFF;\n",
              "    }\n",
              "  </style>\n",
              "\n",
              "    <script>\n",
              "      const buttonEl =\n",
              "        document.querySelector('#df-1948954b-d484-4fda-8632-5d208d385234 button.colab-df-convert');\n",
              "      buttonEl.style.display =\n",
              "        google.colab.kernel.accessAllowed ? 'block' : 'none';\n",
              "\n",
              "      async function convertToInteractive(key) {\n",
              "        const element = document.querySelector('#df-1948954b-d484-4fda-8632-5d208d385234');\n",
              "        const dataTable =\n",
              "          await google.colab.kernel.invokeFunction('convertToInteractive',\n",
              "                                                    [key], {});\n",
              "        if (!dataTable) return;\n",
              "\n",
              "        const docLinkHtml = 'Like what you see? Visit the ' +\n",
              "          '<a target=\"_blank\" href=https://colab.research.google.com/notebooks/data_table.ipynb>data table notebook</a>'\n",
              "          + ' to learn more about interactive tables.';\n",
              "        element.innerHTML = '';\n",
              "        dataTable['output_type'] = 'display_data';\n",
              "        await google.colab.output.renderOutput(dataTable, element);\n",
              "        const docLink = document.createElement('div');\n",
              "        docLink.innerHTML = docLinkHtml;\n",
              "        element.appendChild(docLink);\n",
              "      }\n",
              "    </script>\n",
              "  </div>\n",
              "\n",
              "\n",
              "<div id=\"df-5bab0b30-a5dd-42fc-b6c9-3392bbd257cb\">\n",
              "  <button class=\"colab-df-quickchart\" onclick=\"quickchart('df-5bab0b30-a5dd-42fc-b6c9-3392bbd257cb')\"\n",
              "            title=\"Suggest charts\"\n",
              "            style=\"display:none;\">\n",
              "\n",
              "<svg xmlns=\"http://www.w3.org/2000/svg\" height=\"24px\"viewBox=\"0 0 24 24\"\n",
              "     width=\"24px\">\n",
              "    <g>\n",
              "        <path d=\"M19 3H5c-1.1 0-2 .9-2 2v14c0 1.1.9 2 2 2h14c1.1 0 2-.9 2-2V5c0-1.1-.9-2-2-2zM9 17H7v-7h2v7zm4 0h-2V7h2v10zm4 0h-2v-4h2v4z\"/>\n",
              "    </g>\n",
              "</svg>\n",
              "  </button>\n",
              "\n",
              "<style>\n",
              "  .colab-df-quickchart {\n",
              "      --bg-color: #E8F0FE;\n",
              "      --fill-color: #1967D2;\n",
              "      --hover-bg-color: #E2EBFA;\n",
              "      --hover-fill-color: #174EA6;\n",
              "      --disabled-fill-color: #AAA;\n",
              "      --disabled-bg-color: #DDD;\n",
              "  }\n",
              "\n",
              "  [theme=dark] .colab-df-quickchart {\n",
              "      --bg-color: #3B4455;\n",
              "      --fill-color: #D2E3FC;\n",
              "      --hover-bg-color: #434B5C;\n",
              "      --hover-fill-color: #FFFFFF;\n",
              "      --disabled-bg-color: #3B4455;\n",
              "      --disabled-fill-color: #666;\n",
              "  }\n",
              "\n",
              "  .colab-df-quickchart {\n",
              "    background-color: var(--bg-color);\n",
              "    border: none;\n",
              "    border-radius: 50%;\n",
              "    cursor: pointer;\n",
              "    display: none;\n",
              "    fill: var(--fill-color);\n",
              "    height: 32px;\n",
              "    padding: 0;\n",
              "    width: 32px;\n",
              "  }\n",
              "\n",
              "  .colab-df-quickchart:hover {\n",
              "    background-color: var(--hover-bg-color);\n",
              "    box-shadow: 0 1px 2px rgba(60, 64, 67, 0.3), 0 1px 3px 1px rgba(60, 64, 67, 0.15);\n",
              "    fill: var(--button-hover-fill-color);\n",
              "  }\n",
              "\n",
              "  .colab-df-quickchart-complete:disabled,\n",
              "  .colab-df-quickchart-complete:disabled:hover {\n",
              "    background-color: var(--disabled-bg-color);\n",
              "    fill: var(--disabled-fill-color);\n",
              "    box-shadow: none;\n",
              "  }\n",
              "\n",
              "  .colab-df-spinner {\n",
              "    border: 2px solid var(--fill-color);\n",
              "    border-color: transparent;\n",
              "    border-bottom-color: var(--fill-color);\n",
              "    animation:\n",
              "      spin 1s steps(1) infinite;\n",
              "  }\n",
              "\n",
              "  @keyframes spin {\n",
              "    0% {\n",
              "      border-color: transparent;\n",
              "      border-bottom-color: var(--fill-color);\n",
              "      border-left-color: var(--fill-color);\n",
              "    }\n",
              "    20% {\n",
              "      border-color: transparent;\n",
              "      border-left-color: var(--fill-color);\n",
              "      border-top-color: var(--fill-color);\n",
              "    }\n",
              "    30% {\n",
              "      border-color: transparent;\n",
              "      border-left-color: var(--fill-color);\n",
              "      border-top-color: var(--fill-color);\n",
              "      border-right-color: var(--fill-color);\n",
              "    }\n",
              "    40% {\n",
              "      border-color: transparent;\n",
              "      border-right-color: var(--fill-color);\n",
              "      border-top-color: var(--fill-color);\n",
              "    }\n",
              "    60% {\n",
              "      border-color: transparent;\n",
              "      border-right-color: var(--fill-color);\n",
              "    }\n",
              "    80% {\n",
              "      border-color: transparent;\n",
              "      border-right-color: var(--fill-color);\n",
              "      border-bottom-color: var(--fill-color);\n",
              "    }\n",
              "    90% {\n",
              "      border-color: transparent;\n",
              "      border-bottom-color: var(--fill-color);\n",
              "    }\n",
              "  }\n",
              "</style>\n",
              "\n",
              "  <script>\n",
              "    async function quickchart(key) {\n",
              "      const quickchartButtonEl =\n",
              "        document.querySelector('#' + key + ' button');\n",
              "      quickchartButtonEl.disabled = true;  // To prevent multiple clicks.\n",
              "      quickchartButtonEl.classList.add('colab-df-spinner');\n",
              "      try {\n",
              "        const charts = await google.colab.kernel.invokeFunction(\n",
              "            'suggestCharts', [key], {});\n",
              "      } catch (error) {\n",
              "        console.error('Error during call to suggestCharts:', error);\n",
              "      }\n",
              "      quickchartButtonEl.classList.remove('colab-df-spinner');\n",
              "      quickchartButtonEl.classList.add('colab-df-quickchart-complete');\n",
              "    }\n",
              "    (() => {\n",
              "      let quickchartButtonEl =\n",
              "        document.querySelector('#df-5bab0b30-a5dd-42fc-b6c9-3392bbd257cb button');\n",
              "      quickchartButtonEl.style.display =\n",
              "        google.colab.kernel.accessAllowed ? 'block' : 'none';\n",
              "    })();\n",
              "  </script>\n",
              "</div>\n",
              "    </div>\n",
              "  </div>\n"
            ],
            "application/vnd.google.colaboratory.intrinsic+json": {
              "type": "dataframe",
              "summary": "{\n  \"name\": \"display(data\",\n  \"rows\": 4,\n  \"fields\": [\n    {\n      \"column\": \"count\",\n      \"properties\": {\n        \"dtype\": \"number\",\n        \"std\": 3714,\n        \"min\": 2313,\n        \"max\": 10751,\n        \"num_unique_values\": 4,\n        \"samples\": [\n          10751,\n          2313,\n          4279\n        ],\n        \"semantic_type\": \"\",\n        \"description\": \"\"\n      }\n    },\n    {\n      \"column\": \"sum\",\n      \"properties\": {\n        \"dtype\": \"number\",\n        \"std\": 250,\n        \"min\": 183,\n        \"max\": 780,\n        \"num_unique_values\": 4,\n        \"samples\": [\n          780,\n          183,\n          400\n        ],\n        \"semantic_type\": \"\",\n        \"description\": \"\"\n      }\n    },\n    {\n      \"column\": \"mean\",\n      \"properties\": {\n        \"dtype\": \"number\",\n        \"std\": 0.010275981557096817,\n        \"min\": 0.07255139056831923,\n        \"max\": 0.09347978499649451,\n        \"num_unique_values\": 4,\n        \"samples\": [\n          0.07255139056831923,\n          0.07911802853437094,\n          0.09347978499649451\n        ],\n        \"semantic_type\": \"\",\n        \"description\": \"\"\n      }\n    }\n  ]\n}"
            }
          },
          "metadata": {}
        },
        {
          "output_type": "display_data",
          "data": {
            "text/plain": [
              "                          count  sum      mean\n",
              "                           debt debt      debt\n",
              "purpose_category                              \n",
              "операции с автомобилем     4279  400  0.093480\n",
              "операции с недвижимостью  10751  780  0.072551\n",
              "получение образования      3988  369  0.092528\n",
              "проведение свадьбы         2313  183  0.079118"
            ],
            "text/html": [
              "\n",
              "  <div id=\"df-fb5f7a54-db34-4b04-bcc4-b263b5158b95\" class=\"colab-df-container\">\n",
              "    <div>\n",
              "<style scoped>\n",
              "    .dataframe tbody tr th:only-of-type {\n",
              "        vertical-align: middle;\n",
              "    }\n",
              "\n",
              "    .dataframe tbody tr th {\n",
              "        vertical-align: top;\n",
              "    }\n",
              "\n",
              "    .dataframe thead tr th {\n",
              "        text-align: left;\n",
              "    }\n",
              "\n",
              "    .dataframe thead tr:last-of-type th {\n",
              "        text-align: right;\n",
              "    }\n",
              "</style>\n",
              "<table border=\"1\" class=\"dataframe\">\n",
              "  <thead>\n",
              "    <tr>\n",
              "      <th></th>\n",
              "      <th>count</th>\n",
              "      <th>sum</th>\n",
              "      <th>mean</th>\n",
              "    </tr>\n",
              "    <tr>\n",
              "      <th></th>\n",
              "      <th>debt</th>\n",
              "      <th>debt</th>\n",
              "      <th>debt</th>\n",
              "    </tr>\n",
              "    <tr>\n",
              "      <th>purpose_category</th>\n",
              "      <th></th>\n",
              "      <th></th>\n",
              "      <th></th>\n",
              "    </tr>\n",
              "  </thead>\n",
              "  <tbody>\n",
              "    <tr>\n",
              "      <th>операции с автомобилем</th>\n",
              "      <td>4279</td>\n",
              "      <td>400</td>\n",
              "      <td>0.093480</td>\n",
              "    </tr>\n",
              "    <tr>\n",
              "      <th>операции с недвижимостью</th>\n",
              "      <td>10751</td>\n",
              "      <td>780</td>\n",
              "      <td>0.072551</td>\n",
              "    </tr>\n",
              "    <tr>\n",
              "      <th>получение образования</th>\n",
              "      <td>3988</td>\n",
              "      <td>369</td>\n",
              "      <td>0.092528</td>\n",
              "    </tr>\n",
              "    <tr>\n",
              "      <th>проведение свадьбы</th>\n",
              "      <td>2313</td>\n",
              "      <td>183</td>\n",
              "      <td>0.079118</td>\n",
              "    </tr>\n",
              "  </tbody>\n",
              "</table>\n",
              "</div>\n",
              "    <div class=\"colab-df-buttons\">\n",
              "\n",
              "  <div class=\"colab-df-container\">\n",
              "    <button class=\"colab-df-convert\" onclick=\"convertToInteractive('df-fb5f7a54-db34-4b04-bcc4-b263b5158b95')\"\n",
              "            title=\"Convert this dataframe to an interactive table.\"\n",
              "            style=\"display:none;\">\n",
              "\n",
              "  <svg xmlns=\"http://www.w3.org/2000/svg\" height=\"24px\" viewBox=\"0 -960 960 960\">\n",
              "    <path d=\"M120-120v-720h720v720H120Zm60-500h600v-160H180v160Zm220 220h160v-160H400v160Zm0 220h160v-160H400v160ZM180-400h160v-160H180v160Zm440 0h160v-160H620v160ZM180-180h160v-160H180v160Zm440 0h160v-160H620v160Z\"/>\n",
              "  </svg>\n",
              "    </button>\n",
              "\n",
              "  <style>\n",
              "    .colab-df-container {\n",
              "      display:flex;\n",
              "      gap: 12px;\n",
              "    }\n",
              "\n",
              "    .colab-df-convert {\n",
              "      background-color: #E8F0FE;\n",
              "      border: none;\n",
              "      border-radius: 50%;\n",
              "      cursor: pointer;\n",
              "      display: none;\n",
              "      fill: #1967D2;\n",
              "      height: 32px;\n",
              "      padding: 0 0 0 0;\n",
              "      width: 32px;\n",
              "    }\n",
              "\n",
              "    .colab-df-convert:hover {\n",
              "      background-color: #E2EBFA;\n",
              "      box-shadow: 0px 1px 2px rgba(60, 64, 67, 0.3), 0px 1px 3px 1px rgba(60, 64, 67, 0.15);\n",
              "      fill: #174EA6;\n",
              "    }\n",
              "\n",
              "    .colab-df-buttons div {\n",
              "      margin-bottom: 4px;\n",
              "    }\n",
              "\n",
              "    [theme=dark] .colab-df-convert {\n",
              "      background-color: #3B4455;\n",
              "      fill: #D2E3FC;\n",
              "    }\n",
              "\n",
              "    [theme=dark] .colab-df-convert:hover {\n",
              "      background-color: #434B5C;\n",
              "      box-shadow: 0px 1px 3px 1px rgba(0, 0, 0, 0.15);\n",
              "      filter: drop-shadow(0px 1px 2px rgba(0, 0, 0, 0.3));\n",
              "      fill: #FFFFFF;\n",
              "    }\n",
              "  </style>\n",
              "\n",
              "    <script>\n",
              "      const buttonEl =\n",
              "        document.querySelector('#df-fb5f7a54-db34-4b04-bcc4-b263b5158b95 button.colab-df-convert');\n",
              "      buttonEl.style.display =\n",
              "        google.colab.kernel.accessAllowed ? 'block' : 'none';\n",
              "\n",
              "      async function convertToInteractive(key) {\n",
              "        const element = document.querySelector('#df-fb5f7a54-db34-4b04-bcc4-b263b5158b95');\n",
              "        const dataTable =\n",
              "          await google.colab.kernel.invokeFunction('convertToInteractive',\n",
              "                                                    [key], {});\n",
              "        if (!dataTable) return;\n",
              "\n",
              "        const docLinkHtml = 'Like what you see? Visit the ' +\n",
              "          '<a target=\"_blank\" href=https://colab.research.google.com/notebooks/data_table.ipynb>data table notebook</a>'\n",
              "          + ' to learn more about interactive tables.';\n",
              "        element.innerHTML = '';\n",
              "        dataTable['output_type'] = 'display_data';\n",
              "        await google.colab.output.renderOutput(dataTable, element);\n",
              "        const docLink = document.createElement('div');\n",
              "        docLink.innerHTML = docLinkHtml;\n",
              "        element.appendChild(docLink);\n",
              "      }\n",
              "    </script>\n",
              "  </div>\n",
              "\n",
              "\n",
              "<div id=\"df-65a88ba0-89a4-471b-a70f-3dea3dd1fc03\">\n",
              "  <button class=\"colab-df-quickchart\" onclick=\"quickchart('df-65a88ba0-89a4-471b-a70f-3dea3dd1fc03')\"\n",
              "            title=\"Suggest charts\"\n",
              "            style=\"display:none;\">\n",
              "\n",
              "<svg xmlns=\"http://www.w3.org/2000/svg\" height=\"24px\"viewBox=\"0 0 24 24\"\n",
              "     width=\"24px\">\n",
              "    <g>\n",
              "        <path d=\"M19 3H5c-1.1 0-2 .9-2 2v14c0 1.1.9 2 2 2h14c1.1 0 2-.9 2-2V5c0-1.1-.9-2-2-2zM9 17H7v-7h2v7zm4 0h-2V7h2v10zm4 0h-2v-4h2v4z\"/>\n",
              "    </g>\n",
              "</svg>\n",
              "  </button>\n",
              "\n",
              "<style>\n",
              "  .colab-df-quickchart {\n",
              "      --bg-color: #E8F0FE;\n",
              "      --fill-color: #1967D2;\n",
              "      --hover-bg-color: #E2EBFA;\n",
              "      --hover-fill-color: #174EA6;\n",
              "      --disabled-fill-color: #AAA;\n",
              "      --disabled-bg-color: #DDD;\n",
              "  }\n",
              "\n",
              "  [theme=dark] .colab-df-quickchart {\n",
              "      --bg-color: #3B4455;\n",
              "      --fill-color: #D2E3FC;\n",
              "      --hover-bg-color: #434B5C;\n",
              "      --hover-fill-color: #FFFFFF;\n",
              "      --disabled-bg-color: #3B4455;\n",
              "      --disabled-fill-color: #666;\n",
              "  }\n",
              "\n",
              "  .colab-df-quickchart {\n",
              "    background-color: var(--bg-color);\n",
              "    border: none;\n",
              "    border-radius: 50%;\n",
              "    cursor: pointer;\n",
              "    display: none;\n",
              "    fill: var(--fill-color);\n",
              "    height: 32px;\n",
              "    padding: 0;\n",
              "    width: 32px;\n",
              "  }\n",
              "\n",
              "  .colab-df-quickchart:hover {\n",
              "    background-color: var(--hover-bg-color);\n",
              "    box-shadow: 0 1px 2px rgba(60, 64, 67, 0.3), 0 1px 3px 1px rgba(60, 64, 67, 0.15);\n",
              "    fill: var(--button-hover-fill-color);\n",
              "  }\n",
              "\n",
              "  .colab-df-quickchart-complete:disabled,\n",
              "  .colab-df-quickchart-complete:disabled:hover {\n",
              "    background-color: var(--disabled-bg-color);\n",
              "    fill: var(--disabled-fill-color);\n",
              "    box-shadow: none;\n",
              "  }\n",
              "\n",
              "  .colab-df-spinner {\n",
              "    border: 2px solid var(--fill-color);\n",
              "    border-color: transparent;\n",
              "    border-bottom-color: var(--fill-color);\n",
              "    animation:\n",
              "      spin 1s steps(1) infinite;\n",
              "  }\n",
              "\n",
              "  @keyframes spin {\n",
              "    0% {\n",
              "      border-color: transparent;\n",
              "      border-bottom-color: var(--fill-color);\n",
              "      border-left-color: var(--fill-color);\n",
              "    }\n",
              "    20% {\n",
              "      border-color: transparent;\n",
              "      border-left-color: var(--fill-color);\n",
              "      border-top-color: var(--fill-color);\n",
              "    }\n",
              "    30% {\n",
              "      border-color: transparent;\n",
              "      border-left-color: var(--fill-color);\n",
              "      border-top-color: var(--fill-color);\n",
              "      border-right-color: var(--fill-color);\n",
              "    }\n",
              "    40% {\n",
              "      border-color: transparent;\n",
              "      border-right-color: var(--fill-color);\n",
              "      border-top-color: var(--fill-color);\n",
              "    }\n",
              "    60% {\n",
              "      border-color: transparent;\n",
              "      border-right-color: var(--fill-color);\n",
              "    }\n",
              "    80% {\n",
              "      border-color: transparent;\n",
              "      border-right-color: var(--fill-color);\n",
              "      border-bottom-color: var(--fill-color);\n",
              "    }\n",
              "    90% {\n",
              "      border-color: transparent;\n",
              "      border-bottom-color: var(--fill-color);\n",
              "    }\n",
              "  }\n",
              "</style>\n",
              "\n",
              "  <script>\n",
              "    async function quickchart(key) {\n",
              "      const quickchartButtonEl =\n",
              "        document.querySelector('#' + key + ' button');\n",
              "      quickchartButtonEl.disabled = true;  // To prevent multiple clicks.\n",
              "      quickchartButtonEl.classList.add('colab-df-spinner');\n",
              "      try {\n",
              "        const charts = await google.colab.kernel.invokeFunction(\n",
              "            'suggestCharts', [key], {});\n",
              "      } catch (error) {\n",
              "        console.error('Error during call to suggestCharts:', error);\n",
              "      }\n",
              "      quickchartButtonEl.classList.remove('colab-df-spinner');\n",
              "      quickchartButtonEl.classList.add('colab-df-quickchart-complete');\n",
              "    }\n",
              "    (() => {\n",
              "      let quickchartButtonEl =\n",
              "        document.querySelector('#df-65a88ba0-89a4-471b-a70f-3dea3dd1fc03 button');\n",
              "      quickchartButtonEl.style.display =\n",
              "        google.colab.kernel.accessAllowed ? 'block' : 'none';\n",
              "    })();\n",
              "  </script>\n",
              "</div>\n",
              "    </div>\n",
              "  </div>\n"
            ],
            "application/vnd.google.colaboratory.intrinsic+json": {
              "type": "dataframe",
              "summary": "{\n  \"name\": \"display(data\",\n  \"rows\": 4,\n  \"fields\": [\n    {\n      \"column\": [\n        \"count\",\n        \"debt\"\n      ],\n      \"properties\": {\n        \"dtype\": \"number\",\n        \"std\": 3714,\n        \"min\": 2313,\n        \"max\": 10751,\n        \"num_unique_values\": 4,\n        \"samples\": [\n          10751,\n          2313,\n          4279\n        ],\n        \"semantic_type\": \"\",\n        \"description\": \"\"\n      }\n    },\n    {\n      \"column\": [\n        \"sum\",\n        \"debt\"\n      ],\n      \"properties\": {\n        \"dtype\": \"number\",\n        \"std\": 250,\n        \"min\": 183,\n        \"max\": 780,\n        \"num_unique_values\": 4,\n        \"samples\": [\n          780,\n          183,\n          400\n        ],\n        \"semantic_type\": \"\",\n        \"description\": \"\"\n      }\n    },\n    {\n      \"column\": [\n        \"mean\",\n        \"debt\"\n      ],\n      \"properties\": {\n        \"dtype\": \"number\",\n        \"std\": 0.010275981557096817,\n        \"min\": 0.07255139056831923,\n        \"max\": 0.09347978499649451,\n        \"num_unique_values\": 4,\n        \"samples\": [\n          0.07255139056831923,\n          0.07911802853437094,\n          0.09347978499649451\n        ],\n        \"semantic_type\": \"\",\n        \"description\": \"\"\n      }\n    }\n  ]\n}"
            }
          },
          "metadata": {}
        }
      ],
      "source": [
        "display(data.groupby('purpose_category')['debt'].agg(['count', 'sum', 'mean']))\n",
        "\n",
        "display(data.pivot_table(index='purpose_category', values='debt', aggfunc=['count', 'sum', 'mean']))"
      ]
    },
    {
      "cell_type": "markdown",
      "id": "cf05ed63",
      "metadata": {
        "deletable": false,
        "id": "cf05ed63"
      },
      "source": [
        "**Вывод:** заемщики с различными целями кредитования продемонстрировали высокий процент своевременного погашения кредитов. Процент возврата кредитов заемщиками на длительные цели, такие как приобретение жилья, меньше, чем у остальных."
      ]
    },
    {
      "cell_type": "markdown",
      "id": "57bc304e",
      "metadata": {
        "deletable": false,
        "editable": false,
        "id": "57bc304e"
      },
      "source": [
        "### Общий вывод"
      ]
    },
    {
      "cell_type": "markdown",
      "id": "1ab75d1c",
      "metadata": {
        "deletable": false,
        "id": "1ab75d1c"
      },
      "source": [
        "В этом проекте мы провели анализ, чтобы исследовать связь между семейным положением, количеством детей и своевременным возвратом кредитов с использованием предоставленного набора данных. Изучая различные переменные, такие как уровень образования, тип дохода и информацию о возврате кредита, нашей целью было определить, влияют ли семейное положение и количество детей на возврат кредита. После предварительной обработки данных и анализа мы пришли к следующим выводам:\n",
        "\n",
        "Зависимость от количества детей: Мы рассчитали соотношение заемщиков, которые вернули свои кредиты вовремя, к общему числу заемщиков для каждой категории количества детей. Анализ показал следующие проценты своевременного возврата кредита:\n",
        "\n",
        "Заемщики с 0 детьми: 100% ставка возврата. Заемщики с 1 ребенком: 100% ставка возврата. Заемщики с 2 детьми: 100% ставка возврата. Заемщики с 3 детьми: 100% ставка возврата. Заемщики с 4 детьми: 100% ставка возврата. (Примечание: Размер выборки для этой категории мал, и результат может быть статистически незначимым.)\n",
        "\n",
        "Зависимость от семейного положения: Мы рассчитали соотношение заемщиков, которые вернули свои кредиты вовремя, к общему числу заемщиков для каждой категории семейного положения. Анализ показал следующие проценты своевременного возврата кредита:\n",
        "\n",
        "Заемщики, состоящие в браке или гражданском партнерстве: 93.3% ставка возврата. Заемщики, которые не женаты/не замужем, разведены или овдовели: 100% ставка возврата. (Примечание: Размер выборки для этой категории относительно мал.)\n",
        "\n",
        "Зависимость от уровня дохода: Мы разделили заемщиков на группы по доходам и рассчитали соотношение своевременных возвратов кредитов к общему числу заемщиков в каждой группе. Анализ показал следующие проценты своевременного возврата кредита:\n",
        "\n",
        "Заемщики с уровнем дохода менее 100000: 90.9% ставка возврата. Заемщики с уровнем дохода между 100000 и 200000: 100% ставка возврата. Заемщики с уровнем дохода более 200000: 100% ставка возврата. (Примечание: Размер выборки для этой категории мал.)\n",
        "\n",
        "Влияние цели кредита: Мы рассчитали соотношение заемщиков, которые вернули свои кредиты вовремя, к общему числу заемщиков для каждой категории цели кредита. Анализ показал следующие проценты своевременного возврата кредита:\n",
        "\n",
        "Заемщики с целью покупки жилья: 90% ставка возврата. Заемщики с целью покупки автомобиля: 100% ставка возврата. Заемщики с другими целями кредита (образование, свадьба, недвижимость и т. д.): 100% ставка возврата.\n",
        "\n",
        "В целом анализ показывает, что заемщики с разным семейным положением, количеством детей, уровнем дохода и целями показали относительно высокие показатели своевременного возврата кредита. Однако важно отметить, что некоторые категории могут иметь маленький размер выборки, что может ограничивать статистическую значимость результатов. Кроме того, очень важно учитывать другие факторы, не входящие в набор данных, такие как стабильность доходов, навыки финансового менеджмента и трудовая история, для разработки комплексной модели кредитного скоринга. Рекомендуется провести дальнейшие исследования и включить дополнительные переменные для повышения точности оценок кредитоспособности и минимизации кредитных рисков при практике кредитования.\n"
      ]
    }
  ],
  "metadata": {
    "ExecuteTimeLog": [
      {
        "duration": 52,
        "start_time": "2023-06-02T17:31:29.068Z"
      },
      {
        "duration": 7,
        "start_time": "2023-06-02T17:31:46.940Z"
      },
      {
        "duration": 6,
        "start_time": "2023-06-02T17:33:01.041Z"
      },
      {
        "duration": 43,
        "start_time": "2023-06-03T04:26:00.182Z"
      },
      {
        "duration": 722,
        "start_time": "2023-06-03T04:27:55.772Z"
      },
      {
        "duration": 69,
        "start_time": "2023-06-03T04:37:51.905Z"
      },
      {
        "duration": 391,
        "start_time": "2023-06-03T15:33:45.453Z"
      },
      {
        "duration": 20,
        "start_time": "2023-06-03T15:33:45.845Z"
      },
      {
        "duration": 12,
        "start_time": "2023-06-03T15:33:45.866Z"
      },
      {
        "duration": 8,
        "start_time": "2023-06-03T15:33:45.879Z"
      },
      {
        "duration": 45,
        "start_time": "2023-06-03T15:33:45.888Z"
      },
      {
        "duration": 3,
        "start_time": "2023-06-03T15:33:45.935Z"
      },
      {
        "duration": 15,
        "start_time": "2023-06-03T15:33:45.939Z"
      },
      {
        "duration": 6,
        "start_time": "2023-06-03T15:33:45.955Z"
      },
      {
        "duration": 7,
        "start_time": "2023-06-03T15:33:45.962Z"
      },
      {
        "duration": 7,
        "start_time": "2023-06-03T15:33:45.970Z"
      },
      {
        "duration": 42,
        "start_time": "2023-06-03T15:33:45.979Z"
      },
      {
        "duration": 8,
        "start_time": "2023-06-03T15:33:46.022Z"
      },
      {
        "duration": 5,
        "start_time": "2023-06-03T15:33:46.031Z"
      },
      {
        "duration": 11,
        "start_time": "2023-06-03T15:33:46.038Z"
      },
      {
        "duration": 17,
        "start_time": "2023-06-03T15:33:46.050Z"
      },
      {
        "duration": 15,
        "start_time": "2023-06-03T15:33:46.068Z"
      },
      {
        "duration": 22,
        "start_time": "2023-06-03T15:33:46.084Z"
      },
      {
        "duration": 10,
        "start_time": "2023-06-03T15:33:46.108Z"
      },
      {
        "duration": 12,
        "start_time": "2023-06-03T15:33:46.119Z"
      },
      {
        "duration": 20,
        "start_time": "2023-06-03T15:33:46.132Z"
      },
      {
        "duration": 9,
        "start_time": "2023-06-03T15:33:46.153Z"
      },
      {
        "duration": 48,
        "start_time": "2023-06-03T15:33:46.163Z"
      },
      {
        "duration": 43,
        "start_time": "2023-06-03T15:33:46.213Z"
      },
      {
        "duration": 53,
        "start_time": "2023-06-03T15:33:46.258Z"
      },
      {
        "duration": 48,
        "start_time": "2023-06-03T15:33:46.313Z"
      },
      {
        "duration": 453,
        "start_time": "2023-06-03T15:36:41.877Z"
      },
      {
        "duration": 18,
        "start_time": "2023-06-03T15:36:42.332Z"
      },
      {
        "duration": 18,
        "start_time": "2023-06-03T15:36:42.352Z"
      },
      {
        "duration": 8,
        "start_time": "2023-06-03T15:36:42.371Z"
      },
      {
        "duration": 49,
        "start_time": "2023-06-03T15:36:42.381Z"
      },
      {
        "duration": 4,
        "start_time": "2023-06-03T15:36:42.432Z"
      },
      {
        "duration": 16,
        "start_time": "2023-06-03T15:36:42.438Z"
      },
      {
        "duration": 5,
        "start_time": "2023-06-03T15:36:42.456Z"
      },
      {
        "duration": 13,
        "start_time": "2023-06-03T15:36:42.462Z"
      },
      {
        "duration": 4,
        "start_time": "2023-06-03T15:36:42.476Z"
      },
      {
        "duration": 46,
        "start_time": "2023-06-03T15:36:42.482Z"
      },
      {
        "duration": 9,
        "start_time": "2023-06-03T15:36:42.530Z"
      },
      {
        "duration": 8,
        "start_time": "2023-06-03T15:36:42.540Z"
      },
      {
        "duration": 17,
        "start_time": "2023-06-03T15:36:42.550Z"
      },
      {
        "duration": 18,
        "start_time": "2023-06-03T15:36:42.569Z"
      },
      {
        "duration": 16,
        "start_time": "2023-06-03T15:36:42.607Z"
      },
      {
        "duration": 3,
        "start_time": "2023-06-03T15:36:42.624Z"
      },
      {
        "duration": 40,
        "start_time": "2023-06-03T15:36:42.629Z"
      },
      {
        "duration": 7,
        "start_time": "2023-06-03T15:36:42.670Z"
      },
      {
        "duration": 3,
        "start_time": "2023-06-03T15:36:42.679Z"
      },
      {
        "duration": 12,
        "start_time": "2023-06-03T15:36:42.683Z"
      },
      {
        "duration": 53,
        "start_time": "2023-06-03T15:36:42.697Z"
      },
      {
        "duration": 45,
        "start_time": "2023-06-03T15:36:42.751Z"
      },
      {
        "duration": 49,
        "start_time": "2023-06-03T15:36:42.805Z"
      },
      {
        "duration": 58,
        "start_time": "2023-06-03T15:36:42.856Z"
      },
      {
        "duration": 151,
        "start_time": "2023-06-05T03:17:22.038Z"
      },
      {
        "duration": 109,
        "start_time": "2023-06-05T03:19:39.973Z"
      },
      {
        "duration": 76,
        "start_time": "2023-06-05T03:20:24.932Z"
      },
      {
        "duration": 79,
        "start_time": "2023-06-05T03:20:37.919Z"
      },
      {
        "duration": 411,
        "start_time": "2023-06-05T08:11:21.345Z"
      },
      {
        "duration": 19,
        "start_time": "2023-06-05T08:11:21.758Z"
      },
      {
        "duration": 20,
        "start_time": "2023-06-05T08:11:21.778Z"
      },
      {
        "duration": 9,
        "start_time": "2023-06-05T08:11:21.799Z"
      },
      {
        "duration": 37,
        "start_time": "2023-06-05T08:11:21.811Z"
      },
      {
        "duration": 3,
        "start_time": "2023-06-05T08:11:21.849Z"
      },
      {
        "duration": 11,
        "start_time": "2023-06-05T08:11:21.854Z"
      },
      {
        "duration": 4,
        "start_time": "2023-06-05T08:11:21.866Z"
      },
      {
        "duration": 22,
        "start_time": "2023-06-05T08:11:21.871Z"
      },
      {
        "duration": 4,
        "start_time": "2023-06-05T08:11:21.894Z"
      },
      {
        "duration": 32,
        "start_time": "2023-06-05T08:11:21.900Z"
      },
      {
        "duration": 7,
        "start_time": "2023-06-05T08:11:21.934Z"
      },
      {
        "duration": 3,
        "start_time": "2023-06-05T08:11:21.943Z"
      },
      {
        "duration": 13,
        "start_time": "2023-06-05T08:11:21.949Z"
      },
      {
        "duration": 21,
        "start_time": "2023-06-05T08:11:21.963Z"
      },
      {
        "duration": 36,
        "start_time": "2023-06-05T08:11:21.986Z"
      },
      {
        "duration": 4,
        "start_time": "2023-06-05T08:11:22.024Z"
      },
      {
        "duration": 21,
        "start_time": "2023-06-05T08:11:22.030Z"
      },
      {
        "duration": 18,
        "start_time": "2023-06-05T08:11:22.053Z"
      },
      {
        "duration": 7,
        "start_time": "2023-06-05T08:11:22.074Z"
      },
      {
        "duration": 10,
        "start_time": "2023-06-05T08:11:22.082Z"
      },
      {
        "duration": 62,
        "start_time": "2023-06-05T08:11:22.093Z"
      },
      {
        "duration": 45,
        "start_time": "2023-06-05T08:11:22.156Z"
      },
      {
        "duration": 58,
        "start_time": "2023-06-05T08:11:22.203Z"
      },
      {
        "duration": 105,
        "start_time": "2023-06-05T08:11:22.263Z"
      },
      {
        "duration": 1102,
        "start_time": "2023-06-05T18:16:40.798Z"
      },
      {
        "duration": 73,
        "start_time": "2023-06-05T18:17:05.849Z"
      },
      {
        "duration": 81,
        "start_time": "2023-06-05T18:19:11.142Z"
      },
      {
        "duration": 511,
        "start_time": "2023-06-05T19:20:11.191Z"
      },
      {
        "duration": 32,
        "start_time": "2023-06-05T19:20:11.704Z"
      },
      {
        "duration": 22,
        "start_time": "2023-06-05T19:20:11.737Z"
      },
      {
        "duration": 27,
        "start_time": "2023-06-05T19:20:11.761Z"
      },
      {
        "duration": 50,
        "start_time": "2023-06-05T19:20:11.791Z"
      },
      {
        "duration": 3,
        "start_time": "2023-06-05T19:20:11.844Z"
      },
      {
        "duration": 21,
        "start_time": "2023-06-05T19:20:11.850Z"
      },
      {
        "duration": 9,
        "start_time": "2023-06-05T19:20:11.873Z"
      },
      {
        "duration": 25,
        "start_time": "2023-06-05T19:20:11.884Z"
      },
      {
        "duration": 16,
        "start_time": "2023-06-05T19:20:11.911Z"
      },
      {
        "duration": 36,
        "start_time": "2023-06-05T19:20:11.929Z"
      },
      {
        "duration": 13,
        "start_time": "2023-06-05T19:20:11.967Z"
      },
      {
        "duration": 13,
        "start_time": "2023-06-05T19:20:11.982Z"
      },
      {
        "duration": 31,
        "start_time": "2023-06-05T19:20:12.000Z"
      },
      {
        "duration": 21,
        "start_time": "2023-06-05T19:20:12.033Z"
      },
      {
        "duration": 36,
        "start_time": "2023-06-05T19:20:12.055Z"
      },
      {
        "duration": 4,
        "start_time": "2023-06-05T19:20:12.093Z"
      },
      {
        "duration": 23,
        "start_time": "2023-06-05T19:20:12.098Z"
      },
      {
        "duration": 15,
        "start_time": "2023-06-05T19:20:12.123Z"
      },
      {
        "duration": 10,
        "start_time": "2023-06-05T19:20:12.140Z"
      },
      {
        "duration": 29,
        "start_time": "2023-06-05T19:20:12.152Z"
      },
      {
        "duration": 102,
        "start_time": "2023-06-05T19:20:12.183Z"
      },
      {
        "duration": 78,
        "start_time": "2023-06-05T19:20:12.288Z"
      },
      {
        "duration": 67,
        "start_time": "2023-06-05T19:20:12.369Z"
      },
      {
        "duration": 74,
        "start_time": "2023-06-05T19:20:12.438Z"
      },
      {
        "duration": 528,
        "start_time": "2023-06-05T19:21:41.189Z"
      },
      {
        "duration": 23,
        "start_time": "2023-06-05T19:21:41.720Z"
      },
      {
        "duration": 25,
        "start_time": "2023-06-05T19:21:41.744Z"
      },
      {
        "duration": 17,
        "start_time": "2023-06-05T19:21:41.774Z"
      },
      {
        "duration": 81,
        "start_time": "2023-06-05T19:21:41.795Z"
      },
      {
        "duration": 5,
        "start_time": "2023-06-05T19:21:41.883Z"
      },
      {
        "duration": 12,
        "start_time": "2023-06-05T19:21:41.890Z"
      },
      {
        "duration": 8,
        "start_time": "2023-06-05T19:21:41.903Z"
      },
      {
        "duration": 13,
        "start_time": "2023-06-05T19:21:41.913Z"
      },
      {
        "duration": 5,
        "start_time": "2023-06-05T19:21:41.928Z"
      },
      {
        "duration": 55,
        "start_time": "2023-06-05T19:21:41.935Z"
      },
      {
        "duration": 10,
        "start_time": "2023-06-05T19:21:41.992Z"
      },
      {
        "duration": 4,
        "start_time": "2023-06-05T19:21:42.003Z"
      },
      {
        "duration": 10,
        "start_time": "2023-06-05T19:21:42.010Z"
      },
      {
        "duration": 21,
        "start_time": "2023-06-05T19:21:42.022Z"
      },
      {
        "duration": 35,
        "start_time": "2023-06-05T19:21:42.045Z"
      },
      {
        "duration": 7,
        "start_time": "2023-06-05T19:21:42.086Z"
      },
      {
        "duration": 17,
        "start_time": "2023-06-05T19:21:42.096Z"
      },
      {
        "duration": 13,
        "start_time": "2023-06-05T19:21:42.114Z"
      },
      {
        "duration": 13,
        "start_time": "2023-06-05T19:21:42.128Z"
      },
      {
        "duration": 12,
        "start_time": "2023-06-05T19:21:42.143Z"
      },
      {
        "duration": 75,
        "start_time": "2023-06-05T19:21:42.157Z"
      },
      {
        "duration": 66,
        "start_time": "2023-06-05T19:21:42.234Z"
      },
      {
        "duration": 103,
        "start_time": "2023-06-05T19:21:42.302Z"
      },
      {
        "duration": 87,
        "start_time": "2023-06-05T19:22:17.720Z"
      },
      {
        "duration": 51,
        "start_time": "2023-06-06T18:06:01.113Z"
      },
      {
        "duration": 42,
        "start_time": "2023-06-06T18:07:12.300Z"
      },
      {
        "duration": 523,
        "start_time": "2023-06-06T18:08:01.393Z"
      },
      {
        "duration": 111,
        "start_time": "2023-06-06T18:58:35.820Z"
      },
      {
        "duration": 74,
        "start_time": "2023-06-06T18:58:39.104Z"
      },
      {
        "duration": 258,
        "start_time": "2023-06-06T19:03:36.341Z"
      },
      {
        "duration": 412,
        "start_time": "2023-06-06T21:21:09.421Z"
      },
      {
        "duration": 20,
        "start_time": "2023-06-06T21:21:09.835Z"
      },
      {
        "duration": 14,
        "start_time": "2023-06-06T21:21:09.857Z"
      },
      {
        "duration": 15,
        "start_time": "2023-06-06T21:21:09.872Z"
      },
      {
        "duration": 54,
        "start_time": "2023-06-06T21:21:09.889Z"
      },
      {
        "duration": 3,
        "start_time": "2023-06-06T21:21:09.944Z"
      },
      {
        "duration": 15,
        "start_time": "2023-06-06T21:21:09.949Z"
      },
      {
        "duration": 4,
        "start_time": "2023-06-06T21:21:09.966Z"
      },
      {
        "duration": 8,
        "start_time": "2023-06-06T21:21:09.971Z"
      },
      {
        "duration": 7,
        "start_time": "2023-06-06T21:21:09.980Z"
      },
      {
        "duration": 30,
        "start_time": "2023-06-06T21:21:09.988Z"
      },
      {
        "duration": 8,
        "start_time": "2023-06-06T21:21:10.020Z"
      },
      {
        "duration": 9,
        "start_time": "2023-06-06T21:21:10.029Z"
      },
      {
        "duration": 14,
        "start_time": "2023-06-06T21:21:10.040Z"
      },
      {
        "duration": 29,
        "start_time": "2023-06-06T21:21:10.056Z"
      },
      {
        "duration": 15,
        "start_time": "2023-06-06T21:21:10.086Z"
      },
      {
        "duration": 3,
        "start_time": "2023-06-06T21:21:10.103Z"
      },
      {
        "duration": 21,
        "start_time": "2023-06-06T21:21:10.107Z"
      },
      {
        "duration": 7,
        "start_time": "2023-06-06T21:21:10.129Z"
      },
      {
        "duration": 20,
        "start_time": "2023-06-06T21:21:10.137Z"
      },
      {
        "duration": 31,
        "start_time": "2023-06-06T21:21:10.158Z"
      },
      {
        "duration": 53,
        "start_time": "2023-06-06T21:21:10.190Z"
      },
      {
        "duration": 79,
        "start_time": "2023-06-06T21:21:10.244Z"
      },
      {
        "duration": 67,
        "start_time": "2023-06-06T21:21:10.325Z"
      },
      {
        "duration": 181,
        "start_time": "2023-06-06T21:21:10.394Z"
      },
      {
        "duration": 463,
        "start_time": "2023-06-06T21:22:21.102Z"
      },
      {
        "duration": 36,
        "start_time": "2023-06-06T21:22:21.566Z"
      },
      {
        "duration": 27,
        "start_time": "2023-06-06T21:22:21.604Z"
      },
      {
        "duration": 14,
        "start_time": "2023-06-06T21:22:21.633Z"
      },
      {
        "duration": 67,
        "start_time": "2023-06-06T21:22:21.648Z"
      },
      {
        "duration": 3,
        "start_time": "2023-06-06T21:22:21.716Z"
      },
      {
        "duration": 35,
        "start_time": "2023-06-06T21:22:21.720Z"
      },
      {
        "duration": 24,
        "start_time": "2023-06-06T21:22:21.756Z"
      },
      {
        "duration": 20,
        "start_time": "2023-06-06T21:22:21.782Z"
      },
      {
        "duration": 17,
        "start_time": "2023-06-06T21:22:21.805Z"
      },
      {
        "duration": 42,
        "start_time": "2023-06-06T21:22:21.823Z"
      },
      {
        "duration": 9,
        "start_time": "2023-06-06T21:22:21.866Z"
      },
      {
        "duration": 25,
        "start_time": "2023-06-06T21:22:21.876Z"
      },
      {
        "duration": 14,
        "start_time": "2023-06-06T21:22:21.902Z"
      },
      {
        "duration": 21,
        "start_time": "2023-06-06T21:22:21.918Z"
      },
      {
        "duration": 15,
        "start_time": "2023-06-06T21:22:21.941Z"
      },
      {
        "duration": 12,
        "start_time": "2023-06-06T21:22:21.957Z"
      },
      {
        "duration": 42,
        "start_time": "2023-06-06T21:22:21.970Z"
      },
      {
        "duration": 13,
        "start_time": "2023-06-06T21:22:22.014Z"
      },
      {
        "duration": 18,
        "start_time": "2023-06-06T21:22:22.028Z"
      },
      {
        "duration": 25,
        "start_time": "2023-06-06T21:22:22.047Z"
      },
      {
        "duration": 77,
        "start_time": "2023-06-06T21:22:22.073Z"
      },
      {
        "duration": 56,
        "start_time": "2023-06-06T21:22:22.151Z"
      },
      {
        "duration": 48,
        "start_time": "2023-06-06T21:22:22.209Z"
      },
      {
        "duration": 205,
        "start_time": "2023-06-06T21:22:22.258Z"
      },
      {
        "duration": 43,
        "start_time": "2023-06-06T21:22:22.464Z"
      },
      {
        "duration": 832,
        "start_time": "2024-01-23T16:27:30.501Z"
      },
      {
        "duration": 0,
        "start_time": "2024-01-23T16:27:31.335Z"
      },
      {
        "duration": 0,
        "start_time": "2024-01-23T16:27:31.336Z"
      },
      {
        "duration": 0,
        "start_time": "2024-01-23T16:27:31.338Z"
      },
      {
        "duration": 0,
        "start_time": "2024-01-23T16:27:31.339Z"
      },
      {
        "duration": 0,
        "start_time": "2024-01-23T16:27:31.340Z"
      },
      {
        "duration": 0,
        "start_time": "2024-01-23T16:27:31.341Z"
      },
      {
        "duration": 0,
        "start_time": "2024-01-23T16:27:31.342Z"
      },
      {
        "duration": 0,
        "start_time": "2024-01-23T16:27:31.343Z"
      },
      {
        "duration": 0,
        "start_time": "2024-01-23T16:27:31.344Z"
      },
      {
        "duration": 0,
        "start_time": "2024-01-23T16:27:31.345Z"
      },
      {
        "duration": 0,
        "start_time": "2024-01-23T16:27:31.346Z"
      },
      {
        "duration": 0,
        "start_time": "2024-01-23T16:27:31.347Z"
      },
      {
        "duration": 0,
        "start_time": "2024-01-23T16:27:31.349Z"
      },
      {
        "duration": 0,
        "start_time": "2024-01-23T16:27:31.349Z"
      },
      {
        "duration": 0,
        "start_time": "2024-01-23T16:27:31.351Z"
      },
      {
        "duration": 0,
        "start_time": "2024-01-23T16:27:31.352Z"
      },
      {
        "duration": 0,
        "start_time": "2024-01-23T16:27:31.353Z"
      },
      {
        "duration": 0,
        "start_time": "2024-01-23T16:27:31.353Z"
      },
      {
        "duration": 0,
        "start_time": "2024-01-23T16:27:31.355Z"
      },
      {
        "duration": 0,
        "start_time": "2024-01-23T16:27:31.356Z"
      },
      {
        "duration": 0,
        "start_time": "2024-01-23T16:27:31.357Z"
      },
      {
        "duration": 0,
        "start_time": "2024-01-23T16:27:31.358Z"
      },
      {
        "duration": 0,
        "start_time": "2024-01-23T16:27:31.360Z"
      },
      {
        "duration": 0,
        "start_time": "2024-01-23T16:27:31.360Z"
      },
      {
        "duration": 0,
        "start_time": "2024-01-23T16:27:31.361Z"
      },
      {
        "duration": 469,
        "start_time": "2024-01-23T16:38:04.184Z"
      },
      {
        "duration": 0,
        "start_time": "2024-01-23T16:38:04.655Z"
      },
      {
        "duration": 0,
        "start_time": "2024-01-23T16:38:04.656Z"
      },
      {
        "duration": 0,
        "start_time": "2024-01-23T16:38:04.657Z"
      },
      {
        "duration": 0,
        "start_time": "2024-01-23T16:38:04.659Z"
      },
      {
        "duration": 0,
        "start_time": "2024-01-23T16:38:04.660Z"
      },
      {
        "duration": 0,
        "start_time": "2024-01-23T16:38:04.661Z"
      },
      {
        "duration": 0,
        "start_time": "2024-01-23T16:38:04.662Z"
      },
      {
        "duration": 0,
        "start_time": "2024-01-23T16:38:04.663Z"
      },
      {
        "duration": 0,
        "start_time": "2024-01-23T16:38:04.664Z"
      },
      {
        "duration": 0,
        "start_time": "2024-01-23T16:38:04.665Z"
      },
      {
        "duration": 0,
        "start_time": "2024-01-23T16:38:04.666Z"
      },
      {
        "duration": 0,
        "start_time": "2024-01-23T16:38:04.667Z"
      },
      {
        "duration": 0,
        "start_time": "2024-01-23T16:38:04.669Z"
      },
      {
        "duration": 0,
        "start_time": "2024-01-23T16:38:04.669Z"
      },
      {
        "duration": 0,
        "start_time": "2024-01-23T16:38:04.670Z"
      },
      {
        "duration": 0,
        "start_time": "2024-01-23T16:38:04.671Z"
      },
      {
        "duration": 0,
        "start_time": "2024-01-23T16:38:04.672Z"
      },
      {
        "duration": 0,
        "start_time": "2024-01-23T16:38:04.673Z"
      },
      {
        "duration": 0,
        "start_time": "2024-01-23T16:38:04.674Z"
      },
      {
        "duration": 0,
        "start_time": "2024-01-23T16:38:04.676Z"
      },
      {
        "duration": 0,
        "start_time": "2024-01-23T16:38:04.677Z"
      },
      {
        "duration": 0,
        "start_time": "2024-01-23T16:38:04.678Z"
      },
      {
        "duration": 0,
        "start_time": "2024-01-23T16:38:04.679Z"
      },
      {
        "duration": 0,
        "start_time": "2024-01-23T16:38:04.680Z"
      },
      {
        "duration": 0,
        "start_time": "2024-01-23T16:38:04.723Z"
      },
      {
        "duration": 522,
        "start_time": "2024-01-23T16:53:47.821Z"
      },
      {
        "duration": 25,
        "start_time": "2024-01-23T16:53:48.345Z"
      },
      {
        "duration": 17,
        "start_time": "2024-01-23T16:53:48.372Z"
      },
      {
        "duration": 34,
        "start_time": "2024-01-23T16:53:48.392Z"
      },
      {
        "duration": 36,
        "start_time": "2024-01-23T16:53:48.428Z"
      },
      {
        "duration": 3,
        "start_time": "2024-01-23T16:53:48.466Z"
      },
      {
        "duration": 31,
        "start_time": "2024-01-23T16:53:48.471Z"
      },
      {
        "duration": 4,
        "start_time": "2024-01-23T16:53:48.504Z"
      },
      {
        "duration": 15,
        "start_time": "2024-01-23T16:53:48.509Z"
      },
      {
        "duration": 4,
        "start_time": "2024-01-23T16:53:48.528Z"
      },
      {
        "duration": 47,
        "start_time": "2024-01-23T16:53:48.534Z"
      },
      {
        "duration": 10,
        "start_time": "2024-01-23T16:53:48.582Z"
      },
      {
        "duration": 11,
        "start_time": "2024-01-23T16:53:48.594Z"
      },
      {
        "duration": 28,
        "start_time": "2024-01-23T16:53:48.607Z"
      },
      {
        "duration": 54,
        "start_time": "2024-01-23T16:53:48.637Z"
      },
      {
        "duration": 17,
        "start_time": "2024-01-23T16:53:48.693Z"
      },
      {
        "duration": 10,
        "start_time": "2024-01-23T16:53:48.712Z"
      },
      {
        "duration": 23,
        "start_time": "2024-01-23T16:53:48.724Z"
      },
      {
        "duration": 7,
        "start_time": "2024-01-23T16:53:48.749Z"
      },
      {
        "duration": 4,
        "start_time": "2024-01-23T16:53:48.757Z"
      },
      {
        "duration": 22,
        "start_time": "2024-01-23T16:53:48.763Z"
      },
      {
        "duration": 76,
        "start_time": "2024-01-23T16:53:48.787Z"
      },
      {
        "duration": 62,
        "start_time": "2024-01-23T16:53:48.864Z"
      },
      {
        "duration": 62,
        "start_time": "2024-01-23T16:53:48.928Z"
      },
      {
        "duration": 212,
        "start_time": "2024-01-23T16:53:48.992Z"
      },
      {
        "duration": 51,
        "start_time": "2024-01-23T16:53:49.206Z"
      }
    ],
    "colab": {
      "provenance": [],
      "include_colab_link": true
    },
    "kernelspec": {
      "display_name": "Python 3 (ipykernel)",
      "language": "python",
      "name": "python3"
    },
    "language_info": {
      "codemirror_mode": {
        "name": "ipython",
        "version": 3
      },
      "file_extension": ".py",
      "mimetype": "text/x-python",
      "name": "python",
      "nbconvert_exporter": "python",
      "pygments_lexer": "ipython3",
      "version": "3.9.5"
    },
    "toc": {
      "base_numbering": 1,
      "nav_menu": {},
      "number_sections": true,
      "sideBar": true,
      "skip_h1_title": true,
      "title_cell": "Table of Contents",
      "title_sidebar": "Contents",
      "toc_cell": false,
      "toc_position": {
        "height": "calc(100% - 180px)",
        "left": "10px",
        "top": "150px",
        "width": "286.672px"
      },
      "toc_section_display": true,
      "toc_window_display": true
    }
  },
  "nbformat": 4,
  "nbformat_minor": 5
}