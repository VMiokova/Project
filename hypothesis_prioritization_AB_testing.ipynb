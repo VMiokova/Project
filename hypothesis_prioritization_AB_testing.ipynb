{
  "cells": [
    {
      "cell_type": "markdown",
      "metadata": {
        "id": "view-in-github",
        "colab_type": "text"
      },
      "source": [
        "<a href=\"https://colab.research.google.com/github/VMiokova/Project/blob/main/hypothesis_prioritization_AB_testing.ipynb\" target=\"_parent\"><img src=\"https://colab.research.google.com/assets/colab-badge.svg\" alt=\"Open In Colab\"/></a>"
      ]
    },
    {
      "cell_type": "markdown",
      "metadata": {
        "id": "v7skRbZAWQkW"
      },
      "source": [
        "<h1>Приоритизация гипотез и A/B-тестирование в интернет-магазине<h1/>"
      ]
    },
    {
      "cell_type": "markdown",
      "metadata": {
        "id": "96hV57y4WQkY"
      },
      "source": [
        "### Загрузка данных и подготовка их к анализу"
      ]
    },
    {
      "cell_type": "code",
      "execution_count": null,
      "metadata": {
        "id": "4-JtDngxWQkZ"
      },
      "outputs": [],
      "source": [
        "import pandas as pd\n",
        "import datetime as dt\n",
        "import numpy as np\n",
        "import matplotlib.pyplot as plt\n",
        "import warnings\n",
        "from scipy import stats\n",
        "from pandas.plotting import register_matplotlib_converters\n",
        "from google.colab import drive"
      ]
    },
    {
      "cell_type": "code",
      "execution_count": null,
      "metadata": {
        "id": "XI55X-hBWQka",
        "colab": {
          "base_uri": "https://localhost:8080/"
        },
        "outputId": "15f4a87f-bf3c-4997-b6ec-d17db6ae2c95"
      },
      "outputs": [
        {
          "output_type": "stream",
          "name": "stdout",
          "text": [
            "Mounted at /gdrive\n"
          ]
        },
        {
          "output_type": "stream",
          "name": "stderr",
          "text": [
            "<ipython-input-2-4c07d7127d5d>:11: FutureWarning: The error_bad_lines argument has been deprecated and will be removed in a future version. Use on_bad_lines in the future.\n",
            "\n",
            "\n",
            "  hypothesis = pd.read_csv(link_hypothesis, error_bad_lines=False)\n",
            "<ipython-input-2-4c07d7127d5d>:12: FutureWarning: The error_bad_lines argument has been deprecated and will be removed in a future version. Use on_bad_lines in the future.\n",
            "\n",
            "\n",
            "  orders = pd.read_csv(link_orders, error_bad_lines=False)\n",
            "<ipython-input-2-4c07d7127d5d>:13: FutureWarning: The error_bad_lines argument has been deprecated and will be removed in a future version. Use on_bad_lines in the future.\n",
            "\n",
            "\n",
            "  visitors = pd.read_csv(link_visitors, error_bad_lines=False)\n"
          ]
        }
      ],
      "source": [
        "drive.mount('/gdrive')\n",
        "\n",
        "hypothesis_id = '1Vhx9a4hGm8BAF5qwcQ09JIcHxbmfZteT'\n",
        "orders_id = '1xW9QhUJNebJ0rujk5Q17rKc5bG1UD7nT'\n",
        "visitors_id = '1Zlhv9FIlZiBXMW9ZK7nhIWxK9JbcVtXR'\n",
        "\n",
        "link_hypothesis = 'https://drive.google.com/uc?id=' + hypothesis_id\n",
        "link_orders = 'https://drive.google.com/uc?id=' + orders_id\n",
        "link_visitors = 'https://drive.google.com/uc?id=' + visitors_id\n",
        "\n",
        "hypothesis = pd.read_csv(link_hypothesis, error_bad_lines=False)\n",
        "orders = pd.read_csv(link_orders, error_bad_lines=False)\n",
        "visitors = pd.read_csv(link_visitors, error_bad_lines=False)"
      ]
    },
    {
      "cell_type": "code",
      "source": [
        "from google.colab import drive\n",
        "drive.mount('/content/drive')"
      ],
      "metadata": {
        "colab": {
          "base_uri": "https://localhost:8080/"
        },
        "id": "FJUAJ7s7Eg1g",
        "outputId": "08e70975-9af0-4097-dfd5-b2ca6e7f8403"
      },
      "execution_count": null,
      "outputs": [
        {
          "output_type": "stream",
          "name": "stdout",
          "text": [
            "Mounted at /content/drive\n"
          ]
        }
      ]
    },
    {
      "cell_type": "code",
      "execution_count": null,
      "metadata": {
        "id": "b-fyFAHLWQkb",
        "colab": {
          "base_uri": "https://localhost:8080/",
          "height": 396
        },
        "outputId": "d590f390-a530-41f7-f99f-95931949b593"
      },
      "outputs": [
        {
          "output_type": "display_data",
          "data": {
            "text/plain": [
              "                                                                                                     Hypothesis  \\\n",
              "0            Добавить два новых канала привлечения трафика, что позволит привлекать на 30% больше пользователей   \n",
              "1                                     Запустить собственную службу доставки, что сократит срок доставки заказов   \n",
              "2  Добавить блоки рекомендаций товаров на сайт интернет магазина, чтобы повысить конверсию и средний чек заказа   \n",
              "\n",
              "   Reach  Impact  Confidence  Efforts  \n",
              "0      3      10           8        6  \n",
              "1      2       5           4       10  \n",
              "2      8       3           7        3  "
            ],
            "text/html": [
              "\n",
              "  <div id=\"df-5330bda0-af5a-4c74-8db5-eb21213336c9\" class=\"colab-df-container\">\n",
              "    <div>\n",
              "<style scoped>\n",
              "    .dataframe tbody tr th:only-of-type {\n",
              "        vertical-align: middle;\n",
              "    }\n",
              "\n",
              "    .dataframe tbody tr th {\n",
              "        vertical-align: top;\n",
              "    }\n",
              "\n",
              "    .dataframe thead th {\n",
              "        text-align: right;\n",
              "    }\n",
              "</style>\n",
              "<table border=\"1\" class=\"dataframe\">\n",
              "  <thead>\n",
              "    <tr style=\"text-align: right;\">\n",
              "      <th></th>\n",
              "      <th>Hypothesis</th>\n",
              "      <th>Reach</th>\n",
              "      <th>Impact</th>\n",
              "      <th>Confidence</th>\n",
              "      <th>Efforts</th>\n",
              "    </tr>\n",
              "  </thead>\n",
              "  <tbody>\n",
              "    <tr>\n",
              "      <th>0</th>\n",
              "      <td>Добавить два новых канала привлечения трафика, что позволит привлекать на 30% больше пользователей</td>\n",
              "      <td>3</td>\n",
              "      <td>10</td>\n",
              "      <td>8</td>\n",
              "      <td>6</td>\n",
              "    </tr>\n",
              "    <tr>\n",
              "      <th>1</th>\n",
              "      <td>Запустить собственную службу доставки, что сократит срок доставки заказов</td>\n",
              "      <td>2</td>\n",
              "      <td>5</td>\n",
              "      <td>4</td>\n",
              "      <td>10</td>\n",
              "    </tr>\n",
              "    <tr>\n",
              "      <th>2</th>\n",
              "      <td>Добавить блоки рекомендаций товаров на сайт интернет магазина, чтобы повысить конверсию и средний чек заказа</td>\n",
              "      <td>8</td>\n",
              "      <td>3</td>\n",
              "      <td>7</td>\n",
              "      <td>3</td>\n",
              "    </tr>\n",
              "  </tbody>\n",
              "</table>\n",
              "</div>\n",
              "    <div class=\"colab-df-buttons\">\n",
              "\n",
              "  <div class=\"colab-df-container\">\n",
              "    <button class=\"colab-df-convert\" onclick=\"convertToInteractive('df-5330bda0-af5a-4c74-8db5-eb21213336c9')\"\n",
              "            title=\"Convert this dataframe to an interactive table.\"\n",
              "            style=\"display:none;\">\n",
              "\n",
              "  <svg xmlns=\"http://www.w3.org/2000/svg\" height=\"24px\" viewBox=\"0 -960 960 960\">\n",
              "    <path d=\"M120-120v-720h720v720H120Zm60-500h600v-160H180v160Zm220 220h160v-160H400v160Zm0 220h160v-160H400v160ZM180-400h160v-160H180v160Zm440 0h160v-160H620v160ZM180-180h160v-160H180v160Zm440 0h160v-160H620v160Z\"/>\n",
              "  </svg>\n",
              "    </button>\n",
              "\n",
              "  <style>\n",
              "    .colab-df-container {\n",
              "      display:flex;\n",
              "      gap: 12px;\n",
              "    }\n",
              "\n",
              "    .colab-df-convert {\n",
              "      background-color: #E8F0FE;\n",
              "      border: none;\n",
              "      border-radius: 50%;\n",
              "      cursor: pointer;\n",
              "      display: none;\n",
              "      fill: #1967D2;\n",
              "      height: 32px;\n",
              "      padding: 0 0 0 0;\n",
              "      width: 32px;\n",
              "    }\n",
              "\n",
              "    .colab-df-convert:hover {\n",
              "      background-color: #E2EBFA;\n",
              "      box-shadow: 0px 1px 2px rgba(60, 64, 67, 0.3), 0px 1px 3px 1px rgba(60, 64, 67, 0.15);\n",
              "      fill: #174EA6;\n",
              "    }\n",
              "\n",
              "    .colab-df-buttons div {\n",
              "      margin-bottom: 4px;\n",
              "    }\n",
              "\n",
              "    [theme=dark] .colab-df-convert {\n",
              "      background-color: #3B4455;\n",
              "      fill: #D2E3FC;\n",
              "    }\n",
              "\n",
              "    [theme=dark] .colab-df-convert:hover {\n",
              "      background-color: #434B5C;\n",
              "      box-shadow: 0px 1px 3px 1px rgba(0, 0, 0, 0.15);\n",
              "      filter: drop-shadow(0px 1px 2px rgba(0, 0, 0, 0.3));\n",
              "      fill: #FFFFFF;\n",
              "    }\n",
              "  </style>\n",
              "\n",
              "    <script>\n",
              "      const buttonEl =\n",
              "        document.querySelector('#df-5330bda0-af5a-4c74-8db5-eb21213336c9 button.colab-df-convert');\n",
              "      buttonEl.style.display =\n",
              "        google.colab.kernel.accessAllowed ? 'block' : 'none';\n",
              "\n",
              "      async function convertToInteractive(key) {\n",
              "        const element = document.querySelector('#df-5330bda0-af5a-4c74-8db5-eb21213336c9');\n",
              "        const dataTable =\n",
              "          await google.colab.kernel.invokeFunction('convertToInteractive',\n",
              "                                                    [key], {});\n",
              "        if (!dataTable) return;\n",
              "\n",
              "        const docLinkHtml = 'Like what you see? Visit the ' +\n",
              "          '<a target=\"_blank\" href=https://colab.research.google.com/notebooks/data_table.ipynb>data table notebook</a>'\n",
              "          + ' to learn more about interactive tables.';\n",
              "        element.innerHTML = '';\n",
              "        dataTable['output_type'] = 'display_data';\n",
              "        await google.colab.output.renderOutput(dataTable, element);\n",
              "        const docLink = document.createElement('div');\n",
              "        docLink.innerHTML = docLinkHtml;\n",
              "        element.appendChild(docLink);\n",
              "      }\n",
              "    </script>\n",
              "  </div>\n",
              "\n",
              "\n",
              "<div id=\"df-1bbaa276-5e22-4f6d-b6bd-bc26a2d45071\">\n",
              "  <button class=\"colab-df-quickchart\" onclick=\"quickchart('df-1bbaa276-5e22-4f6d-b6bd-bc26a2d45071')\"\n",
              "            title=\"Suggest charts\"\n",
              "            style=\"display:none;\">\n",
              "\n",
              "<svg xmlns=\"http://www.w3.org/2000/svg\" height=\"24px\"viewBox=\"0 0 24 24\"\n",
              "     width=\"24px\">\n",
              "    <g>\n",
              "        <path d=\"M19 3H5c-1.1 0-2 .9-2 2v14c0 1.1.9 2 2 2h14c1.1 0 2-.9 2-2V5c0-1.1-.9-2-2-2zM9 17H7v-7h2v7zm4 0h-2V7h2v10zm4 0h-2v-4h2v4z\"/>\n",
              "    </g>\n",
              "</svg>\n",
              "  </button>\n",
              "\n",
              "<style>\n",
              "  .colab-df-quickchart {\n",
              "      --bg-color: #E8F0FE;\n",
              "      --fill-color: #1967D2;\n",
              "      --hover-bg-color: #E2EBFA;\n",
              "      --hover-fill-color: #174EA6;\n",
              "      --disabled-fill-color: #AAA;\n",
              "      --disabled-bg-color: #DDD;\n",
              "  }\n",
              "\n",
              "  [theme=dark] .colab-df-quickchart {\n",
              "      --bg-color: #3B4455;\n",
              "      --fill-color: #D2E3FC;\n",
              "      --hover-bg-color: #434B5C;\n",
              "      --hover-fill-color: #FFFFFF;\n",
              "      --disabled-bg-color: #3B4455;\n",
              "      --disabled-fill-color: #666;\n",
              "  }\n",
              "\n",
              "  .colab-df-quickchart {\n",
              "    background-color: var(--bg-color);\n",
              "    border: none;\n",
              "    border-radius: 50%;\n",
              "    cursor: pointer;\n",
              "    display: none;\n",
              "    fill: var(--fill-color);\n",
              "    height: 32px;\n",
              "    padding: 0;\n",
              "    width: 32px;\n",
              "  }\n",
              "\n",
              "  .colab-df-quickchart:hover {\n",
              "    background-color: var(--hover-bg-color);\n",
              "    box-shadow: 0 1px 2px rgba(60, 64, 67, 0.3), 0 1px 3px 1px rgba(60, 64, 67, 0.15);\n",
              "    fill: var(--button-hover-fill-color);\n",
              "  }\n",
              "\n",
              "  .colab-df-quickchart-complete:disabled,\n",
              "  .colab-df-quickchart-complete:disabled:hover {\n",
              "    background-color: var(--disabled-bg-color);\n",
              "    fill: var(--disabled-fill-color);\n",
              "    box-shadow: none;\n",
              "  }\n",
              "\n",
              "  .colab-df-spinner {\n",
              "    border: 2px solid var(--fill-color);\n",
              "    border-color: transparent;\n",
              "    border-bottom-color: var(--fill-color);\n",
              "    animation:\n",
              "      spin 1s steps(1) infinite;\n",
              "  }\n",
              "\n",
              "  @keyframes spin {\n",
              "    0% {\n",
              "      border-color: transparent;\n",
              "      border-bottom-color: var(--fill-color);\n",
              "      border-left-color: var(--fill-color);\n",
              "    }\n",
              "    20% {\n",
              "      border-color: transparent;\n",
              "      border-left-color: var(--fill-color);\n",
              "      border-top-color: var(--fill-color);\n",
              "    }\n",
              "    30% {\n",
              "      border-color: transparent;\n",
              "      border-left-color: var(--fill-color);\n",
              "      border-top-color: var(--fill-color);\n",
              "      border-right-color: var(--fill-color);\n",
              "    }\n",
              "    40% {\n",
              "      border-color: transparent;\n",
              "      border-right-color: var(--fill-color);\n",
              "      border-top-color: var(--fill-color);\n",
              "    }\n",
              "    60% {\n",
              "      border-color: transparent;\n",
              "      border-right-color: var(--fill-color);\n",
              "    }\n",
              "    80% {\n",
              "      border-color: transparent;\n",
              "      border-right-color: var(--fill-color);\n",
              "      border-bottom-color: var(--fill-color);\n",
              "    }\n",
              "    90% {\n",
              "      border-color: transparent;\n",
              "      border-bottom-color: var(--fill-color);\n",
              "    }\n",
              "  }\n",
              "</style>\n",
              "\n",
              "  <script>\n",
              "    async function quickchart(key) {\n",
              "      const quickchartButtonEl =\n",
              "        document.querySelector('#' + key + ' button');\n",
              "      quickchartButtonEl.disabled = true;  // To prevent multiple clicks.\n",
              "      quickchartButtonEl.classList.add('colab-df-spinner');\n",
              "      try {\n",
              "        const charts = await google.colab.kernel.invokeFunction(\n",
              "            'suggestCharts', [key], {});\n",
              "      } catch (error) {\n",
              "        console.error('Error during call to suggestCharts:', error);\n",
              "      }\n",
              "      quickchartButtonEl.classList.remove('colab-df-spinner');\n",
              "      quickchartButtonEl.classList.add('colab-df-quickchart-complete');\n",
              "    }\n",
              "    (() => {\n",
              "      let quickchartButtonEl =\n",
              "        document.querySelector('#df-1bbaa276-5e22-4f6d-b6bd-bc26a2d45071 button');\n",
              "      quickchartButtonEl.style.display =\n",
              "        google.colab.kernel.accessAllowed ? 'block' : 'none';\n",
              "    })();\n",
              "  </script>\n",
              "</div>\n",
              "    </div>\n",
              "  </div>\n"
            ],
            "application/vnd.google.colaboratory.intrinsic+json": {
              "type": "dataframe",
              "summary": "{\n  \"name\": \"display(visitors\",\n  \"rows\": 3,\n  \"fields\": [\n    {\n      \"column\": \"Hypothesis\",\n      \"properties\": {\n        \"dtype\": \"string\",\n        \"num_unique_values\": 3,\n        \"samples\": [\n          \"\\u0414\\u043e\\u0431\\u0430\\u0432\\u0438\\u0442\\u044c \\u0434\\u0432\\u0430 \\u043d\\u043e\\u0432\\u044b\\u0445 \\u043a\\u0430\\u043d\\u0430\\u043b\\u0430 \\u043f\\u0440\\u0438\\u0432\\u043b\\u0435\\u0447\\u0435\\u043d\\u0438\\u044f \\u0442\\u0440\\u0430\\u0444\\u0438\\u043a\\u0430, \\u0447\\u0442\\u043e \\u043f\\u043e\\u0437\\u0432\\u043e\\u043b\\u0438\\u0442 \\u043f\\u0440\\u0438\\u0432\\u043b\\u0435\\u043a\\u0430\\u0442\\u044c \\u043d\\u0430 30% \\u0431\\u043e\\u043b\\u044c\\u0448\\u0435 \\u043f\\u043e\\u043b\\u044c\\u0437\\u043e\\u0432\\u0430\\u0442\\u0435\\u043b\\u0435\\u0439\",\n          \"\\u0417\\u0430\\u043f\\u0443\\u0441\\u0442\\u0438\\u0442\\u044c \\u0441\\u043e\\u0431\\u0441\\u0442\\u0432\\u0435\\u043d\\u043d\\u0443\\u044e \\u0441\\u043b\\u0443\\u0436\\u0431\\u0443 \\u0434\\u043e\\u0441\\u0442\\u0430\\u0432\\u043a\\u0438, \\u0447\\u0442\\u043e \\u0441\\u043e\\u043a\\u0440\\u0430\\u0442\\u0438\\u0442 \\u0441\\u0440\\u043e\\u043a \\u0434\\u043e\\u0441\\u0442\\u0430\\u0432\\u043a\\u0438 \\u0437\\u0430\\u043a\\u0430\\u0437\\u043e\\u0432\",\n          \"\\u0414\\u043e\\u0431\\u0430\\u0432\\u0438\\u0442\\u044c \\u0431\\u043b\\u043e\\u043a\\u0438 \\u0440\\u0435\\u043a\\u043e\\u043c\\u0435\\u043d\\u0434\\u0430\\u0446\\u0438\\u0439 \\u0442\\u043e\\u0432\\u0430\\u0440\\u043e\\u0432 \\u043d\\u0430 \\u0441\\u0430\\u0439\\u0442 \\u0438\\u043d\\u0442\\u0435\\u0440\\u043d\\u0435\\u0442 \\u043c\\u0430\\u0433\\u0430\\u0437\\u0438\\u043d\\u0430, \\u0447\\u0442\\u043e\\u0431\\u044b \\u043f\\u043e\\u0432\\u044b\\u0441\\u0438\\u0442\\u044c \\u043a\\u043e\\u043d\\u0432\\u0435\\u0440\\u0441\\u0438\\u044e \\u0438 \\u0441\\u0440\\u0435\\u0434\\u043d\\u0438\\u0439 \\u0447\\u0435\\u043a \\u0437\\u0430\\u043a\\u0430\\u0437\\u0430\"\n        ],\n        \"semantic_type\": \"\",\n        \"description\": \"\"\n      }\n    },\n    {\n      \"column\": \"Reach\",\n      \"properties\": {\n        \"dtype\": \"number\",\n        \"std\": 3,\n        \"min\": 2,\n        \"max\": 8,\n        \"num_unique_values\": 3,\n        \"samples\": [\n          3,\n          2,\n          8\n        ],\n        \"semantic_type\": \"\",\n        \"description\": \"\"\n      }\n    },\n    {\n      \"column\": \"Impact\",\n      \"properties\": {\n        \"dtype\": \"number\",\n        \"std\": 3,\n        \"min\": 3,\n        \"max\": 10,\n        \"num_unique_values\": 3,\n        \"samples\": [\n          10,\n          5,\n          3\n        ],\n        \"semantic_type\": \"\",\n        \"description\": \"\"\n      }\n    },\n    {\n      \"column\": \"Confidence\",\n      \"properties\": {\n        \"dtype\": \"number\",\n        \"std\": 2,\n        \"min\": 4,\n        \"max\": 8,\n        \"num_unique_values\": 3,\n        \"samples\": [\n          8,\n          4,\n          7\n        ],\n        \"semantic_type\": \"\",\n        \"description\": \"\"\n      }\n    },\n    {\n      \"column\": \"Efforts\",\n      \"properties\": {\n        \"dtype\": \"number\",\n        \"std\": 3,\n        \"min\": 3,\n        \"max\": 10,\n        \"num_unique_values\": 3,\n        \"samples\": [\n          6,\n          10,\n          3\n        ],\n        \"semantic_type\": \"\",\n        \"description\": \"\"\n      }\n    }\n  ]\n}"
            }
          },
          "metadata": {}
        },
        {
          "output_type": "display_data",
          "data": {
            "text/plain": [
              "   transactionId   visitorId        date  revenue group\n",
              "0     3667963787  3312258926  2019-08-15     1650     B\n",
              "1     2804400009  3642806036  2019-08-15      730     B\n",
              "2     2961555356  4069496402  2019-08-15      400     A"
            ],
            "text/html": [
              "\n",
              "  <div id=\"df-0ce9a977-9159-4aaf-b9f4-e0108e79d26c\" class=\"colab-df-container\">\n",
              "    <div>\n",
              "<style scoped>\n",
              "    .dataframe tbody tr th:only-of-type {\n",
              "        vertical-align: middle;\n",
              "    }\n",
              "\n",
              "    .dataframe tbody tr th {\n",
              "        vertical-align: top;\n",
              "    }\n",
              "\n",
              "    .dataframe thead th {\n",
              "        text-align: right;\n",
              "    }\n",
              "</style>\n",
              "<table border=\"1\" class=\"dataframe\">\n",
              "  <thead>\n",
              "    <tr style=\"text-align: right;\">\n",
              "      <th></th>\n",
              "      <th>transactionId</th>\n",
              "      <th>visitorId</th>\n",
              "      <th>date</th>\n",
              "      <th>revenue</th>\n",
              "      <th>group</th>\n",
              "    </tr>\n",
              "  </thead>\n",
              "  <tbody>\n",
              "    <tr>\n",
              "      <th>0</th>\n",
              "      <td>3667963787</td>\n",
              "      <td>3312258926</td>\n",
              "      <td>2019-08-15</td>\n",
              "      <td>1650</td>\n",
              "      <td>B</td>\n",
              "    </tr>\n",
              "    <tr>\n",
              "      <th>1</th>\n",
              "      <td>2804400009</td>\n",
              "      <td>3642806036</td>\n",
              "      <td>2019-08-15</td>\n",
              "      <td>730</td>\n",
              "      <td>B</td>\n",
              "    </tr>\n",
              "    <tr>\n",
              "      <th>2</th>\n",
              "      <td>2961555356</td>\n",
              "      <td>4069496402</td>\n",
              "      <td>2019-08-15</td>\n",
              "      <td>400</td>\n",
              "      <td>A</td>\n",
              "    </tr>\n",
              "  </tbody>\n",
              "</table>\n",
              "</div>\n",
              "    <div class=\"colab-df-buttons\">\n",
              "\n",
              "  <div class=\"colab-df-container\">\n",
              "    <button class=\"colab-df-convert\" onclick=\"convertToInteractive('df-0ce9a977-9159-4aaf-b9f4-e0108e79d26c')\"\n",
              "            title=\"Convert this dataframe to an interactive table.\"\n",
              "            style=\"display:none;\">\n",
              "\n",
              "  <svg xmlns=\"http://www.w3.org/2000/svg\" height=\"24px\" viewBox=\"0 -960 960 960\">\n",
              "    <path d=\"M120-120v-720h720v720H120Zm60-500h600v-160H180v160Zm220 220h160v-160H400v160Zm0 220h160v-160H400v160ZM180-400h160v-160H180v160Zm440 0h160v-160H620v160ZM180-180h160v-160H180v160Zm440 0h160v-160H620v160Z\"/>\n",
              "  </svg>\n",
              "    </button>\n",
              "\n",
              "  <style>\n",
              "    .colab-df-container {\n",
              "      display:flex;\n",
              "      gap: 12px;\n",
              "    }\n",
              "\n",
              "    .colab-df-convert {\n",
              "      background-color: #E8F0FE;\n",
              "      border: none;\n",
              "      border-radius: 50%;\n",
              "      cursor: pointer;\n",
              "      display: none;\n",
              "      fill: #1967D2;\n",
              "      height: 32px;\n",
              "      padding: 0 0 0 0;\n",
              "      width: 32px;\n",
              "    }\n",
              "\n",
              "    .colab-df-convert:hover {\n",
              "      background-color: #E2EBFA;\n",
              "      box-shadow: 0px 1px 2px rgba(60, 64, 67, 0.3), 0px 1px 3px 1px rgba(60, 64, 67, 0.15);\n",
              "      fill: #174EA6;\n",
              "    }\n",
              "\n",
              "    .colab-df-buttons div {\n",
              "      margin-bottom: 4px;\n",
              "    }\n",
              "\n",
              "    [theme=dark] .colab-df-convert {\n",
              "      background-color: #3B4455;\n",
              "      fill: #D2E3FC;\n",
              "    }\n",
              "\n",
              "    [theme=dark] .colab-df-convert:hover {\n",
              "      background-color: #434B5C;\n",
              "      box-shadow: 0px 1px 3px 1px rgba(0, 0, 0, 0.15);\n",
              "      filter: drop-shadow(0px 1px 2px rgba(0, 0, 0, 0.3));\n",
              "      fill: #FFFFFF;\n",
              "    }\n",
              "  </style>\n",
              "\n",
              "    <script>\n",
              "      const buttonEl =\n",
              "        document.querySelector('#df-0ce9a977-9159-4aaf-b9f4-e0108e79d26c button.colab-df-convert');\n",
              "      buttonEl.style.display =\n",
              "        google.colab.kernel.accessAllowed ? 'block' : 'none';\n",
              "\n",
              "      async function convertToInteractive(key) {\n",
              "        const element = document.querySelector('#df-0ce9a977-9159-4aaf-b9f4-e0108e79d26c');\n",
              "        const dataTable =\n",
              "          await google.colab.kernel.invokeFunction('convertToInteractive',\n",
              "                                                    [key], {});\n",
              "        if (!dataTable) return;\n",
              "\n",
              "        const docLinkHtml = 'Like what you see? Visit the ' +\n",
              "          '<a target=\"_blank\" href=https://colab.research.google.com/notebooks/data_table.ipynb>data table notebook</a>'\n",
              "          + ' to learn more about interactive tables.';\n",
              "        element.innerHTML = '';\n",
              "        dataTable['output_type'] = 'display_data';\n",
              "        await google.colab.output.renderOutput(dataTable, element);\n",
              "        const docLink = document.createElement('div');\n",
              "        docLink.innerHTML = docLinkHtml;\n",
              "        element.appendChild(docLink);\n",
              "      }\n",
              "    </script>\n",
              "  </div>\n",
              "\n",
              "\n",
              "<div id=\"df-7b17b43e-c86e-4a58-b47d-b79c12bf80e8\">\n",
              "  <button class=\"colab-df-quickchart\" onclick=\"quickchart('df-7b17b43e-c86e-4a58-b47d-b79c12bf80e8')\"\n",
              "            title=\"Suggest charts\"\n",
              "            style=\"display:none;\">\n",
              "\n",
              "<svg xmlns=\"http://www.w3.org/2000/svg\" height=\"24px\"viewBox=\"0 0 24 24\"\n",
              "     width=\"24px\">\n",
              "    <g>\n",
              "        <path d=\"M19 3H5c-1.1 0-2 .9-2 2v14c0 1.1.9 2 2 2h14c1.1 0 2-.9 2-2V5c0-1.1-.9-2-2-2zM9 17H7v-7h2v7zm4 0h-2V7h2v10zm4 0h-2v-4h2v4z\"/>\n",
              "    </g>\n",
              "</svg>\n",
              "  </button>\n",
              "\n",
              "<style>\n",
              "  .colab-df-quickchart {\n",
              "      --bg-color: #E8F0FE;\n",
              "      --fill-color: #1967D2;\n",
              "      --hover-bg-color: #E2EBFA;\n",
              "      --hover-fill-color: #174EA6;\n",
              "      --disabled-fill-color: #AAA;\n",
              "      --disabled-bg-color: #DDD;\n",
              "  }\n",
              "\n",
              "  [theme=dark] .colab-df-quickchart {\n",
              "      --bg-color: #3B4455;\n",
              "      --fill-color: #D2E3FC;\n",
              "      --hover-bg-color: #434B5C;\n",
              "      --hover-fill-color: #FFFFFF;\n",
              "      --disabled-bg-color: #3B4455;\n",
              "      --disabled-fill-color: #666;\n",
              "  }\n",
              "\n",
              "  .colab-df-quickchart {\n",
              "    background-color: var(--bg-color);\n",
              "    border: none;\n",
              "    border-radius: 50%;\n",
              "    cursor: pointer;\n",
              "    display: none;\n",
              "    fill: var(--fill-color);\n",
              "    height: 32px;\n",
              "    padding: 0;\n",
              "    width: 32px;\n",
              "  }\n",
              "\n",
              "  .colab-df-quickchart:hover {\n",
              "    background-color: var(--hover-bg-color);\n",
              "    box-shadow: 0 1px 2px rgba(60, 64, 67, 0.3), 0 1px 3px 1px rgba(60, 64, 67, 0.15);\n",
              "    fill: var(--button-hover-fill-color);\n",
              "  }\n",
              "\n",
              "  .colab-df-quickchart-complete:disabled,\n",
              "  .colab-df-quickchart-complete:disabled:hover {\n",
              "    background-color: var(--disabled-bg-color);\n",
              "    fill: var(--disabled-fill-color);\n",
              "    box-shadow: none;\n",
              "  }\n",
              "\n",
              "  .colab-df-spinner {\n",
              "    border: 2px solid var(--fill-color);\n",
              "    border-color: transparent;\n",
              "    border-bottom-color: var(--fill-color);\n",
              "    animation:\n",
              "      spin 1s steps(1) infinite;\n",
              "  }\n",
              "\n",
              "  @keyframes spin {\n",
              "    0% {\n",
              "      border-color: transparent;\n",
              "      border-bottom-color: var(--fill-color);\n",
              "      border-left-color: var(--fill-color);\n",
              "    }\n",
              "    20% {\n",
              "      border-color: transparent;\n",
              "      border-left-color: var(--fill-color);\n",
              "      border-top-color: var(--fill-color);\n",
              "    }\n",
              "    30% {\n",
              "      border-color: transparent;\n",
              "      border-left-color: var(--fill-color);\n",
              "      border-top-color: var(--fill-color);\n",
              "      border-right-color: var(--fill-color);\n",
              "    }\n",
              "    40% {\n",
              "      border-color: transparent;\n",
              "      border-right-color: var(--fill-color);\n",
              "      border-top-color: var(--fill-color);\n",
              "    }\n",
              "    60% {\n",
              "      border-color: transparent;\n",
              "      border-right-color: var(--fill-color);\n",
              "    }\n",
              "    80% {\n",
              "      border-color: transparent;\n",
              "      border-right-color: var(--fill-color);\n",
              "      border-bottom-color: var(--fill-color);\n",
              "    }\n",
              "    90% {\n",
              "      border-color: transparent;\n",
              "      border-bottom-color: var(--fill-color);\n",
              "    }\n",
              "  }\n",
              "</style>\n",
              "\n",
              "  <script>\n",
              "    async function quickchart(key) {\n",
              "      const quickchartButtonEl =\n",
              "        document.querySelector('#' + key + ' button');\n",
              "      quickchartButtonEl.disabled = true;  // To prevent multiple clicks.\n",
              "      quickchartButtonEl.classList.add('colab-df-spinner');\n",
              "      try {\n",
              "        const charts = await google.colab.kernel.invokeFunction(\n",
              "            'suggestCharts', [key], {});\n",
              "      } catch (error) {\n",
              "        console.error('Error during call to suggestCharts:', error);\n",
              "      }\n",
              "      quickchartButtonEl.classList.remove('colab-df-spinner');\n",
              "      quickchartButtonEl.classList.add('colab-df-quickchart-complete');\n",
              "    }\n",
              "    (() => {\n",
              "      let quickchartButtonEl =\n",
              "        document.querySelector('#df-7b17b43e-c86e-4a58-b47d-b79c12bf80e8 button');\n",
              "      quickchartButtonEl.style.display =\n",
              "        google.colab.kernel.accessAllowed ? 'block' : 'none';\n",
              "    })();\n",
              "  </script>\n",
              "</div>\n",
              "    </div>\n",
              "  </div>\n"
            ],
            "application/vnd.google.colaboratory.intrinsic+json": {
              "type": "dataframe",
              "repr_error": "'str' object has no attribute 'empty'"
            }
          },
          "metadata": {}
        },
        {
          "output_type": "display_data",
          "data": {
            "text/plain": [
              "         date group  visitors\n",
              "0  2019-08-01     A       719\n",
              "1  2019-08-02     A       619\n",
              "2  2019-08-03     A       507"
            ],
            "text/html": [
              "\n",
              "  <div id=\"df-4c412c71-0e69-4e71-8fca-3f8d75173d0b\" class=\"colab-df-container\">\n",
              "    <div>\n",
              "<style scoped>\n",
              "    .dataframe tbody tr th:only-of-type {\n",
              "        vertical-align: middle;\n",
              "    }\n",
              "\n",
              "    .dataframe tbody tr th {\n",
              "        vertical-align: top;\n",
              "    }\n",
              "\n",
              "    .dataframe thead th {\n",
              "        text-align: right;\n",
              "    }\n",
              "</style>\n",
              "<table border=\"1\" class=\"dataframe\">\n",
              "  <thead>\n",
              "    <tr style=\"text-align: right;\">\n",
              "      <th></th>\n",
              "      <th>date</th>\n",
              "      <th>group</th>\n",
              "      <th>visitors</th>\n",
              "    </tr>\n",
              "  </thead>\n",
              "  <tbody>\n",
              "    <tr>\n",
              "      <th>0</th>\n",
              "      <td>2019-08-01</td>\n",
              "      <td>A</td>\n",
              "      <td>719</td>\n",
              "    </tr>\n",
              "    <tr>\n",
              "      <th>1</th>\n",
              "      <td>2019-08-02</td>\n",
              "      <td>A</td>\n",
              "      <td>619</td>\n",
              "    </tr>\n",
              "    <tr>\n",
              "      <th>2</th>\n",
              "      <td>2019-08-03</td>\n",
              "      <td>A</td>\n",
              "      <td>507</td>\n",
              "    </tr>\n",
              "  </tbody>\n",
              "</table>\n",
              "</div>\n",
              "    <div class=\"colab-df-buttons\">\n",
              "\n",
              "  <div class=\"colab-df-container\">\n",
              "    <button class=\"colab-df-convert\" onclick=\"convertToInteractive('df-4c412c71-0e69-4e71-8fca-3f8d75173d0b')\"\n",
              "            title=\"Convert this dataframe to an interactive table.\"\n",
              "            style=\"display:none;\">\n",
              "\n",
              "  <svg xmlns=\"http://www.w3.org/2000/svg\" height=\"24px\" viewBox=\"0 -960 960 960\">\n",
              "    <path d=\"M120-120v-720h720v720H120Zm60-500h600v-160H180v160Zm220 220h160v-160H400v160Zm0 220h160v-160H400v160ZM180-400h160v-160H180v160Zm440 0h160v-160H620v160ZM180-180h160v-160H180v160Zm440 0h160v-160H620v160Z\"/>\n",
              "  </svg>\n",
              "    </button>\n",
              "\n",
              "  <style>\n",
              "    .colab-df-container {\n",
              "      display:flex;\n",
              "      gap: 12px;\n",
              "    }\n",
              "\n",
              "    .colab-df-convert {\n",
              "      background-color: #E8F0FE;\n",
              "      border: none;\n",
              "      border-radius: 50%;\n",
              "      cursor: pointer;\n",
              "      display: none;\n",
              "      fill: #1967D2;\n",
              "      height: 32px;\n",
              "      padding: 0 0 0 0;\n",
              "      width: 32px;\n",
              "    }\n",
              "\n",
              "    .colab-df-convert:hover {\n",
              "      background-color: #E2EBFA;\n",
              "      box-shadow: 0px 1px 2px rgba(60, 64, 67, 0.3), 0px 1px 3px 1px rgba(60, 64, 67, 0.15);\n",
              "      fill: #174EA6;\n",
              "    }\n",
              "\n",
              "    .colab-df-buttons div {\n",
              "      margin-bottom: 4px;\n",
              "    }\n",
              "\n",
              "    [theme=dark] .colab-df-convert {\n",
              "      background-color: #3B4455;\n",
              "      fill: #D2E3FC;\n",
              "    }\n",
              "\n",
              "    [theme=dark] .colab-df-convert:hover {\n",
              "      background-color: #434B5C;\n",
              "      box-shadow: 0px 1px 3px 1px rgba(0, 0, 0, 0.15);\n",
              "      filter: drop-shadow(0px 1px 2px rgba(0, 0, 0, 0.3));\n",
              "      fill: #FFFFFF;\n",
              "    }\n",
              "  </style>\n",
              "\n",
              "    <script>\n",
              "      const buttonEl =\n",
              "        document.querySelector('#df-4c412c71-0e69-4e71-8fca-3f8d75173d0b button.colab-df-convert');\n",
              "      buttonEl.style.display =\n",
              "        google.colab.kernel.accessAllowed ? 'block' : 'none';\n",
              "\n",
              "      async function convertToInteractive(key) {\n",
              "        const element = document.querySelector('#df-4c412c71-0e69-4e71-8fca-3f8d75173d0b');\n",
              "        const dataTable =\n",
              "          await google.colab.kernel.invokeFunction('convertToInteractive',\n",
              "                                                    [key], {});\n",
              "        if (!dataTable) return;\n",
              "\n",
              "        const docLinkHtml = 'Like what you see? Visit the ' +\n",
              "          '<a target=\"_blank\" href=https://colab.research.google.com/notebooks/data_table.ipynb>data table notebook</a>'\n",
              "          + ' to learn more about interactive tables.';\n",
              "        element.innerHTML = '';\n",
              "        dataTable['output_type'] = 'display_data';\n",
              "        await google.colab.output.renderOutput(dataTable, element);\n",
              "        const docLink = document.createElement('div');\n",
              "        docLink.innerHTML = docLinkHtml;\n",
              "        element.appendChild(docLink);\n",
              "      }\n",
              "    </script>\n",
              "  </div>\n",
              "\n",
              "\n",
              "<div id=\"df-b79bc634-efe0-421e-a8ad-c10c4b1550bf\">\n",
              "  <button class=\"colab-df-quickchart\" onclick=\"quickchart('df-b79bc634-efe0-421e-a8ad-c10c4b1550bf')\"\n",
              "            title=\"Suggest charts\"\n",
              "            style=\"display:none;\">\n",
              "\n",
              "<svg xmlns=\"http://www.w3.org/2000/svg\" height=\"24px\"viewBox=\"0 0 24 24\"\n",
              "     width=\"24px\">\n",
              "    <g>\n",
              "        <path d=\"M19 3H5c-1.1 0-2 .9-2 2v14c0 1.1.9 2 2 2h14c1.1 0 2-.9 2-2V5c0-1.1-.9-2-2-2zM9 17H7v-7h2v7zm4 0h-2V7h2v10zm4 0h-2v-4h2v4z\"/>\n",
              "    </g>\n",
              "</svg>\n",
              "  </button>\n",
              "\n",
              "<style>\n",
              "  .colab-df-quickchart {\n",
              "      --bg-color: #E8F0FE;\n",
              "      --fill-color: #1967D2;\n",
              "      --hover-bg-color: #E2EBFA;\n",
              "      --hover-fill-color: #174EA6;\n",
              "      --disabled-fill-color: #AAA;\n",
              "      --disabled-bg-color: #DDD;\n",
              "  }\n",
              "\n",
              "  [theme=dark] .colab-df-quickchart {\n",
              "      --bg-color: #3B4455;\n",
              "      --fill-color: #D2E3FC;\n",
              "      --hover-bg-color: #434B5C;\n",
              "      --hover-fill-color: #FFFFFF;\n",
              "      --disabled-bg-color: #3B4455;\n",
              "      --disabled-fill-color: #666;\n",
              "  }\n",
              "\n",
              "  .colab-df-quickchart {\n",
              "    background-color: var(--bg-color);\n",
              "    border: none;\n",
              "    border-radius: 50%;\n",
              "    cursor: pointer;\n",
              "    display: none;\n",
              "    fill: var(--fill-color);\n",
              "    height: 32px;\n",
              "    padding: 0;\n",
              "    width: 32px;\n",
              "  }\n",
              "\n",
              "  .colab-df-quickchart:hover {\n",
              "    background-color: var(--hover-bg-color);\n",
              "    box-shadow: 0 1px 2px rgba(60, 64, 67, 0.3), 0 1px 3px 1px rgba(60, 64, 67, 0.15);\n",
              "    fill: var(--button-hover-fill-color);\n",
              "  }\n",
              "\n",
              "  .colab-df-quickchart-complete:disabled,\n",
              "  .colab-df-quickchart-complete:disabled:hover {\n",
              "    background-color: var(--disabled-bg-color);\n",
              "    fill: var(--disabled-fill-color);\n",
              "    box-shadow: none;\n",
              "  }\n",
              "\n",
              "  .colab-df-spinner {\n",
              "    border: 2px solid var(--fill-color);\n",
              "    border-color: transparent;\n",
              "    border-bottom-color: var(--fill-color);\n",
              "    animation:\n",
              "      spin 1s steps(1) infinite;\n",
              "  }\n",
              "\n",
              "  @keyframes spin {\n",
              "    0% {\n",
              "      border-color: transparent;\n",
              "      border-bottom-color: var(--fill-color);\n",
              "      border-left-color: var(--fill-color);\n",
              "    }\n",
              "    20% {\n",
              "      border-color: transparent;\n",
              "      border-left-color: var(--fill-color);\n",
              "      border-top-color: var(--fill-color);\n",
              "    }\n",
              "    30% {\n",
              "      border-color: transparent;\n",
              "      border-left-color: var(--fill-color);\n",
              "      border-top-color: var(--fill-color);\n",
              "      border-right-color: var(--fill-color);\n",
              "    }\n",
              "    40% {\n",
              "      border-color: transparent;\n",
              "      border-right-color: var(--fill-color);\n",
              "      border-top-color: var(--fill-color);\n",
              "    }\n",
              "    60% {\n",
              "      border-color: transparent;\n",
              "      border-right-color: var(--fill-color);\n",
              "    }\n",
              "    80% {\n",
              "      border-color: transparent;\n",
              "      border-right-color: var(--fill-color);\n",
              "      border-bottom-color: var(--fill-color);\n",
              "    }\n",
              "    90% {\n",
              "      border-color: transparent;\n",
              "      border-bottom-color: var(--fill-color);\n",
              "    }\n",
              "  }\n",
              "</style>\n",
              "\n",
              "  <script>\n",
              "    async function quickchart(key) {\n",
              "      const quickchartButtonEl =\n",
              "        document.querySelector('#' + key + ' button');\n",
              "      quickchartButtonEl.disabled = true;  // To prevent multiple clicks.\n",
              "      quickchartButtonEl.classList.add('colab-df-spinner');\n",
              "      try {\n",
              "        const charts = await google.colab.kernel.invokeFunction(\n",
              "            'suggestCharts', [key], {});\n",
              "      } catch (error) {\n",
              "        console.error('Error during call to suggestCharts:', error);\n",
              "      }\n",
              "      quickchartButtonEl.classList.remove('colab-df-spinner');\n",
              "      quickchartButtonEl.classList.add('colab-df-quickchart-complete');\n",
              "    }\n",
              "    (() => {\n",
              "      let quickchartButtonEl =\n",
              "        document.querySelector('#df-b79bc634-efe0-421e-a8ad-c10c4b1550bf button');\n",
              "      quickchartButtonEl.style.display =\n",
              "        google.colab.kernel.accessAllowed ? 'block' : 'none';\n",
              "    })();\n",
              "  </script>\n",
              "</div>\n",
              "    </div>\n",
              "  </div>\n"
            ],
            "application/vnd.google.colaboratory.intrinsic+json": {
              "type": "dataframe",
              "repr_error": "'str' object has no attribute 'empty'"
            }
          },
          "metadata": {}
        }
      ],
      "source": [
        "pd.options.display.max_colwidth = 170\n",
        "\n",
        "display(hypothesis.head(3))\n",
        "display(orders.head(3))\n",
        "display(visitors.head(3))"
      ]
    },
    {
      "cell_type": "code",
      "execution_count": null,
      "metadata": {
        "id": "hD6MwKH5WQkc",
        "colab": {
          "base_uri": "https://localhost:8080/"
        },
        "outputId": "91e6ea12-2e10-4110-a129-7ad2c3d45ef1"
      },
      "outputs": [
        {
          "output_type": "stream",
          "name": "stdout",
          "text": [
            "Hypothesis    0\n",
            "Reach         0\n",
            "Impact        0\n",
            "Confidence    0\n",
            "Efforts       0\n",
            "dtype: int64\n",
            "0\n",
            "transactionId    0\n",
            "visitorId        0\n",
            "date             0\n",
            "revenue          0\n",
            "group            0\n",
            "dtype: int64\n",
            "0\n",
            "date        0\n",
            "group       0\n",
            "visitors    0\n",
            "dtype: int64\n",
            "0\n"
          ]
        }
      ],
      "source": [
        "for df in [hypothesis]:\n",
        "    print(df.isnull().sum())\n",
        "    print(df.duplicated().sum())\n",
        "\n",
        "for df in [orders]:\n",
        "    print(df.isnull().sum())\n",
        "    print(df.duplicated().sum())\n",
        "\n",
        "for df in [visitors]:\n",
        "    print(df.isnull().sum())\n",
        "    print(df.duplicated().sum())"
      ]
    },
    {
      "cell_type": "code",
      "execution_count": null,
      "metadata": {
        "id": "v29e-hX9WQkc"
      },
      "outputs": [],
      "source": [
        "hypothesis.columns = [x.lower().replace(' ', '_') for x in hypothesis.columns.values]\n",
        "orders.columns = [x.lower().replace(' ', '_') for x in orders.columns.values]\n",
        "visitors.columns = [x.lower().replace(' ', '_') for x in visitors.columns.values]"
      ]
    },
    {
      "cell_type": "code",
      "execution_count": null,
      "metadata": {
        "id": "I1FCAnomWQkc",
        "colab": {
          "base_uri": "https://localhost:8080/"
        },
        "outputId": "7f352402-c308-4344-9ba9-839255a0d7f8"
      },
      "outputs": [
        {
          "output_type": "stream",
          "name": "stdout",
          "text": [
            "hypothesis    object\n",
            "reach          int32\n",
            "impact         int32\n",
            "confidence     int32\n",
            "efforts        int32\n",
            "dtype: object\n",
            "transactionid     int32\n",
            "visitorid         int32\n",
            "date             object\n",
            "revenue           int32\n",
            "group            object\n",
            "dtype: object\n",
            "date        object\n",
            "group       object\n",
            "visitors     int32\n",
            "dtype: object\n"
          ]
        }
      ],
      "source": [
        "dataframes = [hypothesis, orders, visitors]\n",
        "\n",
        "for df in dataframes:\n",
        "    for col in df.columns:\n",
        "        if df[col].dtype == 'int64':\n",
        "            df[col] = df[col].astype('int32')\n",
        "\n",
        "\n",
        "print(hypothesis.dtypes)\n",
        "print(orders.dtypes)\n",
        "print(visitors.dtypes)"
      ]
    },
    {
      "cell_type": "code",
      "execution_count": null,
      "metadata": {
        "id": "JdziBcfQWQkd",
        "colab": {
          "base_uri": "https://localhost:8080/"
        },
        "outputId": "586142bf-f3a6-458f-b9f1-b342042c7c91"
      },
      "outputs": [
        {
          "output_type": "stream",
          "name": "stdout",
          "text": [
            "Количество групп в АВ-тесте: 2\n"
          ]
        }
      ],
      "source": [
        "num_groups = orders['group'].nunique()\n",
        "print(f'Количество групп в АВ-тесте: {num_groups}')"
      ]
    },
    {
      "cell_type": "code",
      "execution_count": null,
      "metadata": {
        "id": "rCeTVVJcWQkd",
        "colab": {
          "base_uri": "https://localhost:8080/"
        },
        "outputId": "bc0c5a64-2eb3-4084-ae74-509faeb54706"
      },
      "outputs": [
        {
          "output_type": "stream",
          "name": "stdout",
          "text": [
            "Дата начала теста: 2019-08-01\n",
            "Дата окончания теста: 2019-08-31\n"
          ]
        }
      ],
      "source": [
        "start_date = orders['date'].min()\n",
        "end_date = orders['date'].max()\n",
        "print(f'Дата начала теста: {start_date}')\n",
        "print(f'Дата окончания теста: {end_date}')"
      ]
    },
    {
      "cell_type": "code",
      "execution_count": null,
      "metadata": {
        "id": "rtBvtQQfWQkd",
        "colab": {
          "base_uri": "https://localhost:8080/"
        },
        "outputId": "a76024e0-0c5d-4157-994a-893a7a46450a"
      },
      "outputs": [
        {
          "output_type": "stream",
          "name": "stdout",
          "text": [
            "Количество пользователей в каждой группе:\n",
            "group\n",
            "A    503\n",
            "B    586\n",
            "Name: visitorid, dtype: int64\n"
          ]
        }
      ],
      "source": [
        "num_users_per_group = orders.groupby('group')['visitorid'].nunique()\n",
        "print(f'Количество пользователей в каждой группе:\\n{num_users_per_group}')"
      ]
    },
    {
      "cell_type": "code",
      "execution_count": null,
      "metadata": {
        "id": "Uhi8PoHVWQke",
        "colab": {
          "base_uri": "https://localhost:8080/"
        },
        "outputId": "950bcdc0-242b-465b-f6dd-bca6d0ee3ffc"
      },
      "outputs": [
        {
          "output_type": "stream",
          "name": "stdout",
          "text": [
            "Процент пользователей, попавших в обе группы: 5.625606207565471%\n"
          ]
        }
      ],
      "source": [
        "users_group_A = set(orders[orders['group'] == 'A']['visitorid'])\n",
        "users_group_B = set(orders[orders['group'] == 'B']['visitorid'])\n",
        "\n",
        "users_both_groups = users_group_A.intersection(users_group_B)\n",
        "percentage = len(users_both_groups) / orders['visitorid'].nunique() * 100\n",
        "\n",
        "print(f'Процент пользователей, попавших в обе группы: {percentage}%')"
      ]
    },
    {
      "cell_type": "markdown",
      "metadata": {
        "id": "R_3Lry9TWQke"
      },
      "source": [
        "Есть небольшое пересечение групп. 5.6% пользователей попали в обе группы, это приемлемо в зависимости от контекста эксперимента."
      ]
    },
    {
      "cell_type": "markdown",
      "metadata": {
        "id": "i81TFehQWQkf"
      },
      "source": [
        "##  Приоритизация гипотез."
      ]
    },
    {
      "cell_type": "code",
      "execution_count": null,
      "metadata": {
        "id": "cH4PVdsNWQkf",
        "colab": {
          "base_uri": "https://localhost:8080/"
        },
        "outputId": "84f52cde-994a-4103-ff4d-081f16d93eac"
      },
      "outputs": [
        {
          "output_type": "stream",
          "name": "stdout",
          "text": [
            "                                                                                                     hypothesis  \\\n",
            "8                                                       Запустить акцию, дающую скидку на товар в день рождения   \n",
            "0            Добавить два новых канала привлечения трафика, что позволит привлекать на 30% больше пользователей   \n",
            "7              Добавить форму подписки на все основные страницы, чтобы собрать базу клиентов для email-рассылок   \n",
            "6          Показать на главной странице баннеры с актуальными акциями и распродажами, чтобы увеличить конверсию   \n",
            "2  Добавить блоки рекомендаций товаров на сайт интернет магазина, чтобы повысить конверсию и средний чек заказа   \n",
            "1                                     Запустить собственную службу доставки, что сократит срок доставки заказов   \n",
            "5                      Добавить страницу отзывов клиентов о магазине, что позволит увеличить количество заказов   \n",
            "3           Изменить структура категорий, что увеличит конверсию, т.к. пользователи быстрее найдут нужный товар   \n",
            "4                              Изменить цвет фона главной страницы, чтобы увеличить вовлеченность пользователей   \n",
            "\n",
            "     ICE  \n",
            "8  16.20  \n",
            "0  13.33  \n",
            "7  11.20  \n",
            "6   8.00  \n",
            "2   7.00  \n",
            "1   2.00  \n",
            "5   1.33  \n",
            "3   1.12  \n",
            "4   1.00  \n"
          ]
        }
      ],
      "source": [
        "hypothesis['ICE'] = (hypothesis['impact'] * hypothesis['confidence'] / hypothesis['efforts']).round(2)\n",
        "sorted_hypotheses = hypothesis.sort_values(by='ICE', ascending=False)\n",
        "sorted_hypotheses['ICE'] = sorted_hypotheses['ICE'].astype(float).map('{:.2f}'.format)\n",
        "\n",
        "print(sorted_hypotheses[['hypothesis', 'ICE']])"
      ]
    },
    {
      "cell_type": "markdown",
      "metadata": {
        "id": "-f1PPMSSWQkf"
      },
      "source": [
        "Восьмая гипотеза (Запустить акцию, дающую скидку на товар в день рождения) — самая перспективная по ICE.\n",
        "\n",
        "Затем идут гипотезы:\n",
        "- 0 (Добавить два новых канала привлечения трафика, что позволит привлекать на 30% больше пользователей),\n",
        "- 7 (Добавить форму подписки на все основные страницы, чтобы собрать базу клиентов для email-рассылок),\n",
        "- 6 (Показать на главной странице баннеры с актуальными акциями и распродажами, чтобы увеличить конверсию).  "
      ]
    },
    {
      "cell_type": "code",
      "execution_count": null,
      "metadata": {
        "id": "u52gxiuBWQkf",
        "colab": {
          "base_uri": "https://localhost:8080/"
        },
        "outputId": "1923d62a-0f78-4d0d-ece4-cab5ba3447c4"
      },
      "outputs": [
        {
          "output_type": "stream",
          "name": "stdout",
          "text": [
            "                                                                                                     hypothesis  \\\n",
            "7              Добавить форму подписки на все основные страницы, чтобы собрать базу клиентов для email-рассылок   \n",
            "2  Добавить блоки рекомендаций товаров на сайт интернет магазина, чтобы повысить конверсию и средний чек заказа   \n",
            "0            Добавить два новых канала привлечения трафика, что позволит привлекать на 30% больше пользователей   \n",
            "6          Показать на главной странице баннеры с актуальными акциями и распродажами, чтобы увеличить конверсию   \n",
            "8                                                       Запустить акцию, дающую скидку на товар в день рождения   \n",
            "3           Изменить структура категорий, что увеличит конверсию, т.к. пользователи быстрее найдут нужный товар   \n",
            "1                                     Запустить собственную службу доставки, что сократит срок доставки заказов   \n",
            "5                      Добавить страницу отзывов клиентов о магазине, что позволит увеличить количество заказов   \n",
            "4                              Изменить цвет фона главной страницы, чтобы увеличить вовлеченность пользователей   \n",
            "\n",
            "    RICE  \n",
            "7  112.0  \n",
            "2   56.0  \n",
            "0   40.0  \n",
            "6   40.0  \n",
            "8   16.2  \n",
            "3    9.0  \n",
            "1    4.0  \n",
            "5    4.0  \n",
            "4    3.0  \n"
          ]
        }
      ],
      "source": [
        "hypothesis ['RICE']= (hypothesis['reach']*hypothesis['impact']*hypothesis['confidence'])/hypothesis['efforts']\n",
        "sorted_data_r = hypothesis[['hypothesis', 'RICE']].sort_values(by='RICE', ascending=False)\n",
        "print(sorted_data_r)"
      ]
    },
    {
      "cell_type": "markdown",
      "metadata": {
        "id": "7KA6YWAwWQkg"
      },
      "source": [
        "И снова наиболее перспективные гипотезы:\n",
        "- 7 (Добавить форму подписки на все основные страницы, чтобы собрать базу клиентов для email-рассылок),\n",
        "- 6 (Показать на главной странице баннеры с актуальными акциями и распродажами, чтобы увеличить конверсию),\n",
        "- 0 (Добавить два новых канала привлечения трафика, что позволит привлекать на 30% больше пользователей).\n",
        "\n",
        "Гипотеза 2 (Добавить блоки рекомендаций товаров на сайт интернет магазина, чтобы повысить конверсию и средний чек заказа)- на втором месте.\n",
        "\n",
        "Однако восьмая гипотеза (Запустить акцию, дающую скидку на товар в день рождения) на месте уже под номером 5."
      ]
    },
    {
      "cell_type": "markdown",
      "metadata": {
        "id": "zQsdKJojWQkg"
      },
      "source": [
        "При переходе от ICE к RICE приоритизация гипотез изменилась. Это произошло из-за того, что RICE включает дополнительный компонент - Reach (охват). Он оценивает, сколько пользователей будут затронуты изменениями, которые планируют внести.\n",
        "\n",
        "Таким образом, при переходе от ICE к RICE, гипотезы с большим охватом получили более высокий приоритет. Это поможет учесть не только важность и уверенность в гипотезе, но и то, сколько пользователей она затронет."
      ]
    },
    {
      "cell_type": "markdown",
      "metadata": {
        "id": "rZJz5FrpWQkg"
      },
      "source": [
        "## Анализ A/B-теста"
      ]
    },
    {
      "cell_type": "markdown",
      "metadata": {
        "id": "_XD54nMFWQkg"
      },
      "source": [
        "Приступим к изучению данных из файлов с заказами и посетителями."
      ]
    },
    {
      "cell_type": "code",
      "execution_count": null,
      "metadata": {
        "id": "hUSgB2YKWQkg",
        "colab": {
          "base_uri": "https://localhost:8080/"
        },
        "outputId": "31a7d6c2-2143-49d9-a730-6f8ef83ac48a"
      },
      "outputs": [
        {
          "output_type": "stream",
          "name": "stdout",
          "text": [
            "        date group  orders  buyers  revenue  visitors\n",
            "0 2019-08-01     A      24      20   148579       719\n",
            "1 2019-08-01     B      21      20   101217       713\n",
            "2 2019-08-02     A      44      38   242401      1338\n",
            "3 2019-08-02     B      45      43   266748      1294\n",
            "4 2019-08-03     A      68      62   354874      1845\n"
          ]
        }
      ],
      "source": [
        "register_matplotlib_converters()\n",
        "\n",
        "orders['date'] = orders['date'].map(\n",
        "    lambda x: dt.datetime.strptime(x, '%Y-%m-%d')\n",
        ")\n",
        "\n",
        "visitors['date'] = visitors['date'].map(\n",
        "    lambda x: dt.datetime.strptime(x, '%Y-%m-%d')\n",
        ")\n",
        "\n",
        "datesGroups = orders[['date','group']].drop_duplicates()\n",
        "\n",
        "ordersAggregated = datesGroups.apply(\n",
        "    lambda x: orders[\n",
        "        np.logical_and(\n",
        "            orders['date'] <= x['date'], orders['group'] == x['group']\n",
        "        )\n",
        "    ].agg(\n",
        "        {\n",
        "            'date': 'max',\n",
        "            'group': 'max',\n",
        "            'transactionid': 'nunique',\n",
        "            'visitorid': 'nunique',\n",
        "            'revenue': 'sum',\n",
        "        }\n",
        "    ),\n",
        "    axis=1,\n",
        ").sort_values(by=['date', 'group'])\n",
        "\n",
        "visitorsAggregated = datesGroups.apply(\n",
        "    lambda x: visitors[\n",
        "        np.logical_and(\n",
        "            visitors['date'] <= x['date'], visitors['group'] == x['group']\n",
        "        )\n",
        "    ].agg({'date': 'max', 'group': 'max', 'visitors': 'sum'}),\n",
        "    axis=1,\n",
        ").sort_values(by=['date', 'group'])\n",
        "\n",
        "\n",
        "cumulativeData = ordersAggregated.merge(\n",
        "    visitorsAggregated, left_on=['date', 'group'], right_on=['date', 'group']\n",
        ")\n",
        "cumulativeData.columns = [\n",
        "    'date',\n",
        "    'group',\n",
        "    'orders',\n",
        "    'buyers',\n",
        "    'revenue',\n",
        "    'visitors',\n",
        "]\n",
        "\n",
        "print(cumulativeData.head(5))"
      ]
    },
    {
      "cell_type": "code",
      "execution_count": null,
      "metadata": {
        "id": "fG-T5GQ4WQkh",
        "colab": {
          "base_uri": "https://localhost:8080/",
          "height": 487
        },
        "outputId": "49b37e03-8622-4f94-b99c-8cf1fb03ad74"
      },
      "outputs": [
        {
          "output_type": "display_data",
          "data": {
            "text/plain": [
              "<Figure size 1200x500 with 1 Axes>"
            ],
            "image/png": "[encoded data removed]"
          },
          "metadata": {}
        }
      ],
      "source": [
        "cumulativeRevenueA = cumulativeData[cumulativeData['group'] == 'A'][\n",
        "    ['date', 'revenue', 'orders']]\n",
        "\n",
        "cumulativeRevenueB = cumulativeData[cumulativeData['group'] == 'B'][\n",
        "    ['date', 'revenue', 'orders']]\n",
        "\n",
        "plt.figure(figsize=(12, 5))\n",
        "\n",
        "plt.plot(cumulativeRevenueA['date'], cumulativeRevenueA['revenue'], label='A')\n",
        "plt.plot(cumulativeRevenueB['date'], cumulativeRevenueB['revenue'], label='B')\n",
        "\n",
        "plt.title('Выручка групп A и B')\n",
        "plt.xlabel('Дата')\n",
        "plt.ylabel('Выручка')\n",
        "plt.grid(True)\n",
        "plt.legend()\n",
        "plt.show()"
      ]
    },
    {
      "cell_type": "markdown",
      "metadata": {
        "id": "FhxgXcOuWQkh"
      },
      "source": [
        "В середине теста сегмент B вырвался вперёд и продолжал лидировать весь остаток теста. Похоже, что аномально большие заказы всё-таки влияют на результаты."
      ]
    },
    {
      "cell_type": "markdown",
      "metadata": {
        "id": "GL18VRAmWQkh"
      },
      "source": [
        "Построим график кумулятивного среднего чека по группам."
      ]
    },
    {
      "cell_type": "code",
      "execution_count": null,
      "metadata": {
        "id": "0x-XIQdhWQki",
        "colab": {
          "base_uri": "https://localhost:8080/",
          "height": 487
        },
        "outputId": "e83312aa-3396-4e82-ecb7-d4a738f19767"
      },
      "outputs": [
        {
          "output_type": "display_data",
          "data": {
            "text/plain": [
              "<Figure size 1200x500 with 1 Axes>"
            ],
            "image/png": "[encoded data removed]"
          },
          "metadata": {}
        }
      ],
      "source": [
        "plt.figure(figsize=(12, 5))\n",
        "\n",
        "plt.plot(cumulativeRevenueA['date'], cumulativeRevenueA['revenue']/cumulativeRevenueA['orders'], label='A')\n",
        "plt.plot(cumulativeRevenueB['date'], cumulativeRevenueB['revenue']/cumulativeRevenueB['orders'], label='B')\n",
        "\n",
        "plt.title('Выручка групп A и B')\n",
        "plt.xlabel('Дата')\n",
        "plt.ylabel('Выручка')\n",
        "\n",
        "plt.grid(True)\n",
        "\n",
        "plt.legend()\n",
        "plt.show()"
      ]
    },
    {
      "cell_type": "markdown",
      "metadata": {
        "id": "4xfS8UXiWQki"
      },
      "source": [
        "Кумулятивное значение среднего чека по сегментам продолжает колебаться. Возможно, в группу B в второй половине теста попали крупные заказы (резкий всплеск на графике). Принимать решение по этой метрике рано. Требуется дополнительный анализ выбросов, которые искажают результаты."
      ]
    },
    {
      "cell_type": "markdown",
      "metadata": {
        "id": "KAmZAlk_WQki"
      },
      "source": [
        "Построим график относительного изменения кумулятивного среднего чека группы B к группе A."
      ]
    },
    {
      "cell_type": "code",
      "execution_count": null,
      "metadata": {
        "id": "ZrGJ4XisWQki",
        "colab": {
          "base_uri": "https://localhost:8080/",
          "height": 487
        },
        "outputId": "273a7158-da98-4a29-ae6d-773452498339"
      },
      "outputs": [
        {
          "output_type": "display_data",
          "data": {
            "text/plain": [
              "<Figure size 1200x500 with 1 Axes>"
            ],
            "image/png": "[encoded data removed]"
          },
          "metadata": {}
        }
      ],
      "source": [
        "mergedCumulativeRevenue = cumulativeRevenueA.merge(cumulativeRevenueB, left_on='date', right_on='date', how='left', suffixes=['A', 'B'])\n",
        "\n",
        "plt.figure(figsize=(12, 5))\n",
        "\n",
        "plt.plot(mergedCumulativeRevenue['date'], (mergedCumulativeRevenue['revenueB']/mergedCumulativeRevenue['ordersB'])/(mergedCumulativeRevenue['revenueA']/mergedCumulativeRevenue['ordersA'])-1)\n",
        "\n",
        "plt.axhline(y=0, color='black', linestyle='--')\n",
        "plt.title('Отношение средних чеков групп A и B')\n",
        "plt.xlabel('Дата')\n",
        "plt.ylabel('Отношение средних чеков')\n",
        "\n",
        "plt.grid(True)\n",
        "plt.show()"
      ]
    },
    {
      "cell_type": "markdown",
      "metadata": {
        "id": "7gmeVFgrWQki"
      },
      "source": [
        "Результаты теста значительно и резко менялись в несколько дат. В нескольких точках график различия между сегментами резко «скачет». Видимо, именно тогда были совершены аномальные заказы."
      ]
    },
    {
      "cell_type": "markdown",
      "metadata": {
        "id": "UnfI6QkiWQki"
      },
      "source": [
        "Построим график кумулятивного среднего количества заказов на посетителя по группам."
      ]
    },
    {
      "cell_type": "markdown",
      "metadata": {
        "id": "8FJpEhcPWQkj"
      },
      "source": [
        "Зададим масштаб осей методом plt.axis(). Передадим ему минимальное и максимальное значения оси x; минимальное и максимальное значения оси y — [\"2019-08-01\", '2019-09-01', 0, 0.05]:"
      ]
    },
    {
      "cell_type": "code",
      "execution_count": null,
      "metadata": {
        "id": "_4lMXZcBWQkj",
        "colab": {
          "base_uri": "https://localhost:8080/",
          "height": 410
        },
        "outputId": "50e919b0-90fc-43da-cafb-035766791afd"
      },
      "outputs": [
        {
          "output_type": "display_data",
          "data": {
            "text/plain": [
              "<Figure size 1200x400 with 1 Axes>"
            ],
            "image/png": "[encoded data removed]"
          },
          "metadata": {}
        }
      ],
      "source": [
        "cumulativeData['conversion'] = cumulativeData['orders']/cumulativeData['visitors']\n",
        "\n",
        "cumulativeDataA = cumulativeData[cumulativeData['group']=='A']\n",
        "cumulativeDataB = cumulativeData[cumulativeData['group']=='B']\n",
        "\n",
        "plt.figure(figsize=(12, 4))\n",
        "\n",
        "plt.plot(cumulativeDataA['date'], cumulativeDataA['conversion'], label='A')\n",
        "plt.plot(cumulativeDataB['date'], cumulativeDataB['conversion'], label='B')\n",
        "\n",
        "plt.title('Среднее количество заказов на посетителя для групп A и B')\n",
        "plt.xlabel('Дата')\n",
        "plt.ylabel('Среднее количество заказов на посетителя')\n",
        "\n",
        "plt.grid(True)\n",
        "plt.legend()\n",
        "\n",
        "plt.axis([dt.datetime(2019, 8, 1), dt.datetime(2019, 9, 1), 0, 0.05])\n",
        "plt.show()"
      ]
    },
    {
      "cell_type": "markdown",
      "metadata": {
        "id": "mBP5WUi2WQkj"
      },
      "source": [
        "В начале теста сегмент A имел большее кумулятивное среднее количество заказов. Группы колебались около одного значения, но затем у группы В среднее количество заказов вырвалось вперёд и зафиксировалось, а у группы А — просело, но тоже зафиксировалось. Абсолютное значение колебания в начале и в конце теста не слишком большое: от 3% до 4%."
      ]
    },
    {
      "cell_type": "markdown",
      "metadata": {
        "id": "QpCO5dduWQkj"
      },
      "source": [
        "Построим график относительного изменения кумулятивного среднего количества заказов на посетителя группы B к группе A."
      ]
    },
    {
      "cell_type": "code",
      "execution_count": null,
      "metadata": {
        "id": "IV_EK50HWQkj",
        "colab": {
          "base_uri": "https://localhost:8080/",
          "height": 410
        },
        "outputId": "ad676816-d241-4362-9e8e-60e18064e973"
      },
      "outputs": [
        {
          "output_type": "display_data",
          "data": {
            "text/plain": [
              "<Figure size 1200x400 with 1 Axes>"
            ],
            "image/png": "[encoded data removed]"
          },
          "metadata": {}
        }
      ],
      "source": [
        "cumulativeData['conversion'] = (\n",
        "    cumulativeData['orders'] / cumulativeData['visitors'])\n",
        "\n",
        "cumulativeDataA = cumulativeData[cumulativeData['group'] == 'A']\n",
        "cumulativeDataB = cumulativeData[cumulativeData['group'] == 'B']\n",
        "\n",
        "mergedCumulativeConversions = cumulativeDataA[['date','conversion']].merge(cumulativeDataB[['date','conversion']], left_on='date', right_on='date', how='left', suffixes=['A', 'B'])\n",
        "\n",
        "plt.figure(figsize=(12, 4))\n",
        "\n",
        "plt.plot(mergedCumulativeConversions['date'], mergedCumulativeConversions['conversionB']/mergedCumulativeConversions['conversionA']-1, label=\"Относительный прирост кумулятивного среднего количества заказов на посетителя группы B относительно группы A\")\n",
        "\n",
        "plt.title('Относительный прирост кумулятивного среднего количества заказов на посетителя группы B относительно группы A')\n",
        "plt.xlabel('Дата')\n",
        "plt.ylabel('Относительный прирост')\n",
        "\n",
        "plt.grid(True)\n",
        "plt.legend()\n",
        "\n",
        "plt.axhline(y=0, color='black', linestyle='--')\n",
        "plt.axhline(y=0.2, color='grey', linestyle='--')\n",
        "\n",
        "plt.axis([\"2019-08-01\", '2019-09-01', -0.5, 0.5])\n",
        "plt.show()"
      ]
    },
    {
      "cell_type": "markdown",
      "metadata": {
        "id": "2Q0Kn_FlWQkk"
      },
      "source": [
        "Группа B лидирует по метрике: становится лучше и лучше, и зафиксировалась около прироста в 20% относительно группы A."
      ]
    },
    {
      "cell_type": "markdown",
      "metadata": {
        "id": "-nzgSaA-WQkk"
      },
      "source": [
        "Построение точечного графика количества заказов по пользователям."
      ]
    },
    {
      "cell_type": "code",
      "execution_count": null,
      "metadata": {
        "id": "I0hCT8HVWQkk",
        "colab": {
          "base_uri": "https://localhost:8080/"
        },
        "outputId": "1deed702-7425-4bc8-e725-acc7ec8919ac"
      },
      "outputs": [
        {
          "output_type": "stream",
          "name": "stdout",
          "text": [
            "       visitorid  orders\n",
            "508    -38926894      11\n",
            "76   -1836965644      11\n",
            "54   -1916032177       9\n",
            "1003  2038680547       8\n",
            "571    237748145       5\n",
            "229  -1232533704       5\n",
            "382   -577274894       5\n",
            "815   1230306981       5\n",
            "402   -491698131       5\n",
            "560    199603092       5\n"
          ]
        }
      ],
      "source": [
        "ordersByUsers = (\n",
        "    orders.groupby('visitorid', as_index=False)\n",
        "    .agg({'transactionid': 'nunique'}))\n",
        "\n",
        "ordersByUsers.columns = ['visitorid', 'orders']\n",
        "\n",
        "print(ordersByUsers.sort_values(by='orders', ascending=False).head(10))"
      ]
    },
    {
      "cell_type": "markdown",
      "metadata": {
        "id": "9BnWs2ttWQko"
      },
      "source": [
        "Получили число заказов по пользователям. Есть пользователи, которые совершали 9, 8 и 11 заказов. Значительно больше, чем обычный пользователь за неделю."
      ]
    },
    {
      "cell_type": "markdown",
      "metadata": {
        "id": "jprevVFxWQko"
      },
      "source": [
        "Строим **диаграмму методом scatter()**."
      ]
    },
    {
      "cell_type": "code",
      "execution_count": null,
      "metadata": {
        "id": "ijLwVlUyWQko",
        "colab": {
          "base_uri": "https://localhost:8080/",
          "height": 410
        },
        "outputId": "e7113515-e281-4047-a6a7-3816d892e455"
      },
      "outputs": [
        {
          "output_type": "display_data",
          "data": {
            "text/plain": [
              "<Figure size 800x400 with 1 Axes>"
            ],
            "image/png": "[encoded data removed]"
          },
          "metadata": {}
        }
      ],
      "source": [
        "x_values = pd.Series(range(0,len(ordersByUsers)))\n",
        "\n",
        "plt.figure(figsize=(8, 4))\n",
        "plt.scatter(x_values, ordersByUsers['orders'])\n",
        "\n",
        "plt.title('Точечный график количества заказов по пользователям')\n",
        "plt.xlabel('Пользователи')\n",
        "plt.ylabel('Количество заказов')\n",
        "\n",
        "plt.grid(True)\n",
        "plt.show()"
      ]
    },
    {
      "cell_type": "markdown",
      "metadata": {
        "id": "rdsvaCJjWQko"
      },
      "source": [
        "Можно сделать вывод: много пользователей с 2-3 заказами. Их точная доля не ясна — непонятно, считать их аномалиями или нет."
      ]
    },
    {
      "cell_type": "markdown",
      "metadata": {
        "id": "WouyVWD-WQkp"
      },
      "source": [
        "Посчитаем 95-й и 99-й перцентили количества заказов на пользователя. Определим границу для определения аномальных пользователей."
      ]
    },
    {
      "cell_type": "code",
      "execution_count": null,
      "metadata": {
        "id": "xAdeV2jLWQkp",
        "colab": {
          "base_uri": "https://localhost:8080/"
        },
        "outputId": "cff30e8a-d6b9-427c-fd4d-770e64657211"
      },
      "outputs": [
        {
          "output_type": "stream",
          "name": "stdout",
          "text": [
            "[2. 4.]\n"
          ]
        }
      ],
      "source": [
        "print(np.percentile(ordersByUsers['orders'], [95, 99]))"
      ]
    },
    {
      "cell_type": "markdown",
      "metadata": {
        "id": "HXKNOY5BWQkp"
      },
      "source": [
        "Выводы подтверждаются, что 5 % пользователей совершают не более двух заказов, и 1% совершает не более четырех заказов.\n",
        "Границу между “нормальными” и “аномальными” пользователями установим на уровне четырех заказов."
      ]
    },
    {
      "cell_type": "markdown",
      "metadata": {
        "id": "oKqBpouXWQkp"
      },
      "source": [
        "Построим точечный график стоимостей заказов."
      ]
    },
    {
      "cell_type": "code",
      "execution_count": null,
      "metadata": {
        "id": "3QMdbpQeWQkp",
        "colab": {
          "base_uri": "https://localhost:8080/",
          "height": 601
        },
        "outputId": "47cdb870-c1a7-4ae1-dff8-74ac7398c18f"
      },
      "outputs": [
        {
          "output_type": "stream",
          "name": "stdout",
          "text": [
            "      transactionid   visitorid       date  revenue group\n",
            "425       590470918  1920142716 2019-08-19  1294500     B\n",
            "1196     -358190231  2108080724 2019-08-15   202740     B\n",
            "858       192721366  1316129916 2019-08-27    93940     A\n",
            "1136      666610489  1307669133 2019-08-13    92550     A\n",
            "744      -626659113   888512513 2019-08-27    86620     B\n",
            "682      1216533772   -28031466 2019-08-29    78990     B\n",
            "662      1811671147   -28031466 2019-08-29    78990     A\n",
            "743      -691390987  -161932463 2019-08-09    67990     A\n",
            "1103     1348774318  1164614297 2019-08-12    66350     A\n",
            "1099      316924019   148427295 2019-08-12    65710     A\n"
          ]
        },
        {
          "output_type": "display_data",
          "data": {
            "text/plain": [
              "<Figure size 800x400 with 1 Axes>"
            ],
            "image/png": "[encoded data removed]"
          },
          "metadata": {}
        }
      ],
      "source": [
        "print(orders.sort_values(by='revenue', ascending=False).head(10))\n",
        "\n",
        "x_values = pd.Series(range(0,len(orders['revenue'])))\n",
        "\n",
        "plt.figure(figsize=(8, 4))\n",
        "plt.scatter(x_values, orders['revenue'])\n",
        "plt.title('Точечный график стоимостей заказов по пользователям')\n",
        "plt.xlabel('Пользователи')\n",
        "plt.ylabel('Стоимость заказов')\n",
        "\n",
        "plt.grid(True)\n",
        "plt.show()"
      ]
    },
    {
      "cell_type": "markdown",
      "metadata": {
        "id": "L5QN-QEcWQkp"
      },
      "source": [
        "Заказ на 1 миллион в интернет-магазине может быть аномальным. Есть выбросы в районе 200000  рублей и в районе 1294500 рублей, так как они значительно превышают стоимость большинства заказов. Это может быть связано с покупкой дорогих товаров или большим количеством товаров в одном заказе."
      ]
    },
    {
      "cell_type": "markdown",
      "metadata": {
        "id": "wClT3PMFWQkq"
      },
      "source": [
        "Посчитаем 95-й и 99-й перцентили стоимости заказов."
      ]
    },
    {
      "cell_type": "code",
      "execution_count": null,
      "metadata": {
        "id": "NeLCAZ-2WQkq",
        "colab": {
          "base_uri": "https://localhost:8080/"
        },
        "outputId": "c7cfa552-7018-4a71-9140-e8ee2f9a2ef9"
      },
      "outputs": [
        {
          "output_type": "stream",
          "name": "stdout",
          "text": [
            "[28000.  58233.2]\n"
          ]
        }
      ],
      "source": [
        "print(np.percentile(orders['revenue'], [95, 99]))"
      ]
    },
    {
      "cell_type": "markdown",
      "metadata": {
        "id": "h4OhpEe1WQkq"
      },
      "source": [
        "Не более, чем у 5% заказов чек дороже 28 000 рублей. И не больше, чем у 1% заказов — дороже 58 233 рублей. Установим границу для определения аномальных заказов на уровне 58 000 рублей. Заказы, превышающие эту сумму, будут считаться аномальными и будут исключены из дальнейших анализов.\n",
        "\n",
        "Вывод: Большинство клиентов тратят относительно небольшие суммы, и очень дорогие заказы являются редкостью. Заказ на 1 миллион рублей действительно аномальный, так как он значительно превышает даже 99-й перцентиль стоимости заказов."
      ]
    },
    {
      "cell_type": "markdown",
      "metadata": {
        "id": "Q7HjUcUjWQkq"
      },
      "source": [
        "Посчитаем статистическую значимость различий в среднем количестве заказов на посетителя между группами по «сырым» данным. Сформулируем гипотезы. Нулевая: различий в среднем количестве заказов между группами нет. Альтернативная: различия в среднем между группами есть."
      ]
    },
    {
      "cell_type": "code",
      "execution_count": null,
      "metadata": {
        "id": "8FASSTtvWQkq",
        "colab": {
          "base_uri": "https://localhost:8080/"
        },
        "outputId": "46a1c976-9278-4e82-96d8-484a52e88d80"
      },
      "outputs": [
        {
          "output_type": "stream",
          "name": "stdout",
          "text": [
            "        date  ordersPerDateA  revenuePerDateA  ordersPerDateB  \\\n",
            "0 2019-08-01              24           148579              21   \n",
            "1 2019-08-02              20            93822              24   \n",
            "2 2019-08-03              24           112473              16   \n",
            "\n",
            "   revenuePerDateB  ordersCummulativeA  revenueCummulativeA  \\\n",
            "0           101217                  24               148579   \n",
            "1           165531                  44               242401   \n",
            "2           114248                  68               354874   \n",
            "\n",
            "   ordersCummulativeB  revenueCummulativeB  visitorsPerDateA  \\\n",
            "0                  21               101217               719   \n",
            "1                  45               266748               619   \n",
            "2                  61               380996               507   \n",
            "\n",
            "   visitorsPerDateB  visitorsCummulativeA  visitorsCummulativeB  \n",
            "0               713                   719                   713  \n",
            "1               581                  1338                  1294  \n",
            "2               509                  1845                  1803  \n"
          ]
        }
      ],
      "source": [
        "visitorsADaily = visitors[visitors['group'] == 'A'][['date', 'visitors']]\n",
        "visitorsADaily.columns = ['date', 'visitorsPerDateA']\n",
        "\n",
        "visitorsACummulative = visitorsADaily.apply(\n",
        "    lambda x: visitorsADaily[visitorsADaily['date'] <= x['date']].agg(\n",
        "        {'date': 'max', 'visitorsPerDateA': 'sum'}\n",
        "    ),\n",
        "    axis=1,\n",
        ")\n",
        "visitorsACummulative.columns = ['date', 'visitorsCummulativeA']\n",
        "\n",
        "visitorsBDaily = visitors[visitors['group'] == 'B'][['date', 'visitors']]\n",
        "visitorsBDaily.columns = ['date', 'visitorsPerDateB']\n",
        "\n",
        "visitorsBCummulative = visitorsBDaily.apply(\n",
        "    lambda x: visitorsBDaily[visitorsBDaily['date'] <= x['date']].agg(\n",
        "        {'date': 'max', 'visitorsPerDateB': 'sum'}\n",
        "    ),\n",
        "    axis=1,\n",
        ")\n",
        "visitorsBCummulative.columns = ['date', 'visitorsCummulativeB']\n",
        "\n",
        "ordersADaily = (\n",
        "    orders[orders['group'] == 'A'][['date', 'transactionid', 'visitorid', 'revenue']]\n",
        "    .groupby('date', as_index=False)\n",
        "    .agg({'transactionid': pd.Series.nunique, 'revenue': 'sum'})\n",
        ")\n",
        "ordersADaily.columns = ['date', 'ordersPerDateA', 'revenuePerDateA']\n",
        "\n",
        "ordersACummulative = ordersADaily.apply(\n",
        "    lambda x: ordersADaily[ordersADaily['date'] <= x['date']].agg(\n",
        "        {'date': 'max', 'ordersPerDateA': 'sum', 'revenuePerDateA': 'sum'}\n",
        "    ),\n",
        "    axis=1,\n",
        ").sort_values(by=['date'])\n",
        "ordersACummulative.columns = [\n",
        "    'date',\n",
        "    'ordersCummulativeA',\n",
        "    'revenueCummulativeA',\n",
        "]\n",
        "\n",
        "ordersBDaily = (\n",
        "    orders[orders['group'] == 'B'][['date', 'transactionid', 'visitorid', 'revenue']]\n",
        "    .groupby('date', as_index=False)\n",
        "    .agg({'transactionid': pd.Series.nunique, 'revenue': 'sum'})\n",
        ")\n",
        "ordersBDaily.columns = ['date', 'ordersPerDateB', 'revenuePerDateB']\n",
        "\n",
        "ordersBCummulative = ordersBDaily.apply(\n",
        "    lambda x: ordersBDaily[ordersBDaily['date'] <= x['date']].agg(\n",
        "        {'date': 'max', 'ordersPerDateB': 'sum', 'revenuePerDateB': 'sum'}\n",
        "    ),\n",
        "    axis=1,\n",
        ").sort_values(by=['date'])\n",
        "ordersBCummulative.columns = [\n",
        "    'date',\n",
        "    'ordersCummulativeB',\n",
        "    'revenueCummulativeB',\n",
        "]\n",
        "\n",
        "data = (\n",
        "    ordersADaily.merge(\n",
        "        ordersBDaily, left_on='date', right_on='date', how='left'\n",
        "    )\n",
        "    .merge(ordersACummulative, left_on='date', right_on='date', how='left')\n",
        "    .merge(ordersBCummulative, left_on='date', right_on='date', how='left')\n",
        "    .merge(visitorsADaily, left_on='date', right_on='date', how='left')\n",
        "    .merge(visitorsBDaily, left_on='date', right_on='date', how='left')\n",
        "    .merge(visitorsACummulative, left_on='date', right_on='date', how='left')\n",
        "    .merge(visitorsBCummulative, left_on='date', right_on='date', how='left')\n",
        ")\n",
        "\n",
        "print(data.head(3))"
      ]
    },
    {
      "cell_type": "code",
      "execution_count": null,
      "metadata": {
        "id": "KNja_rhQWQkr",
        "colab": {
          "base_uri": "https://localhost:8080/"
        },
        "outputId": "9ba2f498-515c-4b5f-f8ff-4be62448d4d9"
      },
      "outputs": [
        {
          "output_type": "stream",
          "name": "stdout",
          "text": [
            "P-value: 0.01679\n",
            "Относительный прирост среднего группы B к конверсии группы A: 0.138\n",
            "Относительное изменение конверсии группы B к группе A: 0.138\n"
          ]
        }
      ],
      "source": [
        "ordersByUsersA = (\n",
        "    orders[orders['group'] == 'A']\n",
        "    .groupby('visitorid', as_index=False)\n",
        "    .agg({'transactionid': pd.Series.nunique})\n",
        ")\n",
        "ordersByUsersA.columns = ['visitorid', 'orders']\n",
        "\n",
        "ordersByUsersB = (\n",
        "    orders[orders['group'] == 'B']\n",
        "    .groupby('visitorid', as_index=False)\n",
        "    .agg({'transactionid': pd.Series.nunique})\n",
        ")\n",
        "ordersByUsersB.columns = ['visitorid', 'orders']\n",
        "\n",
        "sampleA = pd.concat(\n",
        "    [\n",
        "        ordersByUsersA['orders'],\n",
        "        pd.Series(\n",
        "            0,\n",
        "            index=np.arange(\n",
        "                data['visitorsPerDateA'].sum() - len(ordersByUsersA['orders'])\n",
        "            ),\n",
        "            name='orders',\n",
        "        ),\n",
        "    ],\n",
        "    axis=0,\n",
        ")\n",
        "\n",
        "sampleB = pd.concat(\n",
        "    [\n",
        "        ordersByUsersB['orders'],\n",
        "        pd.Series(\n",
        "            0,\n",
        "            index=np.arange(\n",
        "                data['visitorsPerDateB'].sum() - len(ordersByUsersB['orders'])\n",
        "            ),\n",
        "            name='orders',\n",
        "        ),\n",
        "    ],\n",
        "    axis=0,\n",
        ")\n",
        "\n",
        "\n",
        "print('P-value: {0:.5f}'.format(stats.mannwhitneyu(sampleA, sampleB)[1]))\n",
        "print('Относительный прирост среднего группы B к конверсии группы A: {0:.3f}'.format(sampleB.mean() / sampleA.mean() - 1))\n",
        "print('Относительное изменение конверсии группы B к группе A: {0:.3f}'.format((data['ordersPerDateB'].sum()/data['visitorsPerDateB'].sum())/(data['ordersPerDateA'].sum()/data['visitorsPerDateA'].sum())-1))"
      ]
    },
    {
      "cell_type": "markdown",
      "metadata": {
        "id": "SnvClGp7WQkr"
      },
      "source": [
        "P-value меньше 0.05, потому нулевую гипотезу отвергаем. Анализ «сырых данных» сообщает, что в среднем количестве заказов между группами есть статистически значимые различия. Относительный прирост среднего группы B к конверсии группы A равен 13.8%.\n",
        "Осталось сравнить средние чеки по «сырым данным», а затем обе метрики ещё раз после удаления выбросов."
      ]
    },
    {
      "cell_type": "markdown",
      "metadata": {
        "id": "KviG1QAbWQkr"
      },
      "source": [
        "Посчитаем статистическую значимость различий в среднем чеке заказа между группами по «сырым» данным."
      ]
    },
    {
      "cell_type": "code",
      "execution_count": null,
      "metadata": {
        "id": "0ntn8R-wWQkr",
        "colab": {
          "base_uri": "https://localhost:8080/"
        },
        "outputId": "2f531352-c9c2-415b-f546-b40cd04fdb5b"
      },
      "outputs": [
        {
          "output_type": "stream",
          "name": "stdout",
          "text": [
            "P-value: 0.729\n",
            "Относительное различие среднего чека между сегментами: 0.259\n"
          ]
        }
      ],
      "source": [
        "print('P-value: {0:.3f}'.format(stats.mannwhitneyu(orders[orders['group']=='A']['revenue'], orders[orders['group']=='B']['revenue'])[1]))\n",
        "print('Относительное различие среднего чека между сегментами: {0:.3f}'.format(orders[orders['group']=='B']['revenue'].mean()/orders[orders['group']=='A']['revenue'].mean()-1))"
      ]
    },
    {
      "cell_type": "markdown",
      "metadata": {
        "id": "jDTZiux6WQks"
      },
      "source": [
        "P-value значительно больше 0.05. Причин отвергать нулевую гипотезу и считать, что в среднем чеке есть различия, нет. Относительное различие среднего чека между сегментами 25.9%"
      ]
    },
    {
      "cell_type": "markdown",
      "metadata": {
        "id": "llGA1EV4WQks"
      },
      "source": [
        "Посчитаем статистическую значимость различий в среднем количестве заказов на посетителя между группами по «очищенным» данным."
      ]
    },
    {
      "cell_type": "code",
      "execution_count": null,
      "metadata": {
        "id": "OeZYyMCxWQks",
        "colab": {
          "base_uri": "https://localhost:8080/"
        },
        "outputId": "119297e3-806e-4e32-c698-700d3a1c1e67"
      },
      "outputs": [
        {
          "output_type": "stream",
          "name": "stdout",
          "text": [
            "28    -1916032177\n",
            "35    -1836965644\n",
            "940    -291338710\n",
            "743    -161932463\n",
            "256     -38926894\n",
            "Name: visitorid, dtype: int32\n",
            "15\n"
          ]
        }
      ],
      "source": [
        "usersWithManyOrders = pd.concat(\n",
        "    [\n",
        "        ordersByUsersA[ordersByUsersA['orders'] > 4]['visitorid'],\n",
        "        ordersByUsersB[ordersByUsersB['orders'] > 4]['visitorid'],\n",
        "    ],\n",
        "    axis=0,\n",
        ")\n",
        "usersWithExpensiveOrders = orders[orders['revenue'] > 58000]['visitorid']\n",
        "abnormalUsers = (\n",
        "    pd.concat([usersWithManyOrders, usersWithExpensiveOrders], axis=0)\n",
        "    .drop_duplicates()\n",
        "    .sort_values()\n",
        ")\n",
        "print(abnormalUsers.head(5))\n",
        "print(abnormalUsers.shape[0])"
      ]
    },
    {
      "cell_type": "markdown",
      "metadata": {
        "id": "JX_pvOFxWQks"
      },
      "source": [
        "Отбросим 15 аномальных пользователей."
      ]
    },
    {
      "cell_type": "markdown",
      "metadata": {
        "id": "DKecGX-jWQks"
      },
      "source": [
        "Посчитаем статистическую значимость различия среднего количества заказов после удаления аномальных пользователей."
      ]
    },
    {
      "cell_type": "code",
      "execution_count": null,
      "metadata": {
        "id": "bplIM00WWQks",
        "colab": {
          "base_uri": "https://localhost:8080/"
        },
        "outputId": "d4c6d872-6780-4559-e35a-9fcc368ba237"
      },
      "outputs": [
        {
          "output_type": "stream",
          "name": "stdout",
          "text": [
            "P-value: 0.01438\n",
            "Относительное изменение среднего значения выборки B по отношению к среднему значению выборки A: 0.153\n"
          ]
        }
      ],
      "source": [
        "sampleAFiltered = pd.concat(\n",
        "    [\n",
        "        ordersByUsersA[\n",
        "            np.logical_not(ordersByUsersA['visitorid'].isin(abnormalUsers))\n",
        "        ]['orders'],\n",
        "        pd.Series(\n",
        "            0,\n",
        "            index=np.arange(\n",
        "                data['visitorsPerDateA'].sum() - len(ordersByUsersA['orders'])\n",
        "            ),\n",
        "            name='orders',\n",
        "        ),\n",
        "    ],\n",
        "    axis=0,\n",
        ")\n",
        "\n",
        "sampleBFiltered = pd.concat(\n",
        "    [\n",
        "        ordersByUsersB[\n",
        "            np.logical_not(ordersByUsersB['visitorid'].isin(abnormalUsers))\n",
        "        ]['orders'],\n",
        "        pd.Series(\n",
        "            0,\n",
        "            index=np.arange(\n",
        "                data['visitorsPerDateB'].sum() - len(ordersByUsersB['orders'])\n",
        "            ),\n",
        "            name='orders',\n",
        "        ),\n",
        "    ],\n",
        "    axis=0,\n",
        ")\n",
        "\n",
        "print('P-value: {0:.5f}'.format(stats.mannwhitneyu(sampleAFiltered, sampleBFiltered)[1]))\n",
        "print('Относительное изменение среднего значения выборки B по отношению к среднему значению выборки A: {0:.3f}'.format(sampleBFiltered.mean()/sampleAFiltered.mean()-1))"
      ]
    },
    {
      "cell_type": "markdown",
      "metadata": {
        "id": "EUDjn3SxWQkt"
      },
      "source": [
        "Как и в случае с сырыми данными, статистическая значимость достигнута. Сегмент B лучше сегмента A."
      ]
    },
    {
      "cell_type": "markdown",
      "metadata": {
        "id": "B3woJak_WQkt"
      },
      "source": [
        "Посчитаем статистическую значимость различий в среднем чеке заказа между группами по «очищенным» данным."
      ]
    },
    {
      "cell_type": "code",
      "execution_count": null,
      "metadata": {
        "id": "9iJIgSe8WQkt",
        "colab": {
          "base_uri": "https://localhost:8080/"
        },
        "outputId": "cee862c2-63c7-4f56-816b-0d3a6877159e"
      },
      "outputs": [
        {
          "output_type": "stream",
          "name": "stdout",
          "text": [
            "P-value: 0.85091\n",
            "Относительное изменение среднего чека между группами A и B после исключения аномальных пользователей: -0.006\n"
          ]
        }
      ],
      "source": [
        "print(\n",
        "    'P-value: {0:.5f}'.format(\n",
        "        stats.mannwhitneyu(\n",
        "            orders[\n",
        "                np.logical_and(\n",
        "                    orders['group'] == 'A',\n",
        "                    np.logical_not(orders['visitorid'].isin(abnormalUsers)),\n",
        "                )\n",
        "            ]['revenue'],\n",
        "            orders[\n",
        "                np.logical_and(\n",
        "                    orders['group'] == 'B',\n",
        "                    np.logical_not(orders['visitorid'].isin(abnormalUsers)),\n",
        "                )\n",
        "            ]['revenue'],\n",
        "        )[1]\n",
        "    )\n",
        ")\n",
        "\n",
        "print(\n",
        "    \"Относительное изменение среднего чека между группами A и B после исключения аномальных пользователей: {0:.3f}\".format(\n",
        "        orders[\n",
        "            np.logical_and(\n",
        "                orders['group'] == 'B',\n",
        "                np.logical_not(orders['visitorid'].isin(abnormalUsers)),\n",
        "            )\n",
        "        ]['revenue'].mean()\n",
        "        / orders[\n",
        "            np.logical_and(\n",
        "                orders['group'] == 'A',\n",
        "                np.logical_not(orders['visitorid'].isin(abnormalUsers)),\n",
        "            )\n",
        "        ]['revenue'].mean()\n",
        "        - 1\n",
        "    )\n",
        ")"
      ]
    },
    {
      "cell_type": "markdown",
      "metadata": {
        "id": "FsjTnorwWQkt"
      },
      "source": [
        "P-value увеличился, но и разница между сегментами сократилась с 25% до 6%.\n",
        "Общие выводы по результатам теста не изменились."
      ]
    },
    {
      "cell_type": "markdown",
      "metadata": {
        "id": "HmCan3qBWQku"
      },
      "source": [
        "###  Решение по результатам теста.\n",
        "\n",
        "Варианты решений:\n",
        "\n",
        "- Остановить тест, зафиксировать победу одной из групп.\n",
        "- Остановить тест, зафиксировать отсутствие различий между группами.\n",
        "- Продолжить тест."
      ]
    },
    {
      "cell_type": "markdown",
      "metadata": {
        "id": "0vwe3BeXWQku"
      },
      "source": [
        "Анализ данных показывает, что сегмент B в целом превосходит сегмент A, особенно в отношении конверсии.\n",
        "\n",
        "p-value для среднего чека значительно больше 0.05, что говорит о том, что нет статистически значимых различий между сегментами по этой метрике. С другой стороны, p-value для конверсии меньше 0.05, что указывает на статистически значимые различия между сегментами.\n",
        "\n",
        "Учитывая эти факты, я бы рекомендовала следующее:\n",
        "\n",
        "-**Продолжить тест.**  Мы хотим получить более четкую картину относительно среднего чека. Конверсия не является ключевым фактором, нам важно быть полностью уверенными в среднем чеке, тогда продолжение теста может быть лучшим решением. Однако это может потребовать больше времени и ресурсов."
      ]
    }
  ],
  "metadata": {
    "ExecuteTimeLog": [
      {
        "duration": 773,
        "start_time": "2023-12-21T19:19:44.942Z"
      },
      {
        "duration": 3,
        "start_time": "2023-12-21T19:19:45.717Z"
      },
      {
        "duration": 218,
        "start_time": "2023-12-21T19:19:45.721Z"
      },
      {
        "duration": 13,
        "start_time": "2023-12-21T19:19:45.942Z"
      },
      {
        "duration": 81,
        "start_time": "2023-12-21T19:19:45.956Z"
      },
      {
        "duration": 0,
        "start_time": "2023-12-21T19:19:46.039Z"
      },
      {
        "duration": 0,
        "start_time": "2023-12-21T19:19:46.040Z"
      },
      {
        "duration": 0,
        "start_time": "2023-12-21T19:19:46.042Z"
      },
      {
        "duration": 0,
        "start_time": "2023-12-21T19:19:46.043Z"
      },
      {
        "duration": 0,
        "start_time": "2023-12-21T19:19:46.045Z"
      },
      {
        "duration": 0,
        "start_time": "2023-12-21T19:19:46.046Z"
      },
      {
        "duration": 0,
        "start_time": "2023-12-21T19:19:46.047Z"
      },
      {
        "duration": 0,
        "start_time": "2023-12-21T19:19:46.048Z"
      },
      {
        "duration": 0,
        "start_time": "2023-12-21T19:19:46.049Z"
      },
      {
        "duration": 1,
        "start_time": "2023-12-21T19:19:46.050Z"
      },
      {
        "duration": 0,
        "start_time": "2023-12-21T19:19:46.051Z"
      },
      {
        "duration": 1,
        "start_time": "2023-12-21T19:19:46.052Z"
      },
      {
        "duration": 0,
        "start_time": "2023-12-21T19:19:46.054Z"
      },
      {
        "duration": 0,
        "start_time": "2023-12-21T19:19:46.054Z"
      },
      {
        "duration": 0,
        "start_time": "2023-12-21T19:19:46.055Z"
      },
      {
        "duration": 0,
        "start_time": "2023-12-21T19:19:46.057Z"
      },
      {
        "duration": 0,
        "start_time": "2023-12-21T19:19:46.058Z"
      },
      {
        "duration": 0,
        "start_time": "2023-12-21T19:19:46.059Z"
      },
      {
        "duration": 0,
        "start_time": "2023-12-21T19:19:46.060Z"
      },
      {
        "duration": 0,
        "start_time": "2023-12-21T19:19:46.061Z"
      },
      {
        "duration": 666,
        "start_time": "2023-12-21T19:24:29.003Z"
      },
      {
        "duration": 3,
        "start_time": "2023-12-21T19:24:29.671Z"
      },
      {
        "duration": 105,
        "start_time": "2023-12-21T19:24:29.675Z"
      },
      {
        "duration": 13,
        "start_time": "2023-12-21T19:24:29.782Z"
      },
      {
        "duration": 918,
        "start_time": "2023-12-21T19:24:29.796Z"
      },
      {
        "duration": 0,
        "start_time": "2023-12-21T19:24:30.717Z"
      },
      {
        "duration": 0,
        "start_time": "2023-12-21T19:24:30.718Z"
      },
      {
        "duration": 0,
        "start_time": "2023-12-21T19:24:30.719Z"
      },
      {
        "duration": 0,
        "start_time": "2023-12-21T19:24:30.721Z"
      },
      {
        "duration": 0,
        "start_time": "2023-12-21T19:24:30.722Z"
      },
      {
        "duration": 0,
        "start_time": "2023-12-21T19:24:30.723Z"
      },
      {
        "duration": 0,
        "start_time": "2023-12-21T19:24:30.724Z"
      },
      {
        "duration": 0,
        "start_time": "2023-12-21T19:24:30.725Z"
      },
      {
        "duration": 0,
        "start_time": "2023-12-21T19:24:30.726Z"
      },
      {
        "duration": 0,
        "start_time": "2023-12-21T19:24:30.727Z"
      },
      {
        "duration": 0,
        "start_time": "2023-12-21T19:24:30.728Z"
      },
      {
        "duration": 0,
        "start_time": "2023-12-21T19:24:30.729Z"
      },
      {
        "duration": 0,
        "start_time": "2023-12-21T19:24:30.730Z"
      },
      {
        "duration": 0,
        "start_time": "2023-12-21T19:24:30.731Z"
      },
      {
        "duration": 0,
        "start_time": "2023-12-21T19:24:30.732Z"
      },
      {
        "duration": 0,
        "start_time": "2023-12-21T19:24:30.734Z"
      },
      {
        "duration": 0,
        "start_time": "2023-12-21T19:24:30.735Z"
      },
      {
        "duration": 0,
        "start_time": "2023-12-21T19:24:30.736Z"
      },
      {
        "duration": 0,
        "start_time": "2023-12-21T19:24:30.737Z"
      },
      {
        "duration": 0,
        "start_time": "2023-12-21T19:24:30.738Z"
      },
      {
        "duration": 578,
        "start_time": "2023-12-21T19:32:29.370Z"
      },
      {
        "duration": 3,
        "start_time": "2023-12-21T19:32:29.949Z"
      },
      {
        "duration": 97,
        "start_time": "2023-12-21T19:32:29.953Z"
      },
      {
        "duration": 14,
        "start_time": "2023-12-21T19:32:30.052Z"
      },
      {
        "duration": 157,
        "start_time": "2023-12-21T19:32:30.067Z"
      },
      {
        "duration": 0,
        "start_time": "2023-12-21T19:32:30.226Z"
      },
      {
        "duration": 0,
        "start_time": "2023-12-21T19:32:30.227Z"
      },
      {
        "duration": 0,
        "start_time": "2023-12-21T19:32:30.228Z"
      },
      {
        "duration": 0,
        "start_time": "2023-12-21T19:32:30.229Z"
      },
      {
        "duration": 0,
        "start_time": "2023-12-21T19:32:30.230Z"
      },
      {
        "duration": 0,
        "start_time": "2023-12-21T19:32:30.232Z"
      },
      {
        "duration": 0,
        "start_time": "2023-12-21T19:32:30.233Z"
      },
      {
        "duration": 0,
        "start_time": "2023-12-21T19:32:30.234Z"
      },
      {
        "duration": 0,
        "start_time": "2023-12-21T19:32:30.235Z"
      },
      {
        "duration": 0,
        "start_time": "2023-12-21T19:32:30.236Z"
      },
      {
        "duration": 0,
        "start_time": "2023-12-21T19:32:30.237Z"
      },
      {
        "duration": 0,
        "start_time": "2023-12-21T19:32:30.238Z"
      },
      {
        "duration": 0,
        "start_time": "2023-12-21T19:32:30.239Z"
      },
      {
        "duration": 0,
        "start_time": "2023-12-21T19:32:30.240Z"
      },
      {
        "duration": 0,
        "start_time": "2023-12-21T19:32:30.241Z"
      },
      {
        "duration": 0,
        "start_time": "2023-12-21T19:32:30.242Z"
      },
      {
        "duration": 0,
        "start_time": "2023-12-21T19:32:30.243Z"
      },
      {
        "duration": 0,
        "start_time": "2023-12-21T19:32:30.244Z"
      },
      {
        "duration": 0,
        "start_time": "2023-12-21T19:32:30.245Z"
      },
      {
        "duration": 0,
        "start_time": "2023-12-21T19:32:30.246Z"
      },
      {
        "duration": 621,
        "start_time": "2023-12-21T19:33:32.557Z"
      },
      {
        "duration": 3,
        "start_time": "2023-12-21T19:33:33.180Z"
      },
      {
        "duration": 96,
        "start_time": "2023-12-21T19:33:33.185Z"
      },
      {
        "duration": 14,
        "start_time": "2023-12-21T19:33:33.283Z"
      },
      {
        "duration": 4,
        "start_time": "2023-12-21T19:33:33.298Z"
      },
      {
        "duration": 9,
        "start_time": "2023-12-21T19:33:33.304Z"
      },
      {
        "duration": 769,
        "start_time": "2023-12-21T19:33:33.314Z"
      },
      {
        "duration": 0,
        "start_time": "2023-12-21T19:33:34.086Z"
      },
      {
        "duration": 0,
        "start_time": "2023-12-21T19:33:34.087Z"
      },
      {
        "duration": 0,
        "start_time": "2023-12-21T19:33:34.089Z"
      },
      {
        "duration": 0,
        "start_time": "2023-12-21T19:33:34.090Z"
      },
      {
        "duration": 0,
        "start_time": "2023-12-21T19:33:34.091Z"
      },
      {
        "duration": 0,
        "start_time": "2023-12-21T19:33:34.093Z"
      },
      {
        "duration": 0,
        "start_time": "2023-12-21T19:33:34.094Z"
      },
      {
        "duration": 0,
        "start_time": "2023-12-21T19:33:34.096Z"
      },
      {
        "duration": 0,
        "start_time": "2023-12-21T19:33:34.097Z"
      },
      {
        "duration": 1,
        "start_time": "2023-12-21T19:33:34.098Z"
      },
      {
        "duration": 0,
        "start_time": "2023-12-21T19:33:34.100Z"
      },
      {
        "duration": 0,
        "start_time": "2023-12-21T19:33:34.101Z"
      },
      {
        "duration": 0,
        "start_time": "2023-12-21T19:33:34.103Z"
      },
      {
        "duration": 0,
        "start_time": "2023-12-21T19:33:34.104Z"
      },
      {
        "duration": 0,
        "start_time": "2023-12-21T19:33:34.106Z"
      },
      {
        "duration": 443,
        "start_time": "2023-12-21T19:33:34.124Z"
      },
      {
        "duration": 603,
        "start_time": "2023-12-21T19:33:34.570Z"
      },
      {
        "duration": 0,
        "start_time": "2023-12-21T19:33:35.175Z"
      },
      {
        "duration": 597,
        "start_time": "2023-12-21T19:41:22.158Z"
      },
      {
        "duration": 2,
        "start_time": "2023-12-21T19:41:22.757Z"
      },
      {
        "duration": 99,
        "start_time": "2023-12-21T19:41:22.761Z"
      },
      {
        "duration": 13,
        "start_time": "2023-12-21T19:41:22.862Z"
      },
      {
        "duration": 4,
        "start_time": "2023-12-21T19:41:22.876Z"
      },
      {
        "duration": 11,
        "start_time": "2023-12-21T19:41:22.882Z"
      },
      {
        "duration": 8,
        "start_time": "2023-12-21T19:41:22.895Z"
      },
      {
        "duration": 904,
        "start_time": "2023-12-21T19:41:22.904Z"
      },
      {
        "duration": 710,
        "start_time": "2023-12-21T19:41:23.809Z"
      },
      {
        "duration": 670,
        "start_time": "2023-12-21T19:41:24.521Z"
      },
      {
        "duration": 778,
        "start_time": "2023-12-21T19:41:25.193Z"
      },
      {
        "duration": 628,
        "start_time": "2023-12-21T19:41:25.973Z"
      },
      {
        "duration": 731,
        "start_time": "2023-12-21T19:41:26.603Z"
      },
      {
        "duration": 66,
        "start_time": "2023-12-21T19:41:27.336Z"
      },
      {
        "duration": 207,
        "start_time": "2023-12-21T19:41:27.403Z"
      },
      {
        "duration": 141,
        "start_time": "2023-12-21T19:41:27.615Z"
      },
      {
        "duration": 66,
        "start_time": "2023-12-21T19:41:27.757Z"
      },
      {
        "duration": 50,
        "start_time": "2023-12-21T19:41:27.824Z"
      },
      {
        "duration": 0,
        "start_time": "2023-12-21T19:41:27.875Z"
      },
      {
        "duration": 0,
        "start_time": "2023-12-21T19:41:27.877Z"
      },
      {
        "duration": 0,
        "start_time": "2023-12-21T19:41:27.878Z"
      },
      {
        "duration": 0,
        "start_time": "2023-12-21T19:41:27.879Z"
      },
      {
        "duration": 0,
        "start_time": "2023-12-21T19:41:27.880Z"
      },
      {
        "duration": 0,
        "start_time": "2023-12-21T19:41:27.881Z"
      },
      {
        "duration": 0,
        "start_time": "2023-12-21T19:41:27.882Z"
      },
      {
        "duration": 878,
        "start_time": "2023-12-21T19:51:56.153Z"
      },
      {
        "duration": 579,
        "start_time": "2023-12-21T19:52:57.370Z"
      },
      {
        "duration": 2,
        "start_time": "2023-12-21T19:52:57.951Z"
      },
      {
        "duration": 95,
        "start_time": "2023-12-21T19:52:57.954Z"
      },
      {
        "duration": 11,
        "start_time": "2023-12-21T19:52:58.051Z"
      },
      {
        "duration": 4,
        "start_time": "2023-12-21T19:52:58.064Z"
      },
      {
        "duration": 9,
        "start_time": "2023-12-21T19:52:58.069Z"
      },
      {
        "duration": 8,
        "start_time": "2023-12-21T19:52:58.079Z"
      },
      {
        "duration": 291,
        "start_time": "2023-12-21T19:52:58.088Z"
      },
      {
        "duration": 0,
        "start_time": "2023-12-21T19:52:58.382Z"
      },
      {
        "duration": 0,
        "start_time": "2023-12-21T19:52:58.383Z"
      },
      {
        "duration": 0,
        "start_time": "2023-12-21T19:52:58.385Z"
      },
      {
        "duration": 0,
        "start_time": "2023-12-21T19:52:58.386Z"
      },
      {
        "duration": 0,
        "start_time": "2023-12-21T19:52:58.388Z"
      },
      {
        "duration": 0,
        "start_time": "2023-12-21T19:52:58.389Z"
      },
      {
        "duration": 0,
        "start_time": "2023-12-21T19:52:58.391Z"
      },
      {
        "duration": 0,
        "start_time": "2023-12-21T19:52:58.392Z"
      },
      {
        "duration": 0,
        "start_time": "2023-12-21T19:52:58.392Z"
      },
      {
        "duration": 0,
        "start_time": "2023-12-21T19:52:58.393Z"
      },
      {
        "duration": 0,
        "start_time": "2023-12-21T19:52:58.394Z"
      },
      {
        "duration": 0,
        "start_time": "2023-12-21T19:52:58.395Z"
      },
      {
        "duration": 0,
        "start_time": "2023-12-21T19:52:58.396Z"
      },
      {
        "duration": 0,
        "start_time": "2023-12-21T19:52:58.397Z"
      },
      {
        "duration": 0,
        "start_time": "2023-12-21T19:52:58.398Z"
      },
      {
        "duration": 0,
        "start_time": "2023-12-21T19:52:58.399Z"
      },
      {
        "duration": 0,
        "start_time": "2023-12-21T19:52:58.401Z"
      },
      {
        "duration": 638,
        "start_time": "2023-12-21T19:58:08.005Z"
      },
      {
        "duration": 3,
        "start_time": "2023-12-21T19:58:08.645Z"
      },
      {
        "duration": 96,
        "start_time": "2023-12-21T19:58:08.649Z"
      },
      {
        "duration": 14,
        "start_time": "2023-12-21T19:58:08.748Z"
      },
      {
        "duration": 4,
        "start_time": "2023-12-21T19:58:08.764Z"
      },
      {
        "duration": 15,
        "start_time": "2023-12-21T19:58:08.770Z"
      },
      {
        "duration": 11,
        "start_time": "2023-12-21T19:58:08.786Z"
      },
      {
        "duration": 253,
        "start_time": "2023-12-21T19:58:08.814Z"
      },
      {
        "duration": 0,
        "start_time": "2023-12-21T19:58:09.069Z"
      },
      {
        "duration": 0,
        "start_time": "2023-12-21T19:58:09.070Z"
      },
      {
        "duration": 0,
        "start_time": "2023-12-21T19:58:09.071Z"
      },
      {
        "duration": 0,
        "start_time": "2023-12-21T19:58:09.073Z"
      },
      {
        "duration": 0,
        "start_time": "2023-12-21T19:58:09.074Z"
      },
      {
        "duration": 0,
        "start_time": "2023-12-21T19:58:09.074Z"
      },
      {
        "duration": 0,
        "start_time": "2023-12-21T19:58:09.075Z"
      },
      {
        "duration": 0,
        "start_time": "2023-12-21T19:58:09.076Z"
      },
      {
        "duration": 0,
        "start_time": "2023-12-21T19:58:09.077Z"
      },
      {
        "duration": 0,
        "start_time": "2023-12-21T19:58:09.079Z"
      },
      {
        "duration": 0,
        "start_time": "2023-12-21T19:58:09.080Z"
      },
      {
        "duration": 0,
        "start_time": "2023-12-21T19:58:09.082Z"
      },
      {
        "duration": 1,
        "start_time": "2023-12-21T19:58:09.083Z"
      },
      {
        "duration": 0,
        "start_time": "2023-12-21T19:58:09.084Z"
      },
      {
        "duration": 0,
        "start_time": "2023-12-21T19:58:09.085Z"
      },
      {
        "duration": 0,
        "start_time": "2023-12-21T19:58:09.086Z"
      },
      {
        "duration": 588,
        "start_time": "2023-12-21T20:08:18.463Z"
      },
      {
        "duration": 2,
        "start_time": "2023-12-21T20:08:19.053Z"
      },
      {
        "duration": 105,
        "start_time": "2023-12-21T20:08:19.057Z"
      },
      {
        "duration": 13,
        "start_time": "2023-12-21T20:08:19.164Z"
      },
      {
        "duration": 4,
        "start_time": "2023-12-21T20:08:19.179Z"
      },
      {
        "duration": 16,
        "start_time": "2023-12-21T20:08:19.184Z"
      },
      {
        "duration": 13,
        "start_time": "2023-12-21T20:08:19.201Z"
      },
      {
        "duration": 105,
        "start_time": "2023-12-21T20:08:19.216Z"
      },
      {
        "duration": 0,
        "start_time": "2023-12-21T20:08:19.324Z"
      },
      {
        "duration": 0,
        "start_time": "2023-12-21T20:08:19.325Z"
      },
      {
        "duration": 0,
        "start_time": "2023-12-21T20:08:19.326Z"
      },
      {
        "duration": 0,
        "start_time": "2023-12-21T20:08:19.328Z"
      },
      {
        "duration": 0,
        "start_time": "2023-12-21T20:08:19.329Z"
      },
      {
        "duration": 0,
        "start_time": "2023-12-21T20:08:19.330Z"
      },
      {
        "duration": 0,
        "start_time": "2023-12-21T20:08:19.331Z"
      },
      {
        "duration": 0,
        "start_time": "2023-12-21T20:08:19.332Z"
      },
      {
        "duration": 0,
        "start_time": "2023-12-21T20:08:19.335Z"
      },
      {
        "duration": 0,
        "start_time": "2023-12-21T20:08:19.336Z"
      },
      {
        "duration": 0,
        "start_time": "2023-12-21T20:08:19.338Z"
      },
      {
        "duration": 0,
        "start_time": "2023-12-21T20:08:19.340Z"
      },
      {
        "duration": 0,
        "start_time": "2023-12-21T20:08:19.341Z"
      },
      {
        "duration": 0,
        "start_time": "2023-12-21T20:08:19.342Z"
      },
      {
        "duration": 614,
        "start_time": "2023-12-21T20:08:19.411Z"
      },
      {
        "duration": 0,
        "start_time": "2023-12-21T20:08:20.027Z"
      },
      {
        "duration": 626,
        "start_time": "2023-12-21T20:11:06.078Z"
      },
      {
        "duration": 2,
        "start_time": "2023-12-21T20:11:06.706Z"
      },
      {
        "duration": 105,
        "start_time": "2023-12-21T20:11:06.714Z"
      },
      {
        "duration": 13,
        "start_time": "2023-12-21T20:11:06.821Z"
      },
      {
        "duration": 4,
        "start_time": "2023-12-21T20:11:06.835Z"
      },
      {
        "duration": 9,
        "start_time": "2023-12-21T20:11:06.841Z"
      },
      {
        "duration": 8,
        "start_time": "2023-12-21T20:11:06.851Z"
      },
      {
        "duration": 133,
        "start_time": "2023-12-21T20:11:06.860Z"
      },
      {
        "duration": 0,
        "start_time": "2023-12-21T20:11:06.995Z"
      },
      {
        "duration": 0,
        "start_time": "2023-12-21T20:11:06.996Z"
      },
      {
        "duration": 0,
        "start_time": "2023-12-21T20:11:06.997Z"
      },
      {
        "duration": 0,
        "start_time": "2023-12-21T20:11:06.998Z"
      },
      {
        "duration": 0,
        "start_time": "2023-12-21T20:11:06.999Z"
      },
      {
        "duration": 0,
        "start_time": "2023-12-21T20:11:07.015Z"
      },
      {
        "duration": 0,
        "start_time": "2023-12-21T20:11:07.016Z"
      },
      {
        "duration": 0,
        "start_time": "2023-12-21T20:11:07.018Z"
      },
      {
        "duration": 0,
        "start_time": "2023-12-21T20:11:07.019Z"
      },
      {
        "duration": 0,
        "start_time": "2023-12-21T20:11:07.020Z"
      },
      {
        "duration": 0,
        "start_time": "2023-12-21T20:11:07.021Z"
      },
      {
        "duration": 0,
        "start_time": "2023-12-21T20:11:07.022Z"
      },
      {
        "duration": 0,
        "start_time": "2023-12-21T20:11:07.023Z"
      },
      {
        "duration": 0,
        "start_time": "2023-12-21T20:11:07.024Z"
      },
      {
        "duration": 0,
        "start_time": "2023-12-21T20:11:07.025Z"
      },
      {
        "duration": 0,
        "start_time": "2023-12-21T20:11:07.026Z"
      },
      {
        "duration": 625,
        "start_time": "2023-12-21T20:12:29.874Z"
      },
      {
        "duration": 3,
        "start_time": "2023-12-21T20:12:30.501Z"
      },
      {
        "duration": 130,
        "start_time": "2023-12-21T20:12:30.505Z"
      },
      {
        "duration": 14,
        "start_time": "2023-12-21T20:12:30.637Z"
      },
      {
        "duration": 33,
        "start_time": "2023-12-21T20:12:30.653Z"
      },
      {
        "duration": 32,
        "start_time": "2023-12-21T20:12:30.687Z"
      },
      {
        "duration": 37,
        "start_time": "2023-12-21T20:12:30.721Z"
      },
      {
        "duration": 571,
        "start_time": "2023-12-21T20:12:30.759Z"
      },
      {
        "duration": 656,
        "start_time": "2023-12-21T20:12:31.332Z"
      },
      {
        "duration": 789,
        "start_time": "2023-12-21T20:12:31.991Z"
      },
      {
        "duration": 662,
        "start_time": "2023-12-21T20:12:32.782Z"
      },
      {
        "duration": 774,
        "start_time": "2023-12-21T20:12:33.446Z"
      },
      {
        "duration": 82,
        "start_time": "2023-12-21T20:12:34.223Z"
      },
      {
        "duration": 193,
        "start_time": "2023-12-21T20:12:34.306Z"
      },
      {
        "duration": 142,
        "start_time": "2023-12-21T20:12:34.501Z"
      },
      {
        "duration": 64,
        "start_time": "2023-12-21T20:12:34.644Z"
      },
      {
        "duration": 621,
        "start_time": "2023-12-21T20:12:34.709Z"
      },
      {
        "duration": 0,
        "start_time": "2023-12-21T20:12:35.332Z"
      },
      {
        "duration": 0,
        "start_time": "2023-12-21T20:12:35.333Z"
      },
      {
        "duration": 0,
        "start_time": "2023-12-21T20:12:35.334Z"
      },
      {
        "duration": 0,
        "start_time": "2023-12-21T20:12:35.335Z"
      },
      {
        "duration": 0,
        "start_time": "2023-12-21T20:12:35.336Z"
      },
      {
        "duration": 0,
        "start_time": "2023-12-21T20:12:35.338Z"
      },
      {
        "duration": 0,
        "start_time": "2023-12-21T20:12:35.339Z"
      },
      {
        "duration": 683,
        "start_time": "2023-12-21T20:27:32.599Z"
      },
      {
        "duration": 2,
        "start_time": "2023-12-21T20:27:33.284Z"
      },
      {
        "duration": 113,
        "start_time": "2023-12-21T20:27:33.288Z"
      },
      {
        "duration": 16,
        "start_time": "2023-12-21T20:27:33.404Z"
      },
      {
        "duration": 8,
        "start_time": "2023-12-21T20:27:33.422Z"
      },
      {
        "duration": 11,
        "start_time": "2023-12-21T20:27:33.434Z"
      },
      {
        "duration": 9,
        "start_time": "2023-12-21T20:27:33.446Z"
      },
      {
        "duration": 601,
        "start_time": "2023-12-21T20:27:33.457Z"
      },
      {
        "duration": 219,
        "start_time": "2023-12-21T20:27:34.060Z"
      },
      {
        "duration": 347,
        "start_time": "2023-12-21T20:27:34.283Z"
      },
      {
        "duration": 214,
        "start_time": "2023-12-21T20:27:34.632Z"
      },
      {
        "duration": 868,
        "start_time": "2023-12-21T20:27:34.848Z"
      },
      {
        "duration": 65,
        "start_time": "2023-12-21T20:27:35.719Z"
      },
      {
        "duration": 207,
        "start_time": "2023-12-21T20:27:35.786Z"
      },
      {
        "duration": 163,
        "start_time": "2023-12-21T20:27:35.994Z"
      },
      {
        "duration": 87,
        "start_time": "2023-12-21T20:27:36.158Z"
      },
      {
        "duration": 58,
        "start_time": "2023-12-21T20:27:36.247Z"
      },
      {
        "duration": 0,
        "start_time": "2023-12-21T20:27:36.307Z"
      },
      {
        "duration": 0,
        "start_time": "2023-12-21T20:27:36.308Z"
      },
      {
        "duration": 0,
        "start_time": "2023-12-21T20:27:36.309Z"
      },
      {
        "duration": 0,
        "start_time": "2023-12-21T20:27:36.310Z"
      },
      {
        "duration": 0,
        "start_time": "2023-12-21T20:27:36.312Z"
      },
      {
        "duration": 0,
        "start_time": "2023-12-21T20:27:36.313Z"
      },
      {
        "duration": 0,
        "start_time": "2023-12-21T20:27:36.318Z"
      },
      {
        "duration": 647,
        "start_time": "2023-12-21T20:30:39.461Z"
      },
      {
        "duration": 8,
        "start_time": "2023-12-21T20:30:40.110Z"
      },
      {
        "duration": 115,
        "start_time": "2023-12-21T20:30:40.119Z"
      },
      {
        "duration": 13,
        "start_time": "2023-12-21T20:30:40.236Z"
      },
      {
        "duration": 17,
        "start_time": "2023-12-21T20:30:40.250Z"
      },
      {
        "duration": 13,
        "start_time": "2023-12-21T20:30:40.269Z"
      },
      {
        "duration": 27,
        "start_time": "2023-12-21T20:30:40.284Z"
      },
      {
        "duration": 585,
        "start_time": "2023-12-21T20:30:40.313Z"
      },
      {
        "duration": 206,
        "start_time": "2023-12-21T20:30:40.899Z"
      },
      {
        "duration": 321,
        "start_time": "2023-12-21T20:30:41.109Z"
      },
      {
        "duration": 229,
        "start_time": "2023-12-21T20:30:41.431Z"
      },
      {
        "duration": 280,
        "start_time": "2023-12-21T20:30:41.661Z"
      },
      {
        "duration": 89,
        "start_time": "2023-12-21T20:30:41.942Z"
      },
      {
        "duration": 204,
        "start_time": "2023-12-21T20:30:42.033Z"
      },
      {
        "duration": 140,
        "start_time": "2023-12-21T20:30:42.241Z"
      },
      {
        "duration": 68,
        "start_time": "2023-12-21T20:30:42.383Z"
      },
      {
        "duration": 79,
        "start_time": "2023-12-21T20:30:42.453Z"
      },
      {
        "duration": 0,
        "start_time": "2023-12-21T20:30:42.534Z"
      },
      {
        "duration": 0,
        "start_time": "2023-12-21T20:30:42.535Z"
      },
      {
        "duration": 0,
        "start_time": "2023-12-21T20:30:42.537Z"
      },
      {
        "duration": 0,
        "start_time": "2023-12-21T20:30:42.538Z"
      },
      {
        "duration": 0,
        "start_time": "2023-12-21T20:30:42.540Z"
      },
      {
        "duration": 0,
        "start_time": "2023-12-21T20:30:42.541Z"
      },
      {
        "duration": 0,
        "start_time": "2023-12-21T20:30:42.543Z"
      },
      {
        "duration": 624,
        "start_time": "2023-12-21T20:39:13.853Z"
      },
      {
        "duration": 3,
        "start_time": "2023-12-21T20:39:14.478Z"
      },
      {
        "duration": 95,
        "start_time": "2023-12-21T20:39:14.482Z"
      },
      {
        "duration": 14,
        "start_time": "2023-12-21T20:39:14.579Z"
      },
      {
        "duration": 4,
        "start_time": "2023-12-21T20:39:14.594Z"
      },
      {
        "duration": 31,
        "start_time": "2023-12-21T20:39:14.599Z"
      },
      {
        "duration": 9,
        "start_time": "2023-12-21T20:39:14.632Z"
      },
      {
        "duration": 611,
        "start_time": "2023-12-21T20:39:14.643Z"
      },
      {
        "duration": 195,
        "start_time": "2023-12-21T20:39:15.256Z"
      },
      {
        "duration": 277,
        "start_time": "2023-12-21T20:39:15.454Z"
      },
      {
        "duration": 214,
        "start_time": "2023-12-21T20:39:15.732Z"
      },
      {
        "duration": 281,
        "start_time": "2023-12-21T20:39:15.948Z"
      },
      {
        "duration": 74,
        "start_time": "2023-12-21T20:39:16.232Z"
      },
      {
        "duration": 0,
        "start_time": "2023-12-21T20:39:16.307Z"
      },
      {
        "duration": 0,
        "start_time": "2023-12-21T20:39:16.318Z"
      },
      {
        "duration": 0,
        "start_time": "2023-12-21T20:39:16.319Z"
      },
      {
        "duration": 0,
        "start_time": "2023-12-21T20:39:16.320Z"
      },
      {
        "duration": 0,
        "start_time": "2023-12-21T20:39:16.321Z"
      },
      {
        "duration": 0,
        "start_time": "2023-12-21T20:39:16.322Z"
      },
      {
        "duration": 0,
        "start_time": "2023-12-21T20:39:16.323Z"
      },
      {
        "duration": 0,
        "start_time": "2023-12-21T20:39:16.326Z"
      },
      {
        "duration": 0,
        "start_time": "2023-12-21T20:39:16.327Z"
      },
      {
        "duration": 0,
        "start_time": "2023-12-21T20:39:16.332Z"
      },
      {
        "duration": 0,
        "start_time": "2023-12-21T20:39:16.333Z"
      },
      {
        "duration": 665,
        "start_time": "2023-12-21T20:41:21.872Z"
      },
      {
        "duration": 2,
        "start_time": "2023-12-21T20:41:22.539Z"
      },
      {
        "duration": 103,
        "start_time": "2023-12-21T20:41:22.543Z"
      },
      {
        "duration": 13,
        "start_time": "2023-12-21T20:41:22.649Z"
      },
      {
        "duration": 3,
        "start_time": "2023-12-21T20:41:22.664Z"
      },
      {
        "duration": 12,
        "start_time": "2023-12-21T20:41:22.668Z"
      },
      {
        "duration": 8,
        "start_time": "2023-12-21T20:41:22.681Z"
      },
      {
        "duration": 609,
        "start_time": "2023-12-21T20:41:22.690Z"
      },
      {
        "duration": 185,
        "start_time": "2023-12-21T20:41:23.301Z"
      },
      {
        "duration": 331,
        "start_time": "2023-12-21T20:41:23.489Z"
      },
      {
        "duration": 242,
        "start_time": "2023-12-21T20:41:23.823Z"
      },
      {
        "duration": 295,
        "start_time": "2023-12-21T20:41:24.066Z"
      },
      {
        "duration": 12,
        "start_time": "2023-12-21T20:41:24.363Z"
      },
      {
        "duration": 219,
        "start_time": "2023-12-21T20:41:24.377Z"
      },
      {
        "duration": 143,
        "start_time": "2023-12-21T20:41:24.597Z"
      },
      {
        "duration": 56,
        "start_time": "2023-12-21T20:41:24.742Z"
      },
      {
        "duration": 65,
        "start_time": "2023-12-21T20:41:24.800Z"
      },
      {
        "duration": 0,
        "start_time": "2023-12-21T20:41:24.866Z"
      },
      {
        "duration": 0,
        "start_time": "2023-12-21T20:41:24.868Z"
      },
      {
        "duration": 0,
        "start_time": "2023-12-21T20:41:24.870Z"
      },
      {
        "duration": 0,
        "start_time": "2023-12-21T20:41:24.871Z"
      },
      {
        "duration": 0,
        "start_time": "2023-12-21T20:41:24.873Z"
      },
      {
        "duration": 0,
        "start_time": "2023-12-21T20:41:24.874Z"
      },
      {
        "duration": 0,
        "start_time": "2023-12-21T20:41:24.875Z"
      },
      {
        "duration": 643,
        "start_time": "2023-12-21T20:45:16.981Z"
      },
      {
        "duration": 3,
        "start_time": "2023-12-21T20:45:17.626Z"
      },
      {
        "duration": 105,
        "start_time": "2023-12-21T20:45:17.630Z"
      },
      {
        "duration": 13,
        "start_time": "2023-12-21T20:45:17.737Z"
      },
      {
        "duration": 10,
        "start_time": "2023-12-21T20:45:17.751Z"
      },
      {
        "duration": 10,
        "start_time": "2023-12-21T20:45:17.763Z"
      },
      {
        "duration": 8,
        "start_time": "2023-12-21T20:45:17.774Z"
      },
      {
        "duration": 570,
        "start_time": "2023-12-21T20:45:17.784Z"
      },
      {
        "duration": 183,
        "start_time": "2023-12-21T20:45:18.356Z"
      },
      {
        "duration": 287,
        "start_time": "2023-12-21T20:45:18.542Z"
      },
      {
        "duration": 220,
        "start_time": "2023-12-21T20:45:18.831Z"
      },
      {
        "duration": 285,
        "start_time": "2023-12-21T20:45:19.052Z"
      },
      {
        "duration": 9,
        "start_time": "2023-12-21T20:45:19.338Z"
      },
      {
        "duration": 124,
        "start_time": "2023-12-21T20:45:19.349Z"
      },
      {
        "duration": 83,
        "start_time": "2023-12-21T20:45:19.475Z"
      },
      {
        "duration": 0,
        "start_time": "2023-12-21T20:45:19.560Z"
      },
      {
        "duration": 0,
        "start_time": "2023-12-21T20:45:19.561Z"
      },
      {
        "duration": 0,
        "start_time": "2023-12-21T20:45:19.562Z"
      },
      {
        "duration": 0,
        "start_time": "2023-12-21T20:45:19.563Z"
      },
      {
        "duration": 0,
        "start_time": "2023-12-21T20:45:19.564Z"
      },
      {
        "duration": 0,
        "start_time": "2023-12-21T20:45:19.565Z"
      },
      {
        "duration": 0,
        "start_time": "2023-12-21T20:45:19.565Z"
      },
      {
        "duration": 0,
        "start_time": "2023-12-21T20:45:19.568Z"
      },
      {
        "duration": 0,
        "start_time": "2023-12-21T20:45:19.569Z"
      },
      {
        "duration": 644,
        "start_time": "2023-12-21T20:50:36.905Z"
      },
      {
        "duration": 3,
        "start_time": "2023-12-21T20:50:37.550Z"
      },
      {
        "duration": 106,
        "start_time": "2023-12-21T20:50:37.555Z"
      },
      {
        "duration": 14,
        "start_time": "2023-12-21T20:50:37.663Z"
      },
      {
        "duration": 4,
        "start_time": "2023-12-21T20:50:37.678Z"
      },
      {
        "duration": 17,
        "start_time": "2023-12-21T20:50:37.684Z"
      },
      {
        "duration": 8,
        "start_time": "2023-12-21T20:50:37.703Z"
      },
      {
        "duration": 547,
        "start_time": "2023-12-21T20:50:37.713Z"
      },
      {
        "duration": 189,
        "start_time": "2023-12-21T20:50:38.262Z"
      },
      {
        "duration": 271,
        "start_time": "2023-12-21T20:50:38.454Z"
      },
      {
        "duration": 227,
        "start_time": "2023-12-21T20:50:38.727Z"
      },
      {
        "duration": 278,
        "start_time": "2023-12-21T20:50:38.956Z"
      },
      {
        "duration": 10,
        "start_time": "2023-12-21T20:50:39.235Z"
      },
      {
        "duration": 130,
        "start_time": "2023-12-21T20:50:39.246Z"
      },
      {
        "duration": 130,
        "start_time": "2023-12-21T20:50:39.377Z"
      },
      {
        "duration": 81,
        "start_time": "2023-12-21T20:50:39.509Z"
      },
      {
        "duration": 82,
        "start_time": "2023-12-21T20:50:39.591Z"
      },
      {
        "duration": 0,
        "start_time": "2023-12-21T20:50:39.674Z"
      },
      {
        "duration": 0,
        "start_time": "2023-12-21T20:50:39.675Z"
      },
      {
        "duration": 0,
        "start_time": "2023-12-21T20:50:39.676Z"
      },
      {
        "duration": 0,
        "start_time": "2023-12-21T20:50:39.677Z"
      },
      {
        "duration": 0,
        "start_time": "2023-12-21T20:50:39.678Z"
      },
      {
        "duration": 0,
        "start_time": "2023-12-21T20:50:39.679Z"
      },
      {
        "duration": 0,
        "start_time": "2023-12-21T20:50:39.680Z"
      },
      {
        "duration": 619,
        "start_time": "2023-12-21T21:15:14.922Z"
      },
      {
        "duration": 2,
        "start_time": "2023-12-21T21:15:15.543Z"
      },
      {
        "duration": 96,
        "start_time": "2023-12-21T21:15:15.547Z"
      },
      {
        "duration": 13,
        "start_time": "2023-12-21T21:15:15.645Z"
      },
      {
        "duration": 3,
        "start_time": "2023-12-21T21:15:15.659Z"
      },
      {
        "duration": 8,
        "start_time": "2023-12-21T21:15:15.664Z"
      },
      {
        "duration": 7,
        "start_time": "2023-12-21T21:15:15.674Z"
      },
      {
        "duration": 556,
        "start_time": "2023-12-21T21:15:15.682Z"
      },
      {
        "duration": 182,
        "start_time": "2023-12-21T21:15:16.240Z"
      },
      {
        "duration": 265,
        "start_time": "2023-12-21T21:15:16.424Z"
      },
      {
        "duration": 209,
        "start_time": "2023-12-21T21:15:16.691Z"
      },
      {
        "duration": 287,
        "start_time": "2023-12-21T21:15:16.901Z"
      },
      {
        "duration": 9,
        "start_time": "2023-12-21T21:15:17.190Z"
      },
      {
        "duration": 124,
        "start_time": "2023-12-21T21:15:17.215Z"
      },
      {
        "duration": 126,
        "start_time": "2023-12-21T21:15:17.341Z"
      },
      {
        "duration": 4,
        "start_time": "2023-12-21T21:15:17.468Z"
      },
      {
        "duration": 143,
        "start_time": "2023-12-21T21:15:17.473Z"
      },
      {
        "duration": 4,
        "start_time": "2023-12-21T21:15:17.618Z"
      },
      {
        "duration": 416,
        "start_time": "2023-12-21T21:15:17.624Z"
      },
      {
        "duration": 0,
        "start_time": "2023-12-21T21:15:18.042Z"
      },
      {
        "duration": 0,
        "start_time": "2023-12-21T21:15:18.042Z"
      },
      {
        "duration": 0,
        "start_time": "2023-12-21T21:15:18.043Z"
      },
      {
        "duration": 0,
        "start_time": "2023-12-21T21:15:18.044Z"
      },
      {
        "duration": 704,
        "start_time": "2023-12-21T21:18:00.321Z"
      },
      {
        "duration": 0,
        "start_time": "2023-12-21T21:18:01.028Z"
      },
      {
        "duration": 0,
        "start_time": "2023-12-21T21:18:01.030Z"
      },
      {
        "duration": 0,
        "start_time": "2023-12-21T21:18:01.031Z"
      },
      {
        "duration": 0,
        "start_time": "2023-12-21T21:18:01.032Z"
      },
      {
        "duration": 0,
        "start_time": "2023-12-21T21:18:01.033Z"
      },
      {
        "duration": 0,
        "start_time": "2023-12-21T21:18:01.035Z"
      },
      {
        "duration": 0,
        "start_time": "2023-12-21T21:18:01.037Z"
      },
      {
        "duration": 0,
        "start_time": "2023-12-21T21:18:01.038Z"
      },
      {
        "duration": 0,
        "start_time": "2023-12-21T21:18:01.040Z"
      },
      {
        "duration": 0,
        "start_time": "2023-12-21T21:18:01.041Z"
      },
      {
        "duration": 0,
        "start_time": "2023-12-21T21:18:01.042Z"
      },
      {
        "duration": 0,
        "start_time": "2023-12-21T21:18:01.044Z"
      },
      {
        "duration": 0,
        "start_time": "2023-12-21T21:18:01.045Z"
      },
      {
        "duration": 0,
        "start_time": "2023-12-21T21:18:01.047Z"
      },
      {
        "duration": 0,
        "start_time": "2023-12-21T21:18:01.048Z"
      },
      {
        "duration": 0,
        "start_time": "2023-12-21T21:18:01.049Z"
      },
      {
        "duration": 0,
        "start_time": "2023-12-21T21:18:01.051Z"
      },
      {
        "duration": 0,
        "start_time": "2023-12-21T21:18:01.052Z"
      },
      {
        "duration": 0,
        "start_time": "2023-12-21T21:18:01.053Z"
      },
      {
        "duration": 0,
        "start_time": "2023-12-21T21:18:01.055Z"
      },
      {
        "duration": 0,
        "start_time": "2023-12-21T21:18:01.057Z"
      },
      {
        "duration": 0,
        "start_time": "2023-12-21T21:18:01.058Z"
      },
      {
        "duration": 1182,
        "start_time": "2023-12-21T21:20:00.001Z"
      },
      {
        "duration": 2,
        "start_time": "2023-12-21T21:20:01.185Z"
      },
      {
        "duration": 117,
        "start_time": "2023-12-21T21:20:01.188Z"
      },
      {
        "duration": 13,
        "start_time": "2023-12-21T21:20:01.307Z"
      },
      {
        "duration": 24,
        "start_time": "2023-12-21T21:20:01.321Z"
      },
      {
        "duration": 56,
        "start_time": "2023-12-21T21:20:01.347Z"
      },
      {
        "duration": 29,
        "start_time": "2023-12-21T21:20:01.404Z"
      },
      {
        "duration": 610,
        "start_time": "2023-12-21T21:20:01.435Z"
      },
      {
        "duration": 171,
        "start_time": "2023-12-21T21:20:02.046Z"
      },
      {
        "duration": 273,
        "start_time": "2023-12-21T21:20:02.219Z"
      },
      {
        "duration": 163,
        "start_time": "2023-12-21T21:20:02.494Z"
      },
      {
        "duration": 260,
        "start_time": "2023-12-21T21:20:02.659Z"
      },
      {
        "duration": 8,
        "start_time": "2023-12-21T21:20:02.921Z"
      },
      {
        "duration": 134,
        "start_time": "2023-12-21T21:20:02.931Z"
      },
      {
        "duration": 118,
        "start_time": "2023-12-21T21:20:03.067Z"
      },
      {
        "duration": 4,
        "start_time": "2023-12-21T21:20:03.186Z"
      },
      {
        "duration": 133,
        "start_time": "2023-12-21T21:20:03.191Z"
      },
      {
        "duration": 4,
        "start_time": "2023-12-21T21:20:03.325Z"
      },
      {
        "duration": 419,
        "start_time": "2023-12-21T21:20:03.330Z"
      },
      {
        "duration": 377,
        "start_time": "2023-12-21T21:20:03.751Z"
      },
      {
        "duration": 265,
        "start_time": "2023-12-21T21:20:04.130Z"
      },
      {
        "duration": 576,
        "start_time": "2023-12-21T21:20:04.397Z"
      },
      {
        "duration": 601,
        "start_time": "2023-12-21T21:20:04.975Z"
      },
      {
        "duration": 1013,
        "start_time": "2023-12-21T21:35:07.659Z"
      },
      {
        "duration": 3,
        "start_time": "2023-12-21T21:35:08.673Z"
      },
      {
        "duration": 107,
        "start_time": "2023-12-21T21:35:08.678Z"
      },
      {
        "duration": 13,
        "start_time": "2023-12-21T21:35:08.787Z"
      },
      {
        "duration": 4,
        "start_time": "2023-12-21T21:35:08.802Z"
      },
      {
        "duration": 25,
        "start_time": "2023-12-21T21:35:08.807Z"
      },
      {
        "duration": 8,
        "start_time": "2023-12-21T21:35:08.834Z"
      },
      {
        "duration": 537,
        "start_time": "2023-12-21T21:35:08.844Z"
      },
      {
        "duration": 169,
        "start_time": "2023-12-21T21:35:09.382Z"
      },
      {
        "duration": 263,
        "start_time": "2023-12-21T21:35:09.553Z"
      },
      {
        "duration": 160,
        "start_time": "2023-12-21T21:35:09.818Z"
      },
      {
        "duration": 310,
        "start_time": "2023-12-21T21:35:09.980Z"
      },
      {
        "duration": 23,
        "start_time": "2023-12-21T21:35:10.292Z"
      },
      {
        "duration": 127,
        "start_time": "2023-12-21T21:35:10.317Z"
      },
      {
        "duration": 121,
        "start_time": "2023-12-21T21:35:10.446Z"
      },
      {
        "duration": 4,
        "start_time": "2023-12-21T21:35:10.569Z"
      },
      {
        "duration": 148,
        "start_time": "2023-12-21T21:35:10.574Z"
      },
      {
        "duration": 5,
        "start_time": "2023-12-21T21:35:10.723Z"
      },
      {
        "duration": 429,
        "start_time": "2023-12-21T21:35:10.729Z"
      },
      {
        "duration": 9,
        "start_time": "2023-12-21T21:35:11.159Z"
      },
      {
        "duration": 9,
        "start_time": "2023-12-21T21:35:11.169Z"
      },
      {
        "duration": 43,
        "start_time": "2023-12-21T21:35:11.179Z"
      },
      {
        "duration": 582,
        "start_time": "2023-12-21T21:35:11.224Z"
      },
      {
        "duration": 1080,
        "start_time": "2023-12-21T21:42:22.036Z"
      },
      {
        "duration": 3,
        "start_time": "2023-12-21T21:42:23.117Z"
      },
      {
        "duration": 111,
        "start_time": "2023-12-21T21:42:23.121Z"
      },
      {
        "duration": 13,
        "start_time": "2023-12-21T21:42:23.234Z"
      },
      {
        "duration": 36,
        "start_time": "2023-12-21T21:42:23.248Z"
      },
      {
        "duration": 21,
        "start_time": "2023-12-21T21:42:23.286Z"
      },
      {
        "duration": 13,
        "start_time": "2023-12-21T21:42:23.308Z"
      },
      {
        "duration": 568,
        "start_time": "2023-12-21T21:42:23.323Z"
      },
      {
        "duration": 183,
        "start_time": "2023-12-21T21:42:23.893Z"
      },
      {
        "duration": 290,
        "start_time": "2023-12-21T21:42:24.079Z"
      },
      {
        "duration": 168,
        "start_time": "2023-12-21T21:42:24.371Z"
      },
      {
        "duration": 260,
        "start_time": "2023-12-21T21:42:24.541Z"
      },
      {
        "duration": 19,
        "start_time": "2023-12-21T21:42:24.803Z"
      },
      {
        "duration": 134,
        "start_time": "2023-12-21T21:42:24.823Z"
      },
      {
        "duration": 134,
        "start_time": "2023-12-21T21:42:24.959Z"
      },
      {
        "duration": 4,
        "start_time": "2023-12-21T21:42:25.094Z"
      },
      {
        "duration": 142,
        "start_time": "2023-12-21T21:42:25.099Z"
      },
      {
        "duration": 5,
        "start_time": "2023-12-21T21:42:25.242Z"
      },
      {
        "duration": 431,
        "start_time": "2023-12-21T21:42:25.249Z"
      },
      {
        "duration": 9,
        "start_time": "2023-12-21T21:42:25.682Z"
      },
      {
        "duration": 9,
        "start_time": "2023-12-21T21:42:25.692Z"
      },
      {
        "duration": 30,
        "start_time": "2023-12-21T21:42:25.714Z"
      },
      {
        "duration": 12,
        "start_time": "2023-12-21T21:42:25.745Z"
      },
      {
        "duration": 1263,
        "start_time": "2023-12-22T06:44:50.078Z"
      },
      {
        "duration": 3,
        "start_time": "2023-12-22T06:44:51.343Z"
      },
      {
        "duration": 215,
        "start_time": "2023-12-22T06:44:51.348Z"
      },
      {
        "duration": 13,
        "start_time": "2023-12-22T06:44:51.565Z"
      },
      {
        "duration": 12,
        "start_time": "2023-12-22T06:44:51.579Z"
      },
      {
        "duration": 13,
        "start_time": "2023-12-22T06:44:51.593Z"
      },
      {
        "duration": 8,
        "start_time": "2023-12-22T06:44:51.607Z"
      },
      {
        "duration": 513,
        "start_time": "2023-12-22T06:44:51.616Z"
      },
      {
        "duration": 165,
        "start_time": "2023-12-22T06:44:52.131Z"
      },
      {
        "duration": 328,
        "start_time": "2023-12-22T06:44:52.298Z"
      },
      {
        "duration": 147,
        "start_time": "2023-12-22T06:44:52.628Z"
      },
      {
        "duration": 292,
        "start_time": "2023-12-22T06:44:52.777Z"
      },
      {
        "duration": 15,
        "start_time": "2023-12-22T06:44:53.070Z"
      },
      {
        "duration": 116,
        "start_time": "2023-12-22T06:44:53.086Z"
      },
      {
        "duration": 106,
        "start_time": "2023-12-22T06:44:53.204Z"
      },
      {
        "duration": 3,
        "start_time": "2023-12-22T06:44:53.312Z"
      },
      {
        "duration": 202,
        "start_time": "2023-12-22T06:44:53.317Z"
      },
      {
        "duration": 4,
        "start_time": "2023-12-22T06:44:53.521Z"
      },
      {
        "duration": 329,
        "start_time": "2023-12-22T06:44:53.526Z"
      },
      {
        "duration": 10,
        "start_time": "2023-12-22T06:44:53.857Z"
      },
      {
        "duration": 23,
        "start_time": "2023-12-22T06:44:53.868Z"
      },
      {
        "duration": 38,
        "start_time": "2023-12-22T06:44:53.892Z"
      },
      {
        "duration": 12,
        "start_time": "2023-12-22T06:44:53.932Z"
      },
      {
        "duration": 1104,
        "start_time": "2023-12-22T06:50:57.628Z"
      },
      {
        "duration": 2,
        "start_time": "2023-12-22T06:50:58.734Z"
      },
      {
        "duration": 94,
        "start_time": "2023-12-22T06:50:58.738Z"
      },
      {
        "duration": 13,
        "start_time": "2023-12-22T06:50:58.833Z"
      },
      {
        "duration": 3,
        "start_time": "2023-12-22T06:50:58.848Z"
      },
      {
        "duration": 14,
        "start_time": "2023-12-22T06:50:58.852Z"
      },
      {
        "duration": 8,
        "start_time": "2023-12-22T06:50:58.867Z"
      },
      {
        "duration": 576,
        "start_time": "2023-12-22T06:50:58.876Z"
      },
      {
        "duration": 186,
        "start_time": "2023-12-22T06:50:59.454Z"
      },
      {
        "duration": 292,
        "start_time": "2023-12-22T06:50:59.643Z"
      },
      {
        "duration": 172,
        "start_time": "2023-12-22T06:50:59.936Z"
      },
      {
        "duration": 248,
        "start_time": "2023-12-22T06:51:00.109Z"
      },
      {
        "duration": 8,
        "start_time": "2023-12-22T06:51:00.359Z"
      },
      {
        "duration": 140,
        "start_time": "2023-12-22T06:51:00.381Z"
      },
      {
        "duration": 109,
        "start_time": "2023-12-22T06:51:00.522Z"
      },
      {
        "duration": 4,
        "start_time": "2023-12-22T06:51:00.632Z"
      },
      {
        "duration": 246,
        "start_time": "2023-12-22T06:51:00.637Z"
      },
      {
        "duration": 3,
        "start_time": "2023-12-22T06:51:00.885Z"
      },
      {
        "duration": 416,
        "start_time": "2023-12-22T06:51:00.890Z"
      },
      {
        "duration": 10,
        "start_time": "2023-12-22T06:51:01.308Z"
      },
      {
        "duration": 30,
        "start_time": "2023-12-22T06:51:01.319Z"
      },
      {
        "duration": 61,
        "start_time": "2023-12-22T06:51:01.351Z"
      },
      {
        "duration": 15,
        "start_time": "2023-12-22T06:51:01.414Z"
      },
      {
        "duration": 1048,
        "start_time": "2023-12-22T06:59:12.191Z"
      },
      {
        "duration": 3,
        "start_time": "2023-12-22T06:59:13.240Z"
      },
      {
        "duration": 119,
        "start_time": "2023-12-22T06:59:13.244Z"
      },
      {
        "duration": 12,
        "start_time": "2023-12-22T06:59:13.365Z"
      },
      {
        "duration": 4,
        "start_time": "2023-12-22T06:59:13.378Z"
      },
      {
        "duration": 18,
        "start_time": "2023-12-22T06:59:13.383Z"
      },
      {
        "duration": 8,
        "start_time": "2023-12-22T06:59:13.403Z"
      },
      {
        "duration": 284,
        "start_time": "2023-12-22T06:59:13.412Z"
      },
      {
        "duration": 276,
        "start_time": "2023-12-22T06:59:13.698Z"
      },
      {
        "duration": 170,
        "start_time": "2023-12-22T06:59:13.977Z"
      },
      {
        "duration": 257,
        "start_time": "2023-12-22T06:59:14.149Z"
      },
      {
        "duration": 158,
        "start_time": "2023-12-22T06:59:14.408Z"
      },
      {
        "duration": 285,
        "start_time": "2023-12-22T06:59:14.567Z"
      },
      {
        "duration": 8,
        "start_time": "2023-12-22T06:59:14.853Z"
      },
      {
        "duration": 105,
        "start_time": "2023-12-22T06:59:14.863Z"
      },
      {
        "duration": 114,
        "start_time": "2023-12-22T06:59:14.970Z"
      },
      {
        "duration": 4,
        "start_time": "2023-12-22T06:59:15.085Z"
      },
      {
        "duration": 132,
        "start_time": "2023-12-22T06:59:15.090Z"
      },
      {
        "duration": 4,
        "start_time": "2023-12-22T06:59:15.223Z"
      },
      {
        "duration": 401,
        "start_time": "2023-12-22T06:59:15.228Z"
      },
      {
        "duration": 9,
        "start_time": "2023-12-22T06:59:15.631Z"
      },
      {
        "duration": 9,
        "start_time": "2023-12-22T06:59:15.641Z"
      },
      {
        "duration": 42,
        "start_time": "2023-12-22T06:59:15.651Z"
      },
      {
        "duration": 11,
        "start_time": "2023-12-22T06:59:15.694Z"
      },
      {
        "duration": 1015,
        "start_time": "2023-12-22T07:02:09.133Z"
      },
      {
        "duration": 3,
        "start_time": "2023-12-22T07:02:10.150Z"
      },
      {
        "duration": 95,
        "start_time": "2023-12-22T07:02:10.154Z"
      },
      {
        "duration": 11,
        "start_time": "2023-12-22T07:02:10.251Z"
      },
      {
        "duration": 5,
        "start_time": "2023-12-22T07:02:10.264Z"
      },
      {
        "duration": 13,
        "start_time": "2023-12-22T07:02:10.270Z"
      },
      {
        "duration": 7,
        "start_time": "2023-12-22T07:02:10.285Z"
      },
      {
        "duration": 294,
        "start_time": "2023-12-22T07:02:10.293Z"
      },
      {
        "duration": 288,
        "start_time": "2023-12-22T07:02:10.589Z"
      },
      {
        "duration": 187,
        "start_time": "2023-12-22T07:02:10.882Z"
      },
      {
        "duration": 280,
        "start_time": "2023-12-22T07:02:11.070Z"
      },
      {
        "duration": 145,
        "start_time": "2023-12-22T07:02:11.351Z"
      },
      {
        "duration": 267,
        "start_time": "2023-12-22T07:02:11.497Z"
      },
      {
        "duration": 21,
        "start_time": "2023-12-22T07:02:11.766Z"
      },
      {
        "duration": 111,
        "start_time": "2023-12-22T07:02:11.789Z"
      },
      {
        "duration": 110,
        "start_time": "2023-12-22T07:02:11.902Z"
      },
      {
        "duration": 3,
        "start_time": "2023-12-22T07:02:12.014Z"
      },
      {
        "duration": 129,
        "start_time": "2023-12-22T07:02:12.018Z"
      },
      {
        "duration": 4,
        "start_time": "2023-12-22T07:02:12.149Z"
      },
      {
        "duration": 421,
        "start_time": "2023-12-22T07:02:12.155Z"
      },
      {
        "duration": 13,
        "start_time": "2023-12-22T07:02:12.578Z"
      },
      {
        "duration": 18,
        "start_time": "2023-12-22T07:02:12.592Z"
      },
      {
        "duration": 33,
        "start_time": "2023-12-22T07:02:12.612Z"
      },
      {
        "duration": 14,
        "start_time": "2023-12-22T07:02:12.646Z"
      },
      {
        "duration": 1018,
        "start_time": "2023-12-22T07:16:16.105Z"
      },
      {
        "duration": 3,
        "start_time": "2023-12-22T07:16:17.124Z"
      },
      {
        "duration": 90,
        "start_time": "2023-12-22T07:16:17.128Z"
      },
      {
        "duration": 13,
        "start_time": "2023-12-22T07:16:17.220Z"
      },
      {
        "duration": 4,
        "start_time": "2023-12-22T07:16:17.234Z"
      },
      {
        "duration": 11,
        "start_time": "2023-12-22T07:16:17.240Z"
      },
      {
        "duration": 7,
        "start_time": "2023-12-22T07:16:17.253Z"
      },
      {
        "duration": 284,
        "start_time": "2023-12-22T07:16:17.262Z"
      },
      {
        "duration": 275,
        "start_time": "2023-12-22T07:16:17.547Z"
      },
      {
        "duration": 197,
        "start_time": "2023-12-22T07:16:17.825Z"
      },
      {
        "duration": 301,
        "start_time": "2023-12-22T07:16:18.024Z"
      },
      {
        "duration": 173,
        "start_time": "2023-12-22T07:16:18.327Z"
      },
      {
        "duration": 281,
        "start_time": "2023-12-22T07:16:18.501Z"
      },
      {
        "duration": 9,
        "start_time": "2023-12-22T07:16:18.783Z"
      },
      {
        "duration": 119,
        "start_time": "2023-12-22T07:16:18.793Z"
      },
      {
        "duration": 121,
        "start_time": "2023-12-22T07:16:18.914Z"
      },
      {
        "duration": 4,
        "start_time": "2023-12-22T07:16:19.036Z"
      },
      {
        "duration": 156,
        "start_time": "2023-12-22T07:16:19.042Z"
      },
      {
        "duration": 5,
        "start_time": "2023-12-22T07:16:19.199Z"
      },
      {
        "duration": 448,
        "start_time": "2023-12-22T07:16:19.205Z"
      },
      {
        "duration": 11,
        "start_time": "2023-12-22T07:16:19.655Z"
      },
      {
        "duration": 20,
        "start_time": "2023-12-22T07:16:19.667Z"
      },
      {
        "duration": 41,
        "start_time": "2023-12-22T07:16:19.689Z"
      },
      {
        "duration": 14,
        "start_time": "2023-12-22T07:16:19.732Z"
      },
      {
        "duration": 1026,
        "start_time": "2023-12-22T07:25:14.096Z"
      },
      {
        "duration": 3,
        "start_time": "2023-12-22T07:25:15.123Z"
      },
      {
        "duration": 101,
        "start_time": "2023-12-22T07:25:15.127Z"
      },
      {
        "duration": 12,
        "start_time": "2023-12-22T07:25:15.230Z"
      },
      {
        "duration": 3,
        "start_time": "2023-12-22T07:25:15.244Z"
      },
      {
        "duration": 12,
        "start_time": "2023-12-22T07:25:15.249Z"
      },
      {
        "duration": 7,
        "start_time": "2023-12-22T07:25:15.263Z"
      },
      {
        "duration": 279,
        "start_time": "2023-12-22T07:25:15.271Z"
      },
      {
        "duration": 273,
        "start_time": "2023-12-22T07:25:15.551Z"
      },
      {
        "duration": 194,
        "start_time": "2023-12-22T07:25:15.826Z"
      },
      {
        "duration": 285,
        "start_time": "2023-12-22T07:25:16.021Z"
      },
      {
        "duration": 165,
        "start_time": "2023-12-22T07:25:16.308Z"
      },
      {
        "duration": 272,
        "start_time": "2023-12-22T07:25:16.474Z"
      },
      {
        "duration": 8,
        "start_time": "2023-12-22T07:25:16.748Z"
      },
      {
        "duration": 112,
        "start_time": "2023-12-22T07:25:16.757Z"
      },
      {
        "duration": 112,
        "start_time": "2023-12-22T07:25:16.871Z"
      },
      {
        "duration": 4,
        "start_time": "2023-12-22T07:25:16.985Z"
      },
      {
        "duration": 133,
        "start_time": "2023-12-22T07:25:16.990Z"
      },
      {
        "duration": 4,
        "start_time": "2023-12-22T07:25:17.124Z"
      },
      {
        "duration": 407,
        "start_time": "2023-12-22T07:25:17.129Z"
      },
      {
        "duration": 9,
        "start_time": "2023-12-22T07:25:17.537Z"
      },
      {
        "duration": 41,
        "start_time": "2023-12-22T07:25:17.547Z"
      },
      {
        "duration": 45,
        "start_time": "2023-12-22T07:25:17.589Z"
      },
      {
        "duration": 11,
        "start_time": "2023-12-22T07:25:17.636Z"
      },
      {
        "duration": 1179,
        "start_time": "2023-12-22T07:25:58.053Z"
      },
      {
        "duration": 3,
        "start_time": "2023-12-22T07:25:59.233Z"
      },
      {
        "duration": 92,
        "start_time": "2023-12-22T07:25:59.237Z"
      },
      {
        "duration": 13,
        "start_time": "2023-12-22T07:25:59.331Z"
      },
      {
        "duration": 4,
        "start_time": "2023-12-22T07:25:59.345Z"
      },
      {
        "duration": 15,
        "start_time": "2023-12-22T07:25:59.351Z"
      },
      {
        "duration": 8,
        "start_time": "2023-12-22T07:25:59.368Z"
      },
      {
        "duration": 304,
        "start_time": "2023-12-22T07:25:59.377Z"
      },
      {
        "duration": 317,
        "start_time": "2023-12-22T07:25:59.683Z"
      },
      {
        "duration": 218,
        "start_time": "2023-12-22T07:26:00.003Z"
      },
      {
        "duration": 278,
        "start_time": "2023-12-22T07:26:00.222Z"
      },
      {
        "duration": 162,
        "start_time": "2023-12-22T07:26:00.502Z"
      },
      {
        "duration": 296,
        "start_time": "2023-12-22T07:26:00.666Z"
      },
      {
        "duration": 18,
        "start_time": "2023-12-22T07:26:00.964Z"
      },
      {
        "duration": 126,
        "start_time": "2023-12-22T07:26:00.984Z"
      },
      {
        "duration": 110,
        "start_time": "2023-12-22T07:26:01.112Z"
      },
      {
        "duration": 4,
        "start_time": "2023-12-22T07:26:01.224Z"
      },
      {
        "duration": 189,
        "start_time": "2023-12-22T07:26:01.229Z"
      },
      {
        "duration": 4,
        "start_time": "2023-12-22T07:26:01.419Z"
      },
      {
        "duration": 466,
        "start_time": "2023-12-22T07:26:01.425Z"
      },
      {
        "duration": 11,
        "start_time": "2023-12-22T07:26:01.892Z"
      },
      {
        "duration": 17,
        "start_time": "2023-12-22T07:26:01.905Z"
      },
      {
        "duration": 51,
        "start_time": "2023-12-22T07:26:01.924Z"
      },
      {
        "duration": 11,
        "start_time": "2023-12-22T07:26:01.977Z"
      },
      {
        "duration": 1053,
        "start_time": "2023-12-22T07:30:33.798Z"
      },
      {
        "duration": 2,
        "start_time": "2023-12-22T07:30:34.853Z"
      },
      {
        "duration": 90,
        "start_time": "2023-12-22T07:30:34.856Z"
      },
      {
        "duration": 12,
        "start_time": "2023-12-22T07:30:34.948Z"
      },
      {
        "duration": 4,
        "start_time": "2023-12-22T07:30:34.961Z"
      },
      {
        "duration": 11,
        "start_time": "2023-12-22T07:30:34.967Z"
      },
      {
        "duration": 7,
        "start_time": "2023-12-22T07:30:34.980Z"
      },
      {
        "duration": 288,
        "start_time": "2023-12-22T07:30:34.988Z"
      },
      {
        "duration": 288,
        "start_time": "2023-12-22T07:30:35.281Z"
      },
      {
        "duration": 198,
        "start_time": "2023-12-22T07:30:35.571Z"
      },
      {
        "duration": 335,
        "start_time": "2023-12-22T07:30:35.770Z"
      },
      {
        "duration": 206,
        "start_time": "2023-12-22T07:30:36.106Z"
      },
      {
        "duration": 278,
        "start_time": "2023-12-22T07:30:36.314Z"
      },
      {
        "duration": 10,
        "start_time": "2023-12-22T07:30:36.594Z"
      },
      {
        "duration": 128,
        "start_time": "2023-12-22T07:30:36.606Z"
      },
      {
        "duration": 113,
        "start_time": "2023-12-22T07:30:36.736Z"
      },
      {
        "duration": 4,
        "start_time": "2023-12-22T07:30:36.851Z"
      },
      {
        "duration": 133,
        "start_time": "2023-12-22T07:30:36.857Z"
      },
      {
        "duration": 4,
        "start_time": "2023-12-22T07:30:36.992Z"
      },
      {
        "duration": 402,
        "start_time": "2023-12-22T07:30:36.998Z"
      },
      {
        "duration": 10,
        "start_time": "2023-12-22T07:30:37.402Z"
      },
      {
        "duration": 8,
        "start_time": "2023-12-22T07:30:37.413Z"
      },
      {
        "duration": 38,
        "start_time": "2023-12-22T07:30:37.422Z"
      },
      {
        "duration": 26,
        "start_time": "2023-12-22T07:30:37.461Z"
      },
      {
        "duration": 1067,
        "start_time": "2023-12-22T07:35:43.769Z"
      },
      {
        "duration": 3,
        "start_time": "2023-12-22T07:35:44.837Z"
      },
      {
        "duration": 90,
        "start_time": "2023-12-22T07:35:44.841Z"
      },
      {
        "duration": 11,
        "start_time": "2023-12-22T07:35:44.933Z"
      },
      {
        "duration": 3,
        "start_time": "2023-12-22T07:35:44.946Z"
      },
      {
        "duration": 14,
        "start_time": "2023-12-22T07:35:44.950Z"
      },
      {
        "duration": 8,
        "start_time": "2023-12-22T07:35:44.965Z"
      },
      {
        "duration": 272,
        "start_time": "2023-12-22T07:35:44.974Z"
      },
      {
        "duration": 263,
        "start_time": "2023-12-22T07:35:45.247Z"
      },
      {
        "duration": 185,
        "start_time": "2023-12-22T07:35:45.512Z"
      },
      {
        "duration": 296,
        "start_time": "2023-12-22T07:35:45.698Z"
      },
      {
        "duration": 183,
        "start_time": "2023-12-22T07:35:45.995Z"
      },
      {
        "duration": 272,
        "start_time": "2023-12-22T07:35:46.182Z"
      },
      {
        "duration": 8,
        "start_time": "2023-12-22T07:35:46.456Z"
      },
      {
        "duration": 106,
        "start_time": "2023-12-22T07:35:46.465Z"
      },
      {
        "duration": 109,
        "start_time": "2023-12-22T07:35:46.582Z"
      },
      {
        "duration": 4,
        "start_time": "2023-12-22T07:35:46.693Z"
      },
      {
        "duration": 133,
        "start_time": "2023-12-22T07:35:46.698Z"
      },
      {
        "duration": 4,
        "start_time": "2023-12-22T07:35:46.833Z"
      },
      {
        "duration": 400,
        "start_time": "2023-12-22T07:35:46.839Z"
      },
      {
        "duration": 9,
        "start_time": "2023-12-22T07:35:47.241Z"
      },
      {
        "duration": 12,
        "start_time": "2023-12-22T07:35:47.251Z"
      },
      {
        "duration": 38,
        "start_time": "2023-12-22T07:35:47.265Z"
      },
      {
        "duration": 12,
        "start_time": "2023-12-22T07:35:47.305Z"
      },
      {
        "duration": 1079,
        "start_time": "2023-12-22T07:36:57.622Z"
      },
      {
        "duration": 2,
        "start_time": "2023-12-22T07:36:58.703Z"
      },
      {
        "duration": 91,
        "start_time": "2023-12-22T07:36:58.706Z"
      },
      {
        "duration": 12,
        "start_time": "2023-12-22T07:36:58.799Z"
      },
      {
        "duration": 4,
        "start_time": "2023-12-22T07:36:58.813Z"
      },
      {
        "duration": 12,
        "start_time": "2023-12-22T07:36:58.819Z"
      },
      {
        "duration": 9,
        "start_time": "2023-12-22T07:36:58.833Z"
      },
      {
        "duration": 318,
        "start_time": "2023-12-22T07:36:58.843Z"
      },
      {
        "duration": 303,
        "start_time": "2023-12-22T07:36:59.163Z"
      },
      {
        "duration": 218,
        "start_time": "2023-12-22T07:36:59.468Z"
      },
      {
        "duration": 319,
        "start_time": "2023-12-22T07:36:59.688Z"
      },
      {
        "duration": 219,
        "start_time": "2023-12-22T07:37:00.008Z"
      },
      {
        "duration": 237,
        "start_time": "2023-12-22T07:37:00.229Z"
      },
      {
        "duration": 20,
        "start_time": "2023-12-22T07:37:00.468Z"
      },
      {
        "duration": 155,
        "start_time": "2023-12-22T07:37:00.489Z"
      },
      {
        "duration": 111,
        "start_time": "2023-12-22T07:37:00.646Z"
      },
      {
        "duration": 4,
        "start_time": "2023-12-22T07:37:00.758Z"
      },
      {
        "duration": 147,
        "start_time": "2023-12-22T07:37:00.764Z"
      },
      {
        "duration": 4,
        "start_time": "2023-12-22T07:37:00.913Z"
      },
      {
        "duration": 405,
        "start_time": "2023-12-22T07:37:00.919Z"
      },
      {
        "duration": 9,
        "start_time": "2023-12-22T07:37:01.326Z"
      },
      {
        "duration": 51,
        "start_time": "2023-12-22T07:37:01.337Z"
      },
      {
        "duration": 73,
        "start_time": "2023-12-22T07:37:01.389Z"
      },
      {
        "duration": 15,
        "start_time": "2023-12-22T07:37:01.464Z"
      },
      {
        "duration": 990,
        "start_time": "2023-12-22T07:37:53.329Z"
      },
      {
        "duration": 2,
        "start_time": "2023-12-22T07:37:54.321Z"
      },
      {
        "duration": 96,
        "start_time": "2023-12-22T07:37:54.324Z"
      },
      {
        "duration": 11,
        "start_time": "2023-12-22T07:37:54.422Z"
      },
      {
        "duration": 3,
        "start_time": "2023-12-22T07:37:54.435Z"
      },
      {
        "duration": 10,
        "start_time": "2023-12-22T07:37:54.440Z"
      },
      {
        "duration": 8,
        "start_time": "2023-12-22T07:37:54.452Z"
      },
      {
        "duration": 277,
        "start_time": "2023-12-22T07:37:54.462Z"
      },
      {
        "duration": 273,
        "start_time": "2023-12-22T07:37:54.741Z"
      },
      {
        "duration": 185,
        "start_time": "2023-12-22T07:37:55.017Z"
      },
      {
        "duration": 306,
        "start_time": "2023-12-22T07:37:55.203Z"
      },
      {
        "duration": 193,
        "start_time": "2023-12-22T07:37:55.510Z"
      },
      {
        "duration": 277,
        "start_time": "2023-12-22T07:37:55.705Z"
      },
      {
        "duration": 9,
        "start_time": "2023-12-22T07:37:55.983Z"
      },
      {
        "duration": 110,
        "start_time": "2023-12-22T07:37:55.993Z"
      },
      {
        "duration": 114,
        "start_time": "2023-12-22T07:37:56.104Z"
      },
      {
        "duration": 4,
        "start_time": "2023-12-22T07:37:56.219Z"
      },
      {
        "duration": 149,
        "start_time": "2023-12-22T07:37:56.225Z"
      },
      {
        "duration": 8,
        "start_time": "2023-12-22T07:37:56.376Z"
      },
      {
        "duration": 472,
        "start_time": "2023-12-22T07:37:56.385Z"
      },
      {
        "duration": 11,
        "start_time": "2023-12-22T07:37:56.858Z"
      },
      {
        "duration": 10,
        "start_time": "2023-12-22T07:37:56.881Z"
      },
      {
        "duration": 37,
        "start_time": "2023-12-22T07:37:56.892Z"
      },
      {
        "duration": 14,
        "start_time": "2023-12-22T07:37:56.930Z"
      },
      {
        "duration": 1094,
        "start_time": "2023-12-22T07:52:58.161Z"
      },
      {
        "duration": 2,
        "start_time": "2023-12-22T07:52:59.257Z"
      },
      {
        "duration": 97,
        "start_time": "2023-12-22T07:52:59.261Z"
      },
      {
        "duration": 13,
        "start_time": "2023-12-22T07:52:59.360Z"
      },
      {
        "duration": 4,
        "start_time": "2023-12-22T07:52:59.375Z"
      },
      {
        "duration": 11,
        "start_time": "2023-12-22T07:52:59.380Z"
      },
      {
        "duration": 8,
        "start_time": "2023-12-22T07:52:59.393Z"
      },
      {
        "duration": 314,
        "start_time": "2023-12-22T07:52:59.402Z"
      },
      {
        "duration": 331,
        "start_time": "2023-12-22T07:52:59.717Z"
      },
      {
        "duration": 213,
        "start_time": "2023-12-22T07:53:00.050Z"
      },
      {
        "duration": 334,
        "start_time": "2023-12-22T07:53:00.264Z"
      },
      {
        "duration": 194,
        "start_time": "2023-12-22T07:53:00.600Z"
      },
      {
        "duration": 310,
        "start_time": "2023-12-22T07:53:00.795Z"
      },
      {
        "duration": 8,
        "start_time": "2023-12-22T07:53:01.106Z"
      },
      {
        "duration": 273,
        "start_time": "2023-12-22T07:53:01.115Z"
      },
      {
        "duration": 121,
        "start_time": "2023-12-22T07:53:01.389Z"
      },
      {
        "duration": 3,
        "start_time": "2023-12-22T07:53:01.512Z"
      },
      {
        "duration": 157,
        "start_time": "2023-12-22T07:53:01.517Z"
      },
      {
        "duration": 4,
        "start_time": "2023-12-22T07:53:01.675Z"
      },
      {
        "duration": 503,
        "start_time": "2023-12-22T07:53:01.682Z"
      },
      {
        "duration": 9,
        "start_time": "2023-12-22T07:53:02.186Z"
      },
      {
        "duration": 21,
        "start_time": "2023-12-22T07:53:02.196Z"
      },
      {
        "duration": 57,
        "start_time": "2023-12-22T07:53:02.218Z"
      },
      {
        "duration": 28,
        "start_time": "2023-12-22T07:53:02.276Z"
      },
      {
        "duration": 1057,
        "start_time": "2023-12-22T08:03:00.067Z"
      },
      {
        "duration": 2,
        "start_time": "2023-12-22T08:03:01.126Z"
      },
      {
        "duration": 140,
        "start_time": "2023-12-22T08:03:01.130Z"
      },
      {
        "duration": 12,
        "start_time": "2023-12-22T08:03:01.272Z"
      },
      {
        "duration": 24,
        "start_time": "2023-12-22T08:03:01.286Z"
      },
      {
        "duration": 53,
        "start_time": "2023-12-22T08:03:01.311Z"
      },
      {
        "duration": 31,
        "start_time": "2023-12-22T08:03:01.366Z"
      },
      {
        "duration": 315,
        "start_time": "2023-12-22T08:03:01.399Z"
      },
      {
        "duration": 307,
        "start_time": "2023-12-22T08:03:01.716Z"
      },
      {
        "duration": 198,
        "start_time": "2023-12-22T08:03:02.026Z"
      },
      {
        "duration": 273,
        "start_time": "2023-12-22T08:03:02.226Z"
      },
      {
        "duration": 202,
        "start_time": "2023-12-22T08:03:02.501Z"
      },
      {
        "duration": 296,
        "start_time": "2023-12-22T08:03:02.704Z"
      },
      {
        "duration": 8,
        "start_time": "2023-12-22T08:03:03.002Z"
      },
      {
        "duration": 141,
        "start_time": "2023-12-22T08:03:03.011Z"
      },
      {
        "duration": 5,
        "start_time": "2023-12-22T08:03:03.153Z"
      },
      {
        "duration": 157,
        "start_time": "2023-12-22T08:03:03.159Z"
      },
      {
        "duration": 3,
        "start_time": "2023-12-22T08:03:03.318Z"
      },
      {
        "duration": 348,
        "start_time": "2023-12-22T08:03:03.323Z"
      },
      {
        "duration": 14,
        "start_time": "2023-12-22T08:03:03.673Z"
      },
      {
        "duration": 22,
        "start_time": "2023-12-22T08:03:03.688Z"
      },
      {
        "duration": 49,
        "start_time": "2023-12-22T08:03:03.712Z"
      },
      {
        "duration": 12,
        "start_time": "2023-12-22T08:03:03.762Z"
      },
      {
        "duration": 1058,
        "start_time": "2023-12-22T08:04:21.580Z"
      },
      {
        "duration": 2,
        "start_time": "2023-12-22T08:04:22.640Z"
      },
      {
        "duration": 93,
        "start_time": "2023-12-22T08:04:22.644Z"
      },
      {
        "duration": 12,
        "start_time": "2023-12-22T08:04:22.738Z"
      },
      {
        "duration": 19,
        "start_time": "2023-12-22T08:04:22.751Z"
      },
      {
        "duration": 57,
        "start_time": "2023-12-22T08:04:22.771Z"
      },
      {
        "duration": 10,
        "start_time": "2023-12-22T08:04:22.829Z"
      },
      {
        "duration": 275,
        "start_time": "2023-12-22T08:04:22.840Z"
      },
      {
        "duration": 278,
        "start_time": "2023-12-22T08:04:23.117Z"
      },
      {
        "duration": 199,
        "start_time": "2023-12-22T08:04:23.397Z"
      },
      {
        "duration": 296,
        "start_time": "2023-12-22T08:04:23.597Z"
      },
      {
        "duration": 194,
        "start_time": "2023-12-22T08:04:23.895Z"
      },
      {
        "duration": 309,
        "start_time": "2023-12-22T08:04:24.090Z"
      },
      {
        "duration": 8,
        "start_time": "2023-12-22T08:04:24.401Z"
      },
      {
        "duration": 145,
        "start_time": "2023-12-22T08:04:24.410Z"
      },
      {
        "duration": 4,
        "start_time": "2023-12-22T08:04:24.556Z"
      },
      {
        "duration": 146,
        "start_time": "2023-12-22T08:04:24.561Z"
      },
      {
        "duration": 4,
        "start_time": "2023-12-22T08:04:24.709Z"
      },
      {
        "duration": 353,
        "start_time": "2023-12-22T08:04:24.714Z"
      },
      {
        "duration": 17,
        "start_time": "2023-12-22T08:04:25.069Z"
      },
      {
        "duration": 8,
        "start_time": "2023-12-22T08:04:25.087Z"
      },
      {
        "duration": 33,
        "start_time": "2023-12-22T08:04:25.096Z"
      },
      {
        "duration": 12,
        "start_time": "2023-12-22T08:04:25.130Z"
      },
      {
        "duration": 1307,
        "start_time": "2023-12-22T10:52:09.982Z"
      },
      {
        "duration": 3,
        "start_time": "2023-12-22T10:52:11.290Z"
      },
      {
        "duration": 225,
        "start_time": "2023-12-22T10:52:11.294Z"
      },
      {
        "duration": 12,
        "start_time": "2023-12-22T10:52:11.520Z"
      },
      {
        "duration": 11,
        "start_time": "2023-12-22T10:52:11.534Z"
      },
      {
        "duration": 13,
        "start_time": "2023-12-22T10:52:11.547Z"
      },
      {
        "duration": 17,
        "start_time": "2023-12-22T10:52:11.561Z"
      },
      {
        "duration": 288,
        "start_time": "2023-12-22T10:52:11.580Z"
      },
      {
        "duration": 284,
        "start_time": "2023-12-22T10:52:11.870Z"
      },
      {
        "duration": 208,
        "start_time": "2023-12-22T10:52:12.156Z"
      },
      {
        "duration": 312,
        "start_time": "2023-12-22T10:52:12.366Z"
      },
      {
        "duration": 204,
        "start_time": "2023-12-22T10:52:12.679Z"
      },
      {
        "duration": 357,
        "start_time": "2023-12-22T10:52:12.884Z"
      },
      {
        "duration": 9,
        "start_time": "2023-12-22T10:52:13.243Z"
      },
      {
        "duration": 162,
        "start_time": "2023-12-22T10:52:13.254Z"
      },
      {
        "duration": 7,
        "start_time": "2023-12-22T10:52:13.417Z"
      },
      {
        "duration": 238,
        "start_time": "2023-12-22T10:52:13.425Z"
      },
      {
        "duration": 4,
        "start_time": "2023-12-22T10:52:13.665Z"
      },
      {
        "duration": 374,
        "start_time": "2023-12-22T10:52:13.670Z"
      },
      {
        "duration": 10,
        "start_time": "2023-12-22T10:52:14.046Z"
      },
      {
        "duration": 9,
        "start_time": "2023-12-22T10:52:14.058Z"
      },
      {
        "duration": 62,
        "start_time": "2023-12-22T10:52:14.069Z"
      },
      {
        "duration": 13,
        "start_time": "2023-12-22T10:52:14.133Z"
      },
      {
        "duration": 1121,
        "start_time": "2023-12-22T11:35:53.910Z"
      },
      {
        "duration": 3,
        "start_time": "2023-12-22T11:35:55.033Z"
      },
      {
        "duration": 102,
        "start_time": "2023-12-22T11:35:55.037Z"
      },
      {
        "duration": 13,
        "start_time": "2023-12-22T11:35:55.141Z"
      },
      {
        "duration": 28,
        "start_time": "2023-12-22T11:35:55.155Z"
      },
      {
        "duration": 25,
        "start_time": "2023-12-22T11:35:55.185Z"
      },
      {
        "duration": 8,
        "start_time": "2023-12-22T11:35:55.211Z"
      },
      {
        "duration": 306,
        "start_time": "2023-12-22T11:35:55.220Z"
      },
      {
        "duration": 318,
        "start_time": "2023-12-22T11:35:55.528Z"
      },
      {
        "duration": 201,
        "start_time": "2023-12-22T11:35:55.849Z"
      },
      {
        "duration": 292,
        "start_time": "2023-12-22T11:35:56.052Z"
      },
      {
        "duration": 214,
        "start_time": "2023-12-22T11:35:56.346Z"
      },
      {
        "duration": 304,
        "start_time": "2023-12-22T11:35:56.561Z"
      },
      {
        "duration": 11,
        "start_time": "2023-12-22T11:35:56.866Z"
      },
      {
        "duration": 157,
        "start_time": "2023-12-22T11:35:56.879Z"
      },
      {
        "duration": 4,
        "start_time": "2023-12-22T11:35:57.037Z"
      },
      {
        "duration": 165,
        "start_time": "2023-12-22T11:35:57.042Z"
      },
      {
        "duration": 4,
        "start_time": "2023-12-22T11:35:57.209Z"
      },
      {
        "duration": 365,
        "start_time": "2023-12-22T11:35:57.214Z"
      },
      {
        "duration": 10,
        "start_time": "2023-12-22T11:35:57.581Z"
      },
      {
        "duration": 41,
        "start_time": "2023-12-22T11:35:57.592Z"
      },
      {
        "duration": 56,
        "start_time": "2023-12-22T11:35:57.634Z"
      },
      {
        "duration": 12,
        "start_time": "2023-12-22T11:35:57.691Z"
      },
      {
        "duration": 1099,
        "start_time": "2023-12-22T11:48:28.206Z"
      },
      {
        "duration": 3,
        "start_time": "2023-12-22T11:48:29.306Z"
      },
      {
        "duration": 95,
        "start_time": "2023-12-22T11:48:29.310Z"
      },
      {
        "duration": 13,
        "start_time": "2023-12-22T11:48:29.407Z"
      },
      {
        "duration": 14,
        "start_time": "2023-12-22T11:48:29.421Z"
      },
      {
        "duration": 16,
        "start_time": "2023-12-22T11:48:29.437Z"
      },
      {
        "duration": 20,
        "start_time": "2023-12-22T11:48:29.455Z"
      },
      {
        "duration": 278,
        "start_time": "2023-12-22T11:48:29.477Z"
      },
      {
        "duration": 279,
        "start_time": "2023-12-22T11:48:29.757Z"
      },
      {
        "duration": 194,
        "start_time": "2023-12-22T11:48:30.039Z"
      },
      {
        "duration": 312,
        "start_time": "2023-12-22T11:48:30.235Z"
      },
      {
        "duration": 210,
        "start_time": "2023-12-22T11:48:30.548Z"
      },
      {
        "duration": 296,
        "start_time": "2023-12-22T11:48:30.760Z"
      },
      {
        "duration": 26,
        "start_time": "2023-12-22T11:48:31.057Z"
      },
      {
        "duration": 186,
        "start_time": "2023-12-22T11:48:31.084Z"
      },
      {
        "duration": 4,
        "start_time": "2023-12-22T11:48:31.272Z"
      },
      {
        "duration": 239,
        "start_time": "2023-12-22T11:48:31.277Z"
      },
      {
        "duration": 7,
        "start_time": "2023-12-22T11:48:31.518Z"
      },
      {
        "duration": 418,
        "start_time": "2023-12-22T11:48:31.527Z"
      },
      {
        "duration": 10,
        "start_time": "2023-12-22T11:48:31.947Z"
      },
      {
        "duration": 17,
        "start_time": "2023-12-22T11:48:31.959Z"
      },
      {
        "duration": 46,
        "start_time": "2023-12-22T11:48:31.978Z"
      },
      {
        "duration": 13,
        "start_time": "2023-12-22T11:48:32.026Z"
      },
      {
        "duration": 1135,
        "start_time": "2023-12-22T12:09:15.863Z"
      },
      {
        "duration": 5,
        "start_time": "2023-12-22T12:09:17.000Z"
      },
      {
        "duration": 94,
        "start_time": "2023-12-22T12:09:17.006Z"
      },
      {
        "duration": 15,
        "start_time": "2023-12-22T12:09:17.102Z"
      },
      {
        "duration": 27,
        "start_time": "2023-12-22T12:09:17.119Z"
      },
      {
        "duration": 30,
        "start_time": "2023-12-22T12:09:17.147Z"
      },
      {
        "duration": 14,
        "start_time": "2023-12-22T12:09:17.178Z"
      },
      {
        "duration": 335,
        "start_time": "2023-12-22T12:09:17.193Z"
      },
      {
        "duration": 308,
        "start_time": "2023-12-22T12:09:17.530Z"
      },
      {
        "duration": 220,
        "start_time": "2023-12-22T12:09:17.840Z"
      },
      {
        "duration": 288,
        "start_time": "2023-12-22T12:09:18.062Z"
      },
      {
        "duration": 215,
        "start_time": "2023-12-22T12:09:18.351Z"
      },
      {
        "duration": 321,
        "start_time": "2023-12-22T12:09:18.568Z"
      },
      {
        "duration": 9,
        "start_time": "2023-12-22T12:09:18.891Z"
      },
      {
        "duration": 165,
        "start_time": "2023-12-22T12:09:18.901Z"
      },
      {
        "duration": 4,
        "start_time": "2023-12-22T12:09:19.068Z"
      },
      {
        "duration": 188,
        "start_time": "2023-12-22T12:09:19.073Z"
      },
      {
        "duration": 4,
        "start_time": "2023-12-22T12:09:19.263Z"
      },
      {
        "duration": 376,
        "start_time": "2023-12-22T12:09:19.269Z"
      },
      {
        "duration": 10,
        "start_time": "2023-12-22T12:09:19.646Z"
      },
      {
        "duration": 8,
        "start_time": "2023-12-22T12:09:19.658Z"
      },
      {
        "duration": 37,
        "start_time": "2023-12-22T12:09:19.667Z"
      },
      {
        "duration": 28,
        "start_time": "2023-12-22T12:09:19.706Z"
      },
      {
        "duration": 1055,
        "start_time": "2023-12-22T12:10:07.664Z"
      },
      {
        "duration": 3,
        "start_time": "2023-12-22T12:10:08.721Z"
      },
      {
        "duration": 106,
        "start_time": "2023-12-22T12:10:08.725Z"
      },
      {
        "duration": 25,
        "start_time": "2023-12-22T12:10:08.833Z"
      },
      {
        "duration": 13,
        "start_time": "2023-12-22T12:10:08.859Z"
      },
      {
        "duration": 14,
        "start_time": "2023-12-22T12:10:08.873Z"
      },
      {
        "duration": 15,
        "start_time": "2023-12-22T12:10:08.888Z"
      },
      {
        "duration": 283,
        "start_time": "2023-12-22T12:10:08.905Z"
      },
      {
        "duration": 306,
        "start_time": "2023-12-22T12:10:09.190Z"
      },
      {
        "duration": 214,
        "start_time": "2023-12-22T12:10:09.499Z"
      },
      {
        "duration": 328,
        "start_time": "2023-12-22T12:10:09.715Z"
      },
      {
        "duration": 211,
        "start_time": "2023-12-22T12:10:10.045Z"
      },
      {
        "duration": 314,
        "start_time": "2023-12-22T12:10:10.258Z"
      },
      {
        "duration": 10,
        "start_time": "2023-12-22T12:10:10.573Z"
      },
      {
        "duration": 259,
        "start_time": "2023-12-22T12:10:10.584Z"
      },
      {
        "duration": 4,
        "start_time": "2023-12-22T12:10:10.844Z"
      },
      {
        "duration": 160,
        "start_time": "2023-12-22T12:10:10.849Z"
      },
      {
        "duration": 4,
        "start_time": "2023-12-22T12:10:11.010Z"
      },
      {
        "duration": 349,
        "start_time": "2023-12-22T12:10:11.022Z"
      },
      {
        "duration": 10,
        "start_time": "2023-12-22T12:10:11.373Z"
      },
      {
        "duration": 17,
        "start_time": "2023-12-22T12:10:11.385Z"
      },
      {
        "duration": 40,
        "start_time": "2023-12-22T12:10:11.404Z"
      },
      {
        "duration": 13,
        "start_time": "2023-12-22T12:10:11.445Z"
      },
      {
        "duration": 1055,
        "start_time": "2023-12-22T12:11:52.534Z"
      },
      {
        "duration": 2,
        "start_time": "2023-12-22T12:11:53.591Z"
      },
      {
        "duration": 112,
        "start_time": "2023-12-22T12:11:53.595Z"
      },
      {
        "duration": 12,
        "start_time": "2023-12-22T12:11:53.709Z"
      },
      {
        "duration": 32,
        "start_time": "2023-12-22T12:11:53.723Z"
      },
      {
        "duration": 26,
        "start_time": "2023-12-22T12:11:53.757Z"
      },
      {
        "duration": 8,
        "start_time": "2023-12-22T12:11:53.785Z"
      },
      {
        "duration": 317,
        "start_time": "2023-12-22T12:11:53.794Z"
      },
      {
        "duration": 293,
        "start_time": "2023-12-22T12:11:54.112Z"
      },
      {
        "duration": 207,
        "start_time": "2023-12-22T12:11:54.408Z"
      },
      {
        "duration": 347,
        "start_time": "2023-12-22T12:11:54.622Z"
      },
      {
        "duration": 213,
        "start_time": "2023-12-22T12:11:54.971Z"
      },
      {
        "duration": 359,
        "start_time": "2023-12-22T12:11:55.186Z"
      },
      {
        "duration": 10,
        "start_time": "2023-12-22T12:11:55.546Z"
      },
      {
        "duration": 143,
        "start_time": "2023-12-22T12:11:55.557Z"
      },
      {
        "duration": 4,
        "start_time": "2023-12-22T12:11:55.702Z"
      },
      {
        "duration": 162,
        "start_time": "2023-12-22T12:11:55.707Z"
      },
      {
        "duration": 4,
        "start_time": "2023-12-22T12:11:55.870Z"
      },
      {
        "duration": 391,
        "start_time": "2023-12-22T12:11:55.876Z"
      },
      {
        "duration": 10,
        "start_time": "2023-12-22T12:11:56.268Z"
      },
      {
        "duration": 9,
        "start_time": "2023-12-22T12:11:56.280Z"
      },
      {
        "duration": 59,
        "start_time": "2023-12-22T12:11:56.291Z"
      },
      {
        "duration": 17,
        "start_time": "2023-12-22T12:11:56.352Z"
      },
      {
        "duration": 1165,
        "start_time": "2023-12-22T12:23:31.111Z"
      },
      {
        "duration": 2,
        "start_time": "2023-12-22T12:23:32.278Z"
      },
      {
        "duration": 92,
        "start_time": "2023-12-22T12:23:32.281Z"
      },
      {
        "duration": 12,
        "start_time": "2023-12-22T12:23:32.375Z"
      },
      {
        "duration": 4,
        "start_time": "2023-12-22T12:23:32.389Z"
      },
      {
        "duration": 19,
        "start_time": "2023-12-22T12:23:32.394Z"
      },
      {
        "duration": 8,
        "start_time": "2023-12-22T12:23:32.414Z"
      },
      {
        "duration": 287,
        "start_time": "2023-12-22T12:23:32.423Z"
      },
      {
        "duration": 278,
        "start_time": "2023-12-22T12:23:32.711Z"
      },
      {
        "duration": 198,
        "start_time": "2023-12-22T12:23:32.992Z"
      },
      {
        "duration": 342,
        "start_time": "2023-12-22T12:23:33.193Z"
      },
      {
        "duration": 210,
        "start_time": "2023-12-22T12:23:33.537Z"
      },
      {
        "duration": 302,
        "start_time": "2023-12-22T12:23:33.749Z"
      },
      {
        "duration": 11,
        "start_time": "2023-12-22T12:23:34.052Z"
      },
      {
        "duration": 145,
        "start_time": "2023-12-22T12:23:34.065Z"
      },
      {
        "duration": 4,
        "start_time": "2023-12-22T12:23:34.221Z"
      },
      {
        "duration": 158,
        "start_time": "2023-12-22T12:23:34.226Z"
      },
      {
        "duration": 4,
        "start_time": "2023-12-22T12:23:34.386Z"
      },
      {
        "duration": 368,
        "start_time": "2023-12-22T12:23:34.392Z"
      },
      {
        "duration": 10,
        "start_time": "2023-12-22T12:23:34.761Z"
      },
      {
        "duration": 10,
        "start_time": "2023-12-22T12:23:34.773Z"
      },
      {
        "duration": 52,
        "start_time": "2023-12-22T12:23:34.785Z"
      },
      {
        "duration": 13,
        "start_time": "2023-12-22T12:23:34.839Z"
      },
      {
        "duration": 1274,
        "start_time": "2023-12-22T15:49:59.022Z"
      },
      {
        "duration": 2,
        "start_time": "2023-12-22T15:50:00.298Z"
      },
      {
        "duration": 246,
        "start_time": "2023-12-22T15:50:00.301Z"
      },
      {
        "duration": 12,
        "start_time": "2023-12-22T15:50:00.549Z"
      },
      {
        "duration": 16,
        "start_time": "2023-12-22T15:50:00.563Z"
      },
      {
        "duration": 56,
        "start_time": "2023-12-22T15:50:00.580Z"
      },
      {
        "duration": 11,
        "start_time": "2023-12-22T15:50:00.637Z"
      },
      {
        "duration": 329,
        "start_time": "2023-12-22T15:50:00.650Z"
      },
      {
        "duration": 298,
        "start_time": "2023-12-22T15:50:00.981Z"
      },
      {
        "duration": 198,
        "start_time": "2023-12-22T15:50:01.281Z"
      },
      {
        "duration": 397,
        "start_time": "2023-12-22T15:50:01.481Z"
      },
      {
        "duration": 203,
        "start_time": "2023-12-22T15:50:01.880Z"
      },
      {
        "duration": 357,
        "start_time": "2023-12-22T15:50:02.085Z"
      },
      {
        "duration": 10,
        "start_time": "2023-12-22T15:50:02.444Z"
      },
      {
        "duration": 142,
        "start_time": "2023-12-22T15:50:02.456Z"
      },
      {
        "duration": 4,
        "start_time": "2023-12-22T15:50:02.600Z"
      },
      {
        "duration": 150,
        "start_time": "2023-12-22T15:50:02.614Z"
      },
      {
        "duration": 5,
        "start_time": "2023-12-22T15:50:02.766Z"
      },
      {
        "duration": 382,
        "start_time": "2023-12-22T15:50:02.773Z"
      },
      {
        "duration": 8,
        "start_time": "2023-12-22T15:50:03.157Z"
      },
      {
        "duration": 22,
        "start_time": "2023-12-22T15:50:03.167Z"
      },
      {
        "duration": 31,
        "start_time": "2023-12-22T15:50:03.190Z"
      },
      {
        "duration": 12,
        "start_time": "2023-12-22T15:50:03.222Z"
      },
      {
        "duration": 1395,
        "start_time": "2023-12-29T11:00:31.728Z"
      },
      {
        "duration": 3,
        "start_time": "2023-12-29T11:00:33.125Z"
      },
      {
        "duration": 77,
        "start_time": "2023-12-29T11:00:33.131Z"
      },
      {
        "duration": 0,
        "start_time": "2023-12-29T11:00:33.210Z"
      },
      {
        "duration": 0,
        "start_time": "2023-12-29T11:00:33.211Z"
      },
      {
        "duration": 0,
        "start_time": "2023-12-29T11:00:33.212Z"
      },
      {
        "duration": 0,
        "start_time": "2023-12-29T11:00:33.213Z"
      },
      {
        "duration": 0,
        "start_time": "2023-12-29T11:00:33.215Z"
      },
      {
        "duration": 0,
        "start_time": "2023-12-29T11:00:33.216Z"
      },
      {
        "duration": 0,
        "start_time": "2023-12-29T11:00:33.216Z"
      },
      {
        "duration": 0,
        "start_time": "2023-12-29T11:00:33.217Z"
      },
      {
        "duration": 0,
        "start_time": "2023-12-29T11:00:33.220Z"
      },
      {
        "duration": 0,
        "start_time": "2023-12-29T11:00:33.221Z"
      },
      {
        "duration": 0,
        "start_time": "2023-12-29T11:00:33.222Z"
      },
      {
        "duration": 0,
        "start_time": "2023-12-29T11:00:33.223Z"
      },
      {
        "duration": 0,
        "start_time": "2023-12-29T11:00:33.224Z"
      },
      {
        "duration": 0,
        "start_time": "2023-12-29T11:00:33.225Z"
      },
      {
        "duration": 0,
        "start_time": "2023-12-29T11:00:33.226Z"
      },
      {
        "duration": 0,
        "start_time": "2023-12-29T11:00:33.227Z"
      },
      {
        "duration": 0,
        "start_time": "2023-12-29T11:00:33.229Z"
      },
      {
        "duration": 0,
        "start_time": "2023-12-29T11:00:33.230Z"
      },
      {
        "duration": 0,
        "start_time": "2023-12-29T11:00:33.231Z"
      },
      {
        "duration": 0,
        "start_time": "2023-12-29T11:00:33.232Z"
      },
      {
        "duration": 1172,
        "start_time": "2023-12-29T11:01:05.460Z"
      },
      {
        "duration": 3,
        "start_time": "2023-12-29T11:01:06.633Z"
      },
      {
        "duration": 215,
        "start_time": "2023-12-29T11:01:06.637Z"
      },
      {
        "duration": 17,
        "start_time": "2023-12-29T11:01:06.855Z"
      },
      {
        "duration": 14,
        "start_time": "2023-12-29T11:01:06.874Z"
      },
      {
        "duration": 54,
        "start_time": "2023-12-29T11:01:06.890Z"
      },
      {
        "duration": 11,
        "start_time": "2023-12-29T11:01:06.946Z"
      },
      {
        "duration": 392,
        "start_time": "2023-12-29T11:01:06.959Z"
      },
      {
        "duration": 379,
        "start_time": "2023-12-29T11:01:07.354Z"
      },
      {
        "duration": 263,
        "start_time": "2023-12-29T11:01:07.735Z"
      },
      {
        "duration": 380,
        "start_time": "2023-12-29T11:01:08.000Z"
      },
      {
        "duration": 219,
        "start_time": "2023-12-29T11:01:08.383Z"
      },
      {
        "duration": 391,
        "start_time": "2023-12-29T11:01:08.604Z"
      },
      {
        "duration": 10,
        "start_time": "2023-12-29T11:01:08.996Z"
      },
      {
        "duration": 158,
        "start_time": "2023-12-29T11:01:09.008Z"
      },
      {
        "duration": 5,
        "start_time": "2023-12-29T11:01:09.167Z"
      },
      {
        "duration": 177,
        "start_time": "2023-12-29T11:01:09.173Z"
      },
      {
        "duration": 5,
        "start_time": "2023-12-29T11:01:09.352Z"
      },
      {
        "duration": 446,
        "start_time": "2023-12-29T11:01:09.359Z"
      },
      {
        "duration": 10,
        "start_time": "2023-12-29T11:01:09.807Z"
      },
      {
        "duration": 11,
        "start_time": "2023-12-29T11:01:09.830Z"
      },
      {
        "duration": 56,
        "start_time": "2023-12-29T11:01:09.843Z"
      },
      {
        "duration": 17,
        "start_time": "2023-12-29T11:01:09.901Z"
      },
      {
        "duration": 1259,
        "start_time": "2023-12-29T11:03:00.694Z"
      },
      {
        "duration": 3,
        "start_time": "2023-12-29T11:03:01.955Z"
      },
      {
        "duration": 133,
        "start_time": "2023-12-29T11:03:01.960Z"
      },
      {
        "duration": 15,
        "start_time": "2023-12-29T11:03:02.095Z"
      },
      {
        "duration": 70,
        "start_time": "2023-12-29T11:03:02.111Z"
      },
      {
        "duration": 64,
        "start_time": "2023-12-29T11:03:02.183Z"
      },
      {
        "duration": 26,
        "start_time": "2023-12-29T11:03:02.249Z"
      },
      {
        "duration": 343,
        "start_time": "2023-12-29T11:03:02.277Z"
      },
      {
        "duration": 316,
        "start_time": "2023-12-29T11:03:02.622Z"
      },
      {
        "duration": 242,
        "start_time": "2023-12-29T11:03:02.941Z"
      },
      {
        "duration": 361,
        "start_time": "2023-12-29T11:03:03.185Z"
      },
      {
        "duration": 233,
        "start_time": "2023-12-29T11:03:03.548Z"
      },
      {
        "duration": 386,
        "start_time": "2023-12-29T11:03:03.783Z"
      },
      {
        "duration": 14,
        "start_time": "2023-12-29T11:03:04.171Z"
      },
      {
        "duration": 164,
        "start_time": "2023-12-29T11:03:04.187Z"
      },
      {
        "duration": 5,
        "start_time": "2023-12-29T11:03:04.353Z"
      },
      {
        "duration": 189,
        "start_time": "2023-12-29T11:03:04.360Z"
      },
      {
        "duration": 6,
        "start_time": "2023-12-29T11:03:04.552Z"
      },
      {
        "duration": 407,
        "start_time": "2023-12-29T11:03:04.561Z"
      },
      {
        "duration": 13,
        "start_time": "2023-12-29T11:03:04.969Z"
      },
      {
        "duration": 18,
        "start_time": "2023-12-29T11:03:04.983Z"
      },
      {
        "duration": 53,
        "start_time": "2023-12-29T11:03:05.003Z"
      },
      {
        "duration": 16,
        "start_time": "2023-12-29T11:03:05.057Z"
      },
      {
        "duration": 1178,
        "start_time": "2023-12-29T13:31:14.138Z"
      },
      {
        "duration": 3,
        "start_time": "2023-12-29T13:31:15.318Z"
      },
      {
        "duration": 126,
        "start_time": "2023-12-29T13:31:15.331Z"
      },
      {
        "duration": 23,
        "start_time": "2023-12-29T13:31:15.460Z"
      },
      {
        "duration": 21,
        "start_time": "2023-12-29T13:31:15.487Z"
      },
      {
        "duration": 29,
        "start_time": "2023-12-29T13:31:15.513Z"
      },
      {
        "duration": 11,
        "start_time": "2023-12-29T13:31:15.545Z"
      },
      {
        "duration": 344,
        "start_time": "2023-12-29T13:31:15.563Z"
      },
      {
        "duration": 304,
        "start_time": "2023-12-29T13:31:15.909Z"
      },
      {
        "duration": 221,
        "start_time": "2023-12-29T13:31:16.215Z"
      },
      {
        "duration": 353,
        "start_time": "2023-12-29T13:31:16.438Z"
      },
      {
        "duration": 240,
        "start_time": "2023-12-29T13:31:16.793Z"
      },
      {
        "duration": 368,
        "start_time": "2023-12-29T13:31:17.035Z"
      },
      {
        "duration": 12,
        "start_time": "2023-12-29T13:31:17.405Z"
      },
      {
        "duration": 181,
        "start_time": "2023-12-29T13:31:17.430Z"
      },
      {
        "duration": 5,
        "start_time": "2023-12-29T13:31:17.613Z"
      },
      {
        "duration": 258,
        "start_time": "2023-12-29T13:31:17.631Z"
      },
      {
        "duration": 5,
        "start_time": "2023-12-29T13:31:17.891Z"
      },
      {
        "duration": 419,
        "start_time": "2023-12-29T13:31:17.898Z"
      },
      {
        "duration": 18,
        "start_time": "2023-12-29T13:31:18.320Z"
      },
      {
        "duration": 14,
        "start_time": "2023-12-29T13:31:18.340Z"
      },
      {
        "duration": 35,
        "start_time": "2023-12-29T13:31:18.356Z"
      },
      {
        "duration": 41,
        "start_time": "2023-12-29T13:31:18.393Z"
      },
      {
        "duration": 1251,
        "start_time": "2023-12-29T13:43:05.574Z"
      },
      {
        "duration": 3,
        "start_time": "2023-12-29T13:43:06.827Z"
      },
      {
        "duration": 98,
        "start_time": "2023-12-29T13:43:06.832Z"
      },
      {
        "duration": 15,
        "start_time": "2023-12-29T13:43:06.932Z"
      },
      {
        "duration": 9,
        "start_time": "2023-12-29T13:43:06.948Z"
      },
      {
        "duration": 18,
        "start_time": "2023-12-29T13:43:06.959Z"
      },
      {
        "duration": 10,
        "start_time": "2023-12-29T13:43:06.979Z"
      },
      {
        "duration": 27,
        "start_time": "2023-12-29T13:43:06.991Z"
      },
      {
        "duration": 356,
        "start_time": "2023-12-29T13:43:07.019Z"
      },
      {
        "duration": 400,
        "start_time": "2023-12-29T13:43:07.379Z"
      },
      {
        "duration": 242,
        "start_time": "2023-12-29T13:43:07.782Z"
      },
      {
        "duration": 369,
        "start_time": "2023-12-29T13:43:08.030Z"
      },
      {
        "duration": 257,
        "start_time": "2023-12-29T13:43:08.401Z"
      },
      {
        "duration": 354,
        "start_time": "2023-12-29T13:43:08.660Z"
      },
      {
        "duration": 19,
        "start_time": "2023-12-29T13:43:09.016Z"
      },
      {
        "duration": 163,
        "start_time": "2023-12-29T13:43:09.037Z"
      },
      {
        "duration": 5,
        "start_time": "2023-12-29T13:43:09.202Z"
      },
      {
        "duration": 195,
        "start_time": "2023-12-29T13:43:09.209Z"
      },
      {
        "duration": 5,
        "start_time": "2023-12-29T13:43:09.405Z"
      },
      {
        "duration": 395,
        "start_time": "2023-12-29T13:43:09.412Z"
      },
      {
        "duration": 27,
        "start_time": "2023-12-29T13:43:09.809Z"
      },
      {
        "duration": 11,
        "start_time": "2023-12-29T13:43:09.838Z"
      },
      {
        "duration": 34,
        "start_time": "2023-12-29T13:43:09.851Z"
      },
      {
        "duration": 16,
        "start_time": "2023-12-29T13:43:09.887Z"
      },
      {
        "duration": 1188,
        "start_time": "2023-12-29T14:03:12.056Z"
      },
      {
        "duration": 6,
        "start_time": "2023-12-29T14:03:13.246Z"
      },
      {
        "duration": 106,
        "start_time": "2023-12-29T14:03:13.254Z"
      },
      {
        "duration": 16,
        "start_time": "2023-12-29T14:03:13.362Z"
      },
      {
        "duration": 4,
        "start_time": "2023-12-29T14:03:13.380Z"
      },
      {
        "duration": 25,
        "start_time": "2023-12-29T14:03:13.386Z"
      },
      {
        "duration": 9,
        "start_time": "2023-12-29T14:03:13.413Z"
      },
      {
        "duration": 23,
        "start_time": "2023-12-29T14:03:13.424Z"
      },
      {
        "duration": 10,
        "start_time": "2023-12-29T14:03:13.449Z"
      },
      {
        "duration": 344,
        "start_time": "2023-12-29T14:03:13.461Z"
      },
      {
        "duration": 0,
        "start_time": "2023-12-29T14:03:13.807Z"
      },
      {
        "duration": 0,
        "start_time": "2023-12-29T14:03:13.808Z"
      },
      {
        "duration": 0,
        "start_time": "2023-12-29T14:03:13.810Z"
      },
      {
        "duration": 0,
        "start_time": "2023-12-29T14:03:13.812Z"
      },
      {
        "duration": 0,
        "start_time": "2023-12-29T14:03:13.813Z"
      },
      {
        "duration": 0,
        "start_time": "2023-12-29T14:03:13.815Z"
      },
      {
        "duration": 0,
        "start_time": "2023-12-29T14:03:13.816Z"
      },
      {
        "duration": 0,
        "start_time": "2023-12-29T14:03:13.817Z"
      },
      {
        "duration": 0,
        "start_time": "2023-12-29T14:03:13.819Z"
      },
      {
        "duration": 0,
        "start_time": "2023-12-29T14:03:13.820Z"
      },
      {
        "duration": 0,
        "start_time": "2023-12-29T14:03:13.822Z"
      },
      {
        "duration": 0,
        "start_time": "2023-12-29T14:03:13.823Z"
      },
      {
        "duration": 0,
        "start_time": "2023-12-29T14:03:13.824Z"
      },
      {
        "duration": 0,
        "start_time": "2023-12-29T14:03:13.826Z"
      },
      {
        "duration": 0,
        "start_time": "2023-12-29T14:03:13.827Z"
      },
      {
        "duration": 1236,
        "start_time": "2023-12-29T14:09:40.263Z"
      },
      {
        "duration": 3,
        "start_time": "2023-12-29T14:09:41.501Z"
      },
      {
        "duration": 144,
        "start_time": "2023-12-29T14:09:41.506Z"
      },
      {
        "duration": 15,
        "start_time": "2023-12-29T14:09:41.653Z"
      },
      {
        "duration": 9,
        "start_time": "2023-12-29T14:09:41.670Z"
      },
      {
        "duration": 37,
        "start_time": "2023-12-29T14:09:41.680Z"
      },
      {
        "duration": 24,
        "start_time": "2023-12-29T14:09:41.718Z"
      },
      {
        "duration": 21,
        "start_time": "2023-12-29T14:09:41.744Z"
      },
      {
        "duration": 11,
        "start_time": "2023-12-29T14:09:41.767Z"
      },
      {
        "duration": 375,
        "start_time": "2023-12-29T14:09:41.780Z"
      },
      {
        "duration": 400,
        "start_time": "2023-12-29T14:09:42.158Z"
      },
      {
        "duration": 237,
        "start_time": "2023-12-29T14:09:42.560Z"
      },
      {
        "duration": 388,
        "start_time": "2023-12-29T14:09:42.799Z"
      },
      {
        "duration": 230,
        "start_time": "2023-12-29T14:09:43.189Z"
      },
      {
        "duration": 353,
        "start_time": "2023-12-29T14:09:43.421Z"
      },
      {
        "duration": 11,
        "start_time": "2023-12-29T14:09:43.776Z"
      },
      {
        "duration": 170,
        "start_time": "2023-12-29T14:09:43.788Z"
      },
      {
        "duration": 4,
        "start_time": "2023-12-29T14:09:43.960Z"
      },
      {
        "duration": 189,
        "start_time": "2023-12-29T14:09:43.966Z"
      },
      {
        "duration": 5,
        "start_time": "2023-12-29T14:09:44.157Z"
      },
      {
        "duration": 414,
        "start_time": "2023-12-29T14:09:44.164Z"
      },
      {
        "duration": 11,
        "start_time": "2023-12-29T14:09:44.580Z"
      },
      {
        "duration": 10,
        "start_time": "2023-12-29T14:09:44.593Z"
      },
      {
        "duration": 69,
        "start_time": "2023-12-29T14:09:44.604Z"
      },
      {
        "duration": 27,
        "start_time": "2023-12-29T14:09:44.676Z"
      },
      {
        "duration": 1215,
        "start_time": "2023-12-29T14:12:22.248Z"
      },
      {
        "duration": 4,
        "start_time": "2023-12-29T14:12:23.466Z"
      },
      {
        "duration": 167,
        "start_time": "2023-12-29T14:12:23.472Z"
      },
      {
        "duration": 20,
        "start_time": "2023-12-29T14:12:23.641Z"
      },
      {
        "duration": 7,
        "start_time": "2023-12-29T14:12:23.663Z"
      },
      {
        "duration": 24,
        "start_time": "2023-12-29T14:12:23.671Z"
      },
      {
        "duration": 115,
        "start_time": "2023-12-29T14:12:23.697Z"
      },
      {
        "duration": 0,
        "start_time": "2023-12-29T14:12:23.815Z"
      },
      {
        "duration": 0,
        "start_time": "2023-12-29T14:12:23.816Z"
      },
      {
        "duration": 0,
        "start_time": "2023-12-29T14:12:23.818Z"
      },
      {
        "duration": 0,
        "start_time": "2023-12-29T14:12:23.831Z"
      },
      {
        "duration": 0,
        "start_time": "2023-12-29T14:12:23.839Z"
      },
      {
        "duration": 0,
        "start_time": "2023-12-29T14:12:23.840Z"
      },
      {
        "duration": 0,
        "start_time": "2023-12-29T14:12:23.846Z"
      },
      {
        "duration": 0,
        "start_time": "2023-12-29T14:12:23.848Z"
      },
      {
        "duration": 0,
        "start_time": "2023-12-29T14:12:23.850Z"
      },
      {
        "duration": 0,
        "start_time": "2023-12-29T14:12:23.851Z"
      },
      {
        "duration": 0,
        "start_time": "2023-12-29T14:12:23.853Z"
      },
      {
        "duration": 0,
        "start_time": "2023-12-29T14:12:23.855Z"
      },
      {
        "duration": 0,
        "start_time": "2023-12-29T14:12:23.856Z"
      },
      {
        "duration": 0,
        "start_time": "2023-12-29T14:12:23.857Z"
      },
      {
        "duration": 0,
        "start_time": "2023-12-29T14:12:23.858Z"
      },
      {
        "duration": 0,
        "start_time": "2023-12-29T14:12:23.860Z"
      },
      {
        "duration": 0,
        "start_time": "2023-12-29T14:12:23.861Z"
      },
      {
        "duration": 0,
        "start_time": "2023-12-29T14:12:23.862Z"
      },
      {
        "duration": 1150,
        "start_time": "2023-12-29T14:13:10.273Z"
      },
      {
        "duration": 7,
        "start_time": "2023-12-29T14:13:11.425Z"
      },
      {
        "duration": 124,
        "start_time": "2023-12-29T14:13:11.435Z"
      },
      {
        "duration": 17,
        "start_time": "2023-12-29T14:13:11.562Z"
      },
      {
        "duration": 12,
        "start_time": "2023-12-29T14:13:11.581Z"
      },
      {
        "duration": 17,
        "start_time": "2023-12-29T14:13:11.595Z"
      },
      {
        "duration": 12,
        "start_time": "2023-12-29T14:13:11.631Z"
      },
      {
        "duration": 33,
        "start_time": "2023-12-29T14:13:11.644Z"
      },
      {
        "duration": 10,
        "start_time": "2023-12-29T14:13:11.679Z"
      },
      {
        "duration": 328,
        "start_time": "2023-12-29T14:13:11.692Z"
      },
      {
        "duration": 332,
        "start_time": "2023-12-29T14:13:12.021Z"
      },
      {
        "duration": 223,
        "start_time": "2023-12-29T14:13:12.355Z"
      },
      {
        "duration": 327,
        "start_time": "2023-12-29T14:13:12.579Z"
      },
      {
        "duration": 242,
        "start_time": "2023-12-29T14:13:12.908Z"
      },
      {
        "duration": 339,
        "start_time": "2023-12-29T14:13:13.152Z"
      },
      {
        "duration": 9,
        "start_time": "2023-12-29T14:13:13.493Z"
      },
      {
        "duration": 190,
        "start_time": "2023-12-29T14:13:13.504Z"
      },
      {
        "duration": 4,
        "start_time": "2023-12-29T14:13:13.696Z"
      },
      {
        "duration": 180,
        "start_time": "2023-12-29T14:13:13.702Z"
      },
      {
        "duration": 5,
        "start_time": "2023-12-29T14:13:13.884Z"
      },
      {
        "duration": 459,
        "start_time": "2023-12-29T14:13:13.890Z"
      },
      {
        "duration": 11,
        "start_time": "2023-12-29T14:13:14.351Z"
      },
      {
        "duration": 11,
        "start_time": "2023-12-29T14:13:14.363Z"
      },
      {
        "duration": 35,
        "start_time": "2023-12-29T14:13:14.376Z"
      },
      {
        "duration": 33,
        "start_time": "2023-12-29T14:13:14.413Z"
      },
      {
        "duration": 1183,
        "start_time": "2023-12-29T14:31:28.224Z"
      },
      {
        "duration": 2,
        "start_time": "2023-12-29T14:31:29.409Z"
      },
      {
        "duration": 102,
        "start_time": "2023-12-29T14:31:29.413Z"
      },
      {
        "duration": 16,
        "start_time": "2023-12-29T14:31:29.517Z"
      },
      {
        "duration": 19,
        "start_time": "2023-12-29T14:31:29.536Z"
      },
      {
        "duration": 29,
        "start_time": "2023-12-29T14:31:29.557Z"
      },
      {
        "duration": 11,
        "start_time": "2023-12-29T14:31:29.588Z"
      },
      {
        "duration": 26,
        "start_time": "2023-12-29T14:31:29.601Z"
      },
      {
        "duration": 37,
        "start_time": "2023-12-29T14:31:29.629Z"
      },
      {
        "duration": 329,
        "start_time": "2023-12-29T14:31:29.670Z"
      },
      {
        "duration": 379,
        "start_time": "2023-12-29T14:31:30.001Z"
      },
      {
        "duration": 236,
        "start_time": "2023-12-29T14:31:30.381Z"
      },
      {
        "duration": 355,
        "start_time": "2023-12-29T14:31:30.619Z"
      },
      {
        "duration": 248,
        "start_time": "2023-12-29T14:31:30.976Z"
      },
      {
        "duration": 416,
        "start_time": "2023-12-29T14:31:31.226Z"
      },
      {
        "duration": 21,
        "start_time": "2023-12-29T14:31:31.650Z"
      },
      {
        "duration": 186,
        "start_time": "2023-12-29T14:31:31.674Z"
      },
      {
        "duration": 5,
        "start_time": "2023-12-29T14:31:31.861Z"
      },
      {
        "duration": 285,
        "start_time": "2023-12-29T14:31:31.868Z"
      },
      {
        "duration": 4,
        "start_time": "2023-12-29T14:31:32.155Z"
      },
      {
        "duration": 452,
        "start_time": "2023-12-29T14:31:32.160Z"
      },
      {
        "duration": 22,
        "start_time": "2023-12-29T14:31:32.614Z"
      },
      {
        "duration": 36,
        "start_time": "2023-12-29T14:31:32.637Z"
      },
      {
        "duration": 120,
        "start_time": "2023-12-29T14:31:32.675Z"
      },
      {
        "duration": 20,
        "start_time": "2023-12-29T14:31:32.797Z"
      },
      {
        "duration": 1227,
        "start_time": "2023-12-29T14:32:52.190Z"
      },
      {
        "duration": 2,
        "start_time": "2023-12-29T14:32:53.419Z"
      },
      {
        "duration": 122,
        "start_time": "2023-12-29T14:32:53.423Z"
      },
      {
        "duration": 20,
        "start_time": "2023-12-29T14:32:53.554Z"
      },
      {
        "duration": 6,
        "start_time": "2023-12-29T14:32:53.576Z"
      },
      {
        "duration": 22,
        "start_time": "2023-12-29T14:32:53.584Z"
      },
      {
        "duration": 5,
        "start_time": "2023-12-29T14:32:53.610Z"
      },
      {
        "duration": 24,
        "start_time": "2023-12-29T14:32:53.618Z"
      },
      {
        "duration": 14,
        "start_time": "2023-12-29T14:32:53.647Z"
      },
      {
        "duration": 12,
        "start_time": "2023-12-29T14:32:53.665Z"
      },
      {
        "duration": 326,
        "start_time": "2023-12-29T14:32:53.678Z"
      },
      {
        "duration": 340,
        "start_time": "2023-12-29T14:32:54.006Z"
      },
      {
        "duration": 230,
        "start_time": "2023-12-29T14:32:54.348Z"
      },
      {
        "duration": 338,
        "start_time": "2023-12-29T14:32:54.580Z"
      },
      {
        "duration": 241,
        "start_time": "2023-12-29T14:32:54.920Z"
      },
      {
        "duration": 331,
        "start_time": "2023-12-29T14:32:55.163Z"
      },
      {
        "duration": 10,
        "start_time": "2023-12-29T14:32:55.496Z"
      },
      {
        "duration": 165,
        "start_time": "2023-12-29T14:32:55.508Z"
      },
      {
        "duration": 4,
        "start_time": "2023-12-29T14:32:55.675Z"
      },
      {
        "duration": 189,
        "start_time": "2023-12-29T14:32:55.681Z"
      },
      {
        "duration": 5,
        "start_time": "2023-12-29T14:32:55.872Z"
      },
      {
        "duration": 444,
        "start_time": "2023-12-29T14:32:55.879Z"
      },
      {
        "duration": 23,
        "start_time": "2023-12-29T14:32:56.324Z"
      },
      {
        "duration": 42,
        "start_time": "2023-12-29T14:32:56.349Z"
      },
      {
        "duration": 75,
        "start_time": "2023-12-29T14:32:56.393Z"
      },
      {
        "duration": 16,
        "start_time": "2023-12-29T14:32:56.469Z"
      },
      {
        "duration": 1189,
        "start_time": "2023-12-29T14:35:35.312Z"
      },
      {
        "duration": 3,
        "start_time": "2023-12-29T14:35:36.503Z"
      },
      {
        "duration": 141,
        "start_time": "2023-12-29T14:35:36.509Z"
      },
      {
        "duration": 15,
        "start_time": "2023-12-29T14:35:36.653Z"
      },
      {
        "duration": 27,
        "start_time": "2023-12-29T14:35:36.670Z"
      },
      {
        "duration": 53,
        "start_time": "2023-12-29T14:35:36.699Z"
      },
      {
        "duration": 30,
        "start_time": "2023-12-29T14:35:36.754Z"
      },
      {
        "duration": 50,
        "start_time": "2023-12-29T14:35:36.785Z"
      },
      {
        "duration": 37,
        "start_time": "2023-12-29T14:35:36.842Z"
      },
      {
        "duration": 39,
        "start_time": "2023-12-29T14:35:36.881Z"
      },
      {
        "duration": 34,
        "start_time": "2023-12-29T14:35:36.921Z"
      },
      {
        "duration": 370,
        "start_time": "2023-12-29T14:35:36.957Z"
      },
      {
        "duration": 331,
        "start_time": "2023-12-29T14:35:37.329Z"
      },
      {
        "duration": 243,
        "start_time": "2023-12-29T14:35:37.662Z"
      },
      {
        "duration": 363,
        "start_time": "2023-12-29T14:35:37.907Z"
      },
      {
        "duration": 247,
        "start_time": "2023-12-29T14:35:38.273Z"
      },
      {
        "duration": 380,
        "start_time": "2023-12-29T14:35:38.522Z"
      },
      {
        "duration": 10,
        "start_time": "2023-12-29T14:35:38.903Z"
      },
      {
        "duration": 199,
        "start_time": "2023-12-29T14:35:38.915Z"
      },
      {
        "duration": 4,
        "start_time": "2023-12-29T14:35:39.116Z"
      },
      {
        "duration": 188,
        "start_time": "2023-12-29T14:35:39.130Z"
      },
      {
        "duration": 14,
        "start_time": "2023-12-29T14:35:39.320Z"
      },
      {
        "duration": 436,
        "start_time": "2023-12-29T14:35:39.338Z"
      },
      {
        "duration": 12,
        "start_time": "2023-12-29T14:35:39.776Z"
      },
      {
        "duration": 27,
        "start_time": "2023-12-29T14:35:39.790Z"
      },
      {
        "duration": 66,
        "start_time": "2023-12-29T14:35:39.819Z"
      },
      {
        "duration": 15,
        "start_time": "2023-12-29T14:35:39.887Z"
      },
      {
        "duration": 1139,
        "start_time": "2023-12-29T14:37:31.370Z"
      },
      {
        "duration": 3,
        "start_time": "2023-12-29T14:37:32.511Z"
      },
      {
        "duration": 231,
        "start_time": "2023-12-29T14:37:32.516Z"
      },
      {
        "duration": 14,
        "start_time": "2023-12-29T14:37:32.749Z"
      },
      {
        "duration": 32,
        "start_time": "2023-12-29T14:37:32.764Z"
      },
      {
        "duration": 146,
        "start_time": "2023-12-29T14:37:32.798Z"
      },
      {
        "duration": 36,
        "start_time": "2023-12-29T14:37:32.946Z"
      },
      {
        "duration": 30,
        "start_time": "2023-12-29T14:37:32.983Z"
      },
      {
        "duration": 16,
        "start_time": "2023-12-29T14:37:33.015Z"
      },
      {
        "duration": 8,
        "start_time": "2023-12-29T14:37:33.042Z"
      },
      {
        "duration": 12,
        "start_time": "2023-12-29T14:37:33.052Z"
      },
      {
        "duration": 8,
        "start_time": "2023-12-29T14:37:33.066Z"
      },
      {
        "duration": 374,
        "start_time": "2023-12-29T14:37:33.076Z"
      },
      {
        "duration": 330,
        "start_time": "2023-12-29T14:37:33.452Z"
      },
      {
        "duration": 231,
        "start_time": "2023-12-29T14:37:33.784Z"
      },
      {
        "duration": 361,
        "start_time": "2023-12-29T14:37:34.017Z"
      },
      {
        "duration": 238,
        "start_time": "2023-12-29T14:37:34.380Z"
      },
      {
        "duration": 363,
        "start_time": "2023-12-29T14:37:34.620Z"
      },
      {
        "duration": 10,
        "start_time": "2023-12-29T14:37:34.986Z"
      },
      {
        "duration": 183,
        "start_time": "2023-12-29T14:37:34.997Z"
      },
      {
        "duration": 5,
        "start_time": "2023-12-29T14:37:35.182Z"
      },
      {
        "duration": 193,
        "start_time": "2023-12-29T14:37:35.188Z"
      },
      {
        "duration": 5,
        "start_time": "2023-12-29T14:37:35.383Z"
      },
      {
        "duration": 411,
        "start_time": "2023-12-29T14:37:35.389Z"
      },
      {
        "duration": 11,
        "start_time": "2023-12-29T14:37:35.802Z"
      },
      {
        "duration": 32,
        "start_time": "2023-12-29T14:37:35.815Z"
      },
      {
        "duration": 40,
        "start_time": "2023-12-29T14:37:35.850Z"
      },
      {
        "duration": 19,
        "start_time": "2023-12-29T14:37:35.892Z"
      },
      {
        "duration": 1145,
        "start_time": "2023-12-29T14:53:18.764Z"
      },
      {
        "duration": 2,
        "start_time": "2023-12-29T14:53:19.911Z"
      },
      {
        "duration": 105,
        "start_time": "2023-12-29T14:53:19.915Z"
      },
      {
        "duration": 22,
        "start_time": "2023-12-29T14:53:20.022Z"
      },
      {
        "duration": 5,
        "start_time": "2023-12-29T14:53:20.046Z"
      },
      {
        "duration": 20,
        "start_time": "2023-12-29T14:53:20.052Z"
      },
      {
        "duration": 5,
        "start_time": "2023-12-29T14:53:20.074Z"
      },
      {
        "duration": 5,
        "start_time": "2023-12-29T14:53:20.081Z"
      },
      {
        "duration": 14,
        "start_time": "2023-12-29T14:53:20.088Z"
      },
      {
        "duration": 9,
        "start_time": "2023-12-29T14:53:20.105Z"
      },
      {
        "duration": 13,
        "start_time": "2023-12-29T14:53:20.133Z"
      },
      {
        "duration": 9,
        "start_time": "2023-12-29T14:53:20.149Z"
      },
      {
        "duration": 21,
        "start_time": "2023-12-29T14:53:20.160Z"
      },
      {
        "duration": 324,
        "start_time": "2023-12-29T14:53:20.182Z"
      },
      {
        "duration": 316,
        "start_time": "2023-12-29T14:53:20.508Z"
      },
      {
        "duration": 230,
        "start_time": "2023-12-29T14:53:20.826Z"
      },
      {
        "duration": 329,
        "start_time": "2023-12-29T14:53:21.058Z"
      },
      {
        "duration": 256,
        "start_time": "2023-12-29T14:53:21.389Z"
      },
      {
        "duration": 352,
        "start_time": "2023-12-29T14:53:21.648Z"
      },
      {
        "duration": 9,
        "start_time": "2023-12-29T14:53:22.001Z"
      },
      {
        "duration": 165,
        "start_time": "2023-12-29T14:53:22.012Z"
      },
      {
        "duration": 4,
        "start_time": "2023-12-29T14:53:22.179Z"
      },
      {
        "duration": 183,
        "start_time": "2023-12-29T14:53:22.185Z"
      },
      {
        "duration": 4,
        "start_time": "2023-12-29T14:53:22.370Z"
      },
      {
        "duration": 407,
        "start_time": "2023-12-29T14:53:22.376Z"
      },
      {
        "duration": 11,
        "start_time": "2023-12-29T14:53:22.785Z"
      },
      {
        "duration": 10,
        "start_time": "2023-12-29T14:53:22.798Z"
      },
      {
        "duration": 57,
        "start_time": "2023-12-29T14:53:22.812Z"
      },
      {
        "duration": 19,
        "start_time": "2023-12-29T14:53:22.870Z"
      },
      {
        "duration": 1202,
        "start_time": "2023-12-29T14:57:29.224Z"
      },
      {
        "duration": 8,
        "start_time": "2023-12-29T14:57:30.428Z"
      },
      {
        "duration": 130,
        "start_time": "2023-12-29T14:57:30.443Z"
      },
      {
        "duration": 14,
        "start_time": "2023-12-29T14:57:30.575Z"
      },
      {
        "duration": 54,
        "start_time": "2023-12-29T14:57:30.591Z"
      },
      {
        "duration": 68,
        "start_time": "2023-12-29T14:57:30.647Z"
      },
      {
        "duration": 54,
        "start_time": "2023-12-29T14:57:30.717Z"
      },
      {
        "duration": 47,
        "start_time": "2023-12-29T14:57:30.773Z"
      },
      {
        "duration": 124,
        "start_time": "2023-12-29T14:57:30.822Z"
      },
      {
        "duration": 47,
        "start_time": "2023-12-29T14:57:30.951Z"
      },
      {
        "duration": 62,
        "start_time": "2023-12-29T14:57:31.001Z"
      },
      {
        "duration": 55,
        "start_time": "2023-12-29T14:57:31.065Z"
      },
      {
        "duration": 357,
        "start_time": "2023-12-29T14:57:31.122Z"
      },
      {
        "duration": 341,
        "start_time": "2023-12-29T14:57:31.481Z"
      },
      {
        "duration": 232,
        "start_time": "2023-12-29T14:57:31.831Z"
      },
      {
        "duration": 335,
        "start_time": "2023-12-29T14:57:32.065Z"
      },
      {
        "duration": 257,
        "start_time": "2023-12-29T14:57:32.402Z"
      },
      {
        "duration": 342,
        "start_time": "2023-12-29T14:57:32.660Z"
      },
      {
        "duration": 9,
        "start_time": "2023-12-29T14:57:33.004Z"
      },
      {
        "duration": 248,
        "start_time": "2023-12-29T14:57:33.015Z"
      },
      {
        "duration": 4,
        "start_time": "2023-12-29T14:57:33.265Z"
      },
      {
        "duration": 212,
        "start_time": "2023-12-29T14:57:33.271Z"
      },
      {
        "duration": 4,
        "start_time": "2023-12-29T14:57:33.485Z"
      },
      {
        "duration": 431,
        "start_time": "2023-12-29T14:57:33.490Z"
      },
      {
        "duration": 25,
        "start_time": "2023-12-29T14:57:33.923Z"
      },
      {
        "duration": 9,
        "start_time": "2023-12-29T14:57:33.950Z"
      },
      {
        "duration": 45,
        "start_time": "2023-12-29T14:57:33.961Z"
      },
      {
        "duration": 14,
        "start_time": "2023-12-29T14:57:34.009Z"
      },
      {
        "duration": 1228,
        "start_time": "2023-12-29T15:05:06.491Z"
      },
      {
        "duration": 4,
        "start_time": "2023-12-29T15:05:07.721Z"
      },
      {
        "duration": 114,
        "start_time": "2023-12-29T15:05:07.726Z"
      },
      {
        "duration": 24,
        "start_time": "2023-12-29T15:05:07.843Z"
      },
      {
        "duration": 6,
        "start_time": "2023-12-29T15:05:07.869Z"
      },
      {
        "duration": 29,
        "start_time": "2023-12-29T15:05:07.876Z"
      },
      {
        "duration": 10,
        "start_time": "2023-12-29T15:05:07.907Z"
      },
      {
        "duration": 5,
        "start_time": "2023-12-29T15:05:07.931Z"
      },
      {
        "duration": 11,
        "start_time": "2023-12-29T15:05:07.938Z"
      },
      {
        "duration": 8,
        "start_time": "2023-12-29T15:05:07.951Z"
      },
      {
        "duration": 14,
        "start_time": "2023-12-29T15:05:07.961Z"
      },
      {
        "duration": 11,
        "start_time": "2023-12-29T15:05:07.977Z"
      },
      {
        "duration": 340,
        "start_time": "2023-12-29T15:05:07.992Z"
      },
      {
        "duration": 304,
        "start_time": "2023-12-29T15:05:08.334Z"
      },
      {
        "duration": 220,
        "start_time": "2023-12-29T15:05:08.640Z"
      },
      {
        "duration": 313,
        "start_time": "2023-12-29T15:05:08.862Z"
      },
      {
        "duration": 227,
        "start_time": "2023-12-29T15:05:09.177Z"
      },
      {
        "duration": 375,
        "start_time": "2023-12-29T15:05:09.406Z"
      },
      {
        "duration": 12,
        "start_time": "2023-12-29T15:05:09.783Z"
      },
      {
        "duration": 159,
        "start_time": "2023-12-29T15:05:09.797Z"
      },
      {
        "duration": 4,
        "start_time": "2023-12-29T15:05:09.958Z"
      },
      {
        "duration": 182,
        "start_time": "2023-12-29T15:05:09.964Z"
      },
      {
        "duration": 5,
        "start_time": "2023-12-29T15:05:10.148Z"
      },
      {
        "duration": 412,
        "start_time": "2023-12-29T15:05:10.155Z"
      },
      {
        "duration": 11,
        "start_time": "2023-12-29T15:05:10.569Z"
      },
      {
        "duration": 19,
        "start_time": "2023-12-29T15:05:10.581Z"
      },
      {
        "duration": 53,
        "start_time": "2023-12-29T15:05:10.602Z"
      },
      {
        "duration": 23,
        "start_time": "2023-12-29T15:05:10.657Z"
      },
      {
        "duration": 1169,
        "start_time": "2023-12-29T15:05:33.617Z"
      },
      {
        "duration": 3,
        "start_time": "2023-12-29T15:05:34.788Z"
      },
      {
        "duration": 98,
        "start_time": "2023-12-29T15:05:34.793Z"
      },
      {
        "duration": 14,
        "start_time": "2023-12-29T15:05:34.892Z"
      },
      {
        "duration": 10,
        "start_time": "2023-12-29T15:05:34.907Z"
      },
      {
        "duration": 45,
        "start_time": "2023-12-29T15:05:34.918Z"
      },
      {
        "duration": 13,
        "start_time": "2023-12-29T15:05:34.965Z"
      },
      {
        "duration": 12,
        "start_time": "2023-12-29T15:05:34.980Z"
      },
      {
        "duration": 19,
        "start_time": "2023-12-29T15:05:34.994Z"
      },
      {
        "duration": 16,
        "start_time": "2023-12-29T15:05:35.017Z"
      },
      {
        "duration": 14,
        "start_time": "2023-12-29T15:05:35.035Z"
      },
      {
        "duration": 16,
        "start_time": "2023-12-29T15:05:35.052Z"
      },
      {
        "duration": 325,
        "start_time": "2023-12-29T15:05:35.070Z"
      },
      {
        "duration": 325,
        "start_time": "2023-12-29T15:05:35.398Z"
      },
      {
        "duration": 229,
        "start_time": "2023-12-29T15:05:35.725Z"
      },
      {
        "duration": 324,
        "start_time": "2023-12-29T15:05:35.956Z"
      },
      {
        "duration": 238,
        "start_time": "2023-12-29T15:05:36.283Z"
      },
      {
        "duration": 356,
        "start_time": "2023-12-29T15:05:36.531Z"
      },
      {
        "duration": 11,
        "start_time": "2023-12-29T15:05:36.890Z"
      },
      {
        "duration": 161,
        "start_time": "2023-12-29T15:05:36.903Z"
      },
      {
        "duration": 5,
        "start_time": "2023-12-29T15:05:37.065Z"
      },
      {
        "duration": 175,
        "start_time": "2023-12-29T15:05:37.072Z"
      },
      {
        "duration": 4,
        "start_time": "2023-12-29T15:05:37.249Z"
      },
      {
        "duration": 485,
        "start_time": "2023-12-29T15:05:37.255Z"
      },
      {
        "duration": 13,
        "start_time": "2023-12-29T15:05:37.741Z"
      },
      {
        "duration": 36,
        "start_time": "2023-12-29T15:05:37.756Z"
      },
      {
        "duration": 45,
        "start_time": "2023-12-29T15:05:37.794Z"
      },
      {
        "duration": 14,
        "start_time": "2023-12-29T15:05:37.843Z"
      },
      {
        "duration": 1112,
        "start_time": "2023-12-29T15:07:15.887Z"
      },
      {
        "duration": 3,
        "start_time": "2023-12-29T15:07:17.001Z"
      },
      {
        "duration": 107,
        "start_time": "2023-12-29T15:07:17.005Z"
      },
      {
        "duration": 13,
        "start_time": "2023-12-29T15:07:17.114Z"
      },
      {
        "duration": 4,
        "start_time": "2023-12-29T15:07:17.129Z"
      },
      {
        "duration": 18,
        "start_time": "2023-12-29T15:07:17.134Z"
      },
      {
        "duration": 7,
        "start_time": "2023-12-29T15:07:17.154Z"
      },
      {
        "duration": 9,
        "start_time": "2023-12-29T15:07:17.162Z"
      },
      {
        "duration": 17,
        "start_time": "2023-12-29T15:07:17.172Z"
      },
      {
        "duration": 12,
        "start_time": "2023-12-29T15:07:17.192Z"
      },
      {
        "duration": 26,
        "start_time": "2023-12-29T15:07:17.205Z"
      },
      {
        "duration": 13,
        "start_time": "2023-12-29T15:07:17.232Z"
      },
      {
        "duration": 352,
        "start_time": "2023-12-29T15:07:17.247Z"
      },
      {
        "duration": 352,
        "start_time": "2023-12-29T15:07:17.602Z"
      },
      {
        "duration": 223,
        "start_time": "2023-12-29T15:07:17.956Z"
      },
      {
        "duration": 318,
        "start_time": "2023-12-29T15:07:18.181Z"
      },
      {
        "duration": 241,
        "start_time": "2023-12-29T15:07:18.501Z"
      },
      {
        "duration": 366,
        "start_time": "2023-12-29T15:07:18.743Z"
      },
      {
        "duration": 20,
        "start_time": "2023-12-29T15:07:19.111Z"
      },
      {
        "duration": 148,
        "start_time": "2023-12-29T15:07:19.133Z"
      },
      {
        "duration": 5,
        "start_time": "2023-12-29T15:07:19.282Z"
      },
      {
        "duration": 184,
        "start_time": "2023-12-29T15:07:19.289Z"
      },
      {
        "duration": 5,
        "start_time": "2023-12-29T15:07:19.474Z"
      },
      {
        "duration": 422,
        "start_time": "2023-12-29T15:07:19.481Z"
      },
      {
        "duration": 11,
        "start_time": "2023-12-29T15:07:19.905Z"
      },
      {
        "duration": 20,
        "start_time": "2023-12-29T15:07:19.918Z"
      },
      {
        "duration": 43,
        "start_time": "2023-12-29T15:07:19.940Z"
      },
      {
        "duration": 14,
        "start_time": "2023-12-29T15:07:19.986Z"
      },
      {
        "duration": 1192,
        "start_time": "2023-12-29T15:09:38.418Z"
      },
      {
        "duration": 3,
        "start_time": "2023-12-29T15:09:39.612Z"
      },
      {
        "duration": 100,
        "start_time": "2023-12-29T15:09:39.616Z"
      },
      {
        "duration": 14,
        "start_time": "2023-12-29T15:09:39.718Z"
      },
      {
        "duration": 12,
        "start_time": "2023-12-29T15:09:39.734Z"
      },
      {
        "duration": 25,
        "start_time": "2023-12-29T15:09:39.747Z"
      },
      {
        "duration": 7,
        "start_time": "2023-12-29T15:09:39.774Z"
      },
      {
        "duration": 23,
        "start_time": "2023-12-29T15:09:39.784Z"
      },
      {
        "duration": 12,
        "start_time": "2023-12-29T15:09:39.809Z"
      },
      {
        "duration": 26,
        "start_time": "2023-12-29T15:09:39.824Z"
      },
      {
        "duration": 105,
        "start_time": "2023-12-29T15:09:39.851Z"
      },
      {
        "duration": 0,
        "start_time": "2023-12-29T15:09:39.958Z"
      },
      {
        "duration": 0,
        "start_time": "2023-12-29T15:09:39.959Z"
      },
      {
        "duration": 0,
        "start_time": "2023-12-29T15:09:39.961Z"
      },
      {
        "duration": 0,
        "start_time": "2023-12-29T15:09:39.963Z"
      },
      {
        "duration": 0,
        "start_time": "2023-12-29T15:09:39.964Z"
      },
      {
        "duration": 0,
        "start_time": "2023-12-29T15:09:39.966Z"
      },
      {
        "duration": 0,
        "start_time": "2023-12-29T15:09:39.967Z"
      },
      {
        "duration": 0,
        "start_time": "2023-12-29T15:09:39.968Z"
      },
      {
        "duration": 0,
        "start_time": "2023-12-29T15:09:39.970Z"
      },
      {
        "duration": 0,
        "start_time": "2023-12-29T15:09:39.971Z"
      },
      {
        "duration": 0,
        "start_time": "2023-12-29T15:09:39.972Z"
      },
      {
        "duration": 0,
        "start_time": "2023-12-29T15:09:39.974Z"
      },
      {
        "duration": 0,
        "start_time": "2023-12-29T15:09:39.976Z"
      },
      {
        "duration": 0,
        "start_time": "2023-12-29T15:09:39.977Z"
      },
      {
        "duration": 0,
        "start_time": "2023-12-29T15:09:39.979Z"
      },
      {
        "duration": 0,
        "start_time": "2023-12-29T15:09:39.980Z"
      },
      {
        "duration": 0,
        "start_time": "2023-12-29T15:09:39.981Z"
      },
      {
        "duration": 1132,
        "start_time": "2023-12-29T15:12:13.269Z"
      },
      {
        "duration": 3,
        "start_time": "2023-12-29T15:12:14.403Z"
      },
      {
        "duration": 106,
        "start_time": "2023-12-29T15:12:14.407Z"
      },
      {
        "duration": 15,
        "start_time": "2023-12-29T15:12:14.516Z"
      },
      {
        "duration": 9,
        "start_time": "2023-12-29T15:12:14.532Z"
      },
      {
        "duration": 35,
        "start_time": "2023-12-29T15:12:14.543Z"
      },
      {
        "duration": 27,
        "start_time": "2023-12-29T15:12:14.580Z"
      },
      {
        "duration": 23,
        "start_time": "2023-12-29T15:12:14.609Z"
      },
      {
        "duration": 21,
        "start_time": "2023-12-29T15:12:14.634Z"
      },
      {
        "duration": 20,
        "start_time": "2023-12-29T15:12:14.659Z"
      },
      {
        "duration": 29,
        "start_time": "2023-12-29T15:12:14.681Z"
      },
      {
        "duration": 135,
        "start_time": "2023-12-29T15:12:14.711Z"
      },
      {
        "duration": 0,
        "start_time": "2023-12-29T15:12:14.848Z"
      },
      {
        "duration": 0,
        "start_time": "2023-12-29T15:12:14.849Z"
      },
      {
        "duration": 0,
        "start_time": "2023-12-29T15:12:14.850Z"
      },
      {
        "duration": 0,
        "start_time": "2023-12-29T15:12:14.852Z"
      },
      {
        "duration": 0,
        "start_time": "2023-12-29T15:12:14.853Z"
      },
      {
        "duration": 0,
        "start_time": "2023-12-29T15:12:14.855Z"
      },
      {
        "duration": 0,
        "start_time": "2023-12-29T15:12:14.856Z"
      },
      {
        "duration": 0,
        "start_time": "2023-12-29T15:12:14.857Z"
      },
      {
        "duration": 0,
        "start_time": "2023-12-29T15:12:14.859Z"
      },
      {
        "duration": 0,
        "start_time": "2023-12-29T15:12:14.861Z"
      },
      {
        "duration": 0,
        "start_time": "2023-12-29T15:12:14.863Z"
      },
      {
        "duration": 0,
        "start_time": "2023-12-29T15:12:14.865Z"
      },
      {
        "duration": 0,
        "start_time": "2023-12-29T15:12:14.866Z"
      },
      {
        "duration": 0,
        "start_time": "2023-12-29T15:12:14.867Z"
      },
      {
        "duration": 0,
        "start_time": "2023-12-29T15:12:14.869Z"
      },
      {
        "duration": 0,
        "start_time": "2023-12-29T15:12:14.871Z"
      },
      {
        "duration": 0,
        "start_time": "2023-12-29T15:12:14.872Z"
      },
      {
        "duration": 1202,
        "start_time": "2023-12-29T15:17:26.913Z"
      },
      {
        "duration": 3,
        "start_time": "2023-12-29T15:17:28.116Z"
      },
      {
        "duration": 101,
        "start_time": "2023-12-29T15:17:28.121Z"
      },
      {
        "duration": 18,
        "start_time": "2023-12-29T15:17:28.225Z"
      },
      {
        "duration": 6,
        "start_time": "2023-12-29T15:17:28.245Z"
      },
      {
        "duration": 22,
        "start_time": "2023-12-29T15:17:28.253Z"
      },
      {
        "duration": 9,
        "start_time": "2023-12-29T15:17:28.277Z"
      },
      {
        "duration": 11,
        "start_time": "2023-12-29T15:17:28.288Z"
      },
      {
        "duration": 22,
        "start_time": "2023-12-29T15:17:28.301Z"
      },
      {
        "duration": 11,
        "start_time": "2023-12-29T15:17:28.333Z"
      },
      {
        "duration": 112,
        "start_time": "2023-12-29T15:17:28.345Z"
      },
      {
        "duration": 0,
        "start_time": "2023-12-29T15:17:28.459Z"
      },
      {
        "duration": 0,
        "start_time": "2023-12-29T15:17:28.460Z"
      },
      {
        "duration": 0,
        "start_time": "2023-12-29T15:17:28.461Z"
      },
      {
        "duration": 0,
        "start_time": "2023-12-29T15:17:28.463Z"
      },
      {
        "duration": 0,
        "start_time": "2023-12-29T15:17:28.464Z"
      },
      {
        "duration": 0,
        "start_time": "2023-12-29T15:17:28.465Z"
      },
      {
        "duration": 0,
        "start_time": "2023-12-29T15:17:28.466Z"
      },
      {
        "duration": 0,
        "start_time": "2023-12-29T15:17:28.467Z"
      },
      {
        "duration": 0,
        "start_time": "2023-12-29T15:17:28.468Z"
      },
      {
        "duration": 0,
        "start_time": "2023-12-29T15:17:28.469Z"
      },
      {
        "duration": 0,
        "start_time": "2023-12-29T15:17:28.470Z"
      },
      {
        "duration": 0,
        "start_time": "2023-12-29T15:17:28.471Z"
      },
      {
        "duration": 0,
        "start_time": "2023-12-29T15:17:28.472Z"
      },
      {
        "duration": 0,
        "start_time": "2023-12-29T15:17:28.474Z"
      },
      {
        "duration": 0,
        "start_time": "2023-12-29T15:17:28.475Z"
      },
      {
        "duration": 0,
        "start_time": "2023-12-29T15:17:28.476Z"
      },
      {
        "duration": 0,
        "start_time": "2023-12-29T15:17:28.477Z"
      },
      {
        "duration": 1215,
        "start_time": "2023-12-29T15:18:00.608Z"
      },
      {
        "duration": 5,
        "start_time": "2023-12-29T15:18:01.825Z"
      },
      {
        "duration": 164,
        "start_time": "2023-12-29T15:18:01.832Z"
      },
      {
        "duration": 17,
        "start_time": "2023-12-29T15:18:01.999Z"
      },
      {
        "duration": 88,
        "start_time": "2023-12-29T15:18:02.017Z"
      },
      {
        "duration": 148,
        "start_time": "2023-12-29T15:18:02.107Z"
      },
      {
        "duration": 36,
        "start_time": "2023-12-29T15:18:02.257Z"
      },
      {
        "duration": 53,
        "start_time": "2023-12-29T15:18:02.294Z"
      },
      {
        "duration": 59,
        "start_time": "2023-12-29T15:18:02.348Z"
      },
      {
        "duration": 46,
        "start_time": "2023-12-29T15:18:02.410Z"
      },
      {
        "duration": 62,
        "start_time": "2023-12-29T15:18:02.458Z"
      },
      {
        "duration": 50,
        "start_time": "2023-12-29T15:18:02.522Z"
      },
      {
        "duration": 403,
        "start_time": "2023-12-29T15:18:02.575Z"
      },
      {
        "duration": 319,
        "start_time": "2023-12-29T15:18:02.980Z"
      },
      {
        "duration": 253,
        "start_time": "2023-12-29T15:18:03.302Z"
      },
      {
        "duration": 314,
        "start_time": "2023-12-29T15:18:03.557Z"
      },
      {
        "duration": 219,
        "start_time": "2023-12-29T15:18:03.873Z"
      },
      {
        "duration": 375,
        "start_time": "2023-12-29T15:18:04.094Z"
      },
      {
        "duration": 11,
        "start_time": "2023-12-29T15:18:04.471Z"
      },
      {
        "duration": 168,
        "start_time": "2023-12-29T15:18:04.484Z"
      },
      {
        "duration": 5,
        "start_time": "2023-12-29T15:18:04.654Z"
      },
      {
        "duration": 200,
        "start_time": "2023-12-29T15:18:04.661Z"
      },
      {
        "duration": 4,
        "start_time": "2023-12-29T15:18:04.863Z"
      },
      {
        "duration": 429,
        "start_time": "2023-12-29T15:18:04.869Z"
      },
      {
        "duration": 12,
        "start_time": "2023-12-29T15:18:05.300Z"
      },
      {
        "duration": 26,
        "start_time": "2023-12-29T15:18:05.313Z"
      },
      {
        "duration": 36,
        "start_time": "2023-12-29T15:18:05.341Z"
      },
      {
        "duration": 16,
        "start_time": "2023-12-29T15:18:05.380Z"
      },
      {
        "duration": 1202,
        "start_time": "2023-12-29T16:46:09.122Z"
      },
      {
        "duration": 2,
        "start_time": "2023-12-29T16:46:10.326Z"
      },
      {
        "duration": 211,
        "start_time": "2023-12-29T16:46:10.330Z"
      },
      {
        "duration": 11,
        "start_time": "2023-12-29T16:46:10.543Z"
      },
      {
        "duration": 4,
        "start_time": "2023-12-29T16:46:10.556Z"
      },
      {
        "duration": 9,
        "start_time": "2023-12-29T16:46:10.561Z"
      },
      {
        "duration": 10,
        "start_time": "2023-12-29T16:46:10.572Z"
      },
      {
        "duration": 5,
        "start_time": "2023-12-29T16:46:10.583Z"
      },
      {
        "duration": 7,
        "start_time": "2023-12-29T16:46:10.589Z"
      },
      {
        "duration": 16,
        "start_time": "2023-12-29T16:46:10.598Z"
      },
      {
        "duration": 94,
        "start_time": "2023-12-29T16:46:10.615Z"
      },
      {
        "duration": 0,
        "start_time": "2023-12-29T16:46:10.710Z"
      },
      {
        "duration": 0,
        "start_time": "2023-12-29T16:46:10.711Z"
      },
      {
        "duration": 0,
        "start_time": "2023-12-29T16:46:10.713Z"
      },
      {
        "duration": 0,
        "start_time": "2023-12-29T16:46:10.714Z"
      },
      {
        "duration": 0,
        "start_time": "2023-12-29T16:46:10.714Z"
      },
      {
        "duration": 0,
        "start_time": "2023-12-29T16:46:10.715Z"
      },
      {
        "duration": 0,
        "start_time": "2023-12-29T16:46:10.716Z"
      },
      {
        "duration": 0,
        "start_time": "2023-12-29T16:46:10.718Z"
      },
      {
        "duration": 0,
        "start_time": "2023-12-29T16:46:10.719Z"
      },
      {
        "duration": 0,
        "start_time": "2023-12-29T16:46:10.720Z"
      },
      {
        "duration": 0,
        "start_time": "2023-12-29T16:46:10.721Z"
      },
      {
        "duration": 0,
        "start_time": "2023-12-29T16:46:10.722Z"
      },
      {
        "duration": 0,
        "start_time": "2023-12-29T16:46:10.723Z"
      },
      {
        "duration": 0,
        "start_time": "2023-12-29T16:46:10.724Z"
      },
      {
        "duration": 0,
        "start_time": "2023-12-29T16:46:10.725Z"
      },
      {
        "duration": 0,
        "start_time": "2023-12-29T16:46:10.726Z"
      },
      {
        "duration": 0,
        "start_time": "2023-12-29T16:46:10.728Z"
      },
      {
        "duration": 1055,
        "start_time": "2023-12-29T16:48:10.056Z"
      },
      {
        "duration": 2,
        "start_time": "2023-12-29T16:48:11.113Z"
      },
      {
        "duration": 95,
        "start_time": "2023-12-29T16:48:11.117Z"
      },
      {
        "duration": 13,
        "start_time": "2023-12-29T16:48:11.214Z"
      },
      {
        "duration": 4,
        "start_time": "2023-12-29T16:48:11.228Z"
      },
      {
        "duration": 14,
        "start_time": "2023-12-29T16:48:11.233Z"
      },
      {
        "duration": 5,
        "start_time": "2023-12-29T16:48:11.249Z"
      },
      {
        "duration": 6,
        "start_time": "2023-12-29T16:48:11.256Z"
      },
      {
        "duration": 18,
        "start_time": "2023-12-29T16:48:11.264Z"
      },
      {
        "duration": 8,
        "start_time": "2023-12-29T16:48:11.284Z"
      },
      {
        "duration": 10,
        "start_time": "2023-12-29T16:48:11.293Z"
      },
      {
        "duration": 8,
        "start_time": "2023-12-29T16:48:11.305Z"
      },
      {
        "duration": 287,
        "start_time": "2023-12-29T16:48:11.314Z"
      },
      {
        "duration": 285,
        "start_time": "2023-12-29T16:48:11.603Z"
      },
      {
        "duration": 200,
        "start_time": "2023-12-29T16:48:11.890Z"
      },
      {
        "duration": 278,
        "start_time": "2023-12-29T16:48:12.091Z"
      },
      {
        "duration": 209,
        "start_time": "2023-12-29T16:48:12.371Z"
      },
      {
        "duration": 311,
        "start_time": "2023-12-29T16:48:12.581Z"
      },
      {
        "duration": 10,
        "start_time": "2023-12-29T16:48:12.894Z"
      },
      {
        "duration": 180,
        "start_time": "2023-12-29T16:48:12.905Z"
      },
      {
        "duration": 4,
        "start_time": "2023-12-29T16:48:13.087Z"
      },
      {
        "duration": 156,
        "start_time": "2023-12-29T16:48:13.093Z"
      },
      {
        "duration": 5,
        "start_time": "2023-12-29T16:48:13.251Z"
      },
      {
        "duration": 346,
        "start_time": "2023-12-29T16:48:13.265Z"
      },
      {
        "duration": 10,
        "start_time": "2023-12-29T16:48:13.613Z"
      },
      {
        "duration": 12,
        "start_time": "2023-12-29T16:48:13.625Z"
      },
      {
        "duration": 42,
        "start_time": "2023-12-29T16:48:13.639Z"
      },
      {
        "duration": 12,
        "start_time": "2023-12-29T16:48:13.684Z"
      },
      {
        "duration": 1070,
        "start_time": "2023-12-29T17:09:41.844Z"
      },
      {
        "duration": 2,
        "start_time": "2023-12-29T17:09:42.916Z"
      },
      {
        "duration": 92,
        "start_time": "2023-12-29T17:09:42.919Z"
      },
      {
        "duration": 13,
        "start_time": "2023-12-29T17:09:43.013Z"
      },
      {
        "duration": 4,
        "start_time": "2023-12-29T17:09:43.027Z"
      },
      {
        "duration": 10,
        "start_time": "2023-12-29T17:09:43.032Z"
      },
      {
        "duration": 4,
        "start_time": "2023-12-29T17:09:43.043Z"
      },
      {
        "duration": 4,
        "start_time": "2023-12-29T17:09:43.048Z"
      },
      {
        "duration": 14,
        "start_time": "2023-12-29T17:09:43.054Z"
      },
      {
        "duration": 6,
        "start_time": "2023-12-29T17:09:43.070Z"
      },
      {
        "duration": 9,
        "start_time": "2023-12-29T17:09:43.078Z"
      },
      {
        "duration": 8,
        "start_time": "2023-12-29T17:09:43.088Z"
      },
      {
        "duration": 304,
        "start_time": "2023-12-29T17:09:43.097Z"
      },
      {
        "duration": 277,
        "start_time": "2023-12-29T17:09:43.403Z"
      },
      {
        "duration": 210,
        "start_time": "2023-12-29T17:09:43.681Z"
      },
      {
        "duration": 285,
        "start_time": "2023-12-29T17:09:43.892Z"
      },
      {
        "duration": 196,
        "start_time": "2023-12-29T17:09:44.179Z"
      },
      {
        "duration": 311,
        "start_time": "2023-12-29T17:09:44.376Z"
      },
      {
        "duration": 9,
        "start_time": "2023-12-29T17:09:44.688Z"
      },
      {
        "duration": 138,
        "start_time": "2023-12-29T17:09:44.698Z"
      },
      {
        "duration": 4,
        "start_time": "2023-12-29T17:09:44.837Z"
      },
      {
        "duration": 161,
        "start_time": "2023-12-29T17:09:44.842Z"
      },
      {
        "duration": 4,
        "start_time": "2023-12-29T17:09:45.005Z"
      },
      {
        "duration": 375,
        "start_time": "2023-12-29T17:09:45.010Z"
      },
      {
        "duration": 10,
        "start_time": "2023-12-29T17:09:45.387Z"
      },
      {
        "duration": 8,
        "start_time": "2023-12-29T17:09:45.398Z"
      },
      {
        "duration": 39,
        "start_time": "2023-12-29T17:09:45.407Z"
      },
      {
        "duration": 23,
        "start_time": "2023-12-29T17:09:45.449Z"
      },
      {
        "duration": 1004,
        "start_time": "2023-12-29T17:19:40.898Z"
      },
      {
        "duration": 2,
        "start_time": "2023-12-29T17:19:41.904Z"
      },
      {
        "duration": 91,
        "start_time": "2023-12-29T17:19:41.908Z"
      },
      {
        "duration": 12,
        "start_time": "2023-12-29T17:19:42.001Z"
      },
      {
        "duration": 4,
        "start_time": "2023-12-29T17:19:42.014Z"
      },
      {
        "duration": 10,
        "start_time": "2023-12-29T17:19:42.020Z"
      },
      {
        "duration": 4,
        "start_time": "2023-12-29T17:19:42.031Z"
      },
      {
        "duration": 5,
        "start_time": "2023-12-29T17:19:42.037Z"
      },
      {
        "duration": 22,
        "start_time": "2023-12-29T17:19:42.044Z"
      },
      {
        "duration": 6,
        "start_time": "2023-12-29T17:19:42.069Z"
      },
      {
        "duration": 11,
        "start_time": "2023-12-29T17:19:42.076Z"
      },
      {
        "duration": 7,
        "start_time": "2023-12-29T17:19:42.088Z"
      },
      {
        "duration": 295,
        "start_time": "2023-12-29T17:19:42.096Z"
      },
      {
        "duration": 282,
        "start_time": "2023-12-29T17:19:42.393Z"
      },
      {
        "duration": 191,
        "start_time": "2023-12-29T17:19:42.677Z"
      },
      {
        "duration": 301,
        "start_time": "2023-12-29T17:19:42.870Z"
      },
      {
        "duration": 198,
        "start_time": "2023-12-29T17:19:43.172Z"
      },
      {
        "duration": 331,
        "start_time": "2023-12-29T17:19:43.371Z"
      },
      {
        "duration": 9,
        "start_time": "2023-12-29T17:19:43.704Z"
      },
      {
        "duration": 151,
        "start_time": "2023-12-29T17:19:43.715Z"
      },
      {
        "duration": 3,
        "start_time": "2023-12-29T17:19:43.868Z"
      },
      {
        "duration": 146,
        "start_time": "2023-12-29T17:19:43.872Z"
      },
      {
        "duration": 3,
        "start_time": "2023-12-29T17:19:44.020Z"
      },
      {
        "duration": 361,
        "start_time": "2023-12-29T17:19:44.025Z"
      },
      {
        "duration": 9,
        "start_time": "2023-12-29T17:19:44.388Z"
      },
      {
        "duration": 7,
        "start_time": "2023-12-29T17:19:44.399Z"
      },
      {
        "duration": 33,
        "start_time": "2023-12-29T17:19:44.408Z"
      },
      {
        "duration": 30,
        "start_time": "2023-12-29T17:19:44.444Z"
      },
      {
        "duration": 1071,
        "start_time": "2023-12-29T17:22:54.848Z"
      },
      {
        "duration": 3,
        "start_time": "2023-12-29T17:22:55.920Z"
      },
      {
        "duration": 90,
        "start_time": "2023-12-29T17:22:55.924Z"
      },
      {
        "duration": 12,
        "start_time": "2023-12-29T17:22:56.016Z"
      },
      {
        "duration": 3,
        "start_time": "2023-12-29T17:22:56.029Z"
      },
      {
        "duration": 10,
        "start_time": "2023-12-29T17:22:56.034Z"
      },
      {
        "duration": 4,
        "start_time": "2023-12-29T17:22:56.045Z"
      },
      {
        "duration": 5,
        "start_time": "2023-12-29T17:22:56.050Z"
      },
      {
        "duration": 6,
        "start_time": "2023-12-29T17:22:56.056Z"
      },
      {
        "duration": 7,
        "start_time": "2023-12-29T17:22:56.066Z"
      },
      {
        "duration": 71,
        "start_time": "2023-12-29T17:22:56.075Z"
      },
      {
        "duration": 0,
        "start_time": "2023-12-29T17:22:56.148Z"
      },
      {
        "duration": 0,
        "start_time": "2023-12-29T17:22:56.149Z"
      },
      {
        "duration": 0,
        "start_time": "2023-12-29T17:22:56.150Z"
      },
      {
        "duration": 0,
        "start_time": "2023-12-29T17:22:56.151Z"
      },
      {
        "duration": 0,
        "start_time": "2023-12-29T17:22:56.152Z"
      },
      {
        "duration": 0,
        "start_time": "2023-12-29T17:22:56.153Z"
      },
      {
        "duration": 0,
        "start_time": "2023-12-29T17:22:56.154Z"
      },
      {
        "duration": 0,
        "start_time": "2023-12-29T17:22:56.155Z"
      },
      {
        "duration": 0,
        "start_time": "2023-12-29T17:22:56.156Z"
      },
      {
        "duration": 0,
        "start_time": "2023-12-29T17:22:56.157Z"
      },
      {
        "duration": 0,
        "start_time": "2023-12-29T17:22:56.158Z"
      },
      {
        "duration": 0,
        "start_time": "2023-12-29T17:22:56.159Z"
      },
      {
        "duration": 0,
        "start_time": "2023-12-29T17:22:56.160Z"
      },
      {
        "duration": 0,
        "start_time": "2023-12-29T17:22:56.161Z"
      },
      {
        "duration": 0,
        "start_time": "2023-12-29T17:22:56.162Z"
      },
      {
        "duration": 0,
        "start_time": "2023-12-29T17:22:56.163Z"
      },
      {
        "duration": 0,
        "start_time": "2023-12-29T17:22:56.164Z"
      },
      {
        "duration": 1069,
        "start_time": "2023-12-29T17:23:46.045Z"
      },
      {
        "duration": 2,
        "start_time": "2023-12-29T17:23:47.116Z"
      },
      {
        "duration": 97,
        "start_time": "2023-12-29T17:23:47.120Z"
      },
      {
        "duration": 11,
        "start_time": "2023-12-29T17:23:47.219Z"
      },
      {
        "duration": 4,
        "start_time": "2023-12-29T17:23:47.231Z"
      },
      {
        "duration": 9,
        "start_time": "2023-12-29T17:23:47.236Z"
      },
      {
        "duration": 6,
        "start_time": "2023-12-29T17:23:47.246Z"
      },
      {
        "duration": 19,
        "start_time": "2023-12-29T17:23:47.253Z"
      },
      {
        "duration": 6,
        "start_time": "2023-12-29T17:23:47.273Z"
      },
      {
        "duration": 10,
        "start_time": "2023-12-29T17:23:47.281Z"
      },
      {
        "duration": 8,
        "start_time": "2023-12-29T17:23:47.292Z"
      },
      {
        "duration": 8,
        "start_time": "2023-12-29T17:23:47.302Z"
      },
      {
        "duration": 283,
        "start_time": "2023-12-29T17:23:47.311Z"
      },
      {
        "duration": 271,
        "start_time": "2023-12-29T17:23:47.596Z"
      },
      {
        "duration": 200,
        "start_time": "2023-12-29T17:23:47.869Z"
      },
      {
        "duration": 296,
        "start_time": "2023-12-29T17:23:48.071Z"
      },
      {
        "duration": 196,
        "start_time": "2023-12-29T17:23:48.369Z"
      },
      {
        "duration": 334,
        "start_time": "2023-12-29T17:23:48.567Z"
      },
      {
        "duration": 9,
        "start_time": "2023-12-29T17:23:48.903Z"
      },
      {
        "duration": 160,
        "start_time": "2023-12-29T17:23:48.914Z"
      },
      {
        "duration": 3,
        "start_time": "2023-12-29T17:23:49.075Z"
      },
      {
        "duration": 157,
        "start_time": "2023-12-29T17:23:49.080Z"
      },
      {
        "duration": 5,
        "start_time": "2023-12-29T17:23:49.239Z"
      },
      {
        "duration": 345,
        "start_time": "2023-12-29T17:23:49.245Z"
      },
      {
        "duration": 9,
        "start_time": "2023-12-29T17:23:49.592Z"
      },
      {
        "duration": 8,
        "start_time": "2023-12-29T17:23:49.602Z"
      },
      {
        "duration": 28,
        "start_time": "2023-12-29T17:23:49.611Z"
      },
      {
        "duration": 13,
        "start_time": "2023-12-29T17:23:49.664Z"
      },
      {
        "duration": 992,
        "start_time": "2023-12-29T17:40:52.315Z"
      },
      {
        "duration": 2,
        "start_time": "2023-12-29T17:40:53.309Z"
      },
      {
        "duration": 93,
        "start_time": "2023-12-29T17:40:53.313Z"
      },
      {
        "duration": 11,
        "start_time": "2023-12-29T17:40:53.408Z"
      },
      {
        "duration": 7,
        "start_time": "2023-12-29T17:40:53.421Z"
      },
      {
        "duration": 12,
        "start_time": "2023-12-29T17:40:53.430Z"
      },
      {
        "duration": 7,
        "start_time": "2023-12-29T17:40:53.443Z"
      },
      {
        "duration": 8,
        "start_time": "2023-12-29T17:40:53.451Z"
      },
      {
        "duration": 4,
        "start_time": "2023-12-29T17:40:53.461Z"
      },
      {
        "duration": 7,
        "start_time": "2023-12-29T17:40:53.467Z"
      },
      {
        "duration": 360,
        "start_time": "2023-12-29T17:40:53.475Z"
      },
      {
        "duration": 0,
        "start_time": "2023-12-29T17:40:53.837Z"
      },
      {
        "duration": 0,
        "start_time": "2023-12-29T17:40:53.839Z"
      },
      {
        "duration": 0,
        "start_time": "2023-12-29T17:40:53.840Z"
      },
      {
        "duration": 0,
        "start_time": "2023-12-29T17:40:53.842Z"
      },
      {
        "duration": 0,
        "start_time": "2023-12-29T17:40:53.843Z"
      },
      {
        "duration": 0,
        "start_time": "2023-12-29T17:40:53.844Z"
      },
      {
        "duration": 0,
        "start_time": "2023-12-29T17:40:53.845Z"
      },
      {
        "duration": 0,
        "start_time": "2023-12-29T17:40:53.846Z"
      },
      {
        "duration": 0,
        "start_time": "2023-12-29T17:40:53.847Z"
      },
      {
        "duration": 0,
        "start_time": "2023-12-29T17:40:53.849Z"
      },
      {
        "duration": 0,
        "start_time": "2023-12-29T17:40:53.850Z"
      },
      {
        "duration": 0,
        "start_time": "2023-12-29T17:40:53.852Z"
      },
      {
        "duration": 0,
        "start_time": "2023-12-29T17:40:53.853Z"
      },
      {
        "duration": 0,
        "start_time": "2023-12-29T17:40:53.854Z"
      },
      {
        "duration": 0,
        "start_time": "2023-12-29T17:40:53.855Z"
      },
      {
        "duration": 0,
        "start_time": "2023-12-29T17:40:53.857Z"
      },
      {
        "duration": 0,
        "start_time": "2023-12-29T17:40:53.858Z"
      },
      {
        "duration": 1053,
        "start_time": "2023-12-29T17:43:16.804Z"
      },
      {
        "duration": 3,
        "start_time": "2023-12-29T17:43:17.858Z"
      },
      {
        "duration": 90,
        "start_time": "2023-12-29T17:43:17.864Z"
      },
      {
        "duration": 11,
        "start_time": "2023-12-29T17:43:17.956Z"
      },
      {
        "duration": 28,
        "start_time": "2023-12-29T17:43:17.969Z"
      },
      {
        "duration": 19,
        "start_time": "2023-12-29T17:43:17.999Z"
      },
      {
        "duration": 31,
        "start_time": "2023-12-29T17:43:18.019Z"
      },
      {
        "duration": 5,
        "start_time": "2023-12-29T17:43:18.053Z"
      },
      {
        "duration": 14,
        "start_time": "2023-12-29T17:43:18.059Z"
      },
      {
        "duration": 13,
        "start_time": "2023-12-29T17:43:18.076Z"
      },
      {
        "duration": 16,
        "start_time": "2023-12-29T17:43:18.090Z"
      },
      {
        "duration": 33,
        "start_time": "2023-12-29T17:43:18.107Z"
      },
      {
        "duration": 302,
        "start_time": "2023-12-29T17:43:18.142Z"
      },
      {
        "duration": 279,
        "start_time": "2023-12-29T17:43:18.446Z"
      },
      {
        "duration": 219,
        "start_time": "2023-12-29T17:43:18.727Z"
      },
      {
        "duration": 320,
        "start_time": "2023-12-29T17:43:18.947Z"
      },
      {
        "duration": 246,
        "start_time": "2023-12-29T17:43:19.269Z"
      },
      {
        "duration": 310,
        "start_time": "2023-12-29T17:43:19.517Z"
      },
      {
        "duration": 9,
        "start_time": "2023-12-29T17:43:19.828Z"
      },
      {
        "duration": 138,
        "start_time": "2023-12-29T17:43:19.839Z"
      },
      {
        "duration": 5,
        "start_time": "2023-12-29T17:43:19.979Z"
      },
      {
        "duration": 169,
        "start_time": "2023-12-29T17:43:19.986Z"
      },
      {
        "duration": 9,
        "start_time": "2023-12-29T17:43:20.157Z"
      },
      {
        "duration": 372,
        "start_time": "2023-12-29T17:43:20.168Z"
      },
      {
        "duration": 13,
        "start_time": "2023-12-29T17:43:20.542Z"
      },
      {
        "duration": 11,
        "start_time": "2023-12-29T17:43:20.564Z"
      },
      {
        "duration": 40,
        "start_time": "2023-12-29T17:43:20.576Z"
      },
      {
        "duration": 13,
        "start_time": "2023-12-29T17:43:20.619Z"
      },
      {
        "duration": 1033,
        "start_time": "2023-12-29T17:54:59.997Z"
      },
      {
        "duration": 2,
        "start_time": "2023-12-29T17:55:01.032Z"
      },
      {
        "duration": 111,
        "start_time": "2023-12-29T17:55:01.036Z"
      },
      {
        "duration": 12,
        "start_time": "2023-12-29T17:55:01.149Z"
      },
      {
        "duration": 31,
        "start_time": "2023-12-29T17:55:01.162Z"
      },
      {
        "duration": 54,
        "start_time": "2023-12-29T17:55:01.195Z"
      },
      {
        "duration": 30,
        "start_time": "2023-12-29T17:55:01.251Z"
      },
      {
        "duration": 31,
        "start_time": "2023-12-29T17:55:01.283Z"
      },
      {
        "duration": 52,
        "start_time": "2023-12-29T17:55:01.316Z"
      },
      {
        "duration": 29,
        "start_time": "2023-12-29T17:55:01.371Z"
      },
      {
        "duration": 47,
        "start_time": "2023-12-29T17:55:01.402Z"
      },
      {
        "duration": 71,
        "start_time": "2023-12-29T17:55:01.451Z"
      },
      {
        "duration": 320,
        "start_time": "2023-12-29T17:55:01.524Z"
      },
      {
        "duration": 283,
        "start_time": "2023-12-29T17:55:01.846Z"
      },
      {
        "duration": 186,
        "start_time": "2023-12-29T17:55:02.131Z"
      },
      {
        "duration": 272,
        "start_time": "2023-12-29T17:55:02.319Z"
      },
      {
        "duration": 206,
        "start_time": "2023-12-29T17:55:02.593Z"
      },
      {
        "duration": 287,
        "start_time": "2023-12-29T17:55:02.800Z"
      },
      {
        "duration": 8,
        "start_time": "2023-12-29T17:55:03.088Z"
      },
      {
        "duration": 146,
        "start_time": "2023-12-29T17:55:03.097Z"
      },
      {
        "duration": 3,
        "start_time": "2023-12-29T17:55:03.245Z"
      },
      {
        "duration": 150,
        "start_time": "2023-12-29T17:55:03.249Z"
      },
      {
        "duration": 4,
        "start_time": "2023-12-29T17:55:03.400Z"
      },
      {
        "duration": 345,
        "start_time": "2023-12-29T17:55:03.405Z"
      },
      {
        "duration": 19,
        "start_time": "2023-12-29T17:55:03.752Z"
      },
      {
        "duration": 11,
        "start_time": "2023-12-29T17:55:03.773Z"
      },
      {
        "duration": 31,
        "start_time": "2023-12-29T17:55:03.786Z"
      },
      {
        "duration": 12,
        "start_time": "2023-12-29T17:55:03.821Z"
      },
      {
        "duration": 1015,
        "start_time": "2023-12-29T18:10:12.807Z"
      },
      {
        "duration": 2,
        "start_time": "2023-12-29T18:10:13.824Z"
      },
      {
        "duration": 90,
        "start_time": "2023-12-29T18:10:13.828Z"
      },
      {
        "duration": 12,
        "start_time": "2023-12-29T18:10:13.920Z"
      },
      {
        "duration": 4,
        "start_time": "2023-12-29T18:10:13.933Z"
      },
      {
        "duration": 12,
        "start_time": "2023-12-29T18:10:13.938Z"
      },
      {
        "duration": 3,
        "start_time": "2023-12-29T18:10:13.951Z"
      },
      {
        "duration": 5,
        "start_time": "2023-12-29T18:10:13.956Z"
      },
      {
        "duration": 4,
        "start_time": "2023-12-29T18:10:13.962Z"
      },
      {
        "duration": 8,
        "start_time": "2023-12-29T18:10:13.968Z"
      },
      {
        "duration": 15,
        "start_time": "2023-12-29T18:10:13.977Z"
      },
      {
        "duration": 15,
        "start_time": "2023-12-29T18:10:13.994Z"
      },
      {
        "duration": 276,
        "start_time": "2023-12-29T18:10:14.010Z"
      },
      {
        "duration": 268,
        "start_time": "2023-12-29T18:10:14.287Z"
      },
      {
        "duration": 189,
        "start_time": "2023-12-29T18:10:14.557Z"
      },
      {
        "duration": 310,
        "start_time": "2023-12-29T18:10:14.747Z"
      },
      {
        "duration": 189,
        "start_time": "2023-12-29T18:10:15.064Z"
      },
      {
        "duration": 313,
        "start_time": "2023-12-29T18:10:15.265Z"
      },
      {
        "duration": 9,
        "start_time": "2023-12-29T18:10:15.580Z"
      },
      {
        "duration": 147,
        "start_time": "2023-12-29T18:10:15.590Z"
      },
      {
        "duration": 5,
        "start_time": "2023-12-29T18:10:15.739Z"
      },
      {
        "duration": 196,
        "start_time": "2023-12-29T18:10:15.745Z"
      },
      {
        "duration": 3,
        "start_time": "2023-12-29T18:10:15.943Z"
      },
      {
        "duration": 356,
        "start_time": "2023-12-29T18:10:15.948Z"
      },
      {
        "duration": 10,
        "start_time": "2023-12-29T18:10:16.305Z"
      },
      {
        "duration": 8,
        "start_time": "2023-12-29T18:10:16.316Z"
      },
      {
        "duration": 45,
        "start_time": "2023-12-29T18:10:16.325Z"
      },
      {
        "duration": 12,
        "start_time": "2023-12-29T18:10:16.373Z"
      },
      {
        "duration": 1006,
        "start_time": "2023-12-29T18:11:04.415Z"
      },
      {
        "duration": 2,
        "start_time": "2023-12-29T18:11:05.423Z"
      },
      {
        "duration": 108,
        "start_time": "2023-12-29T18:11:05.426Z"
      },
      {
        "duration": 12,
        "start_time": "2023-12-29T18:11:05.536Z"
      },
      {
        "duration": 9,
        "start_time": "2023-12-29T18:11:05.549Z"
      },
      {
        "duration": 30,
        "start_time": "2023-12-29T18:11:05.560Z"
      },
      {
        "duration": 8,
        "start_time": "2023-12-29T18:11:05.592Z"
      },
      {
        "duration": 5,
        "start_time": "2023-12-29T18:11:05.602Z"
      },
      {
        "duration": 6,
        "start_time": "2023-12-29T18:11:05.608Z"
      },
      {
        "duration": 7,
        "start_time": "2023-12-29T18:11:05.617Z"
      },
      {
        "duration": 16,
        "start_time": "2023-12-29T18:11:05.625Z"
      },
      {
        "duration": 8,
        "start_time": "2023-12-29T18:11:05.642Z"
      },
      {
        "duration": 325,
        "start_time": "2023-12-29T18:11:05.652Z"
      },
      {
        "duration": 280,
        "start_time": "2023-12-29T18:11:05.979Z"
      },
      {
        "duration": 205,
        "start_time": "2023-12-29T18:11:06.260Z"
      },
      {
        "duration": 318,
        "start_time": "2023-12-29T18:11:06.466Z"
      },
      {
        "duration": 230,
        "start_time": "2023-12-29T18:11:06.785Z"
      },
      {
        "duration": 345,
        "start_time": "2023-12-29T18:11:07.017Z"
      },
      {
        "duration": 10,
        "start_time": "2023-12-29T18:11:07.364Z"
      },
      {
        "duration": 144,
        "start_time": "2023-12-29T18:11:07.376Z"
      },
      {
        "duration": 4,
        "start_time": "2023-12-29T18:11:07.522Z"
      },
      {
        "duration": 160,
        "start_time": "2023-12-29T18:11:07.528Z"
      },
      {
        "duration": 4,
        "start_time": "2023-12-29T18:11:07.691Z"
      },
      {
        "duration": 358,
        "start_time": "2023-12-29T18:11:07.697Z"
      },
      {
        "duration": 17,
        "start_time": "2023-12-29T18:11:08.056Z"
      },
      {
        "duration": 11,
        "start_time": "2023-12-29T18:11:08.075Z"
      },
      {
        "duration": 31,
        "start_time": "2023-12-29T18:11:08.087Z"
      },
      {
        "duration": 13,
        "start_time": "2023-12-29T18:11:08.122Z"
      },
      {
        "duration": 1255,
        "start_time": "2023-12-30T09:17:36.747Z"
      },
      {
        "duration": 3,
        "start_time": "2023-12-30T09:17:38.004Z"
      },
      {
        "duration": 227,
        "start_time": "2023-12-30T09:17:38.008Z"
      },
      {
        "duration": 15,
        "start_time": "2023-12-30T09:17:38.237Z"
      },
      {
        "duration": 12,
        "start_time": "2023-12-30T09:17:38.254Z"
      },
      {
        "duration": 17,
        "start_time": "2023-12-30T09:17:38.269Z"
      },
      {
        "duration": 37,
        "start_time": "2023-12-30T09:17:38.287Z"
      },
      {
        "duration": 10,
        "start_time": "2023-12-30T09:17:38.326Z"
      },
      {
        "duration": 26,
        "start_time": "2023-12-30T09:17:38.337Z"
      },
      {
        "duration": 18,
        "start_time": "2023-12-30T09:17:38.365Z"
      },
      {
        "duration": 17,
        "start_time": "2023-12-30T09:17:38.384Z"
      },
      {
        "duration": 15,
        "start_time": "2023-12-30T09:17:38.403Z"
      },
      {
        "duration": 289,
        "start_time": "2023-12-30T09:17:38.420Z"
      },
      {
        "duration": 283,
        "start_time": "2023-12-30T09:17:38.711Z"
      },
      {
        "duration": 195,
        "start_time": "2023-12-30T09:17:38.996Z"
      },
      {
        "duration": 375,
        "start_time": "2023-12-30T09:17:39.193Z"
      },
      {
        "duration": 198,
        "start_time": "2023-12-30T09:17:39.570Z"
      },
      {
        "duration": 294,
        "start_time": "2023-12-30T09:17:39.770Z"
      },
      {
        "duration": 9,
        "start_time": "2023-12-30T09:17:40.066Z"
      },
      {
        "duration": 153,
        "start_time": "2023-12-30T09:17:40.077Z"
      },
      {
        "duration": 4,
        "start_time": "2023-12-30T09:17:40.232Z"
      },
      {
        "duration": 154,
        "start_time": "2023-12-30T09:17:40.237Z"
      },
      {
        "duration": 4,
        "start_time": "2023-12-30T09:17:40.392Z"
      },
      {
        "duration": 216,
        "start_time": "2023-12-30T09:17:40.397Z"
      },
      {
        "duration": 170,
        "start_time": "2023-12-30T09:17:40.615Z"
      },
      {
        "duration": 11,
        "start_time": "2023-12-30T09:17:40.787Z"
      },
      {
        "duration": 10,
        "start_time": "2023-12-30T09:17:40.799Z"
      },
      {
        "duration": 56,
        "start_time": "2023-12-30T09:17:40.811Z"
      },
      {
        "duration": 12,
        "start_time": "2023-12-30T09:17:40.869Z"
      },
      {
        "duration": 1063,
        "start_time": "2023-12-30T09:18:06.227Z"
      },
      {
        "duration": 3,
        "start_time": "2023-12-30T09:18:07.292Z"
      },
      {
        "duration": 101,
        "start_time": "2023-12-30T09:18:07.297Z"
      },
      {
        "duration": 13,
        "start_time": "2023-12-30T09:18:07.400Z"
      },
      {
        "duration": 8,
        "start_time": "2023-12-30T09:18:07.415Z"
      },
      {
        "duration": 15,
        "start_time": "2023-12-30T09:18:07.425Z"
      },
      {
        "duration": 8,
        "start_time": "2023-12-30T09:18:07.442Z"
      },
      {
        "duration": 15,
        "start_time": "2023-12-30T09:18:07.452Z"
      },
      {
        "duration": 19,
        "start_time": "2023-12-30T09:18:07.469Z"
      },
      {
        "duration": 25,
        "start_time": "2023-12-30T09:18:07.492Z"
      },
      {
        "duration": 26,
        "start_time": "2023-12-30T09:18:07.519Z"
      },
      {
        "duration": 19,
        "start_time": "2023-12-30T09:18:07.547Z"
      },
      {
        "duration": 327,
        "start_time": "2023-12-30T09:18:07.568Z"
      },
      {
        "duration": 283,
        "start_time": "2023-12-30T09:18:07.896Z"
      },
      {
        "duration": 198,
        "start_time": "2023-12-30T09:18:08.181Z"
      },
      {
        "duration": 281,
        "start_time": "2023-12-30T09:18:08.381Z"
      },
      {
        "duration": 218,
        "start_time": "2023-12-30T09:18:08.664Z"
      },
      {
        "duration": 320,
        "start_time": "2023-12-30T09:18:08.884Z"
      },
      {
        "duration": 9,
        "start_time": "2023-12-30T09:18:09.206Z"
      },
      {
        "duration": 135,
        "start_time": "2023-12-30T09:18:09.217Z"
      },
      {
        "duration": 4,
        "start_time": "2023-12-30T09:18:09.354Z"
      },
      {
        "duration": 162,
        "start_time": "2023-12-30T09:18:09.359Z"
      },
      {
        "duration": 7,
        "start_time": "2023-12-30T09:18:09.523Z"
      },
      {
        "duration": 226,
        "start_time": "2023-12-30T09:18:09.531Z"
      },
      {
        "duration": 167,
        "start_time": "2023-12-30T09:18:09.758Z"
      },
      {
        "duration": 10,
        "start_time": "2023-12-30T09:18:09.931Z"
      },
      {
        "duration": 18,
        "start_time": "2023-12-30T09:18:09.943Z"
      },
      {
        "duration": 34,
        "start_time": "2023-12-30T09:18:09.964Z"
      },
      {
        "duration": 13,
        "start_time": "2023-12-30T09:18:10.000Z"
      },
      {
        "duration": 1093,
        "start_time": "2023-12-30T09:26:10.398Z"
      },
      {
        "duration": 3,
        "start_time": "2023-12-30T09:26:11.493Z"
      },
      {
        "duration": 97,
        "start_time": "2023-12-30T09:26:11.497Z"
      },
      {
        "duration": 15,
        "start_time": "2023-12-30T09:26:11.596Z"
      },
      {
        "duration": 4,
        "start_time": "2023-12-30T09:26:11.613Z"
      },
      {
        "duration": 23,
        "start_time": "2023-12-30T09:26:11.619Z"
      },
      {
        "duration": 7,
        "start_time": "2023-12-30T09:26:11.644Z"
      },
      {
        "duration": 7,
        "start_time": "2023-12-30T09:26:11.653Z"
      },
      {
        "duration": 32,
        "start_time": "2023-12-30T09:26:11.662Z"
      },
      {
        "duration": 17,
        "start_time": "2023-12-30T09:26:11.697Z"
      },
      {
        "duration": 15,
        "start_time": "2023-12-30T09:26:11.715Z"
      },
      {
        "duration": 9,
        "start_time": "2023-12-30T09:26:11.732Z"
      },
      {
        "duration": 305,
        "start_time": "2023-12-30T09:26:11.743Z"
      },
      {
        "duration": 284,
        "start_time": "2023-12-30T09:26:12.049Z"
      },
      {
        "duration": 196,
        "start_time": "2023-12-30T09:26:12.335Z"
      },
      {
        "duration": 306,
        "start_time": "2023-12-30T09:26:12.532Z"
      },
      {
        "duration": 201,
        "start_time": "2023-12-30T09:26:12.840Z"
      },
      {
        "duration": 313,
        "start_time": "2023-12-30T09:26:13.044Z"
      },
      {
        "duration": 10,
        "start_time": "2023-12-30T09:26:13.359Z"
      },
      {
        "duration": 138,
        "start_time": "2023-12-30T09:26:13.370Z"
      },
      {
        "duration": 4,
        "start_time": "2023-12-30T09:26:13.510Z"
      },
      {
        "duration": 167,
        "start_time": "2023-12-30T09:26:13.530Z"
      },
      {
        "duration": 4,
        "start_time": "2023-12-30T09:26:13.698Z"
      },
      {
        "duration": 231,
        "start_time": "2023-12-30T09:26:13.704Z"
      },
      {
        "duration": 190,
        "start_time": "2023-12-30T09:26:13.937Z"
      },
      {
        "duration": 9,
        "start_time": "2023-12-30T09:26:14.131Z"
      },
      {
        "duration": 13,
        "start_time": "2023-12-30T09:26:14.141Z"
      },
      {
        "duration": 76,
        "start_time": "2023-12-30T09:26:14.157Z"
      },
      {
        "duration": 13,
        "start_time": "2023-12-30T09:26:14.235Z"
      },
      {
        "duration": 1150,
        "start_time": "2023-12-30T09:28:51.867Z"
      },
      {
        "duration": 3,
        "start_time": "2023-12-30T09:28:53.019Z"
      },
      {
        "duration": 95,
        "start_time": "2023-12-30T09:28:53.031Z"
      },
      {
        "duration": 13,
        "start_time": "2023-12-30T09:28:53.128Z"
      },
      {
        "duration": 8,
        "start_time": "2023-12-30T09:28:53.143Z"
      },
      {
        "duration": 13,
        "start_time": "2023-12-30T09:28:53.153Z"
      },
      {
        "duration": 4,
        "start_time": "2023-12-30T09:28:53.168Z"
      },
      {
        "duration": 14,
        "start_time": "2023-12-30T09:28:53.173Z"
      },
      {
        "duration": 22,
        "start_time": "2023-12-30T09:28:53.189Z"
      },
      {
        "duration": 15,
        "start_time": "2023-12-30T09:28:53.214Z"
      },
      {
        "duration": 14,
        "start_time": "2023-12-30T09:28:53.231Z"
      },
      {
        "duration": 10,
        "start_time": "2023-12-30T09:28:53.246Z"
      },
      {
        "duration": 331,
        "start_time": "2023-12-30T09:28:53.258Z"
      },
      {
        "duration": 354,
        "start_time": "2023-12-30T09:28:53.591Z"
      },
      {
        "duration": 229,
        "start_time": "2023-12-30T09:28:53.947Z"
      },
      {
        "duration": 296,
        "start_time": "2023-12-30T09:28:54.178Z"
      },
      {
        "duration": 224,
        "start_time": "2023-12-30T09:28:54.476Z"
      },
      {
        "duration": 372,
        "start_time": "2023-12-30T09:28:54.702Z"
      },
      {
        "duration": 10,
        "start_time": "2023-12-30T09:28:55.075Z"
      },
      {
        "duration": 181,
        "start_time": "2023-12-30T09:28:55.087Z"
      },
      {
        "duration": 5,
        "start_time": "2023-12-30T09:28:55.270Z"
      },
      {
        "duration": 184,
        "start_time": "2023-12-30T09:28:55.276Z"
      },
      {
        "duration": 5,
        "start_time": "2023-12-30T09:28:55.461Z"
      },
      {
        "duration": 258,
        "start_time": "2023-12-30T09:28:55.467Z"
      },
      {
        "duration": 177,
        "start_time": "2023-12-30T09:28:55.730Z"
      },
      {
        "duration": 11,
        "start_time": "2023-12-30T09:28:55.909Z"
      },
      {
        "duration": 9,
        "start_time": "2023-12-30T09:28:55.932Z"
      },
      {
        "duration": 29,
        "start_time": "2023-12-30T09:28:55.945Z"
      },
      {
        "duration": 15,
        "start_time": "2023-12-30T09:28:55.976Z"
      },
      {
        "duration": 1107,
        "start_time": "2023-12-30T09:33:48.508Z"
      },
      {
        "duration": 3,
        "start_time": "2023-12-30T09:33:49.617Z"
      },
      {
        "duration": 102,
        "start_time": "2023-12-30T09:33:49.622Z"
      },
      {
        "duration": 14,
        "start_time": "2023-12-30T09:33:49.726Z"
      },
      {
        "duration": 23,
        "start_time": "2023-12-30T09:33:49.742Z"
      },
      {
        "duration": 17,
        "start_time": "2023-12-30T09:33:49.767Z"
      },
      {
        "duration": 17,
        "start_time": "2023-12-30T09:33:49.786Z"
      },
      {
        "duration": 7,
        "start_time": "2023-12-30T09:33:49.805Z"
      },
      {
        "duration": 12,
        "start_time": "2023-12-30T09:33:49.813Z"
      },
      {
        "duration": 6,
        "start_time": "2023-12-30T09:33:49.828Z"
      },
      {
        "duration": 12,
        "start_time": "2023-12-30T09:33:49.836Z"
      },
      {
        "duration": 13,
        "start_time": "2023-12-30T09:33:49.849Z"
      },
      {
        "duration": 305,
        "start_time": "2023-12-30T09:33:49.864Z"
      },
      {
        "duration": 291,
        "start_time": "2023-12-30T09:33:50.171Z"
      },
      {
        "duration": 218,
        "start_time": "2023-12-30T09:33:50.464Z"
      },
      {
        "duration": 305,
        "start_time": "2023-12-30T09:33:50.684Z"
      },
      {
        "duration": 239,
        "start_time": "2023-12-30T09:33:50.991Z"
      },
      {
        "duration": 374,
        "start_time": "2023-12-30T09:33:51.700Z"
      },
      {
        "duration": 11,
        "start_time": "2023-12-30T09:33:52.076Z"
      },
      {
        "duration": 165,
        "start_time": "2023-12-30T09:33:52.089Z"
      },
      {
        "duration": 5,
        "start_time": "2023-12-30T09:33:52.255Z"
      },
      {
        "duration": 185,
        "start_time": "2023-12-30T09:33:52.262Z"
      },
      {
        "duration": 5,
        "start_time": "2023-12-30T09:33:52.449Z"
      },
      {
        "duration": 252,
        "start_time": "2023-12-30T09:33:52.456Z"
      },
      {
        "duration": 169,
        "start_time": "2023-12-30T09:33:52.710Z"
      },
      {
        "duration": 17,
        "start_time": "2023-12-30T09:33:52.881Z"
      },
      {
        "duration": 31,
        "start_time": "2023-12-30T09:33:52.900Z"
      },
      {
        "duration": 51,
        "start_time": "2023-12-30T09:33:52.933Z"
      },
      {
        "duration": 15,
        "start_time": "2023-12-30T09:33:52.986Z"
      },
      {
        "duration": 1177,
        "start_time": "2023-12-30T09:35:10.607Z"
      },
      {
        "duration": 2,
        "start_time": "2023-12-30T09:35:11.786Z"
      },
      {
        "duration": 126,
        "start_time": "2023-12-30T09:35:11.790Z"
      },
      {
        "duration": 12,
        "start_time": "2023-12-30T09:35:11.918Z"
      },
      {
        "duration": 10,
        "start_time": "2023-12-30T09:35:11.932Z"
      },
      {
        "duration": 29,
        "start_time": "2023-12-30T09:35:11.944Z"
      },
      {
        "duration": 19,
        "start_time": "2023-12-30T09:35:11.975Z"
      },
      {
        "duration": 62,
        "start_time": "2023-12-30T09:35:11.996Z"
      },
      {
        "duration": 15,
        "start_time": "2023-12-30T09:35:12.060Z"
      },
      {
        "duration": 7,
        "start_time": "2023-12-30T09:35:12.078Z"
      },
      {
        "duration": 26,
        "start_time": "2023-12-30T09:35:12.086Z"
      },
      {
        "duration": 8,
        "start_time": "2023-12-30T09:35:12.115Z"
      },
      {
        "duration": 289,
        "start_time": "2023-12-30T09:35:12.124Z"
      },
      {
        "duration": 295,
        "start_time": "2023-12-30T09:35:12.415Z"
      },
      {
        "duration": 222,
        "start_time": "2023-12-30T09:35:12.711Z"
      },
      {
        "duration": 337,
        "start_time": "2023-12-30T09:35:12.935Z"
      },
      {
        "duration": 209,
        "start_time": "2023-12-30T09:35:13.274Z"
      },
      {
        "duration": 331,
        "start_time": "2023-12-30T09:35:13.485Z"
      },
      {
        "duration": 14,
        "start_time": "2023-12-30T09:35:13.818Z"
      },
      {
        "duration": 138,
        "start_time": "2023-12-30T09:35:13.835Z"
      },
      {
        "duration": 3,
        "start_time": "2023-12-30T09:35:13.975Z"
      },
      {
        "duration": 160,
        "start_time": "2023-12-30T09:35:13.980Z"
      },
      {
        "duration": 4,
        "start_time": "2023-12-30T09:35:14.142Z"
      },
      {
        "duration": 241,
        "start_time": "2023-12-30T09:35:14.148Z"
      },
      {
        "duration": 178,
        "start_time": "2023-12-30T09:35:14.391Z"
      },
      {
        "duration": 11,
        "start_time": "2023-12-30T09:35:14.571Z"
      },
      {
        "duration": 9,
        "start_time": "2023-12-30T09:35:14.584Z"
      },
      {
        "duration": 50,
        "start_time": "2023-12-30T09:35:14.596Z"
      },
      {
        "duration": 14,
        "start_time": "2023-12-30T09:35:14.648Z"
      },
      {
        "duration": 1132,
        "start_time": "2023-12-30T09:46:07.971Z"
      },
      {
        "duration": 3,
        "start_time": "2023-12-30T09:46:09.105Z"
      },
      {
        "duration": 117,
        "start_time": "2023-12-30T09:46:09.109Z"
      },
      {
        "duration": 13,
        "start_time": "2023-12-30T09:46:09.228Z"
      },
      {
        "duration": 15,
        "start_time": "2023-12-30T09:46:09.242Z"
      },
      {
        "duration": 50,
        "start_time": "2023-12-30T09:46:09.258Z"
      },
      {
        "duration": 18,
        "start_time": "2023-12-30T09:46:09.310Z"
      },
      {
        "duration": 34,
        "start_time": "2023-12-30T09:46:09.330Z"
      },
      {
        "duration": 29,
        "start_time": "2023-12-30T09:46:09.366Z"
      },
      {
        "duration": 29,
        "start_time": "2023-12-30T09:46:09.397Z"
      },
      {
        "duration": 37,
        "start_time": "2023-12-30T09:46:09.427Z"
      },
      {
        "duration": 33,
        "start_time": "2023-12-30T09:46:09.465Z"
      },
      {
        "duration": 303,
        "start_time": "2023-12-30T09:46:09.500Z"
      },
      {
        "duration": 290,
        "start_time": "2023-12-30T09:46:09.805Z"
      },
      {
        "duration": 217,
        "start_time": "2023-12-30T09:46:10.097Z"
      },
      {
        "duration": 321,
        "start_time": "2023-12-30T09:46:10.316Z"
      },
      {
        "duration": 221,
        "start_time": "2023-12-30T09:46:10.639Z"
      },
      {
        "duration": 322,
        "start_time": "2023-12-30T09:46:10.862Z"
      },
      {
        "duration": 10,
        "start_time": "2023-12-30T09:46:11.185Z"
      },
      {
        "duration": 180,
        "start_time": "2023-12-30T09:46:11.197Z"
      },
      {
        "duration": 5,
        "start_time": "2023-12-30T09:46:11.379Z"
      },
      {
        "duration": 196,
        "start_time": "2023-12-30T09:46:11.385Z"
      },
      {
        "duration": 5,
        "start_time": "2023-12-30T09:46:11.583Z"
      },
      {
        "duration": 241,
        "start_time": "2023-12-30T09:46:11.590Z"
      },
      {
        "duration": 152,
        "start_time": "2023-12-30T09:46:11.832Z"
      },
      {
        "duration": 11,
        "start_time": "2023-12-30T09:46:11.986Z"
      },
      {
        "duration": 25,
        "start_time": "2023-12-30T09:46:11.998Z"
      },
      {
        "duration": 37,
        "start_time": "2023-12-30T09:46:12.026Z"
      },
      {
        "duration": 13,
        "start_time": "2023-12-30T09:46:12.065Z"
      },
      {
        "duration": 1148,
        "start_time": "2023-12-30T09:59:29.563Z"
      },
      {
        "duration": 3,
        "start_time": "2023-12-30T09:59:30.713Z"
      },
      {
        "duration": 128,
        "start_time": "2023-12-30T09:59:30.717Z"
      },
      {
        "duration": 14,
        "start_time": "2023-12-30T09:59:30.847Z"
      },
      {
        "duration": 39,
        "start_time": "2023-12-30T09:59:30.862Z"
      },
      {
        "duration": 67,
        "start_time": "2023-12-30T09:59:30.903Z"
      },
      {
        "duration": 23,
        "start_time": "2023-12-30T09:59:30.973Z"
      },
      {
        "duration": 29,
        "start_time": "2023-12-30T09:59:30.998Z"
      },
      {
        "duration": 54,
        "start_time": "2023-12-30T09:59:31.029Z"
      },
      {
        "duration": 58,
        "start_time": "2023-12-30T09:59:31.087Z"
      },
      {
        "duration": 33,
        "start_time": "2023-12-30T09:59:31.146Z"
      },
      {
        "duration": 54,
        "start_time": "2023-12-30T09:59:31.180Z"
      },
      {
        "duration": 332,
        "start_time": "2023-12-30T09:59:31.236Z"
      },
      {
        "duration": 294,
        "start_time": "2023-12-30T09:59:31.571Z"
      },
      {
        "duration": 208,
        "start_time": "2023-12-30T09:59:31.867Z"
      },
      {
        "duration": 300,
        "start_time": "2023-12-30T09:59:32.077Z"
      },
      {
        "duration": 204,
        "start_time": "2023-12-30T09:59:32.379Z"
      },
      {
        "duration": 326,
        "start_time": "2023-12-30T09:59:32.585Z"
      },
      {
        "duration": 22,
        "start_time": "2023-12-30T09:59:32.913Z"
      },
      {
        "duration": 143,
        "start_time": "2023-12-30T09:59:32.937Z"
      },
      {
        "duration": 4,
        "start_time": "2023-12-30T09:59:33.082Z"
      },
      {
        "duration": 167,
        "start_time": "2023-12-30T09:59:33.088Z"
      },
      {
        "duration": 4,
        "start_time": "2023-12-30T09:59:33.257Z"
      },
      {
        "duration": 224,
        "start_time": "2023-12-30T09:59:33.263Z"
      },
      {
        "duration": 193,
        "start_time": "2023-12-30T09:59:33.489Z"
      },
      {
        "duration": 11,
        "start_time": "2023-12-30T09:59:33.683Z"
      },
      {
        "duration": 11,
        "start_time": "2023-12-30T09:59:33.696Z"
      },
      {
        "duration": 52,
        "start_time": "2023-12-30T09:59:33.730Z"
      },
      {
        "duration": 14,
        "start_time": "2023-12-30T09:59:33.784Z"
      },
      {
        "duration": 1153,
        "start_time": "2023-12-30T10:08:11.600Z"
      },
      {
        "duration": 3,
        "start_time": "2023-12-30T10:08:12.755Z"
      },
      {
        "duration": 101,
        "start_time": "2023-12-30T10:08:12.759Z"
      },
      {
        "duration": 14,
        "start_time": "2023-12-30T10:08:12.862Z"
      },
      {
        "duration": 4,
        "start_time": "2023-12-30T10:08:12.878Z"
      },
      {
        "duration": 32,
        "start_time": "2023-12-30T10:08:12.884Z"
      },
      {
        "duration": 29,
        "start_time": "2023-12-30T10:08:12.918Z"
      },
      {
        "duration": 6,
        "start_time": "2023-12-30T10:08:12.949Z"
      },
      {
        "duration": 10,
        "start_time": "2023-12-30T10:08:12.956Z"
      },
      {
        "duration": 8,
        "start_time": "2023-12-30T10:08:12.969Z"
      },
      {
        "duration": 17,
        "start_time": "2023-12-30T10:08:12.978Z"
      },
      {
        "duration": 10,
        "start_time": "2023-12-30T10:08:12.997Z"
      },
      {
        "duration": 296,
        "start_time": "2023-12-30T10:08:13.009Z"
      },
      {
        "duration": 292,
        "start_time": "2023-12-30T10:08:13.307Z"
      },
      {
        "duration": 210,
        "start_time": "2023-12-30T10:08:13.601Z"
      },
      {
        "duration": 334,
        "start_time": "2023-12-30T10:08:13.813Z"
      },
      {
        "duration": 209,
        "start_time": "2023-12-30T10:08:14.148Z"
      },
      {
        "duration": 313,
        "start_time": "2023-12-30T10:08:14.359Z"
      },
      {
        "duration": 11,
        "start_time": "2023-12-30T10:08:14.673Z"
      },
      {
        "duration": 154,
        "start_time": "2023-12-30T10:08:14.685Z"
      },
      {
        "duration": 4,
        "start_time": "2023-12-30T10:08:14.841Z"
      },
      {
        "duration": 169,
        "start_time": "2023-12-30T10:08:14.846Z"
      },
      {
        "duration": 16,
        "start_time": "2023-12-30T10:08:15.017Z"
      },
      {
        "duration": 236,
        "start_time": "2023-12-30T10:08:15.034Z"
      },
      {
        "duration": 207,
        "start_time": "2023-12-30T10:08:15.271Z"
      },
      {
        "duration": 11,
        "start_time": "2023-12-30T10:08:15.480Z"
      },
      {
        "duration": 9,
        "start_time": "2023-12-30T10:08:15.493Z"
      },
      {
        "duration": 53,
        "start_time": "2023-12-30T10:08:15.506Z"
      },
      {
        "duration": 16,
        "start_time": "2023-12-30T10:08:15.561Z"
      },
      {
        "duration": 1120,
        "start_time": "2024-01-21T17:47:20.770Z"
      },
      {
        "duration": 3,
        "start_time": "2024-01-21T17:47:21.892Z"
      },
      {
        "duration": 201,
        "start_time": "2024-01-21T17:47:21.897Z"
      },
      {
        "duration": 12,
        "start_time": "2024-01-21T17:47:22.100Z"
      },
      {
        "duration": 4,
        "start_time": "2024-01-21T17:47:22.113Z"
      },
      {
        "duration": 37,
        "start_time": "2024-01-21T17:47:22.118Z"
      },
      {
        "duration": 16,
        "start_time": "2024-01-21T17:47:22.157Z"
      },
      {
        "duration": 4,
        "start_time": "2024-01-21T17:47:22.175Z"
      },
      {
        "duration": 9,
        "start_time": "2024-01-21T17:47:22.181Z"
      },
      {
        "duration": 7,
        "start_time": "2024-01-21T17:47:22.192Z"
      },
      {
        "duration": 12,
        "start_time": "2024-01-21T17:47:22.200Z"
      },
      {
        "duration": 8,
        "start_time": "2024-01-21T17:47:22.214Z"
      },
      {
        "duration": 333,
        "start_time": "2024-01-21T17:47:22.224Z"
      },
      {
        "duration": 306,
        "start_time": "2024-01-21T17:47:22.558Z"
      },
      {
        "duration": 222,
        "start_time": "2024-01-21T17:47:22.866Z"
      },
      {
        "duration": 324,
        "start_time": "2024-01-21T17:47:23.090Z"
      },
      {
        "duration": 211,
        "start_time": "2024-01-21T17:47:23.416Z"
      },
      {
        "duration": 345,
        "start_time": "2024-01-21T17:47:23.629Z"
      },
      {
        "duration": 11,
        "start_time": "2024-01-21T17:47:23.976Z"
      },
      {
        "duration": 145,
        "start_time": "2024-01-21T17:47:23.988Z"
      },
      {
        "duration": 4,
        "start_time": "2024-01-21T17:47:24.135Z"
      },
      {
        "duration": 160,
        "start_time": "2024-01-21T17:47:24.140Z"
      },
      {
        "duration": 4,
        "start_time": "2024-01-21T17:47:24.302Z"
      },
      {
        "duration": 235,
        "start_time": "2024-01-21T17:47:24.308Z"
      },
      {
        "duration": 190,
        "start_time": "2024-01-21T17:47:24.545Z"
      },
      {
        "duration": 10,
        "start_time": "2024-01-21T17:47:24.736Z"
      },
      {
        "duration": 7,
        "start_time": "2024-01-21T17:47:24.747Z"
      },
      {
        "duration": 43,
        "start_time": "2024-01-21T17:47:24.757Z"
      },
      {
        "duration": 13,
        "start_time": "2024-01-21T17:47:24.801Z"
      },
      {
        "duration": 1143,
        "start_time": "2024-01-21T18:06:54.408Z"
      },
      {
        "duration": 3,
        "start_time": "2024-01-21T18:06:55.553Z"
      },
      {
        "duration": 108,
        "start_time": "2024-01-21T18:06:55.557Z"
      },
      {
        "duration": 12,
        "start_time": "2024-01-21T18:06:55.667Z"
      },
      {
        "duration": 15,
        "start_time": "2024-01-21T18:06:55.680Z"
      },
      {
        "duration": 14,
        "start_time": "2024-01-21T18:06:55.697Z"
      },
      {
        "duration": 9,
        "start_time": "2024-01-21T18:06:55.713Z"
      },
      {
        "duration": 10,
        "start_time": "2024-01-21T18:06:55.724Z"
      },
      {
        "duration": 31,
        "start_time": "2024-01-21T18:06:55.735Z"
      },
      {
        "duration": 26,
        "start_time": "2024-01-21T18:06:55.768Z"
      },
      {
        "duration": 14,
        "start_time": "2024-01-21T18:06:55.796Z"
      },
      {
        "duration": 8,
        "start_time": "2024-01-21T18:06:55.813Z"
      },
      {
        "duration": 339,
        "start_time": "2024-01-21T18:06:55.822Z"
      },
      {
        "duration": 320,
        "start_time": "2024-01-21T18:06:56.162Z"
      },
      {
        "duration": 210,
        "start_time": "2024-01-21T18:06:56.484Z"
      },
      {
        "duration": 324,
        "start_time": "2024-01-21T18:06:56.697Z"
      },
      {
        "duration": 214,
        "start_time": "2024-01-21T18:06:57.023Z"
      },
      {
        "duration": 321,
        "start_time": "2024-01-21T18:06:57.238Z"
      },
      {
        "duration": 11,
        "start_time": "2024-01-21T18:06:57.560Z"
      },
      {
        "duration": 152,
        "start_time": "2024-01-21T18:06:57.581Z"
      },
      {
        "duration": 4,
        "start_time": "2024-01-21T18:06:57.735Z"
      },
      {
        "duration": 179,
        "start_time": "2024-01-21T18:06:57.740Z"
      },
      {
        "duration": 3,
        "start_time": "2024-01-21T18:06:57.921Z"
      },
      {
        "duration": 229,
        "start_time": "2024-01-21T18:06:57.926Z"
      },
      {
        "duration": 193,
        "start_time": "2024-01-21T18:06:58.157Z"
      },
      {
        "duration": 9,
        "start_time": "2024-01-21T18:06:58.352Z"
      },
      {
        "duration": 37,
        "start_time": "2024-01-21T18:06:58.362Z"
      },
      {
        "duration": 45,
        "start_time": "2024-01-21T18:06:58.401Z"
      },
      {
        "duration": 13,
        "start_time": "2024-01-21T18:06:58.447Z"
      },
      {
        "duration": 1178,
        "start_time": "2024-01-21T18:09:02.178Z"
      },
      {
        "duration": 2,
        "start_time": "2024-01-21T18:09:03.358Z"
      },
      {
        "duration": 94,
        "start_time": "2024-01-21T18:09:03.361Z"
      },
      {
        "duration": 12,
        "start_time": "2024-01-21T18:09:03.457Z"
      },
      {
        "duration": 4,
        "start_time": "2024-01-21T18:09:03.471Z"
      },
      {
        "duration": 15,
        "start_time": "2024-01-21T18:09:03.477Z"
      },
      {
        "duration": 5,
        "start_time": "2024-01-21T18:09:03.495Z"
      },
      {
        "duration": 5,
        "start_time": "2024-01-21T18:09:03.501Z"
      },
      {
        "duration": 5,
        "start_time": "2024-01-21T18:09:03.507Z"
      },
      {
        "duration": 6,
        "start_time": "2024-01-21T18:09:03.514Z"
      },
      {
        "duration": 9,
        "start_time": "2024-01-21T18:09:03.522Z"
      },
      {
        "duration": 13,
        "start_time": "2024-01-21T18:09:03.532Z"
      },
      {
        "duration": 348,
        "start_time": "2024-01-21T18:09:03.546Z"
      },
      {
        "duration": 300,
        "start_time": "2024-01-21T18:09:03.896Z"
      },
      {
        "duration": 213,
        "start_time": "2024-01-21T18:09:04.197Z"
      },
      {
        "duration": 306,
        "start_time": "2024-01-21T18:09:04.413Z"
      },
      {
        "duration": 233,
        "start_time": "2024-01-21T18:09:04.721Z"
      },
      {
        "duration": 377,
        "start_time": "2024-01-21T18:09:04.955Z"
      },
      {
        "duration": 8,
        "start_time": "2024-01-21T18:09:05.333Z"
      },
      {
        "duration": 156,
        "start_time": "2024-01-21T18:09:05.343Z"
      },
      {
        "duration": 4,
        "start_time": "2024-01-21T18:09:05.501Z"
      },
      {
        "duration": 188,
        "start_time": "2024-01-21T18:09:05.506Z"
      },
      {
        "duration": 4,
        "start_time": "2024-01-21T18:09:05.696Z"
      },
      {
        "duration": 249,
        "start_time": "2024-01-21T18:09:05.701Z"
      },
      {
        "duration": 262,
        "start_time": "2024-01-21T18:09:05.951Z"
      },
      {
        "duration": 10,
        "start_time": "2024-01-21T18:09:06.215Z"
      },
      {
        "duration": 16,
        "start_time": "2024-01-21T18:09:06.226Z"
      },
      {
        "duration": 70,
        "start_time": "2024-01-21T18:09:06.245Z"
      },
      {
        "duration": 22,
        "start_time": "2024-01-21T18:09:06.317Z"
      }
    ],
    "kernelspec": {
      "display_name": "Python 3 (ipykernel)",
      "language": "python",
      "name": "python3"
    },
    "language_info": {
      "codemirror_mode": {
        "name": "ipython",
        "version": 3
      },
      "file_extension": ".py",
      "mimetype": "text/x-python",
      "name": "python",
      "nbconvert_exporter": "python",
      "pygments_lexer": "ipython3",
      "version": "3.9.5"
    },
    "toc": {
      "base_numbering": 1,
      "nav_menu": {},
      "number_sections": true,
      "sideBar": true,
      "skip_h1_title": true,
      "title_cell": "Table of Contents",
      "title_sidebar": "Contents",
      "toc_cell": false,
      "toc_position": {},
      "toc_section_display": true,
      "toc_window_display": false
    },
    "colab": {
      "provenance": [],
      "include_colab_link": true
    }
  },
  "nbformat": 4,
  "nbformat_minor": 0
}